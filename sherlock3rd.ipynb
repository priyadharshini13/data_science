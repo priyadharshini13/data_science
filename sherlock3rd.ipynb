{
  "nbformat": 4,
  "nbformat_minor": 0,
  "metadata": {
    "colab": {
      "name": "sherlock3rd.ipynb",
      "provenance": [],
      "authorship_tag": "ABX9TyM8bC0mKxtuWZB5RbV3e/Xq",
      "include_colab_link": true
    },
    "kernelspec": {
      "name": "python3",
      "display_name": "Python 3"
    }
  },
  "cells": [
    {
      "cell_type": "markdown",
      "metadata": {
        "id": "view-in-github",
        "colab_type": "text"
      },
      "source": [
        "<a href=\"https://colab.research.google.com/github/priyadharshini13/data_science/blob/master/sherlock3rd.ipynb\" target=\"_parent\"><img src=\"https://colab.research.google.com/assets/colab-badge.svg\" alt=\"Open In Colab\"/></a>"
      ]
    },
    {
      "cell_type": "code",
      "metadata": {
        "id": "tSze76ksFW8e",
        "colab_type": "code",
        "colab": {}
      },
      "source": [
        "import pandas as pd\n",
        "import numpy as np\n",
        "import sys\n",
        "import tensorflow as tf\n",
        "import matplotlib.pyplot as plt\n",
        "from ast import literal_eval\n",
        "from sklearn.preprocessing import LabelEncoder\n",
        "from sklearn.metrics import f1_score\n",
        "sys.path.append(\"..\")"
      ],
      "execution_count": 2,
      "outputs": []
    },
    {
      "cell_type": "code",
      "metadata": {
        "id": "Iz8cXWHRFiPj",
        "colab_type": "code",
        "colab": {
          "base_uri": "https://localhost:8080/",
          "height": 51
        },
        "outputId": "96b85d24-829e-48fd-bba9-118cc178f136"
      },
      "source": [
        "!unzip src"
      ],
      "execution_count": 217,
      "outputs": [
        {
          "output_type": "stream",
          "text": [
            "Archive:  src.zip\n",
            "replace src/deploy/classes_retrain_minimal_sample.npy? [y]es, [n]o, [A]ll, [N]one, [r]ename: "
          ],
          "name": "stdout"
        }
      ]
    },
    {
      "cell_type": "code",
      "metadata": {
        "id": "SyuAOTzzaJB6",
        "colab_type": "code",
        "colab": {}
      },
      "source": [
        "from src.features.build_features import build_features\n",
        "from src.features.build_features import _get_data\n",
        "from src.deploy.train_sherlock import train_sherlock\n",
        "from src.deploy.predict_sherlock import predict_sherlock\n"
      ],
      "execution_count": 3,
      "outputs": []
    },
    {
      "cell_type": "code",
      "metadata": {
        "id": "n2oy7oJzaRtQ",
        "colab_type": "code",
        "colab": {
          "base_uri": "https://localhost:8080/",
          "height": 120
        },
        "outputId": "24a73e44-af9f-4145-a48c-1c5614408928"
      },
      "source": [
        "_get_data()\n"
      ],
      "execution_count": null,
      "outputs": [
        {
          "output_type": "stream",
          "text": [
            "Downloading the raw and preprocessed data into /data/data.zip.\n",
            "Downloading data directory.\n",
            "Downloading 1-g0zbKFAXz7zKZc0Dnh74uDBpZCv4YqU into /data/data.zip... \n",
            "3.6 GiB Done.\n",
            "Unzipping...Done.\n",
            "Data was downloaded.\n"
          ],
          "name": "stdout"
        }
      ]
    },
    {
      "cell_type": "code",
      "metadata": {
        "id": "ANuxFUKxaW3_",
        "colab_type": "code",
        "colab": {}
      },
      "source": [
        "train_vals = pd.read_parquet('/data/data/raw/train_values.parquet')\n"
      ],
      "execution_count": 4,
      "outputs": []
    },
    {
      "cell_type": "code",
      "metadata": {
        "id": "-B4PZXgTuuAo",
        "colab_type": "code",
        "colab": {
          "base_uri": "https://localhost:8080/",
          "height": 106
        },
        "outputId": "115f03f4-bb33-48e1-fa39-5c51a855e8dc"
      },
      "source": [
        "train_vals['values'][0:3].values"
      ],
      "execution_count": 5,
      "outputs": [
        {
          "output_type": "execute_result",
          "data": {
            "text/plain": [
              "array([\"['Global', 'United States', 'Australia']\",\n",
              "       \"['Fiction, Adult - Non-Floating', 'Fiction, Adult', 'Fiction, Adult', 'Fiction, Adult', 'Fiction, Adult']\",\n",
              "       \"['', '', 'University of Puerto Rico - Rio Piedras', 'University of Puerto Rico - Rio Piedras', 'University of Puerto Rico - Rio Piedras', 'University of Puerto Rico-Rio Piedras', 'University of Puerto Rico-Rio Piedras', 'University of Puerto Rico-Rio Piedras', 'University of Puerto Rico-Rio Piedras', 'University of Puerto Rico-Rio Piedras', 'University of Puerto Rico-Rio Piedras', 'PARK PLACE DEALERSHIPS', 'PARK PLACE DEALERSHIPS', 'PARK PLACE DEALERSHIPS', 'PARK PLACE DEALERSHIPS', 'Carolina Tri', 'Carolina Tri', 'Parck Place Dealerships/ Sun a', 'Parck Place Dealerships/ Sun a', 'Parck Place Dealerships/ Sun a', 'Park Place Dealerships', 'Park Place Dealerships', 'Dallas Racing', 'PARK PLACE DEALERSHIPS', 'PARK PLACE DEALERSHIPS', 'PARK PLACE DEALERSHIPS']\"],\n",
              "      dtype=object)"
            ]
          },
          "metadata": {
            "tags": []
          },
          "execution_count": 5
        }
      ]
    },
    {
      "cell_type": "code",
      "metadata": {
        "id": "_XcCiCd8aY9v",
        "colab_type": "code",
        "colab": {
          "base_uri": "https://localhost:8080/",
          "height": 417
        },
        "outputId": "670f2a71-5988-4f0c-ad56-8efdc861f408"
      },
      "source": [
        "train_labs = pd.read_parquet('/data/data/raw/train_labels.parquet')\n",
        "train_labs\n",
        "# train_labs['type'==][1]"
      ],
      "execution_count": 6,
      "outputs": [
        {
          "output_type": "execute_result",
          "data": {
            "text/html": [
              "<div>\n",
              "<style scoped>\n",
              "    .dataframe tbody tr th:only-of-type {\n",
              "        vertical-align: middle;\n",
              "    }\n",
              "\n",
              "    .dataframe tbody tr th {\n",
              "        vertical-align: top;\n",
              "    }\n",
              "\n",
              "    .dataframe thead th {\n",
              "        text-align: right;\n",
              "    }\n",
              "</style>\n",
              "<table border=\"1\" class=\"dataframe\">\n",
              "  <thead>\n",
              "    <tr style=\"text-align: right;\">\n",
              "      <th></th>\n",
              "      <th>type</th>\n",
              "    </tr>\n",
              "  </thead>\n",
              "  <tbody>\n",
              "    <tr>\n",
              "      <th>55030</th>\n",
              "      <td>area</td>\n",
              "    </tr>\n",
              "    <tr>\n",
              "      <th>167000</th>\n",
              "      <td>collection</td>\n",
              "    </tr>\n",
              "    <tr>\n",
              "      <th>638282</th>\n",
              "      <td>team Name</td>\n",
              "    </tr>\n",
              "    <tr>\n",
              "      <th>232298</th>\n",
              "      <td>credit</td>\n",
              "    </tr>\n",
              "    <tr>\n",
              "      <th>316158</th>\n",
              "      <td>gender</td>\n",
              "    </tr>\n",
              "    <tr>\n",
              "      <th>...</th>\n",
              "      <td>...</td>\n",
              "    </tr>\n",
              "    <tr>\n",
              "      <th>344035</th>\n",
              "      <td>industry</td>\n",
              "    </tr>\n",
              "    <tr>\n",
              "      <th>167866</th>\n",
              "      <td>collection</td>\n",
              "    </tr>\n",
              "    <tr>\n",
              "      <th>256742</th>\n",
              "      <td>description</td>\n",
              "    </tr>\n",
              "    <tr>\n",
              "      <th>253456</th>\n",
              "      <td>depth</td>\n",
              "    </tr>\n",
              "    <tr>\n",
              "      <th>491858</th>\n",
              "      <td>product</td>\n",
              "    </tr>\n",
              "  </tbody>\n",
              "</table>\n",
              "<p>412059 rows × 1 columns</p>\n",
              "</div>"
            ],
            "text/plain": [
              "               type\n",
              "55030          area\n",
              "167000   collection\n",
              "638282    team Name\n",
              "232298       credit\n",
              "316158       gender\n",
              "...             ...\n",
              "344035     industry\n",
              "167866   collection\n",
              "256742  description\n",
              "253456        depth\n",
              "491858      product\n",
              "\n",
              "[412059 rows x 1 columns]"
            ]
          },
          "metadata": {
            "tags": []
          },
          "execution_count": 6
        }
      ]
    },
    {
      "cell_type": "code",
      "metadata": {
        "id": "wPg8jH__ab1N",
        "colab_type": "code",
        "colab": {}
      },
      "source": [
        "#Validation data\n",
        "val_vals = pd.read_parquet('/data/data/raw/val_values.parquet')\n",
        "val_labs = pd.read_parquet('/data/data/raw/val_labels.parquet')"
      ],
      "execution_count": 7,
      "outputs": []
    },
    {
      "cell_type": "code",
      "metadata": {
        "id": "tF-uGe93ypoE",
        "colab_type": "code",
        "colab": {
          "base_uri": "https://localhost:8080/",
          "height": 417
        },
        "outputId": "db03de4d-995b-4eb9-b09f-3ab5ef3bc152"
      },
      "source": [
        "val_vals"
      ],
      "execution_count": 8,
      "outputs": [
        {
          "output_type": "execute_result",
          "data": {
            "text/html": [
              "<div>\n",
              "<style scoped>\n",
              "    .dataframe tbody tr th:only-of-type {\n",
              "        vertical-align: middle;\n",
              "    }\n",
              "\n",
              "    .dataframe tbody tr th {\n",
              "        vertical-align: top;\n",
              "    }\n",
              "\n",
              "    .dataframe thead th {\n",
              "        text-align: right;\n",
              "    }\n",
              "</style>\n",
              "<table border=\"1\" class=\"dataframe\">\n",
              "  <thead>\n",
              "    <tr style=\"text-align: right;\">\n",
              "      <th></th>\n",
              "      <th>values</th>\n",
              "    </tr>\n",
              "  </thead>\n",
              "  <tbody>\n",
              "    <tr>\n",
              "      <th>217858</th>\n",
              "      <td>['Shelby', 'Knox', 'Washington', 'Davidson', '...</td>\n",
              "    </tr>\n",
              "    <tr>\n",
              "      <th>166650</th>\n",
              "      <td>['CDs, Adult Musical', 'CDs, Adult Musical', '...</td>\n",
              "    </tr>\n",
              "    <tr>\n",
              "      <th>27611</th>\n",
              "      <td>[20.42, 23.17, 24.5, 24.0, 21.92, 28.08, 25.5,...</td>\n",
              "    </tr>\n",
              "    <tr>\n",
              "      <th>370305</th>\n",
              "      <td>['Nick Scholfield', 'R Johnson', 'P J Brennan'...</td>\n",
              "    </tr>\n",
              "    <tr>\n",
              "      <th>45377</th>\n",
              "      <td>['', 'Tres Hombres (Expanded &amp; Remastered)', '...</td>\n",
              "    </tr>\n",
              "    <tr>\n",
              "      <th>...</th>\n",
              "      <td>...</td>\n",
              "    </tr>\n",
              "    <tr>\n",
              "      <th>62381</th>\n",
              "      <td>['Castle Gorge', 'Dome', 'Grootkloof', 'Mhlaba...</td>\n",
              "    </tr>\n",
              "    <tr>\n",
              "      <th>13168</th>\n",
              "      <td>['150 Trumbull St Fl 5 Hartford, CT 06103-2446...</td>\n",
              "    </tr>\n",
              "    <tr>\n",
              "      <th>276934</th>\n",
              "      <td>['Last 7 Games', 'Last 15 Games', 'Last 30 Gam...</td>\n",
              "    </tr>\n",
              "    <tr>\n",
              "      <th>118627</th>\n",
              "      <td>['Fr.', 'Sr.', 'Fr.', 'Fr.', 'So.', 'Jr.', 'So...</td>\n",
              "    </tr>\n",
              "    <tr>\n",
              "      <th>368758</th>\n",
              "      <td>['Luis Rivera', 'Daniel Vergara', 'Brian Holli...</td>\n",
              "    </tr>\n",
              "  </tbody>\n",
              "</table>\n",
              "<p>137353 rows × 1 columns</p>\n",
              "</div>"
            ],
            "text/plain": [
              "                                                   values\n",
              "217858  ['Shelby', 'Knox', 'Washington', 'Davidson', '...\n",
              "166650  ['CDs, Adult Musical', 'CDs, Adult Musical', '...\n",
              "27611   [20.42, 23.17, 24.5, 24.0, 21.92, 28.08, 25.5,...\n",
              "370305  ['Nick Scholfield', 'R Johnson', 'P J Brennan'...\n",
              "45377   ['', 'Tres Hombres (Expanded & Remastered)', '...\n",
              "...                                                   ...\n",
              "62381   ['Castle Gorge', 'Dome', 'Grootkloof', 'Mhlaba...\n",
              "13168   ['150 Trumbull St Fl 5 Hartford, CT 06103-2446...\n",
              "276934  ['Last 7 Games', 'Last 15 Games', 'Last 30 Gam...\n",
              "118627  ['Fr.', 'Sr.', 'Fr.', 'Fr.', 'So.', 'Jr.', 'So...\n",
              "368758  ['Luis Rivera', 'Daniel Vergara', 'Brian Holli...\n",
              "\n",
              "[137353 rows x 1 columns]"
            ]
          },
          "metadata": {
            "tags": []
          },
          "execution_count": 8
        }
      ]
    },
    {
      "cell_type": "code",
      "metadata": {
        "id": "PEWVrR8Kzetf",
        "colab_type": "code",
        "colab": {
          "base_uri": "https://localhost:8080/",
          "height": 417
        },
        "outputId": "8829709c-b512-4427-a1bf-fb0dd12a65df"
      },
      "source": [
        "val_labs"
      ],
      "execution_count": null,
      "outputs": [
        {
          "output_type": "execute_result",
          "data": {
            "text/html": [
              "<div>\n",
              "<style scoped>\n",
              "    .dataframe tbody tr th:only-of-type {\n",
              "        vertical-align: middle;\n",
              "    }\n",
              "\n",
              "    .dataframe tbody tr th {\n",
              "        vertical-align: top;\n",
              "    }\n",
              "\n",
              "    .dataframe thead th {\n",
              "        text-align: right;\n",
              "    }\n",
              "</style>\n",
              "<table border=\"1\" class=\"dataframe\">\n",
              "  <thead>\n",
              "    <tr style=\"text-align: right;\">\n",
              "      <th></th>\n",
              "      <th>type</th>\n",
              "    </tr>\n",
              "  </thead>\n",
              "  <tbody>\n",
              "    <tr>\n",
              "      <th>217858</th>\n",
              "      <td>county</td>\n",
              "    </tr>\n",
              "    <tr>\n",
              "      <th>166650</th>\n",
              "      <td>collection</td>\n",
              "    </tr>\n",
              "    <tr>\n",
              "      <th>27611</th>\n",
              "      <td>age</td>\n",
              "    </tr>\n",
              "    <tr>\n",
              "      <th>370305</th>\n",
              "      <td>jockey</td>\n",
              "    </tr>\n",
              "    <tr>\n",
              "      <th>45377</th>\n",
              "      <td>album</td>\n",
              "    </tr>\n",
              "    <tr>\n",
              "      <th>...</th>\n",
              "      <td>...</td>\n",
              "    </tr>\n",
              "    <tr>\n",
              "      <th>62381</th>\n",
              "      <td>area</td>\n",
              "    </tr>\n",
              "    <tr>\n",
              "      <th>13168</th>\n",
              "      <td>address</td>\n",
              "    </tr>\n",
              "    <tr>\n",
              "      <th>276934</th>\n",
              "      <td>duration</td>\n",
              "    </tr>\n",
              "    <tr>\n",
              "      <th>118627</th>\n",
              "      <td>class</td>\n",
              "    </tr>\n",
              "    <tr>\n",
              "      <th>368758</th>\n",
              "      <td>jockey</td>\n",
              "    </tr>\n",
              "  </tbody>\n",
              "</table>\n",
              "<p>137353 rows × 1 columns</p>\n",
              "</div>"
            ],
            "text/plain": [
              "              type\n",
              "217858      county\n",
              "166650  collection\n",
              "27611          age\n",
              "370305      jockey\n",
              "45377        album\n",
              "...            ...\n",
              "62381         area\n",
              "13168      address\n",
              "276934    duration\n",
              "118627       class\n",
              "368758      jockey\n",
              "\n",
              "[137353 rows x 1 columns]"
            ]
          },
          "metadata": {
            "tags": []
          },
          "execution_count": 43
        }
      ]
    },
    {
      "cell_type": "code",
      "metadata": {
        "id": "vvI9p4c8aeFB",
        "colab_type": "code",
        "colab": {}
      },
      "source": [
        "#test data\n",
        "test_vals = pd.read_parquet('/data/data/raw/test_values.parquet')\n",
        "test_labs = pd.read_parquet('/data/data/raw/test_labels.parquet')"
      ],
      "execution_count": 9,
      "outputs": []
    },
    {
      "cell_type": "code",
      "metadata": {
        "id": "WMczqAyqagA_",
        "colab_type": "code",
        "colab": {
          "base_uri": "https://localhost:8080/",
          "height": 417
        },
        "outputId": "abd12885-4934-4375-9a7c-5f3ad6bf8d99"
      },
      "source": [
        "test_vals"
      ],
      "execution_count": null,
      "outputs": [
        {
          "output_type": "execute_result",
          "data": {
            "text/html": [
              "<div>\n",
              "<style scoped>\n",
              "    .dataframe tbody tr th:only-of-type {\n",
              "        vertical-align: middle;\n",
              "    }\n",
              "\n",
              "    .dataframe tbody tr th {\n",
              "        vertical-align: top;\n",
              "    }\n",
              "\n",
              "    .dataframe thead th {\n",
              "        text-align: right;\n",
              "    }\n",
              "</style>\n",
              "<table border=\"1\" class=\"dataframe\">\n",
              "  <thead>\n",
              "    <tr style=\"text-align: right;\">\n",
              "      <th></th>\n",
              "      <th>values</th>\n",
              "    </tr>\n",
              "  </thead>\n",
              "  <tbody>\n",
              "    <tr>\n",
              "      <th>20368</th>\n",
              "      <td>['Central Missouri', 'unattached', 'unattached...</td>\n",
              "    </tr>\n",
              "    <tr>\n",
              "      <th>664102</th>\n",
              "      <td>[95, 100, 95, 89, 84, 91, 88, 94, 75, 78, 90, ...</td>\n",
              "    </tr>\n",
              "    <tr>\n",
              "      <th>366813</th>\n",
              "      <td>['Katie Crews', 'Christian Hiraldo', 'Alex Est...</td>\n",
              "    </tr>\n",
              "    <tr>\n",
              "      <th>530567</th>\n",
              "      <td>['Christian', 'Non-Christian', 'Unreported', '...</td>\n",
              "    </tr>\n",
              "    <tr>\n",
              "      <th>176253</th>\n",
              "      <td>['AAF-McQuay Canada Inc.', 'AAF-McQuay Canada ...</td>\n",
              "    </tr>\n",
              "    <tr>\n",
              "      <th>...</th>\n",
              "      <td>...</td>\n",
              "    </tr>\n",
              "    <tr>\n",
              "      <th>205688</th>\n",
              "      <td>['Madagascar', 'Malawi', 'Gambia, The', 'Brazi...</td>\n",
              "    </tr>\n",
              "    <tr>\n",
              "      <th>537568</th>\n",
              "      <td>['--', 'W 65-3', 'W 52-15', 'W 45-23', 'W 41-1...</td>\n",
              "    </tr>\n",
              "    <tr>\n",
              "      <th>209598</th>\n",
              "      <td>['Canada', 'France', 'Germany', 'Japan', 'UK',...</td>\n",
              "    </tr>\n",
              "    <tr>\n",
              "      <th>590173</th>\n",
              "      <td>['Delaware', 'District of Columbia', 'Hawaii',...</td>\n",
              "    </tr>\n",
              "    <tr>\n",
              "      <th>410250</th>\n",
              "      <td>['Taylor Marable', 'Rebecca Parks', 'Sarah Hof...</td>\n",
              "    </tr>\n",
              "  </tbody>\n",
              "</table>\n",
              "<p>137353 rows × 1 columns</p>\n",
              "</div>"
            ],
            "text/plain": [
              "                                                   values\n",
              "20368   ['Central Missouri', 'unattached', 'unattached...\n",
              "664102  [95, 100, 95, 89, 84, 91, 88, 94, 75, 78, 90, ...\n",
              "366813  ['Katie Crews', 'Christian Hiraldo', 'Alex Est...\n",
              "530567  ['Christian', 'Non-Christian', 'Unreported', '...\n",
              "176253  ['AAF-McQuay Canada Inc.', 'AAF-McQuay Canada ...\n",
              "...                                                   ...\n",
              "205688  ['Madagascar', 'Malawi', 'Gambia, The', 'Brazi...\n",
              "537568  ['--', 'W 65-3', 'W 52-15', 'W 45-23', 'W 41-1...\n",
              "209598  ['Canada', 'France', 'Germany', 'Japan', 'UK',...\n",
              "590173  ['Delaware', 'District of Columbia', 'Hawaii',...\n",
              "410250  ['Taylor Marable', 'Rebecca Parks', 'Sarah Hof...\n",
              "\n",
              "[137353 rows x 1 columns]"
            ]
          },
          "metadata": {
            "tags": []
          },
          "execution_count": 45
        }
      ]
    },
    {
      "cell_type": "code",
      "metadata": {
        "id": "RjJKBPHGzwL8",
        "colab_type": "code",
        "colab": {
          "base_uri": "https://localhost:8080/",
          "height": 417
        },
        "outputId": "8c509a93-5a6b-40e3-ce8d-7c0d2cd9b373"
      },
      "source": [
        "test_labs"
      ],
      "execution_count": null,
      "outputs": [
        {
          "output_type": "execute_result",
          "data": {
            "text/html": [
              "<div>\n",
              "<style scoped>\n",
              "    .dataframe tbody tr th:only-of-type {\n",
              "        vertical-align: middle;\n",
              "    }\n",
              "\n",
              "    .dataframe tbody tr th {\n",
              "        vertical-align: top;\n",
              "    }\n",
              "\n",
              "    .dataframe thead th {\n",
              "        text-align: right;\n",
              "    }\n",
              "</style>\n",
              "<table border=\"1\" class=\"dataframe\">\n",
              "  <thead>\n",
              "    <tr style=\"text-align: right;\">\n",
              "      <th></th>\n",
              "      <th>type</th>\n",
              "    </tr>\n",
              "  </thead>\n",
              "  <tbody>\n",
              "    <tr>\n",
              "      <th>20368</th>\n",
              "      <td>affiliation</td>\n",
              "    </tr>\n",
              "    <tr>\n",
              "      <th>664102</th>\n",
              "      <td>weight</td>\n",
              "    </tr>\n",
              "    <tr>\n",
              "      <th>366813</th>\n",
              "      <td>jockey</td>\n",
              "    </tr>\n",
              "    <tr>\n",
              "      <th>530567</th>\n",
              "      <td>religion</td>\n",
              "    </tr>\n",
              "    <tr>\n",
              "      <th>176253</th>\n",
              "      <td>company</td>\n",
              "    </tr>\n",
              "    <tr>\n",
              "      <th>...</th>\n",
              "      <td>...</td>\n",
              "    </tr>\n",
              "    <tr>\n",
              "      <th>205688</th>\n",
              "      <td>country</td>\n",
              "    </tr>\n",
              "    <tr>\n",
              "      <th>537568</th>\n",
              "      <td>result</td>\n",
              "    </tr>\n",
              "    <tr>\n",
              "      <th>209598</th>\n",
              "      <td>country</td>\n",
              "    </tr>\n",
              "    <tr>\n",
              "      <th>590173</th>\n",
              "      <td>state</td>\n",
              "    </tr>\n",
              "    <tr>\n",
              "      <th>410250</th>\n",
              "      <td>name</td>\n",
              "    </tr>\n",
              "  </tbody>\n",
              "</table>\n",
              "<p>137353 rows × 1 columns</p>\n",
              "</div>"
            ],
            "text/plain": [
              "               type\n",
              "20368   affiliation\n",
              "664102       weight\n",
              "366813       jockey\n",
              "530567     religion\n",
              "176253      company\n",
              "...             ...\n",
              "205688      country\n",
              "537568       result\n",
              "209598      country\n",
              "590173        state\n",
              "410250         name\n",
              "\n",
              "[137353 rows x 1 columns]"
            ]
          },
          "metadata": {
            "tags": []
          },
          "execution_count": 46
        }
      ]
    },
    {
      "cell_type": "code",
      "metadata": {
        "id": "V-6VHyoVz9Ur",
        "colab_type": "code",
        "colab": {
          "base_uri": "https://localhost:8080/",
          "height": 34
        },
        "outputId": "291e9fea-1f02-421d-a033-0ee28fe9adf6"
      },
      "source": [
        "len(val_labs)"
      ],
      "execution_count": 10,
      "outputs": [
        {
          "output_type": "execute_result",
          "data": {
            "text/plain": [
              "137353"
            ]
          },
          "metadata": {
            "tags": []
          },
          "execution_count": 10
        }
      ]
    },
    {
      "cell_type": "code",
      "metadata": {
        "id": "q3NWF9_Y0Q-1",
        "colab_type": "code",
        "colab": {
          "base_uri": "https://localhost:8080/",
          "height": 51
        },
        "outputId": "d6894bb2-6670-426f-aa3c-8a5f211d45ff"
      },
      "source": [
        "test_labs.nunique()"
      ],
      "execution_count": null,
      "outputs": [
        {
          "output_type": "execute_result",
          "data": {
            "text/plain": [
              "type    78\n",
              "dtype: int64"
            ]
          },
          "metadata": {
            "tags": []
          },
          "execution_count": 51
        }
      ]
    },
    {
      "cell_type": "code",
      "metadata": {
        "id": "TMMHf_AcbAVD",
        "colab_type": "code",
        "colab": {
          "base_uri": "https://localhost:8080/",
          "height": 343
        },
        "outputId": "6de535a0-a285-41e0-a4de-3beda37d2665"
      },
      "source": [
        "train_vals = train_vals['values'].apply(literal_eval)\n"
      ],
      "execution_count": null,
      "outputs": [
        {
          "output_type": "error",
          "ename": "KeyboardInterrupt",
          "evalue": "ignored",
          "traceback": [
            "\u001b[0;31m---------------------------------------------------------------------------\u001b[0m",
            "\u001b[0;31mKeyboardInterrupt\u001b[0m                         Traceback (most recent call last)",
            "\u001b[0;32m<ipython-input-9-cd535519d07f>\u001b[0m in \u001b[0;36m<module>\u001b[0;34m()\u001b[0m\n\u001b[0;32m----> 1\u001b[0;31m \u001b[0mtrain_vals\u001b[0m \u001b[0;34m=\u001b[0m \u001b[0mtrain_vals\u001b[0m\u001b[0;34m[\u001b[0m\u001b[0;34m'values'\u001b[0m\u001b[0;34m]\u001b[0m\u001b[0;34m.\u001b[0m\u001b[0mapply\u001b[0m\u001b[0;34m(\u001b[0m\u001b[0mliteral_eval\u001b[0m\u001b[0;34m)\u001b[0m\u001b[0;34m\u001b[0m\u001b[0;34m\u001b[0m\u001b[0m\n\u001b[0m",
            "\u001b[0;32m/usr/local/lib/python3.6/dist-packages/pandas/core/series.py\u001b[0m in \u001b[0;36mapply\u001b[0;34m(self, func, convert_dtype, args, **kwds)\u001b[0m\n\u001b[1;32m   3846\u001b[0m             \u001b[0;32melse\u001b[0m\u001b[0;34m:\u001b[0m\u001b[0;34m\u001b[0m\u001b[0;34m\u001b[0m\u001b[0m\n\u001b[1;32m   3847\u001b[0m                 \u001b[0mvalues\u001b[0m \u001b[0;34m=\u001b[0m \u001b[0mself\u001b[0m\u001b[0;34m.\u001b[0m\u001b[0mastype\u001b[0m\u001b[0;34m(\u001b[0m\u001b[0mobject\u001b[0m\u001b[0;34m)\u001b[0m\u001b[0;34m.\u001b[0m\u001b[0mvalues\u001b[0m\u001b[0;34m\u001b[0m\u001b[0;34m\u001b[0m\u001b[0m\n\u001b[0;32m-> 3848\u001b[0;31m                 \u001b[0mmapped\u001b[0m \u001b[0;34m=\u001b[0m \u001b[0mlib\u001b[0m\u001b[0;34m.\u001b[0m\u001b[0mmap_infer\u001b[0m\u001b[0;34m(\u001b[0m\u001b[0mvalues\u001b[0m\u001b[0;34m,\u001b[0m \u001b[0mf\u001b[0m\u001b[0;34m,\u001b[0m \u001b[0mconvert\u001b[0m\u001b[0;34m=\u001b[0m\u001b[0mconvert_dtype\u001b[0m\u001b[0;34m)\u001b[0m\u001b[0;34m\u001b[0m\u001b[0;34m\u001b[0m\u001b[0m\n\u001b[0m\u001b[1;32m   3849\u001b[0m \u001b[0;34m\u001b[0m\u001b[0m\n\u001b[1;32m   3850\u001b[0m         \u001b[0;32mif\u001b[0m \u001b[0mlen\u001b[0m\u001b[0;34m(\u001b[0m\u001b[0mmapped\u001b[0m\u001b[0;34m)\u001b[0m \u001b[0;32mand\u001b[0m \u001b[0misinstance\u001b[0m\u001b[0;34m(\u001b[0m\u001b[0mmapped\u001b[0m\u001b[0;34m[\u001b[0m\u001b[0;36m0\u001b[0m\u001b[0;34m]\u001b[0m\u001b[0;34m,\u001b[0m \u001b[0mSeries\u001b[0m\u001b[0;34m)\u001b[0m\u001b[0;34m:\u001b[0m\u001b[0;34m\u001b[0m\u001b[0;34m\u001b[0m\u001b[0m\n",
            "\u001b[0;32mpandas/_libs/lib.pyx\u001b[0m in \u001b[0;36mpandas._libs.lib.map_infer\u001b[0;34m()\u001b[0m\n",
            "\u001b[0;32m/usr/lib/python3.6/ast.py\u001b[0m in \u001b[0;36mliteral_eval\u001b[0;34m(node_or_string)\u001b[0m\n\u001b[1;32m     83\u001b[0m                     \u001b[0;32mreturn\u001b[0m \u001b[0mleft\u001b[0m \u001b[0;34m-\u001b[0m \u001b[0mright\u001b[0m\u001b[0;34m\u001b[0m\u001b[0;34m\u001b[0m\u001b[0m\n\u001b[1;32m     84\u001b[0m         \u001b[0;32mraise\u001b[0m \u001b[0mValueError\u001b[0m\u001b[0;34m(\u001b[0m\u001b[0;34m'malformed node or string: '\u001b[0m \u001b[0;34m+\u001b[0m \u001b[0mrepr\u001b[0m\u001b[0;34m(\u001b[0m\u001b[0mnode\u001b[0m\u001b[0;34m)\u001b[0m\u001b[0;34m)\u001b[0m\u001b[0;34m\u001b[0m\u001b[0;34m\u001b[0m\u001b[0m\n\u001b[0;32m---> 85\u001b[0;31m     \u001b[0;32mreturn\u001b[0m \u001b[0m_convert\u001b[0m\u001b[0;34m(\u001b[0m\u001b[0mnode_or_string\u001b[0m\u001b[0;34m)\u001b[0m\u001b[0;34m\u001b[0m\u001b[0;34m\u001b[0m\u001b[0m\n\u001b[0m\u001b[1;32m     86\u001b[0m \u001b[0;34m\u001b[0m\u001b[0m\n\u001b[1;32m     87\u001b[0m \u001b[0;34m\u001b[0m\u001b[0m\n",
            "\u001b[0;32m/usr/lib/python3.6/ast.py\u001b[0m in \u001b[0;36m_convert\u001b[0;34m(node)\u001b[0m\n\u001b[1;32m     59\u001b[0m             \u001b[0;32mreturn\u001b[0m \u001b[0mtuple\u001b[0m\u001b[0;34m(\u001b[0m\u001b[0mmap\u001b[0m\u001b[0;34m(\u001b[0m\u001b[0m_convert\u001b[0m\u001b[0;34m,\u001b[0m \u001b[0mnode\u001b[0m\u001b[0;34m.\u001b[0m\u001b[0melts\u001b[0m\u001b[0;34m)\u001b[0m\u001b[0;34m)\u001b[0m\u001b[0;34m\u001b[0m\u001b[0;34m\u001b[0m\u001b[0m\n\u001b[1;32m     60\u001b[0m         \u001b[0;32melif\u001b[0m \u001b[0misinstance\u001b[0m\u001b[0;34m(\u001b[0m\u001b[0mnode\u001b[0m\u001b[0;34m,\u001b[0m \u001b[0mList\u001b[0m\u001b[0;34m)\u001b[0m\u001b[0;34m:\u001b[0m\u001b[0;34m\u001b[0m\u001b[0;34m\u001b[0m\u001b[0m\n\u001b[0;32m---> 61\u001b[0;31m             \u001b[0;32mreturn\u001b[0m \u001b[0mlist\u001b[0m\u001b[0;34m(\u001b[0m\u001b[0mmap\u001b[0m\u001b[0;34m(\u001b[0m\u001b[0m_convert\u001b[0m\u001b[0;34m,\u001b[0m \u001b[0mnode\u001b[0m\u001b[0;34m.\u001b[0m\u001b[0melts\u001b[0m\u001b[0;34m)\u001b[0m\u001b[0;34m)\u001b[0m\u001b[0;34m\u001b[0m\u001b[0;34m\u001b[0m\u001b[0m\n\u001b[0m\u001b[1;32m     62\u001b[0m         \u001b[0;32melif\u001b[0m \u001b[0misinstance\u001b[0m\u001b[0;34m(\u001b[0m\u001b[0mnode\u001b[0m\u001b[0;34m,\u001b[0m \u001b[0mSet\u001b[0m\u001b[0;34m)\u001b[0m\u001b[0;34m:\u001b[0m\u001b[0;34m\u001b[0m\u001b[0;34m\u001b[0m\u001b[0m\n\u001b[1;32m     63\u001b[0m             \u001b[0;32mreturn\u001b[0m \u001b[0mset\u001b[0m\u001b[0;34m(\u001b[0m\u001b[0mmap\u001b[0m\u001b[0;34m(\u001b[0m\u001b[0m_convert\u001b[0m\u001b[0;34m,\u001b[0m \u001b[0mnode\u001b[0m\u001b[0;34m.\u001b[0m\u001b[0melts\u001b[0m\u001b[0;34m)\u001b[0m\u001b[0;34m)\u001b[0m\u001b[0;34m\u001b[0m\u001b[0;34m\u001b[0m\u001b[0m\n",
            "\u001b[0;32m/usr/lib/python3.6/ast.py\u001b[0m in \u001b[0;36m_convert\u001b[0;34m(node)\u001b[0m\n\u001b[1;32m     53\u001b[0m             \u001b[0;32mreturn\u001b[0m \u001b[0mnode\u001b[0m\u001b[0;34m.\u001b[0m\u001b[0mvalue\u001b[0m\u001b[0;34m\u001b[0m\u001b[0;34m\u001b[0m\u001b[0m\n\u001b[1;32m     54\u001b[0m         \u001b[0;32melif\u001b[0m \u001b[0misinstance\u001b[0m\u001b[0;34m(\u001b[0m\u001b[0mnode\u001b[0m\u001b[0;34m,\u001b[0m \u001b[0;34m(\u001b[0m\u001b[0mStr\u001b[0m\u001b[0;34m,\u001b[0m \u001b[0mBytes\u001b[0m\u001b[0;34m)\u001b[0m\u001b[0;34m)\u001b[0m\u001b[0;34m:\u001b[0m\u001b[0;34m\u001b[0m\u001b[0;34m\u001b[0m\u001b[0m\n\u001b[0;32m---> 55\u001b[0;31m             \u001b[0;32mreturn\u001b[0m \u001b[0mnode\u001b[0m\u001b[0;34m.\u001b[0m\u001b[0ms\u001b[0m\u001b[0;34m\u001b[0m\u001b[0;34m\u001b[0m\u001b[0m\n\u001b[0m\u001b[1;32m     56\u001b[0m         \u001b[0;32melif\u001b[0m \u001b[0misinstance\u001b[0m\u001b[0;34m(\u001b[0m\u001b[0mnode\u001b[0m\u001b[0;34m,\u001b[0m \u001b[0mNum\u001b[0m\u001b[0;34m)\u001b[0m\u001b[0;34m:\u001b[0m\u001b[0;34m\u001b[0m\u001b[0;34m\u001b[0m\u001b[0m\n\u001b[1;32m     57\u001b[0m             \u001b[0;32mreturn\u001b[0m \u001b[0mnode\u001b[0m\u001b[0;34m.\u001b[0m\u001b[0mn\u001b[0m\u001b[0;34m\u001b[0m\u001b[0;34m\u001b[0m\u001b[0m\n",
            "\u001b[0;31mKeyboardInterrupt\u001b[0m: "
          ]
        }
      ]
    },
    {
      "cell_type": "code",
      "metadata": {
        "id": "M8GqkLWifRkA",
        "colab_type": "code",
        "colab": {}
      },
      "source": [
        "val_vals = val_vals['values'].apply(literal_eval)\n"
      ],
      "execution_count": null,
      "outputs": []
    },
    {
      "cell_type": "code",
      "metadata": {
        "id": "krhLQ9W_fTVG",
        "colab_type": "code",
        "colab": {}
      },
      "source": [
        "test_vals = test_vals['values'].apply(literal_eval)"
      ],
      "execution_count": null,
      "outputs": []
    },
    {
      "cell_type": "code",
      "metadata": {
        "id": "L7jF2juUbDI1",
        "colab_type": "code",
        "colab": {
          "base_uri": "https://localhost:8080/",
          "height": 203
        },
        "outputId": "2cf934e6-8745-4b1e-c1f3-e057e215a41f"
      },
      "source": [
        "train_vals.head()\n"
      ],
      "execution_count": null,
      "outputs": [
        {
          "output_type": "execute_result",
          "data": {
            "text/html": [
              "<div>\n",
              "<style scoped>\n",
              "    .dataframe tbody tr th:only-of-type {\n",
              "        vertical-align: middle;\n",
              "    }\n",
              "\n",
              "    .dataframe tbody tr th {\n",
              "        vertical-align: top;\n",
              "    }\n",
              "\n",
              "    .dataframe thead th {\n",
              "        text-align: right;\n",
              "    }\n",
              "</style>\n",
              "<table border=\"1\" class=\"dataframe\">\n",
              "  <thead>\n",
              "    <tr style=\"text-align: right;\">\n",
              "      <th></th>\n",
              "      <th>values</th>\n",
              "    </tr>\n",
              "  </thead>\n",
              "  <tbody>\n",
              "    <tr>\n",
              "      <th>55030</th>\n",
              "      <td>['Global', 'United States', 'Australia']</td>\n",
              "    </tr>\n",
              "    <tr>\n",
              "      <th>167000</th>\n",
              "      <td>['Fiction, Adult - Non-Floating', 'Fiction, Ad...</td>\n",
              "    </tr>\n",
              "    <tr>\n",
              "      <th>638282</th>\n",
              "      <td>['', '', 'University of Puerto Rico - Rio Pied...</td>\n",
              "    </tr>\n",
              "    <tr>\n",
              "      <th>232298</th>\n",
              "      <td>['Laughology', 'MTV', 'With Intent to Kill', '...</td>\n",
              "    </tr>\n",
              "    <tr>\n",
              "      <th>316158</th>\n",
              "      <td>['Mare', 'Gelding', 'Gelding', 'Gelding', 'Gel...</td>\n",
              "    </tr>\n",
              "  </tbody>\n",
              "</table>\n",
              "</div>"
            ],
            "text/plain": [
              "                                                   values\n",
              "55030            ['Global', 'United States', 'Australia']\n",
              "167000  ['Fiction, Adult - Non-Floating', 'Fiction, Ad...\n",
              "638282  ['', '', 'University of Puerto Rico - Rio Pied...\n",
              "232298  ['Laughology', 'MTV', 'With Intent to Kill', '...\n",
              "316158  ['Mare', 'Gelding', 'Gelding', 'Gelding', 'Gel..."
            ]
          },
          "metadata": {
            "tags": []
          },
          "execution_count": 52
        }
      ]
    },
    {
      "cell_type": "code",
      "metadata": {
        "id": "Mr6egKbhbE0c",
        "colab_type": "code",
        "colab": {}
      },
      "source": [
        "def prepare_feature_extraction():\n",
        "    \n",
        "    word_embedding_file = 'src/features/glove.6B.50d.txt'\n",
        "    paragraph_vector_file = 'src/features/par_vec_trained_400.pkl.docvecs.vectors_docs.npy'\n",
        "    \n",
        "    print('Preparing feature extraction by downloading 3 files: \\n {} and \\n {}.'.format(word_embedding_file,\n",
        "                                                                                         paragraph_vector_file))\n",
        "\n",
        "    if not os.path.exists(word_embedding_file):\n",
        "        print('Downloading GloVe word embedding vectors.')\n",
        "        file_name = word_embedding_file\n",
        "        gd.download_file_from_google_drive(file_id='1kayd5oNRQm8-NCvA8pIrtezbQ-B1_Vmk',\n",
        "                                           dest_path=file_name,\n",
        "                                           unzip=False,\n",
        "                                           showsize=True)\n",
        "\n",
        "    print('GloVe word embedding vectors were downloaded.')\n",
        "\n",
        "    if not os.path.exists(paragraph_vector_file):\n",
        "        print('Downloading pretrained paragraph vectors.')\n",
        "        file_name = paragraph_vector_file\n",
        "        gd.download_file_from_google_drive(file_id='1vdyGJ4aB71FCaNqJKYX387eVufcH4SAu',\n",
        "                                           dest_path=file_name,\n",
        "                                           unzip=False,\n",
        "                                           showsize=True)\n",
        "        \n",
        "    print('Trained paragraph vector model was downloaded.')\n",
        "\n",
        "# X_train = build_features(train_vals)\n"
      ],
      "execution_count": 233,
      "outputs": []
    },
    {
      "cell_type": "code",
      "metadata": {
        "id": "ucbyP9kJ6xjI",
        "colab_type": "code",
        "colab": {}
      },
      "source": [
        "import numpy as np\n",
        "\n",
        "from scipy import stats\n",
        "from collections import OrderedDict\n",
        "from smart_open import open\n",
        "\n",
        "# Input: a single column in the form of a pandas series\n",
        "# Output: ordered dictionary holding word embedding features\n",
        "def extract_word_embeddings_features(values):\n",
        "\n",
        "    num_embeddings = 50\n",
        "    f = OrderedDict()\n",
        "    embeddings = []\n",
        "    # word_vectors_f = []\n",
        "    # word_vectors_f = open('src/features/glove.6B.50d.txt')\n",
        "    # with open('src/features/glove.6B.50d.txt') as fin:\n",
        "      #  word_vectors_f = fin.read()\n",
        "    # print(len(word_vectors_f))\n",
        "    # print(word_vectors_f[0:20] )\n",
        "    # print(type(word_vectors_f))\n",
        "\n",
        "    # with open('src/features/glove.6B.50d.txt','r',encoding='utf-8') as f:\n",
        "    #   word_vectors_f = f.read()\n",
        "      # print()\n",
        "    # word_vectors_f = open('src/features/glove.6B.50d.txt', encoding='utf-8')\n",
        "    word_to_embedding = {}\n",
        "\n",
        "    # for w in word_vectors_f:\n",
        "    i = 0\n",
        "    with open('src/features/glove.6B.50d.txt') as fin:\n",
        "        \n",
        "        w = fin.read()\n",
        "        if i < 2:\n",
        "          print('------',w)\n",
        "        w = w.strip('\\n')\n",
        "        if i < 2:\n",
        "          print('*******',w)\n",
        "        i = i+1\n",
        "        term, vector = w.strip().split(' ', 1)\n",
        "        # vector = vector.strip('\\n')\n",
        "        vector = vector.strip()\n",
        "        vector = np.array(vector.split(' '))\n",
        "        vector = vector.astype(np.float)\n",
        "\n",
        "        word_to_embedding[term] = vector\n",
        "\n",
        "    \n",
        "    values = values.dropna()\n",
        "\n",
        "    for v in values:\n",
        "\n",
        "        v = str(v).lower()\n",
        "\n",
        "        if v in word_to_embedding:\n",
        "            embeddings.append(word_to_embedding.get(v))\n",
        "        else:\n",
        "            words = v.split(' ')\n",
        "            embeddings_to_all_words = []\n",
        "\n",
        "            for w in words:\n",
        "                if w in word_to_embedding:\n",
        "                    embeddings_to_all_words.append(word_to_embedding.get(w))\n",
        "            if embeddings_to_all_words:\n",
        "                mean_of_word_embeddings = np.nanmean(embeddings_to_all_words, axis=0)\n",
        "                embeddings.append(mean_of_word_embeddings)\n",
        "\n",
        "    if len(embeddings) == 0:\n",
        "        for i in range(num_embeddings): f['word_embedding_avg_{}'.format(i)] = np.nan\n",
        "        for i in range(num_embeddings): f['word_embedding_std_{}'.format(i)] = np.nan\n",
        "        for i in range(num_embeddings): f['word_embedding_med_{}'.format(i)] = np.nan\n",
        "        for i in range(num_embeddings): f['word_embedding_mode_{}'.format(i)] = np.nan\n",
        "\n",
        "        f['word_embedding_feature'] = 0\n",
        "\n",
        "        return f\n",
        "\n",
        "    else:\n",
        "        mean_embeddings = np.nanmean(embeddings, axis=0)\n",
        "        med_embeddings = np.nanmedian(embeddings, axis=0)\n",
        "        std_embeddings = np.nanstd(embeddings, axis=0)\n",
        "        mode_embeddings = stats.mode(embeddings, axis=0, nan_policy='omit')[0].flatten()\n",
        "\n",
        "        for i, e in enumerate(mean_embeddings): f['word_embedding_avg_{}'.format(i)] = e\n",
        "        for i, e in enumerate(std_embeddings): f['word_embedding_std_{}'.format(i)] = e\n",
        "        for i, e in enumerate(med_embeddings): f['word_embedding_med_{}'.format(i)] = e\n",
        "        for i, e in enumerate(mode_embeddings): f['word_embedding_mode_{}'.format(i)] = e\n",
        "\n",
        "        f['word_embedding_feature'] = 1\n",
        "\n",
        "        return f\n"
      ],
      "execution_count": 266,
      "outputs": []
    },
    {
      "cell_type": "code",
      "metadata": {
        "id": "LHy3QWJr46Ao",
        "colab_type": "code",
        "colab": {}
      },
      "source": [
        "def _build_features(data):\n",
        "\n",
        "    _get_data()\n",
        "    prepare_feature_extraction()\n",
        "\n",
        "    features_list = []\n",
        "    df_par = pd.DataFrame()\n",
        "    n_samples = 1000\n",
        "    vec_dim = 400\n",
        "    i = 0\n",
        "    print(len(data))\n",
        "    for raw_sample in data:\n",
        "        if i < 2:\n",
        "          print(raw_sample)\n",
        "        i = i + 1\n",
        "        if i % 100 == 0:\n",
        "            print('Extracting features for data column ', i)\n",
        "\n",
        "        n_values = len(raw_sample)\n",
        "\n",
        "        if n_samples > n_values:\n",
        "            n_samples = n_values\n",
        "        random.seed(13)\n",
        "        raw_sample = pd.Series(random.choices(raw_sample, k=n_samples)).astype(str)\n",
        "        print('Reachd here')\n",
        "        f = OrderedDict(list(extract_bag_of_characters_features(raw_sample).items()) +\n",
        "                        list(extract_word_embeddings_features(raw_sample).items()) +\n",
        "                        list(extract_bag_of_words_features(raw_sample, n_values).items()))\n",
        "        features_list.append(f)\n",
        "        print('Reachd features_list.append')\n",
        "\n",
        "        df_par = df_par.append(infer_paragraph_embeddings_features(raw_sample, vec_dim))\n",
        "\n",
        "    return pd.concat([pd.DataFrame(features_list).reset_index(drop=True),\n",
        "                      df_par.reset_index(drop=True)],\n",
        "                     axis=1, sort=False)\n"
      ],
      "execution_count": 238,
      "outputs": []
    },
    {
      "cell_type": "code",
      "metadata": {
        "id": "85xvGiPR5GaA",
        "colab_type": "code",
        "colab": {}
      },
      "source": [
        "import random\n",
        "import os\n",
        "import pandas as pd\n",
        "\n",
        "from collections import OrderedDict\n",
        "from google_drive_downloader import GoogleDriveDownloader as gd\n",
        "from src.features.bag_of_characters import extract_bag_of_characters_features\n",
        "from src.features.bag_of_words import extract_bag_of_words_features\n",
        "# from src.features.word_embeddings import extract_word_embeddings_features\n",
        "# from src.features.paragraph_vectors import infer_paragraph_embeddings_features\n",
        "\n",
        "\n"
      ],
      "execution_count": 227,
      "outputs": []
    },
    {
      "cell_type": "code",
      "metadata": {
        "id": "FDOWH6nDaaki",
        "colab_type": "code",
        "colab": {
          "base_uri": "https://localhost:8080/",
          "height": 199
        },
        "outputId": "a740a9c0-87e7-45c7-85b2-f24d366bb154"
      },
      "source": [
        ""
      ],
      "execution_count": 254,
      "outputs": [
        {
          "output_type": "error",
          "ename": "AttributeError",
          "evalue": "ignored",
          "traceback": [
            "\u001b[0;31m---------------------------------------------------------------------------\u001b[0m",
            "\u001b[0;31mAttributeError\u001b[0m                            Traceback (most recent call last)",
            "\u001b[0;32m<ipython-input-254-3cb7f7e6d700>\u001b[0m in \u001b[0;36m<module>\u001b[0;34m()\u001b[0m\n\u001b[1;32m      1\u001b[0m \u001b[0mv\u001b[0m \u001b[0;34m=\u001b[0m \u001b[0;34m[\u001b[0m\u001b[0;34m'-123'\u001b[0m\u001b[0;34m,\u001b[0m\u001b[0;34m'00.3'\u001b[0m\u001b[0;34m]\u001b[0m\u001b[0;34m\u001b[0m\u001b[0;34m\u001b[0m\u001b[0m\n\u001b[0;32m----> 2\u001b[0;31m \u001b[0mv\u001b[0m \u001b[0;34m=\u001b[0m \u001b[0mv\u001b[0m\u001b[0;34m.\u001b[0m\u001b[0mastype\u001b[0m\u001b[0;34m(\u001b[0m\u001b[0mfloat\u001b[0m\u001b[0;34m)\u001b[0m\u001b[0;34m\u001b[0m\u001b[0;34m\u001b[0m\u001b[0m\n\u001b[0m\u001b[1;32m      3\u001b[0m \u001b[0mv\u001b[0m\u001b[0;34m\u001b[0m\u001b[0;34m\u001b[0m\u001b[0m\n",
            "\u001b[0;31mAttributeError\u001b[0m: 'list' object has no attribute 'astype'"
          ]
        }
      ]
    },
    {
      "cell_type": "code",
      "metadata": {
        "id": "b-_S30mk7HEg",
        "colab_type": "code",
        "colab": {}
      },
      "source": [
        "import pandas as pd\n",
        "import random\n",
        "\n",
        "from gensim.models.doc2vec import Doc2Vec, TaggedDocument\n",
        "\n",
        "\n",
        "# Input: a collection of columns stored in a dataframe column 'values'\n",
        "# Output: tagged columns.\n",
        "# Only needed for training.\n",
        "def tagcol_paragraph_embeddings_features(train_data):\n",
        "    \n",
        "    # Expects a dataframe with a 'values' column\n",
        "    train_data_values = train_data['values']\n",
        "    random.seed(13)\n",
        "    columns = [TaggedDocument(random.sample(col, min(1000, len(col))), [i]) for i, col in enumerate(train_data_values.values)]\n",
        "    \n",
        "    return columns\n",
        "\n",
        "\n",
        "# Input: returned tagged document collection from tagcol_paragraph_embeddings_features\n",
        "# Output: a stored retrained model\n",
        "# Only needed for training.\n",
        "def train_paragraph_embeddings_features(columns, dim):\n",
        "\n",
        "    # Train Doc2Vec model\n",
        "    model = Doc2Vec(columns, dm=0, negative=3, workers=8, vector_size=dim, epochs=20, min_count=2, seed=13)\n",
        "\n",
        "    # Save trained model\n",
        "    model_file = 'src/features/par_vec_retrained_{}.pkl'.format(dim)\n",
        "    model.save(model_file)\n",
        "    model.delete_temporary_training_data(keep_doctags_vectors=True, keep_inference=True)\n",
        "    \n",
        "\n",
        "# Input: a single column in the form of a pandas Series.\n",
        "# Output: ordered dictionary holding paragraph vector features\n",
        "def infer_paragraph_embeddings_features(data, dim):\n",
        "\n",
        "    # Load pretrained paragraph vector model\n",
        "    model = Doc2Vec.load('src/features/par_vec_trained_{}.pkl'.format(dim))\n",
        "\n",
        "    f = pd.DataFrame()\n",
        "\n",
        "    if len(data) > 1000:\n",
        "        random.seed(13)\n",
        "        vec = random.sample(data, 1000)\n",
        "    else:\n",
        "        vec = data\n",
        "\n",
        "    # Infer paragraph vector for data sample\n",
        "    f = f.append(pd.Series(model.infer_vector(vec, steps=20,\n",
        "                                              alpha=0.025)), ignore_index=True)\n",
        "\n",
        "    col_names = []\n",
        "    for i, col in enumerate(f):\n",
        "        col_names.append('par_vec_{}'.format(i))\n",
        "        \n",
        "    f.columns = col_names\n",
        "\n",
        "    return f\n"
      ],
      "execution_count": 228,
      "outputs": []
    },
    {
      "cell_type": "code",
      "metadata": {
        "id": "Pde0BOi0S6Gk",
        "colab_type": "code",
        "colab": {
          "base_uri": "https://localhost:8080/",
          "height": 164
        },
        "outputId": "81b321a6-3942-413e-de03-e5ea13a48976"
      },
      "source": [
        "X_train = _build_features(train_vals)"
      ],
      "execution_count": 1,
      "outputs": [
        {
          "output_type": "error",
          "ename": "NameError",
          "evalue": "ignored",
          "traceback": [
            "\u001b[0;31m---------------------------------------------------------------------------\u001b[0m",
            "\u001b[0;31mNameError\u001b[0m                                 Traceback (most recent call last)",
            "\u001b[0;32m<ipython-input-1-edcc0f0fc1af>\u001b[0m in \u001b[0;36m<module>\u001b[0;34m()\u001b[0m\n\u001b[0;32m----> 1\u001b[0;31m \u001b[0mX_train\u001b[0m \u001b[0;34m=\u001b[0m \u001b[0m_build_features\u001b[0m\u001b[0;34m(\u001b[0m\u001b[0mtrain_vals\u001b[0m\u001b[0;34m)\u001b[0m\u001b[0;34m\u001b[0m\u001b[0;34m\u001b[0m\u001b[0m\n\u001b[0m",
            "\u001b[0;31mNameError\u001b[0m: name '_build_features' is not defined"
          ]
        }
      ]
    },
    {
      "cell_type": "code",
      "metadata": {
        "id": "_g4KmxohcFqb",
        "colab_type": "code",
        "colab": {
          "base_uri": "https://localhost:8080/",
          "height": 35
        },
        "outputId": "94995b72-2d30-4c3c-f270-9182888ee6e1"
      },
      "source": [
        "vector = '0.78581\\n'\n",
        "v = vector.strip('\\n')\n",
        "v"
      ],
      "execution_count": 265,
      "outputs": [
        {
          "output_type": "execute_result",
          "data": {
            "application/vnd.google.colaboratory.intrinsic+json": {
              "type": "string"
            },
            "text/plain": [
              "'0.78581'"
            ]
          },
          "metadata": {
            "tags": []
          },
          "execution_count": 265
        }
      ]
    },
    {
      "cell_type": "code",
      "metadata": {
        "id": "PPxtEvk1H_jp",
        "colab_type": "code",
        "colab": {
          "base_uri": "https://localhost:8080/",
          "height": 163
        },
        "outputId": "4c6aa618-680d-45f4-8e7d-6cb64feb87d7"
      },
      "source": [
        "X_train"
      ],
      "execution_count": 229,
      "outputs": [
        {
          "output_type": "execute_result",
          "data": {
            "text/html": [
              "<div>\n",
              "<style scoped>\n",
              "    .dataframe tbody tr th:only-of-type {\n",
              "        vertical-align: middle;\n",
              "    }\n",
              "\n",
              "    .dataframe tbody tr th {\n",
              "        vertical-align: top;\n",
              "    }\n",
              "\n",
              "    .dataframe thead th {\n",
              "        text-align: right;\n",
              "    }\n",
              "</style>\n",
              "<table border=\"1\" class=\"dataframe\">\n",
              "  <thead>\n",
              "    <tr style=\"text-align: right;\">\n",
              "      <th></th>\n",
              "      <th>n_[0]-agg-any</th>\n",
              "      <th>n_[0]-agg-all</th>\n",
              "      <th>n_[0]-agg-mean</th>\n",
              "      <th>n_[0]-agg-var</th>\n",
              "      <th>n_[0]-agg-min</th>\n",
              "      <th>n_[0]-agg-max</th>\n",
              "      <th>n_[0]-agg-median</th>\n",
              "      <th>n_[0]-agg-sum</th>\n",
              "      <th>n_[0]-agg-kurtosis</th>\n",
              "      <th>n_[0]-agg-skewness</th>\n",
              "      <th>n_[1]-agg-any</th>\n",
              "      <th>n_[1]-agg-all</th>\n",
              "      <th>n_[1]-agg-mean</th>\n",
              "      <th>n_[1]-agg-var</th>\n",
              "      <th>n_[1]-agg-min</th>\n",
              "      <th>n_[1]-agg-max</th>\n",
              "      <th>n_[1]-agg-median</th>\n",
              "      <th>n_[1]-agg-sum</th>\n",
              "      <th>n_[1]-agg-kurtosis</th>\n",
              "      <th>n_[1]-agg-skewness</th>\n",
              "      <th>n_[2]-agg-any</th>\n",
              "      <th>n_[2]-agg-all</th>\n",
              "      <th>n_[2]-agg-mean</th>\n",
              "      <th>n_[2]-agg-var</th>\n",
              "      <th>n_[2]-agg-min</th>\n",
              "      <th>n_[2]-agg-max</th>\n",
              "      <th>n_[2]-agg-median</th>\n",
              "      <th>n_[2]-agg-sum</th>\n",
              "      <th>n_[2]-agg-kurtosis</th>\n",
              "      <th>n_[2]-agg-skewness</th>\n",
              "      <th>n_[3]-agg-any</th>\n",
              "      <th>n_[3]-agg-all</th>\n",
              "      <th>n_[3]-agg-mean</th>\n",
              "      <th>n_[3]-agg-var</th>\n",
              "      <th>n_[3]-agg-min</th>\n",
              "      <th>n_[3]-agg-max</th>\n",
              "      <th>n_[3]-agg-median</th>\n",
              "      <th>n_[3]-agg-sum</th>\n",
              "      <th>n_[3]-agg-kurtosis</th>\n",
              "      <th>n_[3]-agg-skewness</th>\n",
              "      <th>...</th>\n",
              "      <th>par_vec_360</th>\n",
              "      <th>par_vec_361</th>\n",
              "      <th>par_vec_362</th>\n",
              "      <th>par_vec_363</th>\n",
              "      <th>par_vec_364</th>\n",
              "      <th>par_vec_365</th>\n",
              "      <th>par_vec_366</th>\n",
              "      <th>par_vec_367</th>\n",
              "      <th>par_vec_368</th>\n",
              "      <th>par_vec_369</th>\n",
              "      <th>par_vec_370</th>\n",
              "      <th>par_vec_371</th>\n",
              "      <th>par_vec_372</th>\n",
              "      <th>par_vec_373</th>\n",
              "      <th>par_vec_374</th>\n",
              "      <th>par_vec_375</th>\n",
              "      <th>par_vec_376</th>\n",
              "      <th>par_vec_377</th>\n",
              "      <th>par_vec_378</th>\n",
              "      <th>par_vec_379</th>\n",
              "      <th>par_vec_380</th>\n",
              "      <th>par_vec_381</th>\n",
              "      <th>par_vec_382</th>\n",
              "      <th>par_vec_383</th>\n",
              "      <th>par_vec_384</th>\n",
              "      <th>par_vec_385</th>\n",
              "      <th>par_vec_386</th>\n",
              "      <th>par_vec_387</th>\n",
              "      <th>par_vec_388</th>\n",
              "      <th>par_vec_389</th>\n",
              "      <th>par_vec_390</th>\n",
              "      <th>par_vec_391</th>\n",
              "      <th>par_vec_392</th>\n",
              "      <th>par_vec_393</th>\n",
              "      <th>par_vec_394</th>\n",
              "      <th>par_vec_395</th>\n",
              "      <th>par_vec_396</th>\n",
              "      <th>par_vec_397</th>\n",
              "      <th>par_vec_398</th>\n",
              "      <th>par_vec_399</th>\n",
              "    </tr>\n",
              "  </thead>\n",
              "  <tbody>\n",
              "    <tr>\n",
              "      <th>0</th>\n",
              "      <td>False</td>\n",
              "      <td>False</td>\n",
              "      <td>0.0</td>\n",
              "      <td>0.0</td>\n",
              "      <td>0</td>\n",
              "      <td>0</td>\n",
              "      <td>0.0</td>\n",
              "      <td>0</td>\n",
              "      <td>-3.0</td>\n",
              "      <td>0.0</td>\n",
              "      <td>False</td>\n",
              "      <td>False</td>\n",
              "      <td>0.0</td>\n",
              "      <td>0.0</td>\n",
              "      <td>0</td>\n",
              "      <td>0</td>\n",
              "      <td>0.0</td>\n",
              "      <td>0</td>\n",
              "      <td>-3.0</td>\n",
              "      <td>0.0</td>\n",
              "      <td>False</td>\n",
              "      <td>False</td>\n",
              "      <td>0.0</td>\n",
              "      <td>0.0</td>\n",
              "      <td>0</td>\n",
              "      <td>0</td>\n",
              "      <td>0.0</td>\n",
              "      <td>0</td>\n",
              "      <td>-3.0</td>\n",
              "      <td>0.0</td>\n",
              "      <td>False</td>\n",
              "      <td>False</td>\n",
              "      <td>0.0</td>\n",
              "      <td>0.0</td>\n",
              "      <td>0</td>\n",
              "      <td>0</td>\n",
              "      <td>0.0</td>\n",
              "      <td>0</td>\n",
              "      <td>-3.0</td>\n",
              "      <td>0.0</td>\n",
              "      <td>...</td>\n",
              "      <td>0.017042</td>\n",
              "      <td>0.038366</td>\n",
              "      <td>-0.034419</td>\n",
              "      <td>0.017222</td>\n",
              "      <td>-0.016056</td>\n",
              "      <td>0.024635</td>\n",
              "      <td>0.016342</td>\n",
              "      <td>-0.023305</td>\n",
              "      <td>0.028304</td>\n",
              "      <td>-0.047105</td>\n",
              "      <td>-0.046572</td>\n",
              "      <td>0.034086</td>\n",
              "      <td>-0.044176</td>\n",
              "      <td>0.039277</td>\n",
              "      <td>-0.047624</td>\n",
              "      <td>-0.003166</td>\n",
              "      <td>-0.028353</td>\n",
              "      <td>-0.016154</td>\n",
              "      <td>-0.043296</td>\n",
              "      <td>-0.04092</td>\n",
              "      <td>-0.001659</td>\n",
              "      <td>0.004161</td>\n",
              "      <td>-0.008969</td>\n",
              "      <td>0.009182</td>\n",
              "      <td>0.065081</td>\n",
              "      <td>0.022257</td>\n",
              "      <td>0.001381</td>\n",
              "      <td>0.017444</td>\n",
              "      <td>0.017037</td>\n",
              "      <td>-0.012766</td>\n",
              "      <td>-0.035539</td>\n",
              "      <td>-0.020606</td>\n",
              "      <td>-0.012779</td>\n",
              "      <td>0.035268</td>\n",
              "      <td>-0.01455</td>\n",
              "      <td>-0.028219</td>\n",
              "      <td>0.03196</td>\n",
              "      <td>-0.001547</td>\n",
              "      <td>0.009776</td>\n",
              "      <td>-0.031648</td>\n",
              "    </tr>\n",
              "  </tbody>\n",
              "</table>\n",
              "<p>1 rows × 1588 columns</p>\n",
              "</div>"
            ],
            "text/plain": [
              "   n_[0]-agg-any  n_[0]-agg-all  ...  par_vec_398  par_vec_399\n",
              "0          False          False  ...     0.009776    -0.031648\n",
              "\n",
              "[1 rows x 1588 columns]"
            ]
          },
          "metadata": {
            "tags": []
          },
          "execution_count": 229
        }
      ]
    },
    {
      "cell_type": "code",
      "metadata": {
        "id": "mx97ftS7bHg1",
        "colab_type": "code",
        "colab": {}
      },
      "source": [
        "X_train.to_parquet('X_train_13.parquet')\n"
      ],
      "execution_count": null,
      "outputs": []
    },
    {
      "cell_type": "code",
      "metadata": {
        "id": "SURcMBaG7XDU",
        "colab_type": "code",
        "colab": {
          "base_uri": "https://localhost:8080/",
          "height": 163
        },
        "outputId": "c3334e56-29ee-4ae1-bdd7-734f79652352"
      },
      "source": [
        "X_train.head()"
      ],
      "execution_count": null,
      "outputs": [
        {
          "output_type": "execute_result",
          "data": {
            "text/html": [
              "<div>\n",
              "<style scoped>\n",
              "    .dataframe tbody tr th:only-of-type {\n",
              "        vertical-align: middle;\n",
              "    }\n",
              "\n",
              "    .dataframe tbody tr th {\n",
              "        vertical-align: top;\n",
              "    }\n",
              "\n",
              "    .dataframe thead th {\n",
              "        text-align: right;\n",
              "    }\n",
              "</style>\n",
              "<table border=\"1\" class=\"dataframe\">\n",
              "  <thead>\n",
              "    <tr style=\"text-align: right;\">\n",
              "      <th></th>\n",
              "      <th>n_[0]-agg-any</th>\n",
              "      <th>n_[0]-agg-all</th>\n",
              "      <th>n_[0]-agg-mean</th>\n",
              "      <th>n_[0]-agg-var</th>\n",
              "      <th>n_[0]-agg-min</th>\n",
              "      <th>n_[0]-agg-max</th>\n",
              "      <th>n_[0]-agg-median</th>\n",
              "      <th>n_[0]-agg-sum</th>\n",
              "      <th>n_[0]-agg-kurtosis</th>\n",
              "      <th>n_[0]-agg-skewness</th>\n",
              "      <th>n_[1]-agg-any</th>\n",
              "      <th>n_[1]-agg-all</th>\n",
              "      <th>n_[1]-agg-mean</th>\n",
              "      <th>n_[1]-agg-var</th>\n",
              "      <th>n_[1]-agg-min</th>\n",
              "      <th>n_[1]-agg-max</th>\n",
              "      <th>n_[1]-agg-median</th>\n",
              "      <th>n_[1]-agg-sum</th>\n",
              "      <th>n_[1]-agg-kurtosis</th>\n",
              "      <th>n_[1]-agg-skewness</th>\n",
              "      <th>n_[2]-agg-any</th>\n",
              "      <th>n_[2]-agg-all</th>\n",
              "      <th>n_[2]-agg-mean</th>\n",
              "      <th>n_[2]-agg-var</th>\n",
              "      <th>n_[2]-agg-min</th>\n",
              "      <th>n_[2]-agg-max</th>\n",
              "      <th>n_[2]-agg-median</th>\n",
              "      <th>n_[2]-agg-sum</th>\n",
              "      <th>n_[2]-agg-kurtosis</th>\n",
              "      <th>n_[2]-agg-skewness</th>\n",
              "      <th>n_[3]-agg-any</th>\n",
              "      <th>n_[3]-agg-all</th>\n",
              "      <th>n_[3]-agg-mean</th>\n",
              "      <th>n_[3]-agg-var</th>\n",
              "      <th>n_[3]-agg-min</th>\n",
              "      <th>n_[3]-agg-max</th>\n",
              "      <th>n_[3]-agg-median</th>\n",
              "      <th>n_[3]-agg-sum</th>\n",
              "      <th>n_[3]-agg-kurtosis</th>\n",
              "      <th>n_[3]-agg-skewness</th>\n",
              "      <th>...</th>\n",
              "      <th>par_vec_360</th>\n",
              "      <th>par_vec_361</th>\n",
              "      <th>par_vec_362</th>\n",
              "      <th>par_vec_363</th>\n",
              "      <th>par_vec_364</th>\n",
              "      <th>par_vec_365</th>\n",
              "      <th>par_vec_366</th>\n",
              "      <th>par_vec_367</th>\n",
              "      <th>par_vec_368</th>\n",
              "      <th>par_vec_369</th>\n",
              "      <th>par_vec_370</th>\n",
              "      <th>par_vec_371</th>\n",
              "      <th>par_vec_372</th>\n",
              "      <th>par_vec_373</th>\n",
              "      <th>par_vec_374</th>\n",
              "      <th>par_vec_375</th>\n",
              "      <th>par_vec_376</th>\n",
              "      <th>par_vec_377</th>\n",
              "      <th>par_vec_378</th>\n",
              "      <th>par_vec_379</th>\n",
              "      <th>par_vec_380</th>\n",
              "      <th>par_vec_381</th>\n",
              "      <th>par_vec_382</th>\n",
              "      <th>par_vec_383</th>\n",
              "      <th>par_vec_384</th>\n",
              "      <th>par_vec_385</th>\n",
              "      <th>par_vec_386</th>\n",
              "      <th>par_vec_387</th>\n",
              "      <th>par_vec_388</th>\n",
              "      <th>par_vec_389</th>\n",
              "      <th>par_vec_390</th>\n",
              "      <th>par_vec_391</th>\n",
              "      <th>par_vec_392</th>\n",
              "      <th>par_vec_393</th>\n",
              "      <th>par_vec_394</th>\n",
              "      <th>par_vec_395</th>\n",
              "      <th>par_vec_396</th>\n",
              "      <th>par_vec_397</th>\n",
              "      <th>par_vec_398</th>\n",
              "      <th>par_vec_399</th>\n",
              "    </tr>\n",
              "  </thead>\n",
              "  <tbody>\n",
              "    <tr>\n",
              "      <th>0</th>\n",
              "      <td>False</td>\n",
              "      <td>False</td>\n",
              "      <td>0.0</td>\n",
              "      <td>0.0</td>\n",
              "      <td>0</td>\n",
              "      <td>0</td>\n",
              "      <td>0.0</td>\n",
              "      <td>0</td>\n",
              "      <td>-3.0</td>\n",
              "      <td>0.0</td>\n",
              "      <td>False</td>\n",
              "      <td>False</td>\n",
              "      <td>0.0</td>\n",
              "      <td>0.0</td>\n",
              "      <td>0</td>\n",
              "      <td>0</td>\n",
              "      <td>0.0</td>\n",
              "      <td>0</td>\n",
              "      <td>-3.0</td>\n",
              "      <td>0.0</td>\n",
              "      <td>False</td>\n",
              "      <td>False</td>\n",
              "      <td>0.0</td>\n",
              "      <td>0.0</td>\n",
              "      <td>0</td>\n",
              "      <td>0</td>\n",
              "      <td>0.0</td>\n",
              "      <td>0</td>\n",
              "      <td>-3.0</td>\n",
              "      <td>0.0</td>\n",
              "      <td>False</td>\n",
              "      <td>False</td>\n",
              "      <td>0.0</td>\n",
              "      <td>0.0</td>\n",
              "      <td>0</td>\n",
              "      <td>0</td>\n",
              "      <td>0.0</td>\n",
              "      <td>0</td>\n",
              "      <td>-3.0</td>\n",
              "      <td>0.0</td>\n",
              "      <td>...</td>\n",
              "      <td>0.017042</td>\n",
              "      <td>0.038366</td>\n",
              "      <td>-0.034419</td>\n",
              "      <td>0.017222</td>\n",
              "      <td>-0.016056</td>\n",
              "      <td>0.024635</td>\n",
              "      <td>0.016342</td>\n",
              "      <td>-0.023305</td>\n",
              "      <td>0.028304</td>\n",
              "      <td>-0.047105</td>\n",
              "      <td>-0.046572</td>\n",
              "      <td>0.034086</td>\n",
              "      <td>-0.044176</td>\n",
              "      <td>0.039277</td>\n",
              "      <td>-0.047624</td>\n",
              "      <td>-0.003166</td>\n",
              "      <td>-0.028353</td>\n",
              "      <td>-0.016154</td>\n",
              "      <td>-0.043296</td>\n",
              "      <td>-0.04092</td>\n",
              "      <td>-0.001659</td>\n",
              "      <td>0.004161</td>\n",
              "      <td>-0.008969</td>\n",
              "      <td>0.009182</td>\n",
              "      <td>0.065081</td>\n",
              "      <td>0.022257</td>\n",
              "      <td>0.001381</td>\n",
              "      <td>0.017444</td>\n",
              "      <td>0.017037</td>\n",
              "      <td>-0.012766</td>\n",
              "      <td>-0.035539</td>\n",
              "      <td>-0.020606</td>\n",
              "      <td>-0.012779</td>\n",
              "      <td>0.035268</td>\n",
              "      <td>-0.01455</td>\n",
              "      <td>-0.028219</td>\n",
              "      <td>0.03196</td>\n",
              "      <td>-0.001547</td>\n",
              "      <td>0.009776</td>\n",
              "      <td>-0.031648</td>\n",
              "    </tr>\n",
              "  </tbody>\n",
              "</table>\n",
              "<p>1 rows × 1588 columns</p>\n",
              "</div>"
            ],
            "text/plain": [
              "   n_[0]-agg-any  n_[0]-agg-all  ...  par_vec_398  par_vec_399\n",
              "0          False          False  ...     0.009776    -0.031648\n",
              "\n",
              "[1 rows x 1588 columns]"
            ]
          },
          "metadata": {
            "tags": []
          },
          "execution_count": 99
        }
      ]
    },
    {
      "cell_type": "code",
      "metadata": {
        "id": "QpJXAyzZbJwd",
        "colab_type": "code",
        "colab": {}
      },
      "source": [
        "y_train = train_labs.values.flatten()\n"
      ],
      "execution_count": null,
      "outputs": []
    },
    {
      "cell_type": "code",
      "metadata": {
        "id": "Vk2jM9X37fJT",
        "colab_type": "code",
        "colab": {
          "base_uri": "https://localhost:8080/",
          "height": 51
        },
        "outputId": "926bc7dc-e085-436c-bda3-ca0793303e1b"
      },
      "source": [
        "y_train"
      ],
      "execution_count": null,
      "outputs": [
        {
          "output_type": "execute_result",
          "data": {
            "text/plain": [
              "array(['area', 'collection', 'team Name', ..., 'description', 'depth',\n",
              "       'product'], dtype=object)"
            ]
          },
          "metadata": {
            "tags": []
          },
          "execution_count": 125
        }
      ]
    },
    {
      "cell_type": "code",
      "metadata": {
        "id": "VcKLJ8yYD4su",
        "colab_type": "code",
        "colab": {
          "base_uri": "https://localhost:8080/",
          "height": 51
        },
        "outputId": "2532076c-2cc0-40df-df79-364d7d1f8843"
      },
      "source": [
        "y_train"
      ],
      "execution_count": null,
      "outputs": [
        {
          "output_type": "execute_result",
          "data": {
            "text/plain": [
              "array(['area', 'collection', 'team Name', ..., 'description', 'depth',\n",
              "       'product'], dtype=object)"
            ]
          },
          "metadata": {
            "tags": []
          },
          "execution_count": 127
        }
      ]
    },
    {
      "cell_type": "code",
      "metadata": {
        "id": "jjj9nQk2bL7K",
        "colab_type": "code",
        "colab": {
          "base_uri": "https://localhost:8080/",
          "height": 71
        },
        "outputId": "753890b5-24e1-40c8-888e-c64a00b750ee"
      },
      "source": [
        "\n",
        "X_val = _build_features(val_labs)\n",
        "X_test = _build_features(test_labs)\n",
        "y_val = val_labs.values.flatten()\n",
        "y_test = test_labs.values.flatten()"
      ],
      "execution_count": null,
      "outputs": [
        {
          "output_type": "stream",
          "text": [
            "/usr/local/lib/python3.6/dist-packages/smart_open/smart_open_lib.py:254: UserWarning: This function is deprecated, use smart_open.open instead. See the migration notes for details: https://github.com/RaRe-Technologies/smart_open/blob/master/README.rst#migrating-to-the-new-open-function\n",
            "  'See the migration notes for details: %s' % _MIGRATION_NOTES_URL\n"
          ],
          "name": "stderr"
        }
      ]
    },
    {
      "cell_type": "code",
      "metadata": {
        "id": "0ZcEFCig73u0",
        "colab_type": "code",
        "colab": {}
      },
      "source": [
        "pd.DataFrame(X_train.mean()).transpose().to_csv('train_column_means.csv')\n"
      ],
      "execution_count": null,
      "outputs": []
    },
    {
      "cell_type": "code",
      "metadata": {
        "id": "uVBtoGim76nW",
        "colab_type": "code",
        "colab": {}
      },
      "source": [
        "train_columns_means = pd.read_csv('train_column_means.csv', index_col=0)\n"
      ],
      "execution_count": null,
      "outputs": []
    },
    {
      "cell_type": "code",
      "metadata": {
        "id": "D5dofHXF76bz",
        "colab_type": "code",
        "colab": {}
      },
      "source": [
        "X_train.fillna(train_columns_means.iloc[0], inplace=True)\n",
        "X_val.fillna(train_columns_means.iloc[0], inplace=True)\n",
        "X_test.fillna(train_columns_means.iloc[0], inplace=True)\n"
      ],
      "execution_count": null,
      "outputs": []
    },
    {
      "cell_type": "code",
      "metadata": {
        "id": "1SkK6O2e8g0R",
        "colab_type": "code",
        "colab": {}
      },
      "source": [
        "import numpy as np\n",
        "import tensorflow as tf\n",
        "import pandas as pd\n",
        "\n",
        "from sklearn.preprocessing import LabelEncoder\n",
        "from tensorflow.keras.models import model_from_json\n",
        "from tensorflow.keras.callbacks import EarlyStopping\n",
        "import json\n",
        "\n",
        "\n",
        "SEED = 13\n",
        "\n",
        "\n",
        "def _prepare_feature_cols():\n",
        "    feature_cols_dict = {}\n",
        "    for feature_set in ['char', 'word', 'par', 'rest']:\n",
        "        feature_cols_dict[feature_set] = pd.read_csv('src/features/feature_column_identifiers/{}_col.tsv'.format(feature_set),\n",
        "                                                     sep='\\t', index_col=0, header=None).values.flatten()\n",
        "    return feature_cols_dict\n",
        "\n",
        "\n",
        "def _prepare_label_vectors(y_train, y_val, nn_id):\n",
        "\n",
        "    # Prepare categorical label encoder\n",
        "    encoder = LabelEncoder()\n",
        "    encoder.fit(y_train)\n",
        "    np.save('src/deploy/classes_retrian_sherlock.npy', encoder.classes_)\n",
        "\n",
        "    # Convert train labels\n",
        "    y_train_int = encoder.transform(y_train)\n",
        "    y_train_cat = tf.keras.utils.to_categorical(y_train_int)\n",
        "\n",
        "    # Convert val labels\n",
        "    y_val_int = encoder.transform(y_val)\n",
        "    y_val_cat = tf.keras.utils.to_categorical(y_val_int)\n",
        "\n",
        "    return y_train_cat, y_val_cat\n",
        "\n",
        "\n",
        "def _prepare_sherlock_model(nn_id):\n",
        "\n",
        "    lr = 0.0001\n",
        "    callbacks = [EarlyStopping(monitor='val_loss', patience=5)]\n",
        "    with open('src/models/retrain_minimal_sample_model.json') as f:\n",
        "      data = json.load(f)\n",
        "      print(data)\n",
        "      sherlock = model_from_json(file.read())\n",
        "\n",
        "    # file = open('src/models/retrain_minimal_sample_model.json', 'r')\n",
        "    # print(file.read())\n",
        "    # sherlock = model_from_json(file.read())\n",
        "    # file.close()\n",
        "\n",
        "    sherlock.compile(optimizer=tf.keras.optimizers.Adam(lr=lr),\n",
        "                     loss='categorical_crossentropy',\n",
        "                     metrics=['categorical_accuracy'])\n",
        "\n",
        "    return sherlock, callbacks\n",
        "\n",
        "\n",
        "def _save_retrained_sherlock_model(sherlock, nn_id):\n",
        "\n",
        "    model_json = sherlock.to_json()\n",
        "    with open('src/models/{}_model.json'.format(nn_id), 'w') as json:\n",
        "        json.write(model_json)\n",
        "\n",
        "    sherlock.save_weights('src/models/{}_weights.h5'.format(nn_id))\n",
        "\n",
        "\n",
        "# Input: X_train and X_val dataframes as returned by the build_features method,\n",
        "#        y_train and y_val arrays of string labels,\n",
        "#        nn_id indicating whether to take a retrained model or sherlock\n",
        "# Output: Stored retrained model\n",
        "def train_sherlock(X_train, y_train, X_val, y_val, nn_id):\n",
        "\n",
        "    y_train_cat, y_val_cat = _prepare_label_vectors(y_train, y_val, nn_id)\n",
        "    feature_cols = _prepare_feature_cols()\n",
        "    sherlock, callbacks = _prepare_sherlock_model(nn_id)\n",
        "\n",
        "    print('Successfully loaded and compiled model, now fitting model on data.')\n",
        "\n",
        "    sherlock.fit(X_train.values,\n",
        "                 y_train_cat,\n",
        "                 validation_data=(X_val.values,\n",
        "                                  y_val_cat),\n",
        "                 callbacks=callbacks, epochs=100, batch_size=256)\n",
        "\n",
        "    _save_retrained_sherlock_model(sherlock, nn_id)\n",
        "\n",
        "    print('Retrained Sherlock.')\n"
      ],
      "execution_count": null,
      "outputs": []
    },
    {
      "cell_type": "code",
      "metadata": {
        "id": "QpTQEiImHjqp",
        "colab_type": "code",
        "colab": {
          "base_uri": "https://localhost:8080/",
          "height": 163
        },
        "outputId": "d02c9493-232b-4096-c586-e9766e90e880"
      },
      "source": [
        "type(X_train)\n",
        "X_train"
      ],
      "execution_count": null,
      "outputs": [
        {
          "output_type": "execute_result",
          "data": {
            "text/html": [
              "<div>\n",
              "<style scoped>\n",
              "    .dataframe tbody tr th:only-of-type {\n",
              "        vertical-align: middle;\n",
              "    }\n",
              "\n",
              "    .dataframe tbody tr th {\n",
              "        vertical-align: top;\n",
              "    }\n",
              "\n",
              "    .dataframe thead th {\n",
              "        text-align: right;\n",
              "    }\n",
              "</style>\n",
              "<table border=\"1\" class=\"dataframe\">\n",
              "  <thead>\n",
              "    <tr style=\"text-align: right;\">\n",
              "      <th></th>\n",
              "      <th>n_[0]-agg-any</th>\n",
              "      <th>n_[0]-agg-all</th>\n",
              "      <th>n_[0]-agg-mean</th>\n",
              "      <th>n_[0]-agg-var</th>\n",
              "      <th>n_[0]-agg-min</th>\n",
              "      <th>n_[0]-agg-max</th>\n",
              "      <th>n_[0]-agg-median</th>\n",
              "      <th>n_[0]-agg-sum</th>\n",
              "      <th>n_[0]-agg-kurtosis</th>\n",
              "      <th>n_[0]-agg-skewness</th>\n",
              "      <th>n_[1]-agg-any</th>\n",
              "      <th>n_[1]-agg-all</th>\n",
              "      <th>n_[1]-agg-mean</th>\n",
              "      <th>n_[1]-agg-var</th>\n",
              "      <th>n_[1]-agg-min</th>\n",
              "      <th>n_[1]-agg-max</th>\n",
              "      <th>n_[1]-agg-median</th>\n",
              "      <th>n_[1]-agg-sum</th>\n",
              "      <th>n_[1]-agg-kurtosis</th>\n",
              "      <th>n_[1]-agg-skewness</th>\n",
              "      <th>n_[2]-agg-any</th>\n",
              "      <th>n_[2]-agg-all</th>\n",
              "      <th>n_[2]-agg-mean</th>\n",
              "      <th>n_[2]-agg-var</th>\n",
              "      <th>n_[2]-agg-min</th>\n",
              "      <th>n_[2]-agg-max</th>\n",
              "      <th>n_[2]-agg-median</th>\n",
              "      <th>n_[2]-agg-sum</th>\n",
              "      <th>n_[2]-agg-kurtosis</th>\n",
              "      <th>n_[2]-agg-skewness</th>\n",
              "      <th>n_[3]-agg-any</th>\n",
              "      <th>n_[3]-agg-all</th>\n",
              "      <th>n_[3]-agg-mean</th>\n",
              "      <th>n_[3]-agg-var</th>\n",
              "      <th>n_[3]-agg-min</th>\n",
              "      <th>n_[3]-agg-max</th>\n",
              "      <th>n_[3]-agg-median</th>\n",
              "      <th>n_[3]-agg-sum</th>\n",
              "      <th>n_[3]-agg-kurtosis</th>\n",
              "      <th>n_[3]-agg-skewness</th>\n",
              "      <th>...</th>\n",
              "      <th>par_vec_360</th>\n",
              "      <th>par_vec_361</th>\n",
              "      <th>par_vec_362</th>\n",
              "      <th>par_vec_363</th>\n",
              "      <th>par_vec_364</th>\n",
              "      <th>par_vec_365</th>\n",
              "      <th>par_vec_366</th>\n",
              "      <th>par_vec_367</th>\n",
              "      <th>par_vec_368</th>\n",
              "      <th>par_vec_369</th>\n",
              "      <th>par_vec_370</th>\n",
              "      <th>par_vec_371</th>\n",
              "      <th>par_vec_372</th>\n",
              "      <th>par_vec_373</th>\n",
              "      <th>par_vec_374</th>\n",
              "      <th>par_vec_375</th>\n",
              "      <th>par_vec_376</th>\n",
              "      <th>par_vec_377</th>\n",
              "      <th>par_vec_378</th>\n",
              "      <th>par_vec_379</th>\n",
              "      <th>par_vec_380</th>\n",
              "      <th>par_vec_381</th>\n",
              "      <th>par_vec_382</th>\n",
              "      <th>par_vec_383</th>\n",
              "      <th>par_vec_384</th>\n",
              "      <th>par_vec_385</th>\n",
              "      <th>par_vec_386</th>\n",
              "      <th>par_vec_387</th>\n",
              "      <th>par_vec_388</th>\n",
              "      <th>par_vec_389</th>\n",
              "      <th>par_vec_390</th>\n",
              "      <th>par_vec_391</th>\n",
              "      <th>par_vec_392</th>\n",
              "      <th>par_vec_393</th>\n",
              "      <th>par_vec_394</th>\n",
              "      <th>par_vec_395</th>\n",
              "      <th>par_vec_396</th>\n",
              "      <th>par_vec_397</th>\n",
              "      <th>par_vec_398</th>\n",
              "      <th>par_vec_399</th>\n",
              "    </tr>\n",
              "  </thead>\n",
              "  <tbody>\n",
              "    <tr>\n",
              "      <th>0</th>\n",
              "      <td>0.0</td>\n",
              "      <td>0.0</td>\n",
              "      <td>0.0</td>\n",
              "      <td>0.0</td>\n",
              "      <td>0.0</td>\n",
              "      <td>0.0</td>\n",
              "      <td>0.0</td>\n",
              "      <td>0.0</td>\n",
              "      <td>-3.0</td>\n",
              "      <td>0.0</td>\n",
              "      <td>0.0</td>\n",
              "      <td>0.0</td>\n",
              "      <td>0.0</td>\n",
              "      <td>0.0</td>\n",
              "      <td>0.0</td>\n",
              "      <td>0.0</td>\n",
              "      <td>0.0</td>\n",
              "      <td>0.0</td>\n",
              "      <td>-3.0</td>\n",
              "      <td>0.0</td>\n",
              "      <td>0.0</td>\n",
              "      <td>0.0</td>\n",
              "      <td>0.0</td>\n",
              "      <td>0.0</td>\n",
              "      <td>0.0</td>\n",
              "      <td>0.0</td>\n",
              "      <td>0.0</td>\n",
              "      <td>0.0</td>\n",
              "      <td>-3.0</td>\n",
              "      <td>0.0</td>\n",
              "      <td>0.0</td>\n",
              "      <td>0.0</td>\n",
              "      <td>0.0</td>\n",
              "      <td>0.0</td>\n",
              "      <td>0.0</td>\n",
              "      <td>0.0</td>\n",
              "      <td>0.0</td>\n",
              "      <td>0.0</td>\n",
              "      <td>-3.0</td>\n",
              "      <td>0.0</td>\n",
              "      <td>...</td>\n",
              "      <td>0.017042</td>\n",
              "      <td>0.038366</td>\n",
              "      <td>-0.034419</td>\n",
              "      <td>0.017222</td>\n",
              "      <td>-0.016056</td>\n",
              "      <td>0.024635</td>\n",
              "      <td>0.016342</td>\n",
              "      <td>-0.023305</td>\n",
              "      <td>0.028304</td>\n",
              "      <td>-0.047105</td>\n",
              "      <td>-0.046572</td>\n",
              "      <td>0.034086</td>\n",
              "      <td>-0.044176</td>\n",
              "      <td>0.039277</td>\n",
              "      <td>-0.047624</td>\n",
              "      <td>-0.003166</td>\n",
              "      <td>-0.028353</td>\n",
              "      <td>-0.016154</td>\n",
              "      <td>-0.043296</td>\n",
              "      <td>-0.04092</td>\n",
              "      <td>-0.001659</td>\n",
              "      <td>0.004161</td>\n",
              "      <td>-0.008969</td>\n",
              "      <td>0.009182</td>\n",
              "      <td>0.065081</td>\n",
              "      <td>0.022257</td>\n",
              "      <td>0.001381</td>\n",
              "      <td>0.017444</td>\n",
              "      <td>0.017037</td>\n",
              "      <td>-0.012766</td>\n",
              "      <td>-0.035539</td>\n",
              "      <td>-0.020606</td>\n",
              "      <td>-0.012779</td>\n",
              "      <td>0.035268</td>\n",
              "      <td>-0.01455</td>\n",
              "      <td>-0.028219</td>\n",
              "      <td>0.03196</td>\n",
              "      <td>-0.001547</td>\n",
              "      <td>0.009776</td>\n",
              "      <td>-0.031648</td>\n",
              "    </tr>\n",
              "  </tbody>\n",
              "</table>\n",
              "<p>1 rows × 1588 columns</p>\n",
              "</div>"
            ],
            "text/plain": [
              "   n_[0]-agg-any  n_[0]-agg-all  ...  par_vec_398  par_vec_399\n",
              "0            0.0            0.0  ...     0.009776    -0.031648\n",
              "\n",
              "[1 rows x 1588 columns]"
            ]
          },
          "metadata": {
            "tags": []
          },
          "execution_count": 160
        }
      ]
    },
    {
      "cell_type": "code",
      "metadata": {
        "id": "vvOWst5eFYJg",
        "colab_type": "code",
        "colab": {}
      },
      "source": [
        "y_train_cat, y_val_cat = _prepare_label_vectors(y_train, y_val, 'retrain sherlock')\n"
      ],
      "execution_count": null,
      "outputs": []
    },
    {
      "cell_type": "code",
      "metadata": {
        "id": "4jyXa9yuEX0k",
        "colab_type": "code",
        "colab": {}
      },
      "source": [
        "feature_cols = _prepare_feature_cols()\n",
        "feature_cols\n"
      ],
      "execution_count": null,
      "outputs": []
    },
    {
      "cell_type": "code",
      "metadata": {
        "id": "tePSwETIERfZ",
        "colab_type": "code",
        "colab": {
          "base_uri": "https://localhost:8080/",
          "height": 137
        },
        "outputId": "ca16e0ed-c11d-4491-94af-31542e26d3a2"
      },
      "source": [
        "# X_train[feature_cols['char']].values\n",
        "# X_train[feature_cols['word']].values\n",
        "# X_train[feature_cols['par']].values\n",
        "# X_train[feature_cols['rest']].values\n",
        "y_train_cat"
      ],
      "execution_count": null,
      "outputs": [
        {
          "output_type": "execute_result",
          "data": {
            "text/plain": [
              "array([[0., 0., 0., ..., 0., 0., 0.],\n",
              "       [0., 0., 0., ..., 0., 0., 0.],\n",
              "       [0., 0., 0., ..., 0., 0., 0.],\n",
              "       ...,\n",
              "       [0., 0., 0., ..., 0., 0., 0.],\n",
              "       [0., 0., 0., ..., 0., 0., 0.],\n",
              "       [0., 0., 0., ..., 0., 0., 0.]], dtype=float32)"
            ]
          },
          "metadata": {
            "tags": []
          },
          "execution_count": 143
        }
      ]
    },
    {
      "cell_type": "code",
      "metadata": {
        "id": "CigAf8-uFVGD",
        "colab_type": "code",
        "colab": {
          "base_uri": "https://localhost:8080/",
          "height": 137
        },
        "outputId": "376504b2-11a8-4ea5-99a2-e8147b5c41e1"
      },
      "source": [
        "# X_val[feature_cols['char']].values\n",
        "# X_val[feature_cols['word']].values\n",
        "# X_val[feature_cols['par']].values\n",
        "# X_val[feature_cols['rest']].values\n",
        "y_val_cat"
      ],
      "execution_count": null,
      "outputs": [
        {
          "output_type": "execute_result",
          "data": {
            "text/plain": [
              "array([[0., 0., 0., ..., 0., 0., 0.],\n",
              "       [0., 0., 0., ..., 0., 0., 0.],\n",
              "       [0., 0., 0., ..., 0., 0., 0.],\n",
              "       ...,\n",
              "       [0., 0., 0., ..., 0., 0., 0.],\n",
              "       [0., 0., 0., ..., 0., 0., 0.],\n",
              "       [0., 0., 0., ..., 0., 0., 0.]], dtype=float32)"
            ]
          },
          "metadata": {
            "tags": []
          },
          "execution_count": 152
        }
      ]
    },
    {
      "cell_type": "code",
      "metadata": {
        "id": "OcVX4SCY_pkx",
        "colab_type": "code",
        "colab": {
          "base_uri": "https://localhost:8080/",
          "height": 163
        },
        "outputId": "86c6be82-7dbd-4533-d7b3-d83fb16889ea"
      },
      "source": [
        "X_train"
      ],
      "execution_count": null,
      "outputs": [
        {
          "output_type": "execute_result",
          "data": {
            "text/html": [
              "<div>\n",
              "<style scoped>\n",
              "    .dataframe tbody tr th:only-of-type {\n",
              "        vertical-align: middle;\n",
              "    }\n",
              "\n",
              "    .dataframe tbody tr th {\n",
              "        vertical-align: top;\n",
              "    }\n",
              "\n",
              "    .dataframe thead th {\n",
              "        text-align: right;\n",
              "    }\n",
              "</style>\n",
              "<table border=\"1\" class=\"dataframe\">\n",
              "  <thead>\n",
              "    <tr style=\"text-align: right;\">\n",
              "      <th></th>\n",
              "      <th>n_[0]-agg-any</th>\n",
              "      <th>n_[0]-agg-all</th>\n",
              "      <th>n_[0]-agg-mean</th>\n",
              "      <th>n_[0]-agg-var</th>\n",
              "      <th>n_[0]-agg-min</th>\n",
              "      <th>n_[0]-agg-max</th>\n",
              "      <th>n_[0]-agg-median</th>\n",
              "      <th>n_[0]-agg-sum</th>\n",
              "      <th>n_[0]-agg-kurtosis</th>\n",
              "      <th>n_[0]-agg-skewness</th>\n",
              "      <th>n_[1]-agg-any</th>\n",
              "      <th>n_[1]-agg-all</th>\n",
              "      <th>n_[1]-agg-mean</th>\n",
              "      <th>n_[1]-agg-var</th>\n",
              "      <th>n_[1]-agg-min</th>\n",
              "      <th>n_[1]-agg-max</th>\n",
              "      <th>n_[1]-agg-median</th>\n",
              "      <th>n_[1]-agg-sum</th>\n",
              "      <th>n_[1]-agg-kurtosis</th>\n",
              "      <th>n_[1]-agg-skewness</th>\n",
              "      <th>n_[2]-agg-any</th>\n",
              "      <th>n_[2]-agg-all</th>\n",
              "      <th>n_[2]-agg-mean</th>\n",
              "      <th>n_[2]-agg-var</th>\n",
              "      <th>n_[2]-agg-min</th>\n",
              "      <th>n_[2]-agg-max</th>\n",
              "      <th>n_[2]-agg-median</th>\n",
              "      <th>n_[2]-agg-sum</th>\n",
              "      <th>n_[2]-agg-kurtosis</th>\n",
              "      <th>n_[2]-agg-skewness</th>\n",
              "      <th>n_[3]-agg-any</th>\n",
              "      <th>n_[3]-agg-all</th>\n",
              "      <th>n_[3]-agg-mean</th>\n",
              "      <th>n_[3]-agg-var</th>\n",
              "      <th>n_[3]-agg-min</th>\n",
              "      <th>n_[3]-agg-max</th>\n",
              "      <th>n_[3]-agg-median</th>\n",
              "      <th>n_[3]-agg-sum</th>\n",
              "      <th>n_[3]-agg-kurtosis</th>\n",
              "      <th>n_[3]-agg-skewness</th>\n",
              "      <th>...</th>\n",
              "      <th>par_vec_360</th>\n",
              "      <th>par_vec_361</th>\n",
              "      <th>par_vec_362</th>\n",
              "      <th>par_vec_363</th>\n",
              "      <th>par_vec_364</th>\n",
              "      <th>par_vec_365</th>\n",
              "      <th>par_vec_366</th>\n",
              "      <th>par_vec_367</th>\n",
              "      <th>par_vec_368</th>\n",
              "      <th>par_vec_369</th>\n",
              "      <th>par_vec_370</th>\n",
              "      <th>par_vec_371</th>\n",
              "      <th>par_vec_372</th>\n",
              "      <th>par_vec_373</th>\n",
              "      <th>par_vec_374</th>\n",
              "      <th>par_vec_375</th>\n",
              "      <th>par_vec_376</th>\n",
              "      <th>par_vec_377</th>\n",
              "      <th>par_vec_378</th>\n",
              "      <th>par_vec_379</th>\n",
              "      <th>par_vec_380</th>\n",
              "      <th>par_vec_381</th>\n",
              "      <th>par_vec_382</th>\n",
              "      <th>par_vec_383</th>\n",
              "      <th>par_vec_384</th>\n",
              "      <th>par_vec_385</th>\n",
              "      <th>par_vec_386</th>\n",
              "      <th>par_vec_387</th>\n",
              "      <th>par_vec_388</th>\n",
              "      <th>par_vec_389</th>\n",
              "      <th>par_vec_390</th>\n",
              "      <th>par_vec_391</th>\n",
              "      <th>par_vec_392</th>\n",
              "      <th>par_vec_393</th>\n",
              "      <th>par_vec_394</th>\n",
              "      <th>par_vec_395</th>\n",
              "      <th>par_vec_396</th>\n",
              "      <th>par_vec_397</th>\n",
              "      <th>par_vec_398</th>\n",
              "      <th>par_vec_399</th>\n",
              "    </tr>\n",
              "  </thead>\n",
              "  <tbody>\n",
              "    <tr>\n",
              "      <th>0</th>\n",
              "      <td>0.0</td>\n",
              "      <td>0.0</td>\n",
              "      <td>0.0</td>\n",
              "      <td>0.0</td>\n",
              "      <td>0.0</td>\n",
              "      <td>0.0</td>\n",
              "      <td>0.0</td>\n",
              "      <td>0.0</td>\n",
              "      <td>-3.0</td>\n",
              "      <td>0.0</td>\n",
              "      <td>0.0</td>\n",
              "      <td>0.0</td>\n",
              "      <td>0.0</td>\n",
              "      <td>0.0</td>\n",
              "      <td>0.0</td>\n",
              "      <td>0.0</td>\n",
              "      <td>0.0</td>\n",
              "      <td>0.0</td>\n",
              "      <td>-3.0</td>\n",
              "      <td>0.0</td>\n",
              "      <td>0.0</td>\n",
              "      <td>0.0</td>\n",
              "      <td>0.0</td>\n",
              "      <td>0.0</td>\n",
              "      <td>0.0</td>\n",
              "      <td>0.0</td>\n",
              "      <td>0.0</td>\n",
              "      <td>0.0</td>\n",
              "      <td>-3.0</td>\n",
              "      <td>0.0</td>\n",
              "      <td>0.0</td>\n",
              "      <td>0.0</td>\n",
              "      <td>0.0</td>\n",
              "      <td>0.0</td>\n",
              "      <td>0.0</td>\n",
              "      <td>0.0</td>\n",
              "      <td>0.0</td>\n",
              "      <td>0.0</td>\n",
              "      <td>-3.0</td>\n",
              "      <td>0.0</td>\n",
              "      <td>...</td>\n",
              "      <td>0.017042</td>\n",
              "      <td>0.038366</td>\n",
              "      <td>-0.034419</td>\n",
              "      <td>0.017222</td>\n",
              "      <td>-0.016056</td>\n",
              "      <td>0.024635</td>\n",
              "      <td>0.016342</td>\n",
              "      <td>-0.023305</td>\n",
              "      <td>0.028304</td>\n",
              "      <td>-0.047105</td>\n",
              "      <td>-0.046572</td>\n",
              "      <td>0.034086</td>\n",
              "      <td>-0.044176</td>\n",
              "      <td>0.039277</td>\n",
              "      <td>-0.047624</td>\n",
              "      <td>-0.003166</td>\n",
              "      <td>-0.028353</td>\n",
              "      <td>-0.016154</td>\n",
              "      <td>-0.043296</td>\n",
              "      <td>-0.04092</td>\n",
              "      <td>-0.001659</td>\n",
              "      <td>0.004161</td>\n",
              "      <td>-0.008969</td>\n",
              "      <td>0.009182</td>\n",
              "      <td>0.065081</td>\n",
              "      <td>0.022257</td>\n",
              "      <td>0.001381</td>\n",
              "      <td>0.017444</td>\n",
              "      <td>0.017037</td>\n",
              "      <td>-0.012766</td>\n",
              "      <td>-0.035539</td>\n",
              "      <td>-0.020606</td>\n",
              "      <td>-0.012779</td>\n",
              "      <td>0.035268</td>\n",
              "      <td>-0.01455</td>\n",
              "      <td>-0.028219</td>\n",
              "      <td>0.03196</td>\n",
              "      <td>-0.001547</td>\n",
              "      <td>0.009776</td>\n",
              "      <td>-0.031648</td>\n",
              "    </tr>\n",
              "  </tbody>\n",
              "</table>\n",
              "<p>1 rows × 1588 columns</p>\n",
              "</div>"
            ],
            "text/plain": [
              "   n_[0]-agg-any  n_[0]-agg-all  ...  par_vec_398  par_vec_399\n",
              "0            0.0            0.0  ...     0.009776    -0.031648\n",
              "\n",
              "[1 rows x 1588 columns]"
            ]
          },
          "metadata": {
            "tags": []
          },
          "execution_count": 123
        }
      ]
    },
    {
      "cell_type": "code",
      "metadata": {
        "id": "el0HYNF79odk",
        "colab_type": "code",
        "colab": {
          "base_uri": "https://localhost:8080/",
          "height": 233
        },
        "outputId": "35dc44d5-62ef-48c8-c8cd-311b128c6981"
      },
      "source": [
        "# X_train_val = X_train.values.astype(float)\n",
        "# X_train.values\n",
        "# pd.to_numeric(X_train.values[0])\n",
        "X_train = X_train.apply(pd.to_numeric).astype(float)\n",
        "X_val = X_val.apply(pd.to_numeric).astype(float)\n",
        "X_train\n",
        "X_val\n",
        "# X_val = X_val.values.astype(int)\n",
        "# y_val\n",
        "# X_train = pd.to_numeric(X_train.values, downcast=\"float\")\n",
        "# X_train"
      ],
      "execution_count": null,
      "outputs": [
        {
          "output_type": "error",
          "ename": "AttributeError",
          "evalue": "ignored",
          "traceback": [
            "\u001b[0;31m---------------------------------------------------------------------------\u001b[0m",
            "\u001b[0;31mAttributeError\u001b[0m                            Traceback (most recent call last)",
            "\u001b[0;32m<ipython-input-118-5acec9a21e7a>\u001b[0m in \u001b[0;36m<module>\u001b[0;34m()\u001b[0m\n\u001b[1;32m      3\u001b[0m \u001b[0;31m# pd.to_numeric(X_train.values[0])\u001b[0m\u001b[0;34m\u001b[0m\u001b[0;34m\u001b[0m\u001b[0;34m\u001b[0m\u001b[0m\n\u001b[1;32m      4\u001b[0m \u001b[0mX_train\u001b[0m \u001b[0;34m=\u001b[0m \u001b[0mX_train\u001b[0m\u001b[0;34m.\u001b[0m\u001b[0mapply\u001b[0m\u001b[0;34m(\u001b[0m\u001b[0mpd\u001b[0m\u001b[0;34m.\u001b[0m\u001b[0mto_numeric\u001b[0m\u001b[0;34m)\u001b[0m\u001b[0;34m.\u001b[0m\u001b[0mastype\u001b[0m\u001b[0;34m(\u001b[0m\u001b[0mfloat\u001b[0m\u001b[0;34m)\u001b[0m\u001b[0;34m\u001b[0m\u001b[0;34m\u001b[0m\u001b[0m\n\u001b[0;32m----> 5\u001b[0;31m \u001b[0mX_val\u001b[0m \u001b[0;34m=\u001b[0m \u001b[0mX_val\u001b[0m\u001b[0;34m.\u001b[0m\u001b[0mapply\u001b[0m\u001b[0;34m(\u001b[0m\u001b[0mpd\u001b[0m\u001b[0;34m.\u001b[0m\u001b[0mto_numeric\u001b[0m\u001b[0;34m)\u001b[0m\u001b[0;34m.\u001b[0m\u001b[0mastype\u001b[0m\u001b[0;34m(\u001b[0m\u001b[0mfloat\u001b[0m\u001b[0;34m)\u001b[0m\u001b[0;34m\u001b[0m\u001b[0;34m\u001b[0m\u001b[0m\n\u001b[0m\u001b[1;32m      6\u001b[0m \u001b[0mX_train\u001b[0m\u001b[0;34m\u001b[0m\u001b[0;34m\u001b[0m\u001b[0m\n\u001b[1;32m      7\u001b[0m \u001b[0mX_val\u001b[0m\u001b[0;34m\u001b[0m\u001b[0;34m\u001b[0m\u001b[0m\n",
            "\u001b[0;31mAttributeError\u001b[0m: 'numpy.ndarray' object has no attribute 'apply'"
          ]
        }
      ]
    },
    {
      "cell_type": "code",
      "metadata": {
        "id": "k262CZw28Erg",
        "colab_type": "code",
        "colab": {
          "base_uri": "https://localhost:8080/",
          "height": 380
        },
        "outputId": "0b5cb988-3afd-45f7-81f5-c397581a8122"
      },
      "source": [
        "train_sherlock(X_train, y_train, X_val, y_val, nn_id='retrain_sherlock');\n",
        "print('Trained and saved new model.')"
      ],
      "execution_count": null,
      "outputs": [
        {
          "output_type": "stream",
          "text": [
            "{'class_name': 'Model', 'config': {'name': 'model', 'layers': [{'name': 'input_1', 'class_name': 'InputLayer', 'config': {'batch_input_shape': [None, 960], 'dtype': 'float32', 'sparse': False, 'name': 'input_1'}, 'inbound_nodes': []}, {'name': 'input_2', 'class_name': 'InputLayer', 'config': {'batch_input_shape': [None, 201], 'dtype': 'float32', 'sparse': False, 'name': 'input_2'}, 'inbound_nodes': []}, {'name': 'input_3', 'class_name': 'InputLayer', 'config': {'batch_input_shape': [None, 400], 'dtype': 'float32', 'sparse': False, 'name': 'input_3'}, 'inbound_nodes': []}, {'name': 'batch_normalization', 'class_name': 'BatchNormalizationV1', 'config': {'name': 'batch_normalization', 'trainable': True, 'dtype': 'float32', 'axis': [1], 'momentum': 0.99, 'epsilon': 0.001, 'center': True, 'scale': True, 'beta_initializer': {'class_name': 'Zeros', 'config': {'dtype': 'float32'}}, 'gamma_initializer': {'class_name': 'Ones', 'config': {'dtype': 'float32'}}, 'moving_mean_initializer': {'class_name': 'Zeros', 'config': {'dtype': 'float32'}}, 'moving_variance_initializer': {'class_name': 'Ones', 'config': {'dtype': 'float32'}}, 'beta_regularizer': None, 'gamma_regularizer': None, 'beta_constraint': None, 'gamma_constraint': None}, 'inbound_nodes': [[['input_1', 0, 0, {}]]]}, {'name': 'batch_normalization_1', 'class_name': 'BatchNormalizationV1', 'config': {'name': 'batch_normalization_1', 'trainable': True, 'dtype': 'float32', 'axis': [1], 'momentum': 0.99, 'epsilon': 0.001, 'center': True, 'scale': True, 'beta_initializer': {'class_name': 'Zeros', 'config': {'dtype': 'float32'}}, 'gamma_initializer': {'class_name': 'Ones', 'config': {'dtype': 'float32'}}, 'moving_mean_initializer': {'class_name': 'Zeros', 'config': {'dtype': 'float32'}}, 'moving_variance_initializer': {'class_name': 'Ones', 'config': {'dtype': 'float32'}}, 'beta_regularizer': None, 'gamma_regularizer': None, 'beta_constraint': None, 'gamma_constraint': None}, 'inbound_nodes': [[['input_2', 0, 0, {}]]]}, {'name': 'batch_normalization_2', 'class_name': 'BatchNormalizationV1', 'config': {'name': 'batch_normalization_2', 'trainable': True, 'dtype': 'float32', 'axis': [1], 'momentum': 0.99, 'epsilon': 0.001, 'center': True, 'scale': True, 'beta_initializer': {'class_name': 'Zeros', 'config': {'dtype': 'float32'}}, 'gamma_initializer': {'class_name': 'Ones', 'config': {'dtype': 'float32'}}, 'moving_mean_initializer': {'class_name': 'Zeros', 'config': {'dtype': 'float32'}}, 'moving_variance_initializer': {'class_name': 'Ones', 'config': {'dtype': 'float32'}}, 'beta_regularizer': None, 'gamma_regularizer': None, 'beta_constraint': None, 'gamma_constraint': None}, 'inbound_nodes': [[['input_3', 0, 0, {}]]]}, {'name': 'dense', 'class_name': 'Dense', 'config': {'name': 'dense', 'trainable': True, 'dtype': 'float32', 'units': 300, 'activation': 'relu', 'use_bias': True, 'kernel_initializer': {'class_name': 'VarianceScaling', 'config': {'scale': 1.0, 'mode': 'fan_avg', 'distribution': 'uniform', 'seed': None, 'dtype': 'float32'}}, 'bias_initializer': {'class_name': 'Zeros', 'config': {'dtype': 'float32'}}, 'kernel_regularizer': {'class_name': 'L1L2', 'config': {'l1': 0.0, 'l2': 9.999999747378752e-05}}, 'bias_regularizer': None, 'activity_regularizer': None, 'kernel_constraint': None, 'bias_constraint': None}, 'inbound_nodes': [[['batch_normalization', 0, 0, {}]]]}, {'name': 'dense_2', 'class_name': 'Dense', 'config': {'name': 'dense_2', 'trainable': True, 'dtype': 'float32', 'units': 200, 'activation': 'relu', 'use_bias': True, 'kernel_initializer': {'class_name': 'VarianceScaling', 'config': {'scale': 1.0, 'mode': 'fan_avg', 'distribution': 'uniform', 'seed': None, 'dtype': 'float32'}}, 'bias_initializer': {'class_name': 'Zeros', 'config': {'dtype': 'float32'}}, 'kernel_regularizer': {'class_name': 'L1L2', 'config': {'l1': 0.0, 'l2': 9.999999747378752e-05}}, 'bias_regularizer': None, 'activity_regularizer': None, 'kernel_constraint': None, 'bias_constraint': None}, 'inbound_nodes': [[['batch_normalization_1', 0, 0, {}]]]}, {'name': 'dense_4', 'class_name': 'Dense', 'config': {'name': 'dense_4', 'trainable': True, 'dtype': 'float32', 'units': 400, 'activation': 'relu', 'use_bias': True, 'kernel_initializer': {'class_name': 'VarianceScaling', 'config': {'scale': 1.0, 'mode': 'fan_avg', 'distribution': 'uniform', 'seed': None, 'dtype': 'float32'}}, 'bias_initializer': {'class_name': 'Zeros', 'config': {'dtype': 'float32'}}, 'kernel_regularizer': {'class_name': 'L1L2', 'config': {'l1': 0.0, 'l2': 9.999999747378752e-05}}, 'bias_regularizer': None, 'activity_regularizer': None, 'kernel_constraint': None, 'bias_constraint': None}, 'inbound_nodes': [[['batch_normalization_2', 0, 0, {}]]]}, {'name': 'dropout', 'class_name': 'Dropout', 'config': {'name': 'dropout', 'trainable': True, 'dtype': 'float32', 'rate': 0.35, 'noise_shape': None, 'seed': None}, 'inbound_nodes': [[['dense', 0, 0, {}]]]}, {'name': 'dropout_1', 'class_name': 'Dropout', 'config': {'name': 'dropout_1', 'trainable': True, 'dtype': 'float32', 'rate': 0.35, 'noise_shape': None, 'seed': None}, 'inbound_nodes': [[['dense_2', 0, 0, {}]]]}, {'name': 'dropout_2', 'class_name': 'Dropout', 'config': {'name': 'dropout_2', 'trainable': True, 'dtype': 'float32', 'rate': 0.35, 'noise_shape': None, 'seed': None}, 'inbound_nodes': [[['dense_4', 0, 0, {}]]]}, {'name': 'input_4', 'class_name': 'InputLayer', 'config': {'batch_input_shape': [None, 27], 'dtype': 'float32', 'sparse': False, 'name': 'input_4'}, 'inbound_nodes': []}, {'name': 'dense_1', 'class_name': 'Dense', 'config': {'name': 'dense_1', 'trainable': True, 'dtype': 'float32', 'units': 300, 'activation': 'relu', 'use_bias': True, 'kernel_initializer': {'class_name': 'VarianceScaling', 'config': {'scale': 1.0, 'mode': 'fan_avg', 'distribution': 'uniform', 'seed': None, 'dtype': 'float32'}}, 'bias_initializer': {'class_name': 'Zeros', 'config': {'dtype': 'float32'}}, 'kernel_regularizer': {'class_name': 'L1L2', 'config': {'l1': 0.0, 'l2': 9.999999747378752e-05}}, 'bias_regularizer': None, 'activity_regularizer': None, 'kernel_constraint': None, 'bias_constraint': None}, 'inbound_nodes': [[['dropout', 0, 0, {}]]]}, {'name': 'dense_3', 'class_name': 'Dense', 'config': {'name': 'dense_3', 'trainable': True, 'dtype': 'float32', 'units': 200, 'activation': 'relu', 'use_bias': True, 'kernel_initializer': {'class_name': 'VarianceScaling', 'config': {'scale': 1.0, 'mode': 'fan_avg', 'distribution': 'uniform', 'seed': None, 'dtype': 'float32'}}, 'bias_initializer': {'class_name': 'Zeros', 'config': {'dtype': 'float32'}}, 'kernel_regularizer': {'class_name': 'L1L2', 'config': {'l1': 0.0, 'l2': 9.999999747378752e-05}}, 'bias_regularizer': None, 'activity_regularizer': None, 'kernel_constraint': None, 'bias_constraint': None}, 'inbound_nodes': [[['dropout_1', 0, 0, {}]]]}, {'name': 'dense_5', 'class_name': 'Dense', 'config': {'name': 'dense_5', 'trainable': True, 'dtype': 'float32', 'units': 400, 'activation': 'relu', 'use_bias': True, 'kernel_initializer': {'class_name': 'VarianceScaling', 'config': {'scale': 1.0, 'mode': 'fan_avg', 'distribution': 'uniform', 'seed': None, 'dtype': 'float32'}}, 'bias_initializer': {'class_name': 'Zeros', 'config': {'dtype': 'float32'}}, 'kernel_regularizer': {'class_name': 'L1L2', 'config': {'l1': 0.0, 'l2': 9.999999747378752e-05}}, 'bias_regularizer': None, 'activity_regularizer': None, 'kernel_constraint': None, 'bias_constraint': None}, 'inbound_nodes': [[['dropout_2', 0, 0, {}]]]}, {'name': 'batch_normalization_3', 'class_name': 'BatchNormalizationV1', 'config': {'name': 'batch_normalization_3', 'trainable': True, 'dtype': 'float32', 'axis': [1], 'momentum': 0.99, 'epsilon': 0.001, 'center': True, 'scale': True, 'beta_initializer': {'class_name': 'Zeros', 'config': {'dtype': 'float32'}}, 'gamma_initializer': {'class_name': 'Ones', 'config': {'dtype': 'float32'}}, 'moving_mean_initializer': {'class_name': 'Zeros', 'config': {'dtype': 'float32'}}, 'moving_variance_initializer': {'class_name': 'Ones', 'config': {'dtype': 'float32'}}, 'beta_regularizer': None, 'gamma_regularizer': None, 'beta_constraint': None, 'gamma_constraint': None}, 'inbound_nodes': [[['input_4', 0, 0, {}]]]}, {'name': 'concatenate', 'class_name': 'Concatenate', 'config': {'name': 'concatenate', 'trainable': True, 'dtype': 'float32', 'axis': -1}, 'inbound_nodes': [[['dense_1', 0, 0, {}], ['dense_3', 0, 0, {}], ['dense_5', 0, 0, {}], ['batch_normalization_3', 0, 0, {}]]]}, {'name': 'batch_normalization_4', 'class_name': 'BatchNormalizationV1', 'config': {'name': 'batch_normalization_4', 'trainable': True, 'dtype': 'float32', 'axis': [1], 'momentum': 0.99, 'epsilon': 0.001, 'center': True, 'scale': True, 'beta_initializer': {'class_name': 'Zeros', 'config': {'dtype': 'float32'}}, 'gamma_initializer': {'class_name': 'Ones', 'config': {'dtype': 'float32'}}, 'moving_mean_initializer': {'class_name': 'Zeros', 'config': {'dtype': 'float32'}}, 'moving_variance_initializer': {'class_name': 'Ones', 'config': {'dtype': 'float32'}}, 'beta_regularizer': None, 'gamma_regularizer': None, 'beta_constraint': None, 'gamma_constraint': None}, 'inbound_nodes': [[['concatenate', 0, 0, {}]]]}, {'name': 'dense_6', 'class_name': 'Dense', 'config': {'name': 'dense_6', 'trainable': True, 'dtype': 'float32', 'units': 500, 'activation': 'relu', 'use_bias': True, 'kernel_initializer': {'class_name': 'VarianceScaling', 'config': {'scale': 1.0, 'mode': 'fan_avg', 'distribution': 'uniform', 'seed': None, 'dtype': 'float32'}}, 'bias_initializer': {'class_name': 'Zeros', 'config': {'dtype': 'float32'}}, 'kernel_regularizer': {'class_name': 'L1L2', 'config': {'l1': 0.0, 'l2': 9.999999747378752e-05}}, 'bias_regularizer': None, 'activity_regularizer': None, 'kernel_constraint': None, 'bias_constraint': None}, 'inbound_nodes': [[['batch_normalization_4', 0, 0, {}]]]}, {'name': 'dropout_3', 'class_name': 'Dropout', 'config': {'name': 'dropout_3', 'trainable': True, 'dtype': 'float32', 'rate': 0.35, 'noise_shape': None, 'seed': None}, 'inbound_nodes': [[['dense_6', 0, 0, {}]]]}, {'name': 'dense_7', 'class_name': 'Dense', 'config': {'name': 'dense_7', 'trainable': True, 'dtype': 'float32', 'units': 500, 'activation': 'relu', 'use_bias': True, 'kernel_initializer': {'class_name': 'VarianceScaling', 'config': {'scale': 1.0, 'mode': 'fan_avg', 'distribution': 'uniform', 'seed': None, 'dtype': 'float32'}}, 'bias_initializer': {'class_name': 'Zeros', 'config': {'dtype': 'float32'}}, 'kernel_regularizer': {'class_name': 'L1L2', 'config': {'l1': 0.0, 'l2': 9.999999747378752e-05}}, 'bias_regularizer': None, 'activity_regularizer': None, 'kernel_constraint': None, 'bias_constraint': None}, 'inbound_nodes': [[['dropout_3', 0, 0, {}]]]}, {'name': 'dense_8', 'class_name': 'Dense', 'config': {'name': 'dense_8', 'trainable': True, 'dtype': 'float32', 'units': 78, 'activation': 'softmax', 'use_bias': True, 'kernel_initializer': {'class_name': 'VarianceScaling', 'config': {'scale': 1.0, 'mode': 'fan_avg', 'distribution': 'uniform', 'seed': None, 'dtype': 'float32'}}, 'bias_initializer': {'class_name': 'Zeros', 'config': {'dtype': 'float32'}}, 'kernel_regularizer': {'class_name': 'L1L2', 'config': {'l1': 0.0, 'l2': 9.999999747378752e-05}}, 'bias_regularizer': None, 'activity_regularizer': None, 'kernel_constraint': None, 'bias_constraint': None}, 'inbound_nodes': [[['dense_7', 0, 0, {}]]]}], 'input_layers': [['input_1', 0, 0], ['input_2', 0, 0], ['input_3', 0, 0], ['input_4', 0, 0]], 'output_layers': [['dense_8', 0, 0]]}, 'keras_version': '2.2.4-tf', 'backend': 'tensorflow'}\n"
          ],
          "name": "stdout"
        },
        {
          "output_type": "error",
          "ename": "TypeError",
          "evalue": "ignored",
          "traceback": [
            "\u001b[0;31m---------------------------------------------------------------------------\u001b[0m",
            "\u001b[0;31mTypeError\u001b[0m                                 Traceback (most recent call last)",
            "\u001b[0;32m<ipython-input-166-bea898a9a71d>\u001b[0m in \u001b[0;36m<module>\u001b[0;34m()\u001b[0m\n\u001b[0;32m----> 1\u001b[0;31m \u001b[0mtrain_sherlock\u001b[0m\u001b[0;34m(\u001b[0m\u001b[0mX_train\u001b[0m\u001b[0;34m,\u001b[0m \u001b[0my_train\u001b[0m\u001b[0;34m,\u001b[0m \u001b[0mX_val\u001b[0m\u001b[0;34m,\u001b[0m \u001b[0my_val\u001b[0m\u001b[0;34m,\u001b[0m \u001b[0mnn_id\u001b[0m\u001b[0;34m=\u001b[0m\u001b[0;34m'retrain_sherlock'\u001b[0m\u001b[0;34m)\u001b[0m\u001b[0;34m;\u001b[0m\u001b[0;34m\u001b[0m\u001b[0;34m\u001b[0m\u001b[0m\n\u001b[0m\u001b[1;32m      2\u001b[0m \u001b[0mprint\u001b[0m\u001b[0;34m(\u001b[0m\u001b[0;34m'Trained and saved new model.'\u001b[0m\u001b[0;34m)\u001b[0m\u001b[0;34m\u001b[0m\u001b[0;34m\u001b[0m\u001b[0m\n",
            "\u001b[0;32m<ipython-input-165-cbb9ab233242>\u001b[0m in \u001b[0;36mtrain_sherlock\u001b[0;34m(X_train, y_train, X_val, y_val, nn_id)\u001b[0m\n\u001b[1;32m     74\u001b[0m     \u001b[0my_train_cat\u001b[0m\u001b[0;34m,\u001b[0m \u001b[0my_val_cat\u001b[0m \u001b[0;34m=\u001b[0m \u001b[0m_prepare_label_vectors\u001b[0m\u001b[0;34m(\u001b[0m\u001b[0my_train\u001b[0m\u001b[0;34m,\u001b[0m \u001b[0my_val\u001b[0m\u001b[0;34m,\u001b[0m \u001b[0mnn_id\u001b[0m\u001b[0;34m)\u001b[0m\u001b[0;34m\u001b[0m\u001b[0;34m\u001b[0m\u001b[0m\n\u001b[1;32m     75\u001b[0m     \u001b[0mfeature_cols\u001b[0m \u001b[0;34m=\u001b[0m \u001b[0m_prepare_feature_cols\u001b[0m\u001b[0;34m(\u001b[0m\u001b[0;34m)\u001b[0m\u001b[0;34m\u001b[0m\u001b[0;34m\u001b[0m\u001b[0m\n\u001b[0;32m---> 76\u001b[0;31m     \u001b[0msherlock\u001b[0m\u001b[0;34m,\u001b[0m \u001b[0mcallbacks\u001b[0m \u001b[0;34m=\u001b[0m \u001b[0m_prepare_sherlock_model\u001b[0m\u001b[0;34m(\u001b[0m\u001b[0mnn_id\u001b[0m\u001b[0;34m)\u001b[0m\u001b[0;34m\u001b[0m\u001b[0;34m\u001b[0m\u001b[0m\n\u001b[0m\u001b[1;32m     77\u001b[0m \u001b[0;34m\u001b[0m\u001b[0m\n\u001b[1;32m     78\u001b[0m     \u001b[0mprint\u001b[0m\u001b[0;34m(\u001b[0m\u001b[0;34m'Successfully loaded and compiled model, now fitting model on data.'\u001b[0m\u001b[0;34m)\u001b[0m\u001b[0;34m\u001b[0m\u001b[0;34m\u001b[0m\u001b[0m\n",
            "\u001b[0;32m<ipython-input-165-cbb9ab233242>\u001b[0m in \u001b[0;36m_prepare_sherlock_model\u001b[0;34m(nn_id)\u001b[0m\n\u001b[1;32m     47\u001b[0m        \u001b[0mdata\u001b[0m \u001b[0;34m=\u001b[0m \u001b[0mjson\u001b[0m\u001b[0;34m.\u001b[0m\u001b[0mload\u001b[0m\u001b[0;34m(\u001b[0m\u001b[0mf\u001b[0m\u001b[0;34m)\u001b[0m\u001b[0;34m\u001b[0m\u001b[0;34m\u001b[0m\u001b[0m\n\u001b[1;32m     48\u001b[0m        \u001b[0mprint\u001b[0m\u001b[0;34m(\u001b[0m\u001b[0mdata\u001b[0m\u001b[0;34m)\u001b[0m\u001b[0;34m\u001b[0m\u001b[0;34m\u001b[0m\u001b[0m\n\u001b[0;32m---> 49\u001b[0;31m        \u001b[0msherlock\u001b[0m \u001b[0;34m=\u001b[0m \u001b[0mmodel_from_json\u001b[0m\u001b[0;34m(\u001b[0m\u001b[0mdata\u001b[0m\u001b[0;34m)\u001b[0m\u001b[0;34m\u001b[0m\u001b[0;34m\u001b[0m\u001b[0m\n\u001b[0m\u001b[1;32m     50\u001b[0m     \u001b[0;31m# file.close()\u001b[0m\u001b[0;34m\u001b[0m\u001b[0;34m\u001b[0m\u001b[0;34m\u001b[0m\u001b[0m\n\u001b[1;32m     51\u001b[0m \u001b[0;34m\u001b[0m\u001b[0m\n",
            "\u001b[0;32m/usr/local/lib/python3.6/dist-packages/tensorflow/python/keras/saving/model_config.py\u001b[0m in \u001b[0;36mmodel_from_json\u001b[0;34m(json_string, custom_objects)\u001b[0m\n\u001b[1;32m    118\u001b[0m       \u001b[0mA\u001b[0m \u001b[0mKeras\u001b[0m \u001b[0mmodel\u001b[0m \u001b[0minstance\u001b[0m \u001b[0;34m(\u001b[0m\u001b[0muncompiled\u001b[0m\u001b[0;34m)\u001b[0m\u001b[0;34m.\u001b[0m\u001b[0;34m\u001b[0m\u001b[0;34m\u001b[0m\u001b[0m\n\u001b[1;32m    119\u001b[0m   \"\"\"\n\u001b[0;32m--> 120\u001b[0;31m   \u001b[0mconfig\u001b[0m \u001b[0;34m=\u001b[0m \u001b[0mjson\u001b[0m\u001b[0;34m.\u001b[0m\u001b[0mloads\u001b[0m\u001b[0;34m(\u001b[0m\u001b[0mjson_string\u001b[0m\u001b[0;34m)\u001b[0m\u001b[0;34m\u001b[0m\u001b[0;34m\u001b[0m\u001b[0m\n\u001b[0m\u001b[1;32m    121\u001b[0m   \u001b[0;32mfrom\u001b[0m \u001b[0mtensorflow\u001b[0m\u001b[0;34m.\u001b[0m\u001b[0mpython\u001b[0m\u001b[0;34m.\u001b[0m\u001b[0mkeras\u001b[0m\u001b[0;34m.\u001b[0m\u001b[0mlayers\u001b[0m \u001b[0;32mimport\u001b[0m \u001b[0mdeserialize\u001b[0m  \u001b[0;31m# pylint: disable=g-import-not-at-top\u001b[0m\u001b[0;34m\u001b[0m\u001b[0;34m\u001b[0m\u001b[0m\n\u001b[1;32m    122\u001b[0m   \u001b[0;32mreturn\u001b[0m \u001b[0mdeserialize\u001b[0m\u001b[0;34m(\u001b[0m\u001b[0mconfig\u001b[0m\u001b[0;34m,\u001b[0m \u001b[0mcustom_objects\u001b[0m\u001b[0;34m=\u001b[0m\u001b[0mcustom_objects\u001b[0m\u001b[0;34m)\u001b[0m\u001b[0;34m\u001b[0m\u001b[0;34m\u001b[0m\u001b[0m\n",
            "\u001b[0;32m/usr/lib/python3.6/json/__init__.py\u001b[0m in \u001b[0;36mloads\u001b[0;34m(s, encoding, cls, object_hook, parse_float, parse_int, parse_constant, object_pairs_hook, **kw)\u001b[0m\n\u001b[1;32m    346\u001b[0m         \u001b[0;32mif\u001b[0m \u001b[0;32mnot\u001b[0m \u001b[0misinstance\u001b[0m\u001b[0;34m(\u001b[0m\u001b[0ms\u001b[0m\u001b[0;34m,\u001b[0m \u001b[0;34m(\u001b[0m\u001b[0mbytes\u001b[0m\u001b[0;34m,\u001b[0m \u001b[0mbytearray\u001b[0m\u001b[0;34m)\u001b[0m\u001b[0;34m)\u001b[0m\u001b[0;34m:\u001b[0m\u001b[0;34m\u001b[0m\u001b[0;34m\u001b[0m\u001b[0m\n\u001b[1;32m    347\u001b[0m             raise TypeError('the JSON object must be str, bytes or bytearray, '\n\u001b[0;32m--> 348\u001b[0;31m                             'not {!r}'.format(s.__class__.__name__))\n\u001b[0m\u001b[1;32m    349\u001b[0m         \u001b[0ms\u001b[0m \u001b[0;34m=\u001b[0m \u001b[0ms\u001b[0m\u001b[0;34m.\u001b[0m\u001b[0mdecode\u001b[0m\u001b[0;34m(\u001b[0m\u001b[0mdetect_encoding\u001b[0m\u001b[0;34m(\u001b[0m\u001b[0ms\u001b[0m\u001b[0;34m)\u001b[0m\u001b[0;34m,\u001b[0m \u001b[0;34m'surrogatepass'\u001b[0m\u001b[0;34m)\u001b[0m\u001b[0;34m\u001b[0m\u001b[0;34m\u001b[0m\u001b[0m\n\u001b[1;32m    350\u001b[0m \u001b[0;34m\u001b[0m\u001b[0m\n",
            "\u001b[0;31mTypeError\u001b[0m: the JSON object must be str, bytes or bytearray, not 'dict'"
          ]
        }
      ]
    }
  ]
}
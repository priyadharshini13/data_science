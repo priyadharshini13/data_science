{
  "nbformat": 4,
  "nbformat_minor": 0,
  "metadata": {
    "colab": {
      "name": "Tensor.ipynb",
      "provenance": [],
      "authorship_tag": "ABX9TyMlqI1a+uYhUS5pejCq0ROf",
      "include_colab_link": true
    },
    "kernelspec": {
      "name": "python3",
      "display_name": "Python 3"
    }
  },
  "cells": [
    {
      "cell_type": "markdown",
      "metadata": {
        "id": "view-in-github",
        "colab_type": "text"
      },
      "source": [
        "<a href=\"https://colab.research.google.com/github/priyadharshini13/data_science/blob/master/Tensor.ipynb\" target=\"_parent\"><img src=\"https://colab.research.google.com/assets/colab-badge.svg\" alt=\"Open In Colab\"/></a>"
      ]
    },
    {
      "cell_type": "code",
      "metadata": {
        "id": "iM1r9TIVZceo",
        "colab_type": "code",
        "colab": {}
      },
      "source": [
        "import tensorflow as tf"
      ],
      "execution_count": 1,
      "outputs": []
    },
    {
      "cell_type": "markdown",
      "metadata": {
        "id": "1Fqx4hrt5X5B",
        "colab_type": "text"
      },
      "source": [
        ""
      ]
    },
    {
      "cell_type": "code",
      "metadata": {
        "id": "iFkjy_DKfhBu",
        "colab_type": "code",
        "colab": {
          "base_uri": "https://localhost:8080/",
          "height": 360
        },
        "outputId": "172c9522-e014-401f-8de7-db546d44f51a"
      },
      "source": [
        "#without session context\n",
        "sess = tf.compat.v1.Session()\n",
        "const1 = tf.constant(2.0, name=\"const1\")\n",
        "const2 = tf.constant(5.0, name=\"const2\")\n",
        "add = const1 + const2\n",
        "print(sess.run(add))\n",
        "sess.close()"
      ],
      "execution_count": 5,
      "outputs": [
        {
          "output_type": "error",
          "ename": "RuntimeError",
          "evalue": "ignored",
          "traceback": [
            "\u001b[0;31m---------------------------------------------------------------------------\u001b[0m",
            "\u001b[0;31mRuntimeError\u001b[0m                              Traceback (most recent call last)",
            "\u001b[0;32m<ipython-input-5-6b24b238ea50>\u001b[0m in \u001b[0;36m<module>\u001b[0;34m()\u001b[0m\n\u001b[1;32m      4\u001b[0m \u001b[0mconst2\u001b[0m \u001b[0;34m=\u001b[0m \u001b[0mtf\u001b[0m\u001b[0;34m.\u001b[0m\u001b[0mconstant\u001b[0m\u001b[0;34m(\u001b[0m\u001b[0;36m5.0\u001b[0m\u001b[0;34m,\u001b[0m \u001b[0mname\u001b[0m\u001b[0;34m=\u001b[0m\u001b[0;34m\"const2\"\u001b[0m\u001b[0;34m)\u001b[0m\u001b[0;34m\u001b[0m\u001b[0;34m\u001b[0m\u001b[0m\n\u001b[1;32m      5\u001b[0m \u001b[0madd\u001b[0m \u001b[0;34m=\u001b[0m \u001b[0mconst1\u001b[0m \u001b[0;34m+\u001b[0m \u001b[0mconst2\u001b[0m\u001b[0;34m\u001b[0m\u001b[0;34m\u001b[0m\u001b[0m\n\u001b[0;32m----> 6\u001b[0;31m \u001b[0mprint\u001b[0m\u001b[0;34m(\u001b[0m\u001b[0msess\u001b[0m\u001b[0;34m.\u001b[0m\u001b[0mrun\u001b[0m\u001b[0;34m(\u001b[0m\u001b[0madd\u001b[0m\u001b[0;34m)\u001b[0m\u001b[0;34m)\u001b[0m\u001b[0;34m\u001b[0m\u001b[0;34m\u001b[0m\u001b[0m\n\u001b[0m\u001b[1;32m      7\u001b[0m \u001b[0msess\u001b[0m\u001b[0;34m.\u001b[0m\u001b[0mclose\u001b[0m\u001b[0;34m(\u001b[0m\u001b[0;34m)\u001b[0m\u001b[0;34m\u001b[0m\u001b[0;34m\u001b[0m\u001b[0m\n",
            "\u001b[0;32m/usr/local/lib/python3.6/dist-packages/tensorflow/python/client/session.py\u001b[0m in \u001b[0;36mrun\u001b[0;34m(self, fetches, feed_dict, options, run_metadata)\u001b[0m\n\u001b[1;32m    956\u001b[0m     \u001b[0;32mtry\u001b[0m\u001b[0;34m:\u001b[0m\u001b[0;34m\u001b[0m\u001b[0;34m\u001b[0m\u001b[0m\n\u001b[1;32m    957\u001b[0m       result = self._run(None, fetches, feed_dict, options_ptr,\n\u001b[0;32m--> 958\u001b[0;31m                          run_metadata_ptr)\n\u001b[0m\u001b[1;32m    959\u001b[0m       \u001b[0;32mif\u001b[0m \u001b[0mrun_metadata\u001b[0m\u001b[0;34m:\u001b[0m\u001b[0;34m\u001b[0m\u001b[0;34m\u001b[0m\u001b[0m\n\u001b[1;32m    960\u001b[0m         \u001b[0mproto_data\u001b[0m \u001b[0;34m=\u001b[0m \u001b[0mtf_session\u001b[0m\u001b[0;34m.\u001b[0m\u001b[0mTF_GetBuffer\u001b[0m\u001b[0;34m(\u001b[0m\u001b[0mrun_metadata_ptr\u001b[0m\u001b[0;34m)\u001b[0m\u001b[0;34m\u001b[0m\u001b[0;34m\u001b[0m\u001b[0m\n",
            "\u001b[0;32m/usr/local/lib/python3.6/dist-packages/tensorflow/python/client/session.py\u001b[0m in \u001b[0;36m_run\u001b[0;34m(self, handle, fetches, feed_dict, options, run_metadata)\u001b[0m\n\u001b[1;32m   1104\u001b[0m       \u001b[0;32mraise\u001b[0m \u001b[0mRuntimeError\u001b[0m\u001b[0;34m(\u001b[0m\u001b[0;34m'Attempted to use a closed Session.'\u001b[0m\u001b[0;34m)\u001b[0m\u001b[0;34m\u001b[0m\u001b[0;34m\u001b[0m\u001b[0m\n\u001b[1;32m   1105\u001b[0m     \u001b[0;32mif\u001b[0m \u001b[0mself\u001b[0m\u001b[0;34m.\u001b[0m\u001b[0mgraph\u001b[0m\u001b[0;34m.\u001b[0m\u001b[0mversion\u001b[0m \u001b[0;34m==\u001b[0m \u001b[0;36m0\u001b[0m\u001b[0;34m:\u001b[0m\u001b[0;34m\u001b[0m\u001b[0;34m\u001b[0m\u001b[0m\n\u001b[0;32m-> 1106\u001b[0;31m       raise RuntimeError('The Session graph is empty.  Add operations to the '\n\u001b[0m\u001b[1;32m   1107\u001b[0m                          'graph before calling run().')\n\u001b[1;32m   1108\u001b[0m \u001b[0;34m\u001b[0m\u001b[0m\n",
            "\u001b[0;31mRuntimeError\u001b[0m: The Session graph is empty.  Add operations to the graph before calling run()."
          ]
        }
      ]
    },
    {
      "cell_type": "code",
      "metadata": {
        "id": "avBtMRlOeLFo",
        "colab_type": "code",
        "colab": {
          "base_uri": "https://localhost:8080/",
          "height": 34
        },
        "outputId": "bc47553f-ad9d-48e9-a720-3803ad4f4198"
      },
      "source": [
        "#Executes a block of code after sess: and automatically closes a session\n",
        "with tf.compat.v1.Session() as sess:\n",
        "  #create tensorflow constant\n",
        "  const1 = tf.constant(2.0, name=\"const1\")\n",
        "  const2 = tf.constant(5.0, name=\"const2\")\n",
        "  output = sess.run([const1,const2])\n",
        "  print(output)\n",
        "  # sess.close()//No need for this"
      ],
      "execution_count": 6,
      "outputs": [
        {
          "output_type": "stream",
          "text": [
            "[2.0, 5.0]\n"
          ],
          "name": "stdout"
        }
      ]
    },
    {
      "cell_type": "code",
      "metadata": {
        "id": "88961H03f5UA",
        "colab_type": "code",
        "colab": {
          "base_uri": "https://localhost:8080/",
          "height": 34
        },
        "outputId": "d200ec50-5c9c-4fd8-88d3-f8910130eb79"
      },
      "source": [
        "#a = b*c\n",
        "b = tf.constant(4.0,name=\"b\")\n",
        "c = tf.constant(5.0,name=\"c\")\n",
        "a = b * c\n",
        "with tf.compat.v1.Session() as sess:\n",
        "  print(a)"
      ],
      "execution_count": 7,
      "outputs": [
        {
          "output_type": "stream",
          "text": [
            "tf.Tensor(20.0, shape=(), dtype=float32)\n"
          ],
          "name": "stdout"
        }
      ]
    },
    {
      "cell_type": "code",
      "metadata": {
        "id": "h34ZwAhNhDzo",
        "colab_type": "code",
        "colab": {
          "base_uri": "https://localhost:8080/",
          "height": 34
        },
        "outputId": "70b7270d-062e-49e8-faf4-90e056e0ce56"
      },
      "source": [
        "b = tf.constant(4.0,name=\"b\")\n",
        "c = tf.constant(5.0,name=\"c\")\n",
        "a = b * c\n",
        "# sess = tf.compat.v1.Session()\n",
        "# tf.disable\n",
        "\n",
        "print(a)\n",
        "# sess.close()\n"
      ],
      "execution_count": 8,
      "outputs": [
        {
          "output_type": "stream",
          "text": [
            "tf.Tensor(20.0, shape=(), dtype=float32)\n"
          ],
          "name": "stdout"
        }
      ]
    },
    {
      "cell_type": "code",
      "metadata": {
        "id": "hCTfiddYjDx1",
        "colab_type": "code",
        "colab": {
          "base_uri": "https://localhost:8080/",
          "height": 51
        },
        "outputId": "11764aab-1162-417d-bd96-ea8e57ef9830"
      },
      "source": [
        "tf.compat.v1.disable_eager_execution()\n",
        "\n",
        "a = tf.compat.v1.placeholder(tf.float16)\n",
        "b = tf.compat.v1.placeholder(tf.float16)\n",
        "c = a * b\n",
        "sess = tf.compat.v1.Session()\n",
        "\n",
        "print(sess.run(c,{a:[1,2], b:[2,4]}))\n",
        "print(sess.run(c,feed_dict={a:[1,2], b:[2,4]}))\n",
        "\n",
        "sess.close()\n"
      ],
      "execution_count": 9,
      "outputs": [
        {
          "output_type": "stream",
          "text": [
            "[2. 8.]\n",
            "[2. 8.]\n"
          ],
          "name": "stdout"
        }
      ]
    },
    {
      "cell_type": "code",
      "metadata": {
        "id": "dUvVfMiiLMnc",
        "colab_type": "code",
        "colab": {}
      },
      "source": [
        "tf.compat.v1.disable_eager_execution()\n",
        "\n",
        "#Creating linear model\n",
        "w = tf.Variable([.3], tf.float32)\n",
        "b = tf.Variable([-.3],tf.float32)\n",
        "x = tf.compat.v1.placeholder(tf.float32)\n",
        "linear_model = w*x+b\n",
        "init_op = tf.compat.v1.global_variables_initializer()\n",
        "# sess = tf.compat.v1.Session()\n",
        "# sess.run(init_op)\n",
        "# print(sess.run(linear_model,{x:[3,4,3]}))\n",
        "#We do not know how best it is "
      ],
      "execution_count": 20,
      "outputs": []
    },
    {
      "cell_type": "code",
      "metadata": {
        "id": "sl0gle0CMidm",
        "colab_type": "code",
        "colab": {
          "base_uri": "https://localhost:8080/",
          "height": 34
        },
        "outputId": "d17c7112-8e13-43de-fd34-d5397936bac2"
      },
      "source": [
        "#calculate loss\n",
        "#Loss is a function which measures how far apart the current model is from \n",
        "#the provided data.\n",
        "#calculate the loss->update variable->calualate loss-> upd var -> untill the loss is less\n",
        "# w*x+b\n",
        "y = tf.compat.v1.placeholder(tf.float32)\n",
        "\n",
        "#loss\n",
        "squared_delta = tf.square(linear_model-y)\n",
        "loss = tf.reduce_sum(squared_delta)\n",
        "init = tf.compat.v1.global_variables_initializer()\n",
        "sess = tf.compat.v1.Session()\n",
        "# sess.run(init_op)\n",
        "# print(sess.run(linear_model,{x:[3,4,3], y:[0,-2,3]}))\n",
        "optimizer = tf.compat.v1.train.GradientDescentOptimizer(0.01)\n",
        "train = optimizer.minimize(loss)\n",
        "sess.run(init_op)\n",
        "for i in range(1000):\n",
        "  sess.run(train,{x:[1,2,3,4],y:[0,-1,-2,-3]})\n",
        "print(sess.run([w,b]))"
      ],
      "execution_count": 18,
      "outputs": [
        {
          "output_type": "stream",
          "text": [
            "[array([-0.9999969], dtype=float32), array([0.9999908], dtype=float32)]\n"
          ],
          "name": "stdout"
        }
      ]
    },
    {
      "cell_type": "markdown",
      "metadata": {
        "id": "yVzk7voi-qq8",
        "colab_type": "text"
      },
      "source": [
        "Implementation of Gold mine\n",
        "\n",
        "start\n",
        "Read the dataset\n",
        "Define features and lables\n",
        "Encode the dependent variable\n",
        "divide the dataset into 2 parts -train,test  "
      ]
    },
    {
      "cell_type": "code",
      "metadata": {
        "id": "ZP_NODTt5ru-",
        "colab_type": "code",
        "colab": {}
      },
      "source": [
        "import matplotlib.pyplot as plt\n",
        "import tensorflow as tf\n",
        "import numpy as np\n",
        "import pandas as pd\n",
        "from sklearn.preprocessing import LabelEncoder\n",
        "from sklearn.utils import shuffle\n",
        "from sklearn.model_selection import train_test_split"
      ],
      "execution_count": 19,
      "outputs": []
    },
    {
      "cell_type": "code",
      "metadata": {
        "id": "DZsAwX8B-mdo",
        "colab_type": "code",
        "colab": {}
      },
      "source": [
        "#Reading the dataset"
      ],
      "execution_count": null,
      "outputs": []
    }
  ]
}
{
  "nbformat": 4,
  "nbformat_minor": 0,
  "metadata": {
    "colab": {
      "name": "3_Data_split.ipynb",
      "provenance": [],
      "mount_file_id": "1m3d22HGADRfr_pcRmKuOAdNku6eu5oSu",
      "authorship_tag": "ABX9TyNtdv6p+01VRTfyVnUCCHuS",
      "include_colab_link": true
    },
    "kernelspec": {
      "name": "python3",
      "display_name": "Python 3"
    }
  },
  "cells": [
    {
      "cell_type": "markdown",
      "metadata": {
        "id": "view-in-github",
        "colab_type": "text"
      },
      "source": [
        "<a href=\"https://colab.research.google.com/github/priyadharshini13/data_science/blob/master/3_Data_split.ipynb\" target=\"_parent\"><img src=\"https://colab.research.google.com/assets/colab-badge.svg\" alt=\"Open In Colab\"/></a>"
      ]
    },
    {
      "cell_type": "markdown",
      "metadata": {
        "id": "g7YuHKlOjjFJ",
        "colab_type": "text"
      },
      "source": [
        "# Training, Validation and Testing split\n",
        "1. 60/20/20 - RANDOM SPLIT\n",
        "2. 60/20/20 - SEQUENTIAL SPLIT\n",
        "3. 80/10/10 - RANDOM SPLIT\n",
        "4. 80/10/10 - SEQUENTIAL SPLIT"
      ]
    },
    {
      "cell_type": "code",
      "metadata": {
        "id": "dRKCls5yj2O_",
        "colab_type": "code",
        "colab": {}
      },
      "source": [
        "import pandas as pd\n",
        "import numpy as np\n"
      ],
      "execution_count": 2,
      "outputs": []
    },
    {
      "cell_type": "code",
      "metadata": {
        "id": "yrsSADHLj9Yd",
        "colab_type": "code",
        "colab": {
          "base_uri": "https://localhost:8080/",
          "height": 445
        },
        "outputId": "5614b791-7a2f-4521-ff09-b7c005bf3746"
      },
      "source": [
        "cleanedData = pd.read_parquet('drive/My Drive/fullCleansedDataBeforeSplit.gzip')\n",
        "cleanedData.info"
      ],
      "execution_count": 4,
      "outputs": [
        {
          "output_type": "execute_result",
          "data": {
            "text/plain": [
              "<bound method DataFrame.info of     UniqueId  ...  Count\n",
              "0     512489  ...  36739\n",
              "1     502591  ...  36739\n",
              "2     542338  ...  36739\n",
              "3     523956  ...  36739\n",
              "4     491930  ...  36739\n",
              "5     545280  ...  36735\n",
              "6     531629  ...  36738\n",
              "7     514955  ...  36737\n",
              "8     520167  ...  36737\n",
              "9     514641  ...  73476\n",
              "10    527296  ...  73476\n",
              "11    538473  ...  73477\n",
              "12    544451  ...  73477\n",
              "13    541879  ...  36739\n",
              "14    495333  ...  36738\n",
              "15    493659  ...  36738\n",
              "16    527567  ...  36736\n",
              "17    493424  ...  73243\n",
              "18    500449  ...  36739\n",
              "19    532389  ...  36739\n",
              "20    513190  ...  36739\n",
              "21    520018  ...  73478\n",
              "\n",
              "[22 rows x 4 columns]>"
            ]
          },
          "metadata": {
            "tags": []
          },
          "execution_count": 4
        }
      ]
    },
    {
      "cell_type": "markdown",
      "metadata": {
        "id": "5ukzRG5sjnXk",
        "colab_type": "text"
      },
      "source": [
        "# 1. 60/20/20 - RANDOM SPLIT"
      ]
    },
    {
      "cell_type": "code",
      "metadata": {
        "id": "yxE5ucNkja03",
        "colab_type": "code",
        "colab": {}
      },
      "source": [
        "training = []\n",
        "validation = []\n",
        "testing = []"
      ],
      "execution_count": 5,
      "outputs": []
    },
    {
      "cell_type": "code",
      "metadata": {
        "id": "VCV-FVnrjz2q",
        "colab_type": "code",
        "colab": {}
      },
      "source": [
        "#Taking random 60% values from each column for training data in random order\n",
        "\n",
        "for i in range(22): #Rows-\n",
        "  random60percentValues = []\n",
        "  for j in range(int(cleanedData['Count'].values[i]*0.6)): #60%\n",
        "    index = np.random.randint(0,cleanedData['Count'].values[i]) #Taking random index b/w range(0,count)\n",
        "    random60percentValues.append(cleanedData['Values'].values[i][index]) #pushing the random value to training dataset\n",
        "  row = {'UniqueId':cleanedData['UniqueId'].values[i], 'Values': random60percentValues, 'type':cleanedData['type'].values[i], 'count':int(cleanedData['Count'].values[i]*0.6)}\n",
        "  training.append(row)\n",
        "trainingData = pd.DataFrame(training, columns = ['UniqueId', 'Values', 'type', 'count']) \n"
      ],
      "execution_count": 8,
      "outputs": []
    },
    {
      "cell_type": "code",
      "metadata": {
        "id": "aM5vBznJkh8r",
        "colab_type": "code",
        "colab": {
          "base_uri": "https://localhost:8080/",
          "height": 201
        },
        "outputId": "2a66c960-8fb0-4fa1-8cfa-8eb771fb7782"
      },
      "source": [
        "trainingData.head()"
      ],
      "execution_count": 9,
      "outputs": [
        {
          "output_type": "execute_result",
          "data": {
            "text/html": [
              "<div>\n",
              "<style scoped>\n",
              "    .dataframe tbody tr th:only-of-type {\n",
              "        vertical-align: middle;\n",
              "    }\n",
              "\n",
              "    .dataframe tbody tr th {\n",
              "        vertical-align: top;\n",
              "    }\n",
              "\n",
              "    .dataframe thead th {\n",
              "        text-align: right;\n",
              "    }\n",
              "</style>\n",
              "<table border=\"1\" class=\"dataframe\">\n",
              "  <thead>\n",
              "    <tr style=\"text-align: right;\">\n",
              "      <th></th>\n",
              "      <th>UniqueId</th>\n",
              "      <th>Values</th>\n",
              "      <th>type</th>\n",
              "      <th>count</th>\n",
              "    </tr>\n",
              "  </thead>\n",
              "  <tbody>\n",
              "    <tr>\n",
              "      <th>0</th>\n",
              "      <td>512489</td>\n",
              "      <td>[ORG-100003597, ORG-100014859, ORG-100023031, ...</td>\n",
              "      <td>organisationID</td>\n",
              "      <td>22043</td>\n",
              "    </tr>\n",
              "    <tr>\n",
              "      <th>1</th>\n",
              "      <td>502591</td>\n",
              "      <td>[ORG-100021389, ORG-100011554, ORG-100007339, ...</td>\n",
              "      <td>identifierCode</td>\n",
              "      <td>22043</td>\n",
              "    </tr>\n",
              "    <tr>\n",
              "      <th>2</th>\n",
              "      <td>542338</td>\n",
              "      <td>[Type¦Type, Type¦Type, Type¦Type, Type¦Type, T...</td>\n",
              "      <td>categoryClassificationCodeSystemName</td>\n",
              "      <td>22043</td>\n",
              "    </tr>\n",
              "    <tr>\n",
              "      <th>3</th>\n",
              "      <td>523956</td>\n",
              "      <td>[200000000086¦200000000084, 200000000080¦20000...</td>\n",
              "      <td>categoryClassificationCode</td>\n",
              "      <td>22043</td>\n",
              "    </tr>\n",
              "    <tr>\n",
              "      <th>4</th>\n",
              "      <td>491930</td>\n",
              "      <td>[Health care¦Hospital/Clinic/Other health care...</td>\n",
              "      <td>categoryClassificationName</td>\n",
              "      <td>22043</td>\n",
              "    </tr>\n",
              "  </tbody>\n",
              "</table>\n",
              "</div>"
            ],
            "text/plain": [
              "   UniqueId  ...  count\n",
              "0    512489  ...  22043\n",
              "1    502591  ...  22043\n",
              "2    542338  ...  22043\n",
              "3    523956  ...  22043\n",
              "4    491930  ...  22043\n",
              "\n",
              "[5 rows x 4 columns]"
            ]
          },
          "metadata": {
            "tags": []
          },
          "execution_count": 9
        }
      ]
    },
    {
      "cell_type": "code",
      "metadata": {
        "id": "iS5v41ZSksA1",
        "colab_type": "code",
        "colab": {}
      },
      "source": [
        "#Taking random 20% values from each column for Validation data \n",
        "for i in range(22): #Rows-\n",
        "  random20percentValues = []\n",
        "  for j in range(int(cleanedData['Count'].values[i]*0.2)): #20%\n",
        "    index = np.random.randint(0,cleanedData['Count'].values[i]) #Taking random index b/w range(0,count)\n",
        "    random20percentValues.append(cleanedData['Values'].values[i][index]) #pushing the random value to validation array\n",
        "  row = {'UniqueId':cleanedData['UniqueId'].values[i], 'Values': random20percentValues, 'type':cleanedData['type'].values[i], 'count':int(cleanedData['Count'].values[i]*0.2)}\n",
        "  validation.append(row)\n",
        "validationData = pd.DataFrame(validation, columns = ['UniqueId', 'Values', 'type', 'count']) \n"
      ],
      "execution_count": 10,
      "outputs": []
    },
    {
      "cell_type": "code",
      "metadata": {
        "id": "GxQ_hFqukyl7",
        "colab_type": "code",
        "colab": {
          "base_uri": "https://localhost:8080/",
          "height": 201
        },
        "outputId": "862d63e8-c280-48bb-d96f-85e36005f601"
      },
      "source": [
        "validationData.head()"
      ],
      "execution_count": 11,
      "outputs": [
        {
          "output_type": "execute_result",
          "data": {
            "text/html": [
              "<div>\n",
              "<style scoped>\n",
              "    .dataframe tbody tr th:only-of-type {\n",
              "        vertical-align: middle;\n",
              "    }\n",
              "\n",
              "    .dataframe tbody tr th {\n",
              "        vertical-align: top;\n",
              "    }\n",
              "\n",
              "    .dataframe thead th {\n",
              "        text-align: right;\n",
              "    }\n",
              "</style>\n",
              "<table border=\"1\" class=\"dataframe\">\n",
              "  <thead>\n",
              "    <tr style=\"text-align: right;\">\n",
              "      <th></th>\n",
              "      <th>UniqueId</th>\n",
              "      <th>Values</th>\n",
              "      <th>type</th>\n",
              "      <th>count</th>\n",
              "    </tr>\n",
              "  </thead>\n",
              "  <tbody>\n",
              "    <tr>\n",
              "      <th>0</th>\n",
              "      <td>512489</td>\n",
              "      <td>[ORG-100006786, ORG-100012212, ORG-100015158, ...</td>\n",
              "      <td>organisationID</td>\n",
              "      <td>7347</td>\n",
              "    </tr>\n",
              "    <tr>\n",
              "      <th>1</th>\n",
              "      <td>502591</td>\n",
              "      <td>[ORG-100023880, ORG-100023464, ORG-100009331, ...</td>\n",
              "      <td>identifierCode</td>\n",
              "      <td>7347</td>\n",
              "    </tr>\n",
              "    <tr>\n",
              "      <th>2</th>\n",
              "      <td>542338</td>\n",
              "      <td>[Type¦Type, Type¦Type, Type¦Type, Type¦Type, T...</td>\n",
              "      <td>categoryClassificationCodeSystemName</td>\n",
              "      <td>7347</td>\n",
              "    </tr>\n",
              "    <tr>\n",
              "      <th>3</th>\n",
              "      <td>523956</td>\n",
              "      <td>[200000000081¦200000000080, 200000000081¦20000...</td>\n",
              "      <td>categoryClassificationCode</td>\n",
              "      <td>7347</td>\n",
              "    </tr>\n",
              "    <tr>\n",
              "      <th>4</th>\n",
              "      <td>491930</td>\n",
              "      <td>[Industry¦Pharmaceutical company, Industry¦Pha...</td>\n",
              "      <td>categoryClassificationName</td>\n",
              "      <td>7347</td>\n",
              "    </tr>\n",
              "  </tbody>\n",
              "</table>\n",
              "</div>"
            ],
            "text/plain": [
              "   UniqueId  ... count\n",
              "0    512489  ...  7347\n",
              "1    502591  ...  7347\n",
              "2    542338  ...  7347\n",
              "3    523956  ...  7347\n",
              "4    491930  ...  7347\n",
              "\n",
              "[5 rows x 4 columns]"
            ]
          },
          "metadata": {
            "tags": []
          },
          "execution_count": 11
        }
      ]
    },
    {
      "cell_type": "code",
      "metadata": {
        "id": "ufBRiKAuk4U-",
        "colab_type": "code",
        "colab": {}
      },
      "source": [
        "\n",
        "#Taking random 20% values from each column for Test data\n",
        "for i in range(22): #Rows-\n",
        "  random20percentValues = []\n",
        "  for j in range(int(cleanedData['Count'].values[i]*0.2)): #20%\n",
        "    index = np.random.randint(0,cleanedData['Count'].values[i]) #Taking random index b/w range(0,count)\n",
        "    random20percentValues.append(cleanedData['Values'].values[i][index]) #pushing the random value to testing array\n",
        "  row = {'UniqueId':cleanedData['UniqueId'].values[i], 'Values': random20percentValues, 'type':cleanedData['type'].values[i], 'count':int(cleanedData['Count'].values[i]*0.2)}\n",
        "  testing.append(row)\n",
        "testingData = pd.DataFrame(testing, columns = ['UniqueId', 'Values', 'type', 'count']) \n"
      ],
      "execution_count": 12,
      "outputs": []
    },
    {
      "cell_type": "code",
      "metadata": {
        "id": "h8bYVMBVk7I2",
        "colab_type": "code",
        "colab": {
          "base_uri": "https://localhost:8080/",
          "height": 201
        },
        "outputId": "d9ec2d15-fc85-4a8f-8ad9-f5cc750992ec"
      },
      "source": [
        "testingData.head()"
      ],
      "execution_count": 13,
      "outputs": [
        {
          "output_type": "execute_result",
          "data": {
            "text/html": [
              "<div>\n",
              "<style scoped>\n",
              "    .dataframe tbody tr th:only-of-type {\n",
              "        vertical-align: middle;\n",
              "    }\n",
              "\n",
              "    .dataframe tbody tr th {\n",
              "        vertical-align: top;\n",
              "    }\n",
              "\n",
              "    .dataframe thead th {\n",
              "        text-align: right;\n",
              "    }\n",
              "</style>\n",
              "<table border=\"1\" class=\"dataframe\">\n",
              "  <thead>\n",
              "    <tr style=\"text-align: right;\">\n",
              "      <th></th>\n",
              "      <th>UniqueId</th>\n",
              "      <th>Values</th>\n",
              "      <th>type</th>\n",
              "      <th>count</th>\n",
              "    </tr>\n",
              "  </thead>\n",
              "  <tbody>\n",
              "    <tr>\n",
              "      <th>0</th>\n",
              "      <td>512489</td>\n",
              "      <td>[ORG-100006801, ORG-100025558, ORG-100014481, ...</td>\n",
              "      <td>organisationID</td>\n",
              "      <td>7347</td>\n",
              "    </tr>\n",
              "    <tr>\n",
              "      <th>1</th>\n",
              "      <td>502591</td>\n",
              "      <td>[ORQ-100007809¦ORG-100014113, ORG-100003671, O...</td>\n",
              "      <td>identifierCode</td>\n",
              "      <td>7347</td>\n",
              "    </tr>\n",
              "    <tr>\n",
              "      <th>2</th>\n",
              "      <td>542338</td>\n",
              "      <td>[Type¦Type, Type¦Type, Type¦Type, Type¦Type, T...</td>\n",
              "      <td>categoryClassificationCodeSystemName</td>\n",
              "      <td>7347</td>\n",
              "    </tr>\n",
              "    <tr>\n",
              "      <th>3</th>\n",
              "      <td>523956</td>\n",
              "      <td>[200000000080¦200000000081, 200000000080¦20000...</td>\n",
              "      <td>categoryClassificationCode</td>\n",
              "      <td>7347</td>\n",
              "    </tr>\n",
              "    <tr>\n",
              "      <th>4</th>\n",
              "      <td>491930</td>\n",
              "      <td>[Industry¦Pharmaceutical company, Industry¦Pha...</td>\n",
              "      <td>categoryClassificationName</td>\n",
              "      <td>7347</td>\n",
              "    </tr>\n",
              "  </tbody>\n",
              "</table>\n",
              "</div>"
            ],
            "text/plain": [
              "   UniqueId  ... count\n",
              "0    512489  ...  7347\n",
              "1    502591  ...  7347\n",
              "2    542338  ...  7347\n",
              "3    523956  ...  7347\n",
              "4    491930  ...  7347\n",
              "\n",
              "[5 rows x 4 columns]"
            ]
          },
          "metadata": {
            "tags": []
          },
          "execution_count": 13
        }
      ]
    },
    {
      "cell_type": "code",
      "metadata": {
        "id": "I6oDI7ZmlOtm",
        "colab_type": "code",
        "colab": {}
      },
      "source": [
        "#SAVING TRAINING, VALIDATION AND TESTING DATA AS PARQUET FILE\n",
        "trainingData.to_parquet('drive/My Drive/training_raw_random_60.gzip',compression='gzip')\n",
        "validationData.to_parquet('drive/My Drive/validation_raw_random_20.gzip',compression='gzip')\n",
        "testingData.to_parquet('drive/My Drive/testing_raw_random_20.gzip',compression='gzip')"
      ],
      "execution_count": 14,
      "outputs": []
    },
    {
      "cell_type": "markdown",
      "metadata": {
        "id": "VnxgYk2DlrDS",
        "colab_type": "text"
      },
      "source": [
        "# 2. 60/20/20 - SEQUENTIAL SPLIT"
      ]
    },
    {
      "cell_type": "code",
      "metadata": {
        "id": "flOUaf3vl7B1",
        "colab_type": "code",
        "colab": {}
      },
      "source": [
        "#Initialize empty array\n",
        "training = []\n",
        "validation = []\n",
        "testing = []"
      ],
      "execution_count": 24,
      "outputs": []
    },
    {
      "cell_type": "code",
      "metadata": {
        "id": "nvnGGyWFm_9J",
        "colab_type": "code",
        "colab": {}
      },
      "source": [
        "#Taking first 60% values in each column for training \n",
        "for i in range(22):\n",
        "  start = 0\n",
        "  end = int(cleanedData['Count'].values[i]*0.6)\n",
        "  first60percent = cleanedData['Values'].values[i][start:end] #first 60% of values\n",
        "  row = {'UniqueId':cleanedData['UniqueId'].values[i], 'Values': first60percent, 'type':cleanedData['type'].values[i], 'count':int(cleanedData['Count'].values[i]*0.6)}\n",
        "  training.append(row)\n",
        "trainingData = pd.DataFrame(training, columns = ['UniqueId', 'Values', 'type', 'count']) "
      ],
      "execution_count": 25,
      "outputs": []
    },
    {
      "cell_type": "code",
      "metadata": {
        "id": "bfnJ5r18nptr",
        "colab_type": "code",
        "colab": {
          "base_uri": "https://localhost:8080/",
          "height": 201
        },
        "outputId": "1b51673f-a446-47c6-dc97-0fe1a3ca7f24"
      },
      "source": [
        "trainingData.head()"
      ],
      "execution_count": 26,
      "outputs": [
        {
          "output_type": "execute_result",
          "data": {
            "text/html": [
              "<div>\n",
              "<style scoped>\n",
              "    .dataframe tbody tr th:only-of-type {\n",
              "        vertical-align: middle;\n",
              "    }\n",
              "\n",
              "    .dataframe tbody tr th {\n",
              "        vertical-align: top;\n",
              "    }\n",
              "\n",
              "    .dataframe thead th {\n",
              "        text-align: right;\n",
              "    }\n",
              "</style>\n",
              "<table border=\"1\" class=\"dataframe\">\n",
              "  <thead>\n",
              "    <tr style=\"text-align: right;\">\n",
              "      <th></th>\n",
              "      <th>UniqueId</th>\n",
              "      <th>Values</th>\n",
              "      <th>type</th>\n",
              "      <th>count</th>\n",
              "    </tr>\n",
              "  </thead>\n",
              "  <tbody>\n",
              "    <tr>\n",
              "      <th>0</th>\n",
              "      <td>512489</td>\n",
              "      <td>[ORG-100003912, ORG-100003912, ORG-100003912, ...</td>\n",
              "      <td>organisationID</td>\n",
              "      <td>22043</td>\n",
              "    </tr>\n",
              "    <tr>\n",
              "      <th>1</th>\n",
              "      <td>502591</td>\n",
              "      <td>[ORG-100012803¦ORG-100003912, ORG-100012803¦OR...</td>\n",
              "      <td>identifierCode</td>\n",
              "      <td>22043</td>\n",
              "    </tr>\n",
              "    <tr>\n",
              "      <th>2</th>\n",
              "      <td>542338</td>\n",
              "      <td>[Type¦Type, Type¦Type, Type¦Type, Type¦Type, T...</td>\n",
              "      <td>categoryClassificationCodeSystemName</td>\n",
              "      <td>22043</td>\n",
              "    </tr>\n",
              "    <tr>\n",
              "      <th>3</th>\n",
              "      <td>523956</td>\n",
              "      <td>[200000000088¦200000000084, 200000000088¦20000...</td>\n",
              "      <td>categoryClassificationCode</td>\n",
              "      <td>22043</td>\n",
              "    </tr>\n",
              "    <tr>\n",
              "      <th>4</th>\n",
              "      <td>491930</td>\n",
              "      <td>[EEA National Competent authority¦Regulatory A...</td>\n",
              "      <td>categoryClassificationName</td>\n",
              "      <td>22043</td>\n",
              "    </tr>\n",
              "  </tbody>\n",
              "</table>\n",
              "</div>"
            ],
            "text/plain": [
              "   UniqueId  ...  count\n",
              "0    512489  ...  22043\n",
              "1    502591  ...  22043\n",
              "2    542338  ...  22043\n",
              "3    523956  ...  22043\n",
              "4    491930  ...  22043\n",
              "\n",
              "[5 rows x 4 columns]"
            ]
          },
          "metadata": {
            "tags": []
          },
          "execution_count": 26
        }
      ]
    },
    {
      "cell_type": "code",
      "metadata": {
        "id": "Aw55NhGMqin8",
        "colab_type": "code",
        "colab": {}
      },
      "source": [
        "validation=[]"
      ],
      "execution_count": 41,
      "outputs": []
    },
    {
      "cell_type": "code",
      "metadata": {
        "id": "k7Vl3nzBl_W-",
        "colab_type": "code",
        "colab": {}
      },
      "source": [
        "#Taking next 20% values in each column for validation \n",
        "for i in range(22):\n",
        "  start = int(cleanedData['Count'].values[i]*0.6)\n",
        "  twentypercent = int(cleanedData['Count'].values[i]*0.2)\n",
        "  end = start + twentypercent\n",
        "  next20percent = cleanedData['Values'].values[i][start:end] #next 20% of values\n",
        "  count = end - start\n",
        "  row = {'UniqueId':cleanedData['UniqueId'].values[i], 'Values': next20percent, 'type': cleanedData['type'].values[i], 'count':count}\n",
        "  validation.append(row)\n",
        "validationData = pd.DataFrame(validation, columns = ['UniqueId', 'Values', 'type', 'count']) "
      ],
      "execution_count": null,
      "outputs": []
    },
    {
      "cell_type": "code",
      "metadata": {
        "id": "odd8d0lZofoU",
        "colab_type": "code",
        "colab": {
          "base_uri": "https://localhost:8080/",
          "height": 201
        },
        "outputId": "d2aebaec-96b0-426b-e2b2-456ec5aaedf1"
      },
      "source": [
        "validationData.head()"
      ],
      "execution_count": 43,
      "outputs": [
        {
          "output_type": "execute_result",
          "data": {
            "text/html": [
              "<div>\n",
              "<style scoped>\n",
              "    .dataframe tbody tr th:only-of-type {\n",
              "        vertical-align: middle;\n",
              "    }\n",
              "\n",
              "    .dataframe tbody tr th {\n",
              "        vertical-align: top;\n",
              "    }\n",
              "\n",
              "    .dataframe thead th {\n",
              "        text-align: right;\n",
              "    }\n",
              "</style>\n",
              "<table border=\"1\" class=\"dataframe\">\n",
              "  <thead>\n",
              "    <tr style=\"text-align: right;\">\n",
              "      <th></th>\n",
              "      <th>UniqueId</th>\n",
              "      <th>Values</th>\n",
              "      <th>type</th>\n",
              "      <th>count</th>\n",
              "    </tr>\n",
              "  </thead>\n",
              "  <tbody>\n",
              "    <tr>\n",
              "      <th>0</th>\n",
              "      <td>512489</td>\n",
              "      <td>[ORG-100016024, ORG-100016026, ORG-100016024, ...</td>\n",
              "      <td>organisationID</td>\n",
              "      <td>7347</td>\n",
              "    </tr>\n",
              "    <tr>\n",
              "      <th>1</th>\n",
              "      <td>502591</td>\n",
              "      <td>[ORG-100016024, ORG-100016026, ORG-100016024, ...</td>\n",
              "      <td>identifierCode</td>\n",
              "      <td>7347</td>\n",
              "    </tr>\n",
              "    <tr>\n",
              "      <th>2</th>\n",
              "      <td>542338</td>\n",
              "      <td>[Type¦Type, Type¦Type, Type¦Type, Type¦Type, T...</td>\n",
              "      <td>categoryClassificationCodeSystemName</td>\n",
              "      <td>7347</td>\n",
              "    </tr>\n",
              "    <tr>\n",
              "      <th>3</th>\n",
              "      <td>523956</td>\n",
              "      <td>[200000000076¦200000000078, 200000000080¦20000...</td>\n",
              "      <td>categoryClassificationCode</td>\n",
              "      <td>7347</td>\n",
              "    </tr>\n",
              "    <tr>\n",
              "      <th>4</th>\n",
              "      <td>491930</td>\n",
              "      <td>[Health care¦Hospital/Clinic/Other health care...</td>\n",
              "      <td>categoryClassificationName</td>\n",
              "      <td>7347</td>\n",
              "    </tr>\n",
              "  </tbody>\n",
              "</table>\n",
              "</div>"
            ],
            "text/plain": [
              "   UniqueId  ... count\n",
              "0    512489  ...  7347\n",
              "1    502591  ...  7347\n",
              "2    542338  ...  7347\n",
              "3    523956  ...  7347\n",
              "4    491930  ...  7347\n",
              "\n",
              "[5 rows x 4 columns]"
            ]
          },
          "metadata": {
            "tags": []
          },
          "execution_count": 43
        }
      ]
    },
    {
      "cell_type": "code",
      "metadata": {
        "id": "ITGFWnOCq3Za",
        "colab_type": "code",
        "colab": {}
      },
      "source": [
        "#Taking remaining 20% values in each column for testing \n",
        "for i in range(22):\n",
        "  twentypercent = int(cleanedData['Count'].values[i]*0.2)\n",
        "  last20percent = cleanedData['Values'].values[i][-twentypercent:] #last 20% of values\n",
        "  row = {'UniqueId':cleanedData['UniqueId'].values[i], 'Values': last20percent, 'type': cleanedData['type'].values[i], 'count':twentypercent}\n",
        "  testing.append(row)\n",
        "testingData = pd.DataFrame(testing, columns = ['UniqueId', 'Values', 'type', 'count']) "
      ],
      "execution_count": 44,
      "outputs": []
    },
    {
      "cell_type": "code",
      "metadata": {
        "id": "zOUXvs2erg8y",
        "colab_type": "code",
        "colab": {
          "base_uri": "https://localhost:8080/",
          "height": 201
        },
        "outputId": "ff44c413-8461-458d-a67c-ba863276b674"
      },
      "source": [
        "testingData.head()"
      ],
      "execution_count": 45,
      "outputs": [
        {
          "output_type": "execute_result",
          "data": {
            "text/html": [
              "<div>\n",
              "<style scoped>\n",
              "    .dataframe tbody tr th:only-of-type {\n",
              "        vertical-align: middle;\n",
              "    }\n",
              "\n",
              "    .dataframe tbody tr th {\n",
              "        vertical-align: top;\n",
              "    }\n",
              "\n",
              "    .dataframe thead th {\n",
              "        text-align: right;\n",
              "    }\n",
              "</style>\n",
              "<table border=\"1\" class=\"dataframe\">\n",
              "  <thead>\n",
              "    <tr style=\"text-align: right;\">\n",
              "      <th></th>\n",
              "      <th>UniqueId</th>\n",
              "      <th>Values</th>\n",
              "      <th>type</th>\n",
              "      <th>count</th>\n",
              "    </tr>\n",
              "  </thead>\n",
              "  <tbody>\n",
              "    <tr>\n",
              "      <th>0</th>\n",
              "      <td>512489</td>\n",
              "      <td>[ORG-100023259, ORG-100018625, ORG-100020267, ...</td>\n",
              "      <td>organisationID</td>\n",
              "      <td>7347</td>\n",
              "    </tr>\n",
              "    <tr>\n",
              "      <th>1</th>\n",
              "      <td>502591</td>\n",
              "      <td>[ORQ-100011895¦ORG-100023259, ORG-100018625, O...</td>\n",
              "      <td>identifierCode</td>\n",
              "      <td>7347</td>\n",
              "    </tr>\n",
              "    <tr>\n",
              "      <th>2</th>\n",
              "      <td>542338</td>\n",
              "      <td>[Type¦Type, Type¦Type, Type¦Type, Type¦Type, T...</td>\n",
              "      <td>categoryClassificationCodeSystemName</td>\n",
              "      <td>7347</td>\n",
              "    </tr>\n",
              "    <tr>\n",
              "      <th>3</th>\n",
              "      <td>523956</td>\n",
              "      <td>[200000000080¦200000000081, 200000000080¦20000...</td>\n",
              "      <td>categoryClassificationCode</td>\n",
              "      <td>7347</td>\n",
              "    </tr>\n",
              "    <tr>\n",
              "      <th>4</th>\n",
              "      <td>491930</td>\n",
              "      <td>[Industry¦Pharmaceutical company, Industry¦Pha...</td>\n",
              "      <td>categoryClassificationName</td>\n",
              "      <td>7347</td>\n",
              "    </tr>\n",
              "  </tbody>\n",
              "</table>\n",
              "</div>"
            ],
            "text/plain": [
              "   UniqueId  ... count\n",
              "0    512489  ...  7347\n",
              "1    502591  ...  7347\n",
              "2    542338  ...  7347\n",
              "3    523956  ...  7347\n",
              "4    491930  ...  7347\n",
              "\n",
              "[5 rows x 4 columns]"
            ]
          },
          "metadata": {
            "tags": []
          },
          "execution_count": 45
        }
      ]
    },
    {
      "cell_type": "code",
      "metadata": {
        "id": "qXGAtwOIsaHd",
        "colab_type": "code",
        "colab": {}
      },
      "source": [
        "#SAVING TRAINING, VALIDATION AND TESTING DATA AS PARQUET FILE\n",
        "trainingData.to_parquet('drive/My Drive/training_raw_sequential_60.gzip',compression='gzip')\n",
        "validationData.to_parquet('drive/My Drive/validation_raw_sequential_20.gzip',compression='gzip')\n",
        "testingData.to_parquet('drive/My Drive/testing_raw_sequential_20.gzip',compression='gzip')"
      ],
      "execution_count": 53,
      "outputs": []
    },
    {
      "cell_type": "markdown",
      "metadata": {
        "id": "wp6tSc6osvzA",
        "colab_type": "text"
      },
      "source": [
        "# 3. 80/10/10  - RANDOM SPLIT"
      ]
    },
    {
      "cell_type": "code",
      "metadata": {
        "id": "dMeJU4V4tB50",
        "colab_type": "code",
        "colab": {}
      },
      "source": [
        "training = []\n",
        "validation = []\n",
        "testing = []"
      ],
      "execution_count": 54,
      "outputs": []
    },
    {
      "cell_type": "code",
      "metadata": {
        "id": "N0ShW3GXs5zn",
        "colab_type": "code",
        "colab": {}
      },
      "source": [
        "#Taking random 80% values from each column for training data in random order\n",
        "\n",
        "for i in range(22): #Rows-\n",
        "  random60percentValues = []\n",
        "  for j in range(int(cleanedData['Count'].values[i]*0.8)): #80%\n",
        "    index = np.random.randint(0,cleanedData['Count'].values[i]) #Taking random index b/w range(0,count)\n",
        "    random60percentValues.append(cleanedData['Values'].values[i][index]) #pushing the random value to training dataset\n",
        "  row = {'UniqueId':cleanedData['UniqueId'].values[i], 'Values': random60percentValues, 'type':cleanedData['type'].values[i], 'count':int(cleanedData['Count'].values[i]*0.8)}\n",
        "  training.append(row)\n",
        "trainingData = pd.DataFrame(training, columns = ['UniqueId', 'Values', 'type', 'count']) \n"
      ],
      "execution_count": 55,
      "outputs": []
    },
    {
      "cell_type": "code",
      "metadata": {
        "id": "p9AN5nURtL2I",
        "colab_type": "code",
        "colab": {
          "base_uri": "https://localhost:8080/",
          "height": 201
        },
        "outputId": "b91f0d01-88bd-4d45-e30b-ab69f30f3e2d"
      },
      "source": [
        "trainingData.head()"
      ],
      "execution_count": 56,
      "outputs": [
        {
          "output_type": "execute_result",
          "data": {
            "text/html": [
              "<div>\n",
              "<style scoped>\n",
              "    .dataframe tbody tr th:only-of-type {\n",
              "        vertical-align: middle;\n",
              "    }\n",
              "\n",
              "    .dataframe tbody tr th {\n",
              "        vertical-align: top;\n",
              "    }\n",
              "\n",
              "    .dataframe thead th {\n",
              "        text-align: right;\n",
              "    }\n",
              "</style>\n",
              "<table border=\"1\" class=\"dataframe\">\n",
              "  <thead>\n",
              "    <tr style=\"text-align: right;\">\n",
              "      <th></th>\n",
              "      <th>UniqueId</th>\n",
              "      <th>Values</th>\n",
              "      <th>type</th>\n",
              "      <th>count</th>\n",
              "    </tr>\n",
              "  </thead>\n",
              "  <tbody>\n",
              "    <tr>\n",
              "      <th>0</th>\n",
              "      <td>512489</td>\n",
              "      <td>[ORG-100002067, ORG-100008416, ORG-100022351, ...</td>\n",
              "      <td>organisationID</td>\n",
              "      <td>29391</td>\n",
              "    </tr>\n",
              "    <tr>\n",
              "      <th>1</th>\n",
              "      <td>502591</td>\n",
              "      <td>[ORG-100000211, ORG-100012215, ORG-100018073, ...</td>\n",
              "      <td>identifierCode</td>\n",
              "      <td>29391</td>\n",
              "    </tr>\n",
              "    <tr>\n",
              "      <th>2</th>\n",
              "      <td>542338</td>\n",
              "      <td>[Type¦Type, Type¦Type, Type¦Type, Type¦Type, T...</td>\n",
              "      <td>categoryClassificationCodeSystemName</td>\n",
              "      <td>29391</td>\n",
              "    </tr>\n",
              "    <tr>\n",
              "      <th>3</th>\n",
              "      <td>523956</td>\n",
              "      <td>[200000000080¦200000000081, 200000000080¦20000...</td>\n",
              "      <td>categoryClassificationCode</td>\n",
              "      <td>29391</td>\n",
              "    </tr>\n",
              "    <tr>\n",
              "      <th>4</th>\n",
              "      <td>491930</td>\n",
              "      <td>[Industry¦Pharmaceutical company, Health care¦...</td>\n",
              "      <td>categoryClassificationName</td>\n",
              "      <td>29391</td>\n",
              "    </tr>\n",
              "  </tbody>\n",
              "</table>\n",
              "</div>"
            ],
            "text/plain": [
              "   UniqueId  ...  count\n",
              "0    512489  ...  29391\n",
              "1    502591  ...  29391\n",
              "2    542338  ...  29391\n",
              "3    523956  ...  29391\n",
              "4    491930  ...  29391\n",
              "\n",
              "[5 rows x 4 columns]"
            ]
          },
          "metadata": {
            "tags": []
          },
          "execution_count": 56
        }
      ]
    },
    {
      "cell_type": "code",
      "metadata": {
        "id": "BRONAJNvtX6l",
        "colab_type": "code",
        "colab": {}
      },
      "source": [
        "#Taking random 20% values from each column for Validation data \n",
        "for i in range(22): #Rows-\n",
        "  random10percentValues = []\n",
        "  for j in range(int(cleanedData['Count'].values[i]*0.1)): #10%\n",
        "    index = np.random.randint(0,cleanedData['Count'].values[i]) #Taking random index b/w range(0,count)\n",
        "    random10percentValues.append(cleanedData['Values'].values[i][index]) #pushing the random value to validation array\n",
        "  row = {'UniqueId':cleanedData['UniqueId'].values[i], 'Values': random10percentValues, 'type':cleanedData['type'].values[i], 'count':int(cleanedData['Count'].values[i]*0.1)}\n",
        "  validation.append(row)\n",
        "validationData = pd.DataFrame(validation, columns = ['UniqueId', 'Values', 'type', 'count']) \n"
      ],
      "execution_count": 59,
      "outputs": []
    },
    {
      "cell_type": "code",
      "metadata": {
        "id": "Gm8Ps3MFtnQQ",
        "colab_type": "code",
        "colab": {
          "base_uri": "https://localhost:8080/",
          "height": 201
        },
        "outputId": "c5045002-126a-45bb-8cd2-c2e0e2fd6ae0"
      },
      "source": [
        "validationData.head()"
      ],
      "execution_count": 60,
      "outputs": [
        {
          "output_type": "execute_result",
          "data": {
            "text/html": [
              "<div>\n",
              "<style scoped>\n",
              "    .dataframe tbody tr th:only-of-type {\n",
              "        vertical-align: middle;\n",
              "    }\n",
              "\n",
              "    .dataframe tbody tr th {\n",
              "        vertical-align: top;\n",
              "    }\n",
              "\n",
              "    .dataframe thead th {\n",
              "        text-align: right;\n",
              "    }\n",
              "</style>\n",
              "<table border=\"1\" class=\"dataframe\">\n",
              "  <thead>\n",
              "    <tr style=\"text-align: right;\">\n",
              "      <th></th>\n",
              "      <th>UniqueId</th>\n",
              "      <th>Values</th>\n",
              "      <th>type</th>\n",
              "      <th>count</th>\n",
              "    </tr>\n",
              "  </thead>\n",
              "  <tbody>\n",
              "    <tr>\n",
              "      <th>0</th>\n",
              "      <td>512489</td>\n",
              "      <td>[ORG-100015334, ORG-100001234, ORG-100003446, ...</td>\n",
              "      <td>organisationID</td>\n",
              "      <td>3673</td>\n",
              "    </tr>\n",
              "    <tr>\n",
              "      <th>1</th>\n",
              "      <td>502591</td>\n",
              "      <td>[ORG-100008651, ORG-100000124¦ORG-100003767, O...</td>\n",
              "      <td>identifierCode</td>\n",
              "      <td>3673</td>\n",
              "    </tr>\n",
              "    <tr>\n",
              "      <th>2</th>\n",
              "      <td>542338</td>\n",
              "      <td>[Type¦Type, Type¦Type, Type¦Type, Type¦Type, T...</td>\n",
              "      <td>categoryClassificationCodeSystemName</td>\n",
              "      <td>3673</td>\n",
              "    </tr>\n",
              "    <tr>\n",
              "      <th>3</th>\n",
              "      <td>523956</td>\n",
              "      <td>[200000000076¦200000000078, 200000000080¦20000...</td>\n",
              "      <td>categoryClassificationCode</td>\n",
              "      <td>3673</td>\n",
              "    </tr>\n",
              "    <tr>\n",
              "      <th>4</th>\n",
              "      <td>491930</td>\n",
              "      <td>[Industry¦Pharmaceutical company, Industry¦Pha...</td>\n",
              "      <td>categoryClassificationName</td>\n",
              "      <td>3673</td>\n",
              "    </tr>\n",
              "  </tbody>\n",
              "</table>\n",
              "</div>"
            ],
            "text/plain": [
              "   UniqueId  ... count\n",
              "0    512489  ...  3673\n",
              "1    502591  ...  3673\n",
              "2    542338  ...  3673\n",
              "3    523956  ...  3673\n",
              "4    491930  ...  3673\n",
              "\n",
              "[5 rows x 4 columns]"
            ]
          },
          "metadata": {
            "tags": []
          },
          "execution_count": 60
        }
      ]
    },
    {
      "cell_type": "code",
      "metadata": {
        "id": "CVHsFEbnt4-W",
        "colab_type": "code",
        "colab": {}
      },
      "source": [
        "\n",
        "#Taking random 10% values from each column for Test data\n",
        "for i in range(22): #Rows-\n",
        "  random10percentValues = []\n",
        "  for j in range(int(cleanedData['Count'].values[i]*0.1)): #10%\n",
        "    index = np.random.randint(0,cleanedData['Count'].values[i]) #Taking random index b/w range(0,count)\n",
        "    random10percentValues.append(cleanedData['Values'].values[i][index]) #pushing the random value to testing array\n",
        "  row = {'UniqueId':cleanedData['UniqueId'].values[i], 'Values': random10percentValues, 'type':cleanedData['type'].values[i], 'count':int(cleanedData['Count'].values[i]*0.1)}\n",
        "  testing.append(row)\n",
        "testingData = pd.DataFrame(testing, columns = ['UniqueId', 'Values', 'type', 'count']) \n"
      ],
      "execution_count": 62,
      "outputs": []
    },
    {
      "cell_type": "code",
      "metadata": {
        "id": "AloROfFTuCXr",
        "colab_type": "code",
        "colab": {
          "base_uri": "https://localhost:8080/",
          "height": 201
        },
        "outputId": "14c59868-8357-411c-85e4-3f7f12e05e5e"
      },
      "source": [
        "testingData.head()"
      ],
      "execution_count": 63,
      "outputs": [
        {
          "output_type": "execute_result",
          "data": {
            "text/html": [
              "<div>\n",
              "<style scoped>\n",
              "    .dataframe tbody tr th:only-of-type {\n",
              "        vertical-align: middle;\n",
              "    }\n",
              "\n",
              "    .dataframe tbody tr th {\n",
              "        vertical-align: top;\n",
              "    }\n",
              "\n",
              "    .dataframe thead th {\n",
              "        text-align: right;\n",
              "    }\n",
              "</style>\n",
              "<table border=\"1\" class=\"dataframe\">\n",
              "  <thead>\n",
              "    <tr style=\"text-align: right;\">\n",
              "      <th></th>\n",
              "      <th>UniqueId</th>\n",
              "      <th>Values</th>\n",
              "      <th>type</th>\n",
              "      <th>count</th>\n",
              "    </tr>\n",
              "  </thead>\n",
              "  <tbody>\n",
              "    <tr>\n",
              "      <th>0</th>\n",
              "      <td>512489</td>\n",
              "      <td>[ORG-100006631, ORG-100005029, ORG-100007750, ...</td>\n",
              "      <td>organisationID</td>\n",
              "      <td>3673</td>\n",
              "    </tr>\n",
              "    <tr>\n",
              "      <th>1</th>\n",
              "      <td>502591</td>\n",
              "      <td>[ORG-100023157, ORG-100018248, ORG-100012496, ...</td>\n",
              "      <td>identifierCode</td>\n",
              "      <td>3673</td>\n",
              "    </tr>\n",
              "    <tr>\n",
              "      <th>2</th>\n",
              "      <td>542338</td>\n",
              "      <td>[Type¦Type, Type¦Type, Type¦Type, Type¦Type, T...</td>\n",
              "      <td>categoryClassificationCodeSystemName</td>\n",
              "      <td>3673</td>\n",
              "    </tr>\n",
              "    <tr>\n",
              "      <th>3</th>\n",
              "      <td>523956</td>\n",
              "      <td>[200000000081¦200000000080, 200000000080¦20000...</td>\n",
              "      <td>categoryClassificationCode</td>\n",
              "      <td>3673</td>\n",
              "    </tr>\n",
              "    <tr>\n",
              "      <th>4</th>\n",
              "      <td>491930</td>\n",
              "      <td>[Industry¦Pharmaceutical company, Health care¦...</td>\n",
              "      <td>categoryClassificationName</td>\n",
              "      <td>3673</td>\n",
              "    </tr>\n",
              "  </tbody>\n",
              "</table>\n",
              "</div>"
            ],
            "text/plain": [
              "   UniqueId  ... count\n",
              "0    512489  ...  3673\n",
              "1    502591  ...  3673\n",
              "2    542338  ...  3673\n",
              "3    523956  ...  3673\n",
              "4    491930  ...  3673\n",
              "\n",
              "[5 rows x 4 columns]"
            ]
          },
          "metadata": {
            "tags": []
          },
          "execution_count": 63
        }
      ]
    },
    {
      "cell_type": "code",
      "metadata": {
        "id": "qLAVocmWuF6i",
        "colab_type": "code",
        "colab": {}
      },
      "source": [
        "#SAVING TRAINING, VALIDATION AND TESTING DATA AS PARQUET FILE\n",
        "trainingData.to_parquet('drive/My Drive/training_raw_random_80.gzip',compression='gzip')\n",
        "validationData.to_parquet('drive/My Drive/validation_raw_random_10.gzip',compression='gzip')\n",
        "testingData.to_parquet('drive/My Drive/testing_raw_random_10.gzip',compression='gzip')"
      ],
      "execution_count": 64,
      "outputs": []
    },
    {
      "cell_type": "markdown",
      "metadata": {
        "id": "ku8LLi6iucRv",
        "colab_type": "text"
      },
      "source": [
        "# 4. 80/10/10 - SEQUENTIAL SPLIT"
      ]
    },
    {
      "cell_type": "code",
      "metadata": {
        "id": "efHA3H-Zubbi",
        "colab_type": "code",
        "colab": {}
      },
      "source": [
        "#Initialize empty array\n",
        "training = []\n",
        "validation = []\n",
        "testing = []"
      ],
      "execution_count": 65,
      "outputs": []
    },
    {
      "cell_type": "code",
      "metadata": {
        "id": "z4aXeLqvuuZg",
        "colab_type": "code",
        "colab": {}
      },
      "source": [
        "#Taking first 80% values in each column for training \n",
        "for i in range(22):\n",
        "  start = 0\n",
        "  end = int(cleanedData['Count'].values[i]*0.8)\n",
        "  first80percent = cleanedData['Values'].values[i][start:end] #first 80% of values\n",
        "  row = {'UniqueId':cleanedData['UniqueId'].values[i], 'Values': first80percent, 'type':cleanedData['type'].values[i], 'count':int(cleanedData['Count'].values[i]*0.8)}\n",
        "  training.append(row)\n",
        "trainingData = pd.DataFrame(training, columns = ['UniqueId', 'Values', 'type', 'count']) "
      ],
      "execution_count": 66,
      "outputs": []
    },
    {
      "cell_type": "code",
      "metadata": {
        "id": "bv9wZvlRu1Qi",
        "colab_type": "code",
        "colab": {
          "base_uri": "https://localhost:8080/",
          "height": 201
        },
        "outputId": "45a79419-a7b8-4c70-b306-307e42f552f8"
      },
      "source": [
        "trainingData.head()"
      ],
      "execution_count": 67,
      "outputs": [
        {
          "output_type": "execute_result",
          "data": {
            "text/html": [
              "<div>\n",
              "<style scoped>\n",
              "    .dataframe tbody tr th:only-of-type {\n",
              "        vertical-align: middle;\n",
              "    }\n",
              "\n",
              "    .dataframe tbody tr th {\n",
              "        vertical-align: top;\n",
              "    }\n",
              "\n",
              "    .dataframe thead th {\n",
              "        text-align: right;\n",
              "    }\n",
              "</style>\n",
              "<table border=\"1\" class=\"dataframe\">\n",
              "  <thead>\n",
              "    <tr style=\"text-align: right;\">\n",
              "      <th></th>\n",
              "      <th>UniqueId</th>\n",
              "      <th>Values</th>\n",
              "      <th>type</th>\n",
              "      <th>count</th>\n",
              "    </tr>\n",
              "  </thead>\n",
              "  <tbody>\n",
              "    <tr>\n",
              "      <th>0</th>\n",
              "      <td>512489</td>\n",
              "      <td>[ORG-100003912, ORG-100003912, ORG-100003912, ...</td>\n",
              "      <td>organisationID</td>\n",
              "      <td>29391</td>\n",
              "    </tr>\n",
              "    <tr>\n",
              "      <th>1</th>\n",
              "      <td>502591</td>\n",
              "      <td>[ORG-100012803¦ORG-100003912, ORG-100012803¦OR...</td>\n",
              "      <td>identifierCode</td>\n",
              "      <td>29391</td>\n",
              "    </tr>\n",
              "    <tr>\n",
              "      <th>2</th>\n",
              "      <td>542338</td>\n",
              "      <td>[Type¦Type, Type¦Type, Type¦Type, Type¦Type, T...</td>\n",
              "      <td>categoryClassificationCodeSystemName</td>\n",
              "      <td>29391</td>\n",
              "    </tr>\n",
              "    <tr>\n",
              "      <th>3</th>\n",
              "      <td>523956</td>\n",
              "      <td>[200000000088¦200000000084, 200000000088¦20000...</td>\n",
              "      <td>categoryClassificationCode</td>\n",
              "      <td>29391</td>\n",
              "    </tr>\n",
              "    <tr>\n",
              "      <th>4</th>\n",
              "      <td>491930</td>\n",
              "      <td>[EEA National Competent authority¦Regulatory A...</td>\n",
              "      <td>categoryClassificationName</td>\n",
              "      <td>29391</td>\n",
              "    </tr>\n",
              "  </tbody>\n",
              "</table>\n",
              "</div>"
            ],
            "text/plain": [
              "   UniqueId  ...  count\n",
              "0    512489  ...  29391\n",
              "1    502591  ...  29391\n",
              "2    542338  ...  29391\n",
              "3    523956  ...  29391\n",
              "4    491930  ...  29391\n",
              "\n",
              "[5 rows x 4 columns]"
            ]
          },
          "metadata": {
            "tags": []
          },
          "execution_count": 67
        }
      ]
    },
    {
      "cell_type": "code",
      "metadata": {
        "id": "CryM7P8nu60N",
        "colab_type": "code",
        "colab": {}
      },
      "source": [
        "#Taking next 10% values in each column for validation \n",
        "for i in range(22):\n",
        "  start = int(cleanedData['Count'].values[i]*0.8)\n",
        "  tenpercent = int(cleanedData['Count'].values[i]*0.1)\n",
        "  end = start + tenpercent\n",
        "  next10percent = cleanedData['Values'].values[i][start:end] #next 10% of values\n",
        "  count = end - start\n",
        "  row = {'UniqueId':cleanedData['UniqueId'].values[i], 'Values': next10percent, 'type': cleanedData['type'].values[i], 'count':count}\n",
        "  validation.append(row)\n",
        "validationData = pd.DataFrame(validation, columns = ['UniqueId', 'Values', 'type', 'count']) "
      ],
      "execution_count": 68,
      "outputs": []
    },
    {
      "cell_type": "code",
      "metadata": {
        "id": "KFobdA6ivQWg",
        "colab_type": "code",
        "colab": {
          "base_uri": "https://localhost:8080/",
          "height": 201
        },
        "outputId": "69bfeecf-1194-46c3-e19b-0f88f688a6c2"
      },
      "source": [
        "validationData.head()"
      ],
      "execution_count": 69,
      "outputs": [
        {
          "output_type": "execute_result",
          "data": {
            "text/html": [
              "<div>\n",
              "<style scoped>\n",
              "    .dataframe tbody tr th:only-of-type {\n",
              "        vertical-align: middle;\n",
              "    }\n",
              "\n",
              "    .dataframe tbody tr th {\n",
              "        vertical-align: top;\n",
              "    }\n",
              "\n",
              "    .dataframe thead th {\n",
              "        text-align: right;\n",
              "    }\n",
              "</style>\n",
              "<table border=\"1\" class=\"dataframe\">\n",
              "  <thead>\n",
              "    <tr style=\"text-align: right;\">\n",
              "      <th></th>\n",
              "      <th>UniqueId</th>\n",
              "      <th>Values</th>\n",
              "      <th>type</th>\n",
              "      <th>count</th>\n",
              "    </tr>\n",
              "  </thead>\n",
              "  <tbody>\n",
              "    <tr>\n",
              "      <th>0</th>\n",
              "      <td>512489</td>\n",
              "      <td>[ORG-100021177, ORG-100023259, ORG-100018625, ...</td>\n",
              "      <td>organisationID</td>\n",
              "      <td>3673</td>\n",
              "    </tr>\n",
              "    <tr>\n",
              "      <th>1</th>\n",
              "      <td>502591</td>\n",
              "      <td>[ORG-100021177, ORQ-100011895¦ORG-100023259, O...</td>\n",
              "      <td>identifierCode</td>\n",
              "      <td>3673</td>\n",
              "    </tr>\n",
              "    <tr>\n",
              "      <th>2</th>\n",
              "      <td>542338</td>\n",
              "      <td>[Type¦Type, Type¦Type, Type¦Type, Type¦Type, T...</td>\n",
              "      <td>categoryClassificationCodeSystemName</td>\n",
              "      <td>3673</td>\n",
              "    </tr>\n",
              "    <tr>\n",
              "      <th>3</th>\n",
              "      <td>523956</td>\n",
              "      <td>[200000000076¦200000000078, 200000000080¦20000...</td>\n",
              "      <td>categoryClassificationCode</td>\n",
              "      <td>3673</td>\n",
              "    </tr>\n",
              "    <tr>\n",
              "      <th>4</th>\n",
              "      <td>491930</td>\n",
              "      <td>[Health care¦Hospital/Clinic/Other health care...</td>\n",
              "      <td>categoryClassificationName</td>\n",
              "      <td>3673</td>\n",
              "    </tr>\n",
              "  </tbody>\n",
              "</table>\n",
              "</div>"
            ],
            "text/plain": [
              "   UniqueId  ... count\n",
              "0    512489  ...  3673\n",
              "1    502591  ...  3673\n",
              "2    542338  ...  3673\n",
              "3    523956  ...  3673\n",
              "4    491930  ...  3673\n",
              "\n",
              "[5 rows x 4 columns]"
            ]
          },
          "metadata": {
            "tags": []
          },
          "execution_count": 69
        }
      ]
    },
    {
      "cell_type": "code",
      "metadata": {
        "id": "62ZY57znvae2",
        "colab_type": "code",
        "colab": {}
      },
      "source": [
        "#Taking remaining 10% values in each column for testing \n",
        "for i in range(22):\n",
        "  tenpercent = int(cleanedData['Count'].values[i]*0.1)\n",
        "  last10percent = cleanedData['Values'].values[i][-tenpercent:] #last 10% of values\n",
        "  row = {'UniqueId':cleanedData['UniqueId'].values[i], 'Values': last10percent, 'type': cleanedData['type'].values[i], 'count':tenpercent}\n",
        "  testing.append(row)\n",
        "testingData = pd.DataFrame(testing, columns = ['UniqueId', 'Values', 'type', 'count']) "
      ],
      "execution_count": 70,
      "outputs": []
    },
    {
      "cell_type": "code",
      "metadata": {
        "id": "GXWHP7aJvnlg",
        "colab_type": "code",
        "colab": {
          "base_uri": "https://localhost:8080/",
          "height": 201
        },
        "outputId": "27978c77-481b-4055-ee39-d24daa5fa1f5"
      },
      "source": [
        "testingData.head()"
      ],
      "execution_count": 71,
      "outputs": [
        {
          "output_type": "execute_result",
          "data": {
            "text/html": [
              "<div>\n",
              "<style scoped>\n",
              "    .dataframe tbody tr th:only-of-type {\n",
              "        vertical-align: middle;\n",
              "    }\n",
              "\n",
              "    .dataframe tbody tr th {\n",
              "        vertical-align: top;\n",
              "    }\n",
              "\n",
              "    .dataframe thead th {\n",
              "        text-align: right;\n",
              "    }\n",
              "</style>\n",
              "<table border=\"1\" class=\"dataframe\">\n",
              "  <thead>\n",
              "    <tr style=\"text-align: right;\">\n",
              "      <th></th>\n",
              "      <th>UniqueId</th>\n",
              "      <th>Values</th>\n",
              "      <th>type</th>\n",
              "      <th>count</th>\n",
              "    </tr>\n",
              "  </thead>\n",
              "  <tbody>\n",
              "    <tr>\n",
              "      <th>0</th>\n",
              "      <td>512489</td>\n",
              "      <td>[ORG-100018442, ORG-100018442, ORG-100021785, ...</td>\n",
              "      <td>organisationID</td>\n",
              "      <td>3673</td>\n",
              "    </tr>\n",
              "    <tr>\n",
              "      <th>1</th>\n",
              "      <td>502591</td>\n",
              "      <td>[ORG-100018442, ORG-100018442, ORG-100021785, ...</td>\n",
              "      <td>identifierCode</td>\n",
              "      <td>3673</td>\n",
              "    </tr>\n",
              "    <tr>\n",
              "      <th>2</th>\n",
              "      <td>542338</td>\n",
              "      <td>[Type¦Type, Type¦Type, Type¦Type, Type¦Type, T...</td>\n",
              "      <td>categoryClassificationCodeSystemName</td>\n",
              "      <td>3673</td>\n",
              "    </tr>\n",
              "    <tr>\n",
              "      <th>3</th>\n",
              "      <td>523956</td>\n",
              "      <td>[200000000080¦200000000081, 200000000080¦20000...</td>\n",
              "      <td>categoryClassificationCode</td>\n",
              "      <td>3673</td>\n",
              "    </tr>\n",
              "    <tr>\n",
              "      <th>4</th>\n",
              "      <td>491930</td>\n",
              "      <td>[Industry¦Pharmaceutical company, Industry¦Pha...</td>\n",
              "      <td>categoryClassificationName</td>\n",
              "      <td>3673</td>\n",
              "    </tr>\n",
              "  </tbody>\n",
              "</table>\n",
              "</div>"
            ],
            "text/plain": [
              "   UniqueId  ... count\n",
              "0    512489  ...  3673\n",
              "1    502591  ...  3673\n",
              "2    542338  ...  3673\n",
              "3    523956  ...  3673\n",
              "4    491930  ...  3673\n",
              "\n",
              "[5 rows x 4 columns]"
            ]
          },
          "metadata": {
            "tags": []
          },
          "execution_count": 71
        }
      ]
    },
    {
      "cell_type": "code",
      "metadata": {
        "id": "nxOb0AGbvvRZ",
        "colab_type": "code",
        "colab": {}
      },
      "source": [
        "#SAVING TRAINING, VALIDATION AND TESTING DATA AS PARQUET FILE\n",
        "trainingData.to_parquet('drive/My Drive/training_raw_sequential_80.gzip',compression='gzip')\n",
        "validationData.to_parquet('drive/My Drive/validation_raw_sequential_10.gzip',compression='gzip')\n",
        "testingData.to_parquet('drive/My Drive/testing_raw_sequential_10.gzip',compression='gzip')"
      ],
      "execution_count": 72,
      "outputs": []
    },
    {
      "cell_type": "code",
      "metadata": {
        "id": "wgvTzLhtxacV",
        "colab_type": "code",
        "colab": {
          "base_uri": "https://localhost:8080/",
          "height": 34
        },
        "outputId": "fb8fb7b8-4ff3-49c6-a92f-e457684453ea"
      },
      "source": [
        "arr = [0,3,3,4,5,2,6,7,8]\n",
        "arr[5:3]"
      ],
      "execution_count": 74,
      "outputs": [
        {
          "output_type": "execute_result",
          "data": {
            "text/plain": [
              "[]"
            ]
          },
          "metadata": {
            "tags": []
          },
          "execution_count": 74
        }
      ]
    },
    {
      "cell_type": "markdown",
      "metadata": {
        "id": "s2veGcX8v8yZ",
        "colab_type": "text"
      },
      "source": [
        "# TRAINING DATA\n",
        "Creating multiple datapoints by splitting the total values of each column into many rows\n",
        "1. 500 values per row - values selected in random order\n",
        "2. 500 values per row - selected sequentially\n",
        "3. values selected randomly between the range 0 to 500 per row \n",
        "start index = [random(0,500)\n",
        "end index = [random(0,500)\n",
        "\n",
        "\n",
        "---\n",
        "\n"
      ]
    },
    {
      "cell_type": "markdown",
      "metadata": {
        "id": "lc2-tqboFWKe",
        "colab_type": "text"
      },
      "source": [
        "1. Creating 500 values per row - values selected in random order\n",
        "\n",
        "\n"
      ]
    },
    {
      "cell_type": "code",
      "metadata": {
        "id": "9KPv9zhbE5pF",
        "colab_type": "code",
        "colab": {
          "base_uri": "https://localhost:8080/",
          "height": 201
        },
        "outputId": "5929a185-e9e4-4b85-e05f-dd343a267422"
      },
      "source": [
        "trainingRawData = pd.read_parquet('drive/My Drive/training_raw_random_60.gzip')\n",
        "trainingRawData.head()"
      ],
      "execution_count": 3,
      "outputs": [
        {
          "output_type": "execute_result",
          "data": {
            "text/html": [
              "<div>\n",
              "<style scoped>\n",
              "    .dataframe tbody tr th:only-of-type {\n",
              "        vertical-align: middle;\n",
              "    }\n",
              "\n",
              "    .dataframe tbody tr th {\n",
              "        vertical-align: top;\n",
              "    }\n",
              "\n",
              "    .dataframe thead th {\n",
              "        text-align: right;\n",
              "    }\n",
              "</style>\n",
              "<table border=\"1\" class=\"dataframe\">\n",
              "  <thead>\n",
              "    <tr style=\"text-align: right;\">\n",
              "      <th></th>\n",
              "      <th>UniqueId</th>\n",
              "      <th>Values</th>\n",
              "      <th>type</th>\n",
              "      <th>count</th>\n",
              "    </tr>\n",
              "  </thead>\n",
              "  <tbody>\n",
              "    <tr>\n",
              "      <th>0</th>\n",
              "      <td>512489</td>\n",
              "      <td>[ORG-100003597, ORG-100014859, ORG-100023031, ...</td>\n",
              "      <td>organisationID</td>\n",
              "      <td>22043</td>\n",
              "    </tr>\n",
              "    <tr>\n",
              "      <th>1</th>\n",
              "      <td>502591</td>\n",
              "      <td>[ORG-100021389, ORG-100011554, ORG-100007339, ...</td>\n",
              "      <td>identifierCode</td>\n",
              "      <td>22043</td>\n",
              "    </tr>\n",
              "    <tr>\n",
              "      <th>2</th>\n",
              "      <td>542338</td>\n",
              "      <td>[Type¦Type, Type¦Type, Type¦Type, Type¦Type, T...</td>\n",
              "      <td>categoryClassificationCodeSystemName</td>\n",
              "      <td>22043</td>\n",
              "    </tr>\n",
              "    <tr>\n",
              "      <th>3</th>\n",
              "      <td>523956</td>\n",
              "      <td>[200000000086¦200000000084, 200000000080¦20000...</td>\n",
              "      <td>categoryClassificationCode</td>\n",
              "      <td>22043</td>\n",
              "    </tr>\n",
              "    <tr>\n",
              "      <th>4</th>\n",
              "      <td>491930</td>\n",
              "      <td>[Health care¦Hospital/Clinic/Other health care...</td>\n",
              "      <td>categoryClassificationName</td>\n",
              "      <td>22043</td>\n",
              "    </tr>\n",
              "  </tbody>\n",
              "</table>\n",
              "</div>"
            ],
            "text/plain": [
              "   UniqueId  ...  count\n",
              "0    512489  ...  22043\n",
              "1    502591  ...  22043\n",
              "2    542338  ...  22043\n",
              "3    523956  ...  22043\n",
              "4    491930  ...  22043\n",
              "\n",
              "[5 rows x 4 columns]"
            ]
          },
          "metadata": {
            "tags": []
          },
          "execution_count": 3
        }
      ]
    },
    {
      "cell_type": "code",
      "metadata": {
        "id": "E296P7jqHzKH",
        "colab_type": "code",
        "colab": {
          "base_uri": "https://localhost:8080/",
          "height": 171
        },
        "outputId": "1df3666e-c60d-4d3d-c6ba-db83ab42f156"
      },
      "source": [
        "# da = []\n",
        "# da.append(trainingRawData['Values'][0][0:2])\n",
        "# da.append(trainingRawData['Values'][0][2:4])\n",
        "# print(da)\n",
        "row = {'Unique':123,'value':trainingRawData['Values'][0][0:2]}\n",
        "row2 = {'Unique':123,'value':trainingRawData['Values'][0][4:6]}\n",
        "da.append(row)\n",
        "da.append(row2)\n",
        "df = pd.DataFrame(da, columns=['Unique', 'value'])\n",
        "df"
      ],
      "execution_count": 82,
      "outputs": [
        {
          "output_type": "execute_result",
          "data": {
            "text/html": [
              "<div>\n",
              "<style scoped>\n",
              "    .dataframe tbody tr th:only-of-type {\n",
              "        vertical-align: middle;\n",
              "    }\n",
              "\n",
              "    .dataframe tbody tr th {\n",
              "        vertical-align: top;\n",
              "    }\n",
              "\n",
              "    .dataframe thead th {\n",
              "        text-align: right;\n",
              "    }\n",
              "</style>\n",
              "<table border=\"1\" class=\"dataframe\">\n",
              "  <thead>\n",
              "    <tr style=\"text-align: right;\">\n",
              "      <th></th>\n",
              "      <th>Unique</th>\n",
              "      <th>value</th>\n",
              "    </tr>\n",
              "  </thead>\n",
              "  <tbody>\n",
              "    <tr>\n",
              "      <th>0</th>\n",
              "      <td>ORG-100003597</td>\n",
              "      <td>ORG-100014859</td>\n",
              "    </tr>\n",
              "    <tr>\n",
              "      <th>1</th>\n",
              "      <td>ORG-100023031</td>\n",
              "      <td>ORG-100016305</td>\n",
              "    </tr>\n",
              "    <tr>\n",
              "      <th>2</th>\n",
              "      <td>Unique</td>\n",
              "      <td>value</td>\n",
              "    </tr>\n",
              "    <tr>\n",
              "      <th>3</th>\n",
              "      <td>Unique</td>\n",
              "      <td>value</td>\n",
              "    </tr>\n",
              "  </tbody>\n",
              "</table>\n",
              "</div>"
            ],
            "text/plain": [
              "          Unique          value\n",
              "0  ORG-100003597  ORG-100014859\n",
              "1  ORG-100023031  ORG-100016305\n",
              "2         Unique          value\n",
              "3         Unique          value"
            ]
          },
          "metadata": {
            "tags": []
          },
          "execution_count": 82
        }
      ]
    },
    {
      "cell_type": "code",
      "metadata": {
        "id": "s0T4z8sLFo4q",
        "colab_type": "code",
        "colab": {
          "base_uri": "https://localhost:8080/",
          "height": 34
        },
        "outputId": "906cfaf7-babb-46a6-8d53-b97f3d0daeb8"
      },
      "source": [
        "rows = int(trainingRawData['count'][0] / 500)\n",
        "values = []\n",
        "start = 0\n",
        "end = 500\n",
        "for i in range(rows):\n",
        "  values.append(trainingRawData['Values'][0][start:end])\n",
        "  start = end\n",
        "  end = end + 500\n",
        "trainingDataset = pd.DataFrame(data, columns=['UniqueId', 'Values', 'type'])\n",
        "trainingDataset.head()"
      ],
      "execution_count": 77,
      "outputs": [
        {
          "output_type": "execute_result",
          "data": {
            "text/plain": [
              "44"
            ]
          },
          "metadata": {
            "tags": []
          },
          "execution_count": 77
        }
      ]
    },
    {
      "cell_type": "code",
      "metadata": {
        "id": "xKKu3lDDFLSU",
        "colab_type": "code",
        "colab": {}
      },
      "source": [
        "#SAVING TRAINING, VALIDATION AND TESTING DATA AS PARQUET FILE\n",
        "trainingData.to_parquet('drive/My Drive/training_raw_random_60.gzip',compression='gzip')\n",
        "validationData.to_parquet('drive/My Drive/validation_raw_random_20.gzip',compression='gzip')\n",
        "testingData.to_parquet('drive/My Drive/testing_raw_random_20.gzip',compression='gzip')"
      ],
      "execution_count": null,
      "outputs": []
    },
    {
      "cell_type": "code",
      "metadata": {
        "id": "XTBFPKznJ925",
        "colab_type": "code",
        "colab": {}
      },
      "source": [
        ""
      ],
      "execution_count": null,
      "outputs": []
    }
  ]
}
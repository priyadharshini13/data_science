{
  "nbformat": 4,
  "nbformat_minor": 0,
  "metadata": {
    "colab": {
      "name": "DataCleaning.ipynb",
      "provenance": [],
      "mount_file_id": "1wOHS_5LEkUSEuLecHLywIjgFX3Oozolh",
      "authorship_tag": "ABX9TyPOMYmssMwKexUuiDxkCSoA",
      "include_colab_link": true
    },
    "kernelspec": {
      "name": "python3",
      "display_name": "Python 3"
    }
  },
  "cells": [
    {
      "cell_type": "markdown",
      "metadata": {
        "id": "view-in-github",
        "colab_type": "text"
      },
      "source": [
        "<a href=\"https://colab.research.google.com/github/priyadharshini13/data_science/blob/master/DataCleaning.ipynb\" target=\"_parent\"><img src=\"https://colab.research.google.com/assets/colab-badge.svg\" alt=\"Open In Colab\"/></a>"
      ]
    },
    {
      "cell_type": "code",
      "metadata": {
        "id": "ee816GfHouCY",
        "colab_type": "code",
        "colab": {
          "base_uri": "https://localhost:8080/",
          "height": 891
        },
        "outputId": "857eb210-74ae-4de3-dea4-d51cbd3fc4fd"
      },
      "source": [
        "#Importing location dataset\n",
        "import pandas as pd\n",
        "df = pd.read_csv('locations_1.csv',low_memory=False)\n",
        "df.head()"
      ],
      "execution_count": 8,
      "outputs": [
        {
          "output_type": "execute_result",
          "data": {
            "text/html": [
              "<div>\n",
              "<style scoped>\n",
              "    .dataframe tbody tr th:only-of-type {\n",
              "        vertical-align: middle;\n",
              "    }\n",
              "\n",
              "    .dataframe tbody tr th {\n",
              "        vertical-align: top;\n",
              "    }\n",
              "\n",
              "    .dataframe thead th {\n",
              "        text-align: right;\n",
              "    }\n",
              "</style>\n",
              "<table border=\"1\" class=\"dataframe\">\n",
              "  <thead>\n",
              "    <tr style=\"text-align: right;\">\n",
              "      <th></th>\n",
              "      <th>Organisation ID</th>\n",
              "      <th>Identifier Code</th>\n",
              "      <th>Mapping Code System</th>\n",
              "      <th>Mapping Code System Name</th>\n",
              "      <th>Mapping Code</th>\n",
              "      <th>Mapping Valid From</th>\n",
              "      <th>Mapping Valid To</th>\n",
              "      <th>Category Classification Category Code System Name</th>\n",
              "      <th>Category Classification Category  Code</th>\n",
              "      <th>Category Classification Category  Display Name</th>\n",
              "      <th>Status</th>\n",
              "      <th>Name</th>\n",
              "      <th>Acronym</th>\n",
              "      <th>Alternative Name</th>\n",
              "      <th>Alternative Name Language</th>\n",
              "      <th>Version Timestamp</th>\n",
              "      <th>Location ID</th>\n",
              "      <th>Location Link Href</th>\n",
              "      <th>Current Version</th>\n",
              "      <th>Mapping Code System.1</th>\n",
              "      <th>Mapping Code System Name.1</th>\n",
              "      <th>Mapping Code.1</th>\n",
              "      <th>Status.1</th>\n",
              "      <th>Address PO Box</th>\n",
              "      <th>Address Postal Code</th>\n",
              "      <th>Address Country Code</th>\n",
              "      <th>Address Country Display Name</th>\n",
              "      <th>Address GPS Location</th>\n",
              "      <th>Address Language</th>\n",
              "      <th>Address Line 1</th>\n",
              "      <th>Address Line 2</th>\n",
              "      <th>Address Line 3</th>\n",
              "      <th>Address Line 4</th>\n",
              "      <th>Address City</th>\n",
              "      <th>Address State</th>\n",
              "      <th>Address Region</th>\n",
              "      <th>Address County</th>\n",
              "      <th>Communication Details Email Address</th>\n",
              "      <th>Communication Details Phone Number Country Prefix</th>\n",
              "      <th>Communication Details Phone Number</th>\n",
              "      <th>Communication Details Phone Number Extension</th>\n",
              "      <th>Communication Details Address PO Box</th>\n",
              "      <th>Communication Details Address Postal Code</th>\n",
              "      <th>Communication Details Address Country Code</th>\n",
              "      <th>Communication Details Address Country Display Name</th>\n",
              "      <th>Communication Details Address GPS Location</th>\n",
              "      <th>Communication Details Address Language</th>\n",
              "      <th>Communication Details Address Line 1</th>\n",
              "      <th>Communication Details Address Line 2</th>\n",
              "      <th>Communication Details Address Line 3</th>\n",
              "      <th>Communication Details Address Line 4</th>\n",
              "      <th>Communication Details Address City</th>\n",
              "      <th>Communication Details Address State</th>\n",
              "      <th>Communication Details Address Region</th>\n",
              "      <th>Communication Details Address County</th>\n",
              "      <th>Version Timestamp.1</th>\n",
              "      <th>Unnamed: 56</th>\n",
              "      <th>Unnamed: 57</th>\n",
              "    </tr>\n",
              "  </thead>\n",
              "  <tbody>\n",
              "    <tr>\n",
              "      <th>0</th>\n",
              "      <td>ORG-100003912</td>\n",
              "      <td>ORG-100012803¦ORG-100003912</td>\n",
              "      <td>200000005700</td>\n",
              "      <td>EudraVigilance Veterinary Dynamics</td>\n",
              "      <td>NaN</td>\n",
              "      <td>NaN</td>\n",
              "      <td>NaN</td>\n",
              "      <td>Type¦Type</td>\n",
              "      <td>200000000088¦200000000084</td>\n",
              "      <td>EEA National Competent authority¦Regulatory Au...</td>\n",
              "      <td>ACTIVE</td>\n",
              "      <td>Austrian Agency for Health and Food Safety Lim...</td>\n",
              "      <td>AGES</td>\n",
              "      <td>AGES - Österreichische Agentur für Gesundheit ...</td>\n",
              "      <td>DE¦DE</td>\n",
              "      <td>2020-01-15T11:19:10.195+01:00</td>\n",
              "      <td>LOC-100000000</td>\n",
              "      <td>https://spor.ema.europa.eu/v1/locations/LOC-10...</td>\n",
              "      <td>Y</td>\n",
              "      <td>100000000000</td>\n",
              "      <td>European Inspections Database</td>\n",
              "      <td>22802</td>\n",
              "      <td>ACTIVE</td>\n",
              "      <td>NaN</td>\n",
              "      <td>1220</td>\n",
              "      <td>AT</td>\n",
              "      <td>Austria</td>\n",
              "      <td>48.25147, 16.48305</td>\n",
              "      <td>EN¦DE</td>\n",
              "      <td>Spargelfeldstrase 191¦Spargelfeldstraße 191</td>\n",
              "      <td>donaustadt¦Donaustadt</td>\n",
              "      <td>¦</td>\n",
              "      <td>¦</td>\n",
              "      <td>Vienna¦Wien</td>\n",
              "      <td>¦</td>\n",
              "      <td>¦</td>\n",
              "      <td>¦</td>\n",
              "      <td>NaN</td>\n",
              "      <td>NaN</td>\n",
              "      <td>NaN</td>\n",
              "      <td>NaN</td>\n",
              "      <td>NaN</td>\n",
              "      <td>NaN</td>\n",
              "      <td>NaN</td>\n",
              "      <td>NaN</td>\n",
              "      <td>NaN</td>\n",
              "      <td>NaN</td>\n",
              "      <td>NaN</td>\n",
              "      <td>NaN</td>\n",
              "      <td>NaN</td>\n",
              "      <td>NaN</td>\n",
              "      <td>NaN</td>\n",
              "      <td>NaN</td>\n",
              "      <td>NaN</td>\n",
              "      <td>NaN</td>\n",
              "      <td>2019-08-28T17:37:51.37+02:00</td>\n",
              "      <td>NaN</td>\n",
              "      <td>NaN</td>\n",
              "    </tr>\n",
              "    <tr>\n",
              "      <th>1</th>\n",
              "      <td>ORG-100003912</td>\n",
              "      <td>ORG-100012803¦ORG-100003912</td>\n",
              "      <td>200000005700</td>\n",
              "      <td>EudraVigilance Veterinary Dynamics</td>\n",
              "      <td>NaN</td>\n",
              "      <td>NaN</td>\n",
              "      <td>NaN</td>\n",
              "      <td>Type¦Type</td>\n",
              "      <td>200000000088¦200000000084</td>\n",
              "      <td>EEA National Competent authority¦Regulatory Au...</td>\n",
              "      <td>ACTIVE</td>\n",
              "      <td>Austrian Agency for Health and Food Safety Lim...</td>\n",
              "      <td>AGES</td>\n",
              "      <td>AGES - Österreichische Agentur für Gesundheit ...</td>\n",
              "      <td>DE¦DE</td>\n",
              "      <td>2020-01-15T11:19:10.195+01:00</td>\n",
              "      <td>LOC-100000001</td>\n",
              "      <td>https://spor.ema.europa.eu/v1/locations/LOC-10...</td>\n",
              "      <td>Y</td>\n",
              "      <td>100000167429¦100000167429</td>\n",
              "      <td>European Inspections Database¦European Inspect...</td>\n",
              "      <td>11773¦19301</td>\n",
              "      <td>ACTIVE</td>\n",
              "      <td>NaN</td>\n",
              "      <td>8010</td>\n",
              "      <td>AT</td>\n",
              "      <td>Austria</td>\n",
              "      <td>47.075744, 15.450655</td>\n",
              "      <td>EN¦DE</td>\n",
              "      <td>Beethovenstrasse 6-8¦Beethovenstraße 6-8</td>\n",
              "      <td>¦</td>\n",
              "      <td>¦</td>\n",
              "      <td>¦</td>\n",
              "      <td>Graz¦Graz</td>\n",
              "      <td>¦Steiermark</td>\n",
              "      <td>¦</td>\n",
              "      <td>¦</td>\n",
              "      <td>NaN</td>\n",
              "      <td>NaN</td>\n",
              "      <td>NaN</td>\n",
              "      <td>NaN</td>\n",
              "      <td>NaN</td>\n",
              "      <td>NaN</td>\n",
              "      <td>NaN</td>\n",
              "      <td>NaN</td>\n",
              "      <td>NaN</td>\n",
              "      <td>NaN</td>\n",
              "      <td>NaN</td>\n",
              "      <td>NaN</td>\n",
              "      <td>NaN</td>\n",
              "      <td>NaN</td>\n",
              "      <td>NaN</td>\n",
              "      <td>NaN</td>\n",
              "      <td>NaN</td>\n",
              "      <td>NaN</td>\n",
              "      <td>2020-01-15T11:18:11.096+01:00</td>\n",
              "      <td>NaN</td>\n",
              "      <td>NaN</td>\n",
              "    </tr>\n",
              "    <tr>\n",
              "      <th>2</th>\n",
              "      <td>ORG-100003912</td>\n",
              "      <td>ORG-100012803¦ORG-100003912</td>\n",
              "      <td>200000005700</td>\n",
              "      <td>EudraVigilance Veterinary Dynamics</td>\n",
              "      <td>NaN</td>\n",
              "      <td>NaN</td>\n",
              "      <td>NaN</td>\n",
              "      <td>Type¦Type</td>\n",
              "      <td>200000000088¦200000000084</td>\n",
              "      <td>EEA National Competent authority¦Regulatory Au...</td>\n",
              "      <td>ACTIVE</td>\n",
              "      <td>Austrian Agency for Health and Food Safety Lim...</td>\n",
              "      <td>AGES</td>\n",
              "      <td>AGES - Österreichische Agentur für Gesundheit ...</td>\n",
              "      <td>DE¦DE</td>\n",
              "      <td>2020-01-15T11:19:10.195+01:00</td>\n",
              "      <td>LOC-100000002</td>\n",
              "      <td>https://spor.ema.europa.eu/v1/locations/LOC-10...</td>\n",
              "      <td>Y</td>\n",
              "      <td>100000000000</td>\n",
              "      <td>European Inspections Database</td>\n",
              "      <td>22249</td>\n",
              "      <td>ACTIVE</td>\n",
              "      <td>NaN</td>\n",
              "      <td>2340</td>\n",
              "      <td>AT</td>\n",
              "      <td>Austria</td>\n",
              "      <td>48.076881, 16.303955</td>\n",
              "      <td>EN¦DE</td>\n",
              "      <td>Robert Koch-Gasse 17¦Robert Koch-Gasse 17</td>\n",
              "      <td>¦</td>\n",
              "      <td>¦</td>\n",
              "      <td>¦</td>\n",
              "      <td>Moedling¦Mödling</td>\n",
              "      <td>Niederoesterreich¦Niederösterreich</td>\n",
              "      <td>¦</td>\n",
              "      <td>¦</td>\n",
              "      <td>NaN</td>\n",
              "      <td>NaN</td>\n",
              "      <td>NaN</td>\n",
              "      <td>NaN</td>\n",
              "      <td>NaN</td>\n",
              "      <td>NaN</td>\n",
              "      <td>NaN</td>\n",
              "      <td>NaN</td>\n",
              "      <td>NaN</td>\n",
              "      <td>NaN</td>\n",
              "      <td>NaN</td>\n",
              "      <td>NaN</td>\n",
              "      <td>NaN</td>\n",
              "      <td>NaN</td>\n",
              "      <td>NaN</td>\n",
              "      <td>NaN</td>\n",
              "      <td>NaN</td>\n",
              "      <td>NaN</td>\n",
              "      <td>2020-01-15T11:19:10.592+01:00</td>\n",
              "      <td>NaN</td>\n",
              "      <td>NaN</td>\n",
              "    </tr>\n",
              "    <tr>\n",
              "      <th>3</th>\n",
              "      <td>ORG-100003912</td>\n",
              "      <td>ORG-100012803¦ORG-100003912</td>\n",
              "      <td>200000005700</td>\n",
              "      <td>EudraVigilance Veterinary Dynamics</td>\n",
              "      <td>NaN</td>\n",
              "      <td>NaN</td>\n",
              "      <td>NaN</td>\n",
              "      <td>Type¦Type</td>\n",
              "      <td>200000000088¦200000000084</td>\n",
              "      <td>EEA National Competent authority¦Regulatory Au...</td>\n",
              "      <td>ACTIVE</td>\n",
              "      <td>Austrian Agency for Health and Food Safety Lim...</td>\n",
              "      <td>AGES</td>\n",
              "      <td>AGES - Österreichische Agentur für Gesundheit ...</td>\n",
              "      <td>DE¦DE</td>\n",
              "      <td>2020-01-15T11:19:10.195+01:00</td>\n",
              "      <td>LOC-100000003</td>\n",
              "      <td>https://spor.ema.europa.eu/v1/locations/LOC-10...</td>\n",
              "      <td>Y</td>\n",
              "      <td>NaN</td>\n",
              "      <td>NaN</td>\n",
              "      <td>NaN</td>\n",
              "      <td>ACTIVE</td>\n",
              "      <td>NaN</td>\n",
              "      <td>1160</td>\n",
              "      <td>AT</td>\n",
              "      <td>Austria</td>\n",
              "      <td>48.209504, 16.318259</td>\n",
              "      <td>EN¦DE</td>\n",
              "      <td>Possingergasse 38¦Possingergasse 38</td>\n",
              "      <td>ottakring¦Ottakring</td>\n",
              "      <td>¦</td>\n",
              "      <td>¦</td>\n",
              "      <td>Vienna¦Wien</td>\n",
              "      <td>¦</td>\n",
              "      <td>¦</td>\n",
              "      <td>¦</td>\n",
              "      <td>NaN</td>\n",
              "      <td>NaN</td>\n",
              "      <td>NaN</td>\n",
              "      <td>NaN</td>\n",
              "      <td>NaN</td>\n",
              "      <td>NaN</td>\n",
              "      <td>NaN</td>\n",
              "      <td>NaN</td>\n",
              "      <td>NaN</td>\n",
              "      <td>NaN</td>\n",
              "      <td>NaN</td>\n",
              "      <td>NaN</td>\n",
              "      <td>NaN</td>\n",
              "      <td>NaN</td>\n",
              "      <td>NaN</td>\n",
              "      <td>NaN</td>\n",
              "      <td>NaN</td>\n",
              "      <td>NaN</td>\n",
              "      <td>2019-08-28T17:37:51.427+02:00</td>\n",
              "      <td>NaN</td>\n",
              "      <td>NaN</td>\n",
              "    </tr>\n",
              "    <tr>\n",
              "      <th>4</th>\n",
              "      <td>ORG-100003912</td>\n",
              "      <td>ORG-100012803¦ORG-100003912</td>\n",
              "      <td>200000005700</td>\n",
              "      <td>EudraVigilance Veterinary Dynamics</td>\n",
              "      <td>NaN</td>\n",
              "      <td>NaN</td>\n",
              "      <td>NaN</td>\n",
              "      <td>Type¦Type</td>\n",
              "      <td>200000000088¦200000000084</td>\n",
              "      <td>EEA National Competent authority¦Regulatory Au...</td>\n",
              "      <td>ACTIVE</td>\n",
              "      <td>Austrian Agency for Health and Food Safety Lim...</td>\n",
              "      <td>AGES</td>\n",
              "      <td>AGES - Österreichische Agentur für Gesundheit ...</td>\n",
              "      <td>DE¦DE</td>\n",
              "      <td>2020-01-15T11:19:10.195+01:00</td>\n",
              "      <td>LOC-100000004</td>\n",
              "      <td>https://spor.ema.europa.eu/v1/locations/LOC-10...</td>\n",
              "      <td>Y</td>\n",
              "      <td>200000000000</td>\n",
              "      <td>EudraVigilance Human Dynamics</td>\n",
              "      <td>HD_BASGAGES</td>\n",
              "      <td>ACTIVE</td>\n",
              "      <td>NaN</td>\n",
              "      <td>1200</td>\n",
              "      <td>AT</td>\n",
              "      <td>Austria</td>\n",
              "      <td>48.234094, 16.384692</td>\n",
              "      <td>EN¦DE</td>\n",
              "      <td>Traisengasse 5¦Traisengasse 5</td>\n",
              "      <td>Brigittenau¦Brigittenau</td>\n",
              "      <td>¦</td>\n",
              "      <td>¦</td>\n",
              "      <td>Vienna¦Wien</td>\n",
              "      <td>¦</td>\n",
              "      <td>¦</td>\n",
              "      <td>¦</td>\n",
              "      <td>NaN</td>\n",
              "      <td>NaN</td>\n",
              "      <td>NaN</td>\n",
              "      <td>NaN</td>\n",
              "      <td>NaN</td>\n",
              "      <td>NaN</td>\n",
              "      <td>NaN</td>\n",
              "      <td>NaN</td>\n",
              "      <td>NaN</td>\n",
              "      <td>NaN</td>\n",
              "      <td>NaN</td>\n",
              "      <td>NaN</td>\n",
              "      <td>NaN</td>\n",
              "      <td>NaN</td>\n",
              "      <td>NaN</td>\n",
              "      <td>NaN</td>\n",
              "      <td>NaN</td>\n",
              "      <td>NaN</td>\n",
              "      <td>2019-08-28T17:37:51.429+02:00</td>\n",
              "      <td>NaN</td>\n",
              "      <td>NaN</td>\n",
              "    </tr>\n",
              "  </tbody>\n",
              "</table>\n",
              "</div>"
            ],
            "text/plain": [
              "  Organisation ID              Identifier Code  ... Unnamed: 56 Unnamed: 57\n",
              "0   ORG-100003912  ORG-100012803¦ORG-100003912  ...         NaN         NaN\n",
              "1   ORG-100003912  ORG-100012803¦ORG-100003912  ...         NaN         NaN\n",
              "2   ORG-100003912  ORG-100012803¦ORG-100003912  ...         NaN         NaN\n",
              "3   ORG-100003912  ORG-100012803¦ORG-100003912  ...         NaN         NaN\n",
              "4   ORG-100003912  ORG-100012803¦ORG-100003912  ...         NaN         NaN\n",
              "\n",
              "[5 rows x 58 columns]"
            ]
          },
          "metadata": {
            "tags": []
          },
          "execution_count": 8
        }
      ]
    },
    {
      "cell_type": "code",
      "metadata": {
        "id": "qd92-zXtIm5J",
        "colab_type": "code",
        "colab": {
          "base_uri": "https://localhost:8080/",
          "height": 1000
        },
        "outputId": "d4893887-54a5-488a-9874-f2cb3a6efef9"
      },
      "source": [
        "display(df.info())"
      ],
      "execution_count": 9,
      "outputs": [
        {
          "output_type": "stream",
          "text": [
            "<class 'pandas.core.frame.DataFrame'>\n",
            "RangeIndex: 36739 entries, 0 to 36738\n",
            "Data columns (total 58 columns):\n",
            " #   Column                                              Non-Null Count  Dtype  \n",
            "---  ------                                              --------------  -----  \n",
            " 0   Organisation ID                                     36739 non-null  object \n",
            " 1   Identifier Code                                     36739 non-null  object \n",
            " 2   Mapping Code System                                 2419 non-null   object \n",
            " 3   Mapping Code System Name                            2419 non-null   object \n",
            " 4   Mapping Code                                        2339 non-null   object \n",
            " 5   Mapping Valid From                                  1940 non-null   object \n",
            " 6   Mapping Valid To                                    89 non-null     object \n",
            " 7   Category Classification Category Code System Name   36739 non-null  object \n",
            " 8   Category Classification Category  Code              36739 non-null  object \n",
            " 9   Category Classification Category  Display Name      36739 non-null  object \n",
            " 10  Status                                              36739 non-null  object \n",
            " 11  Name                                                36739 non-null  object \n",
            " 12  Acronym                                             1123 non-null   object \n",
            " 13  Alternative Name                                    3260 non-null   object \n",
            " 14  Alternative Name Language                           3076 non-null   object \n",
            " 15  Version Timestamp                                   36738 non-null  object \n",
            " 16  Location ID                                         36738 non-null  object \n",
            " 17  Location Link Href                                  36739 non-null  object \n",
            " 18  Current Version                                     36739 non-null  object \n",
            " 19  Mapping Code System.1                               27847 non-null  object \n",
            " 20  Mapping Code System Name.1                          27847 non-null  object \n",
            " 21  Mapping Code.1                                      27846 non-null  object \n",
            " 22  Status.1                                            36739 non-null  object \n",
            " 23  Address PO Box                                      264 non-null    object \n",
            " 24  Address Postal Code                                 35953 non-null  object \n",
            " 25  Address Country Code                                36738 non-null  object \n",
            " 26  Address Country Display Name                        36739 non-null  object \n",
            " 27  Address GPS Location                                27625 non-null  object \n",
            " 28  Address Language                                    36739 non-null  object \n",
            " 29  Address Line 1                                      36738 non-null  object \n",
            " 30  Address Line 2                                      28485 non-null  object \n",
            " 31  Address Line 3                                      23557 non-null  object \n",
            " 32  Address Line 4                                      21413 non-null  object \n",
            " 33  Address City                                        36565 non-null  object \n",
            " 34  Address State                                       22962 non-null  object \n",
            " 35  Address Region                                      20778 non-null  object \n",
            " 36  Address County                                      27196 non-null  object \n",
            " 37  Communication Details Email Address                 625 non-null    object \n",
            " 38  Communication Details Phone Number Country Prefix   543 non-null    object \n",
            " 39  Communication Details Phone Number                  543 non-null    object \n",
            " 40  Communication Details Phone Number Extension        116 non-null    object \n",
            " 41  Communication Details Address PO Box                0 non-null      float64\n",
            " 42  Communication Details Address Postal Code           0 non-null      float64\n",
            " 43  Communication Details Address Country Code          0 non-null      float64\n",
            " 44  Communication Details Address Country Display Name  1 non-null      object \n",
            " 45  Communication Details Address GPS Location          0 non-null      float64\n",
            " 46  Communication Details Address Language              0 non-null      float64\n",
            " 47  Communication Details Address Line 1                0 non-null      float64\n",
            " 48  Communication Details Address Line 2                0 non-null      float64\n",
            " 49  Communication Details Address Line 3                0 non-null      float64\n",
            " 50  Communication Details Address Line 4                0 non-null      float64\n",
            " 51  Communication Details Address City                  0 non-null      float64\n",
            " 52  Communication Details Address State                 0 non-null      float64\n",
            " 53  Communication Details Address Region                0 non-null      float64\n",
            " 54  Communication Details Address County                0 non-null      float64\n",
            " 55  Version Timestamp.1                                 36737 non-null  object \n",
            " 56  Unnamed: 56                                         1 non-null      object \n",
            " 57  Unnamed: 57                                         1 non-null      object \n",
            "dtypes: float64(13), object(45)\n",
            "memory usage: 16.3+ MB\n"
          ],
          "name": "stdout"
        },
        {
          "output_type": "display_data",
          "data": {
            "text/plain": [
              "None"
            ]
          },
          "metadata": {
            "tags": []
          }
        }
      ]
    },
    {
      "cell_type": "code",
      "metadata": {
        "id": "YrfX7ZwAJgfY",
        "colab_type": "code",
        "colab": {
          "base_uri": "https://localhost:8080/",
          "height": 891
        },
        "outputId": "fa792881-3204-4665-eb95-d6e525bfa4f1"
      },
      "source": [
        "#List of empty columns to be dropped\n",
        "\n",
        "dropColumnsList = df.columns[41:55].tolist()\n",
        "\n",
        "dff = df.drop(dropColumnsList,axis=1)\n",
        "dff.info()"
      ],
      "execution_count": 10,
      "outputs": [
        {
          "output_type": "stream",
          "text": [
            "<class 'pandas.core.frame.DataFrame'>\n",
            "RangeIndex: 36739 entries, 0 to 36738\n",
            "Data columns (total 44 columns):\n",
            " #   Column                                             Non-Null Count  Dtype \n",
            "---  ------                                             --------------  ----- \n",
            " 0   Organisation ID                                    36739 non-null  object\n",
            " 1   Identifier Code                                    36739 non-null  object\n",
            " 2   Mapping Code System                                2419 non-null   object\n",
            " 3   Mapping Code System Name                           2419 non-null   object\n",
            " 4   Mapping Code                                       2339 non-null   object\n",
            " 5   Mapping Valid From                                 1940 non-null   object\n",
            " 6   Mapping Valid To                                   89 non-null     object\n",
            " 7   Category Classification Category Code System Name  36739 non-null  object\n",
            " 8   Category Classification Category  Code             36739 non-null  object\n",
            " 9   Category Classification Category  Display Name     36739 non-null  object\n",
            " 10  Status                                             36739 non-null  object\n",
            " 11  Name                                               36739 non-null  object\n",
            " 12  Acronym                                            1123 non-null   object\n",
            " 13  Alternative Name                                   3260 non-null   object\n",
            " 14  Alternative Name Language                          3076 non-null   object\n",
            " 15  Version Timestamp                                  36738 non-null  object\n",
            " 16  Location ID                                        36738 non-null  object\n",
            " 17  Location Link Href                                 36739 non-null  object\n",
            " 18  Current Version                                    36739 non-null  object\n",
            " 19  Mapping Code System.1                              27847 non-null  object\n",
            " 20  Mapping Code System Name.1                         27847 non-null  object\n",
            " 21  Mapping Code.1                                     27846 non-null  object\n",
            " 22  Status.1                                           36739 non-null  object\n",
            " 23  Address PO Box                                     264 non-null    object\n",
            " 24  Address Postal Code                                35953 non-null  object\n",
            " 25  Address Country Code                               36738 non-null  object\n",
            " 26  Address Country Display Name                       36739 non-null  object\n",
            " 27  Address GPS Location                               27625 non-null  object\n",
            " 28  Address Language                                   36739 non-null  object\n",
            " 29  Address Line 1                                     36738 non-null  object\n",
            " 30  Address Line 2                                     28485 non-null  object\n",
            " 31  Address Line 3                                     23557 non-null  object\n",
            " 32  Address Line 4                                     21413 non-null  object\n",
            " 33  Address City                                       36565 non-null  object\n",
            " 34  Address State                                      22962 non-null  object\n",
            " 35  Address Region                                     20778 non-null  object\n",
            " 36  Address County                                     27196 non-null  object\n",
            " 37  Communication Details Email Address                625 non-null    object\n",
            " 38  Communication Details Phone Number Country Prefix  543 non-null    object\n",
            " 39  Communication Details Phone Number                 543 non-null    object\n",
            " 40  Communication Details Phone Number Extension       116 non-null    object\n",
            " 41  Version Timestamp.1                                36737 non-null  object\n",
            " 42  Unnamed: 56                                        1 non-null      object\n",
            " 43  Unnamed: 57                                        1 non-null      object\n",
            "dtypes: object(44)\n",
            "memory usage: 12.3+ MB\n"
          ],
          "name": "stdout"
        }
      ]
    },
    {
      "cell_type": "code",
      "metadata": {
        "id": "Mc12GI9CNen7",
        "colab_type": "code",
        "colab": {
          "base_uri": "https://localhost:8080/",
          "height": 857
        },
        "outputId": "3d1fcf80-16c4-481d-976a-6a605763abdd"
      },
      "source": [
        "#Dropping Unnamed column\n",
        "dff = dff.drop([dff.columns[42],dff.columns[43]],axis=1)\n",
        "dff.info()"
      ],
      "execution_count": 11,
      "outputs": [
        {
          "output_type": "stream",
          "text": [
            "<class 'pandas.core.frame.DataFrame'>\n",
            "RangeIndex: 36739 entries, 0 to 36738\n",
            "Data columns (total 42 columns):\n",
            " #   Column                                             Non-Null Count  Dtype \n",
            "---  ------                                             --------------  ----- \n",
            " 0   Organisation ID                                    36739 non-null  object\n",
            " 1   Identifier Code                                    36739 non-null  object\n",
            " 2   Mapping Code System                                2419 non-null   object\n",
            " 3   Mapping Code System Name                           2419 non-null   object\n",
            " 4   Mapping Code                                       2339 non-null   object\n",
            " 5   Mapping Valid From                                 1940 non-null   object\n",
            " 6   Mapping Valid To                                   89 non-null     object\n",
            " 7   Category Classification Category Code System Name  36739 non-null  object\n",
            " 8   Category Classification Category  Code             36739 non-null  object\n",
            " 9   Category Classification Category  Display Name     36739 non-null  object\n",
            " 10  Status                                             36739 non-null  object\n",
            " 11  Name                                               36739 non-null  object\n",
            " 12  Acronym                                            1123 non-null   object\n",
            " 13  Alternative Name                                   3260 non-null   object\n",
            " 14  Alternative Name Language                          3076 non-null   object\n",
            " 15  Version Timestamp                                  36738 non-null  object\n",
            " 16  Location ID                                        36738 non-null  object\n",
            " 17  Location Link Href                                 36739 non-null  object\n",
            " 18  Current Version                                    36739 non-null  object\n",
            " 19  Mapping Code System.1                              27847 non-null  object\n",
            " 20  Mapping Code System Name.1                         27847 non-null  object\n",
            " 21  Mapping Code.1                                     27846 non-null  object\n",
            " 22  Status.1                                           36739 non-null  object\n",
            " 23  Address PO Box                                     264 non-null    object\n",
            " 24  Address Postal Code                                35953 non-null  object\n",
            " 25  Address Country Code                               36738 non-null  object\n",
            " 26  Address Country Display Name                       36739 non-null  object\n",
            " 27  Address GPS Location                               27625 non-null  object\n",
            " 28  Address Language                                   36739 non-null  object\n",
            " 29  Address Line 1                                     36738 non-null  object\n",
            " 30  Address Line 2                                     28485 non-null  object\n",
            " 31  Address Line 3                                     23557 non-null  object\n",
            " 32  Address Line 4                                     21413 non-null  object\n",
            " 33  Address City                                       36565 non-null  object\n",
            " 34  Address State                                      22962 non-null  object\n",
            " 35  Address Region                                     20778 non-null  object\n",
            " 36  Address County                                     27196 non-null  object\n",
            " 37  Communication Details Email Address                625 non-null    object\n",
            " 38  Communication Details Phone Number Country Prefix  543 non-null    object\n",
            " 39  Communication Details Phone Number                 543 non-null    object\n",
            " 40  Communication Details Phone Number Extension       116 non-null    object\n",
            " 41  Version Timestamp.1                                36737 non-null  object\n",
            "dtypes: object(42)\n",
            "memory usage: 11.8+ MB\n"
          ],
          "name": "stdout"
        }
      ]
    },
    {
      "cell_type": "markdown",
      "metadata": {
        "id": "V7IedIMrSvCF",
        "colab_type": "text"
      },
      "source": [
        "# Creating training, validation and testing Dataset\n",
        "\n",
        "Data cleaning and preparation:\n",
        "  1. Every column values count, non-null values value count is taken.\n",
        "\n",
        "For every semantics we are going to split the data into 3 parts\n",
        "1. Training - 60% of column values.\n",
        "2. Validation - 20% of column values. \n",
        "3. Testing - 20% of column values."
      ]
    },
    {
      "cell_type": "code",
      "metadata": {
        "id": "ra0xPQs8UJFx",
        "colab_type": "code",
        "colab": {}
      },
      "source": [
        "import numpy as np"
      ],
      "execution_count": 12,
      "outputs": []
    },
    {
      "cell_type": "code",
      "metadata": {
        "id": "pQrOzMSk0BF_",
        "colab_type": "code",
        "colab": {
          "base_uri": "https://localhost:8080/",
          "height": 137
        },
        "outputId": "622ff648-bc4c-465d-c966-8875d7394a3a"
      },
      "source": [
        "#1.Organisation ID\n",
        "\n",
        "#Counting non-empty values\n",
        "onlyValues = len(dff['Organisation ID'].dropna())\n",
        "\n",
        "#Replacing nan values with empty string ''\n",
        "dff1 = dff['Organisation ID'].replace(np.nan, '', regex=True) \n",
        "\n",
        "row0 = {'UniqueId':np.random.randint(491859, 550000),'ColumnName':dff.columns[0], 'type':'organisationID', 'Count':len(dff1.values), 'Values':dff1.values, 'NonEmptyValuesCount':onlyValues}\n",
        "row0"
      ],
      "execution_count": 14,
      "outputs": [
        {
          "output_type": "execute_result",
          "data": {
            "text/plain": [
              "{'ColumnName': 'Organisation ID',\n",
              " 'Count': 36739,\n",
              " 'NonEmptyValuesCount': 36739,\n",
              " 'UniqueId': 512489,\n",
              " 'Values': array(['ORG-100003912', 'ORG-100003912', 'ORG-100003912', ...,\n",
              "        'ORG-100016863', 'ORG-100018303', 'ORG-100023603'], dtype=object),\n",
              " 'type': 'organisationID'}"
            ]
          },
          "metadata": {
            "tags": []
          },
          "execution_count": 14
        }
      ]
    },
    {
      "cell_type": "code",
      "metadata": {
        "id": "6taMVLwHV7wm",
        "colab_type": "code",
        "colab": {
          "base_uri": "https://localhost:8080/",
          "height": 154
        },
        "outputId": "62606c89-3c07-476d-a54f-9eef7b128ee6"
      },
      "source": [
        "#2. Identifier code\n",
        "\n",
        "#Counting non-empty values\n",
        "onlyValues = len(dff['Identifier Code'].dropna())\n",
        "\n",
        "#Replacing nan values with empty string ''\n",
        "dff1 = dff['Identifier Code'].replace(np.nan, '', regex=True) \n",
        "\n",
        "row1 = {'UniqueId':np.random.randint(491859, 550000),'ColumnName':dff.columns[1], 'type':'identifierCode', 'Count':len(dff1.values), 'Values':dff1.values, 'NonEmptyValuesCount':onlyValues}\n",
        "row1"
      ],
      "execution_count": 15,
      "outputs": [
        {
          "output_type": "execute_result",
          "data": {
            "text/plain": [
              "{'ColumnName': 'Identifier Code',\n",
              " 'Count': 36739,\n",
              " 'NonEmptyValuesCount': 36739,\n",
              " 'UniqueId': 502591,\n",
              " 'Values': array(['ORG-100012803¦ORG-100003912', 'ORG-100012803¦ORG-100003912',\n",
              "        'ORG-100012803¦ORG-100003912', ..., 'ORG-100016863',\n",
              "        'ORG-100018303', 'ORG-100023603'], dtype=object),\n",
              " 'type': 'identifierCode'}"
            ]
          },
          "metadata": {
            "tags": []
          },
          "execution_count": 15
        }
      ]
    },
    {
      "cell_type": "code",
      "metadata": {
        "id": "hg8IuPXCWYef",
        "colab_type": "code",
        "colab": {
          "base_uri": "https://localhost:8080/",
          "height": 137
        },
        "outputId": "ae7bfcf8-a1cf-4e24-9aca-0ab4991941dc"
      },
      "source": [
        "#3.Mapping Code System\n",
        "\n",
        "#Counting non-empty values\n",
        "onlyValues = len(dff['Mapping Code System'].dropna())\n",
        "\n",
        "#Replacing nan values with empty string ''\n",
        "dff1 = dff['Mapping Code System'].replace(np.nan, '', regex=True) \n",
        "\n",
        "row2 = {'UniqueId':np.random.randint(491859, 550000),'ColumnName':dff.columns[2], 'type':'mappingCodeSystem', 'Count':len(dff1.values), 'Values':dff1.values, 'NonEmptyValuesCount':onlyValues }\n",
        "row2"
      ],
      "execution_count": 17,
      "outputs": [
        {
          "output_type": "execute_result",
          "data": {
            "text/plain": [
              "{'ColumnName': 'Mapping Code System',\n",
              " 'Count': 36739,\n",
              " 'NonEmptyValuesCount': 2419,\n",
              " 'UniqueId': 544461,\n",
              " 'Values': array(['200000005700', '200000005700', '200000005700', ..., '', '', ''],\n",
              "       dtype=object),\n",
              " 'type': 'mappingCodeSystem'}"
            ]
          },
          "metadata": {
            "tags": []
          },
          "execution_count": 17
        }
      ]
    },
    {
      "cell_type": "code",
      "metadata": {
        "id": "I3oos6v72778",
        "colab_type": "code",
        "colab": {
          "base_uri": "https://localhost:8080/",
          "height": 171
        },
        "outputId": "ca40cc0f-97e2-40e8-f528-5955ef18698b"
      },
      "source": [
        "#4.Mapping Code System Name\n",
        "\n",
        "#Counting non-empty values\n",
        "onlyValues = len(dff['Mapping Code System Name'].dropna())\n",
        "\n",
        "#Replacing nan values with empty string ''\n",
        "dff1 = dff['Mapping Code System Name'].replace(np.nan, '', regex=True) \n",
        "\n",
        "row3 = {'UniqueId':np.random.randint(491859, 550000),'ColumnName':dff.columns[3], 'type':'mappingCodeSystemName', 'Count':len(dff1.values), 'Values':dff1.values, 'NonEmptyValuesCount':onlyValues }\n",
        "row3"
      ],
      "execution_count": 18,
      "outputs": [
        {
          "output_type": "execute_result",
          "data": {
            "text/plain": [
              "{'ColumnName': 'Mapping Code System Name',\n",
              " 'Count': 36739,\n",
              " 'NonEmptyValuesCount': 2419,\n",
              " 'UniqueId': 524068,\n",
              " 'Values': array(['EudraVigilance Veterinary Dynamics',\n",
              "        'EudraVigilance Veterinary Dynamics',\n",
              "        'EudraVigilance Veterinary Dynamics', ..., '', '', ''],\n",
              "       dtype=object),\n",
              " 'type': 'mappingCodeSystemName'}"
            ]
          },
          "metadata": {
            "tags": []
          },
          "execution_count": 18
        }
      ]
    },
    {
      "cell_type": "code",
      "metadata": {
        "id": "kZSPCI5f48EE",
        "colab_type": "code",
        "colab": {
          "base_uri": "https://localhost:8080/",
          "height": 120
        },
        "outputId": "1ddee6ae-3dbf-4f44-9f5f-f7156ef13b9e"
      },
      "source": [
        "#5.Mapping Code \n",
        "\n",
        "#Counting non-empty values\n",
        "onlyValues = len(dff['Mapping Code'].dropna())\n",
        "\n",
        "#Replacing nan values with empty string ''\n",
        "dff1 = dff['Mapping Code'].replace(np.nan, '', regex=True) \n",
        "\n",
        "row4 = {'UniqueId':np.random.randint(491859, 550000),'ColumnName':dff.columns[4], 'type':'mappingCode', 'Count':len(dff1.values), 'Values':dff1.values,  'NonEmptyValuesCount':onlyValues }\n",
        "row4\n"
      ],
      "execution_count": 19,
      "outputs": [
        {
          "output_type": "execute_result",
          "data": {
            "text/plain": [
              "{'ColumnName': 'Mapping Code',\n",
              " 'Count': 36739,\n",
              " 'NonEmptyValuesCount': 2339,\n",
              " 'UniqueId': 512820,\n",
              " 'Values': array(['', '', '', ..., '', '', ''], dtype=object),\n",
              " 'type': 'mappingCode'}"
            ]
          },
          "metadata": {
            "tags": []
          },
          "execution_count": 19
        }
      ]
    },
    {
      "cell_type": "code",
      "metadata": {
        "id": "yqI1T7hXe2F7",
        "colab_type": "code",
        "colab": {
          "base_uri": "https://localhost:8080/",
          "height": 120
        },
        "outputId": "1637f904-8961-4b12-f87c-4706533af332"
      },
      "source": [
        "#6.Mapping Valid From\n",
        "\n",
        "#Counting non-empty values\n",
        "onlyValues = len(dff['Mapping Valid From'].dropna())\n",
        "\n",
        "#Replacing nan values with empty string ''\n",
        "dff1 = dff['Mapping Valid From'].replace(np.nan, '', regex=True) \n",
        "\n",
        "row5 = {'UniqueId':np.random.randint(491859, 550000),'ColumnName':dff.columns[5], 'type':'mappingValidFrom', 'Count':len(dff1.values), 'Values':dff1.values,  'NonEmptyValuesCount':onlyValues }\n",
        "row5"
      ],
      "execution_count": 20,
      "outputs": [
        {
          "output_type": "execute_result",
          "data": {
            "text/plain": [
              "{'ColumnName': 'Mapping Valid From',\n",
              " 'Count': 36739,\n",
              " 'NonEmptyValuesCount': 1940,\n",
              " 'UniqueId': 514643,\n",
              " 'Values': array(['', '', '', ..., '', '', ''], dtype=object),\n",
              " 'type': 'mappingValidFrom'}"
            ]
          },
          "metadata": {
            "tags": []
          },
          "execution_count": 20
        }
      ]
    },
    {
      "cell_type": "code",
      "metadata": {
        "id": "RZUfrRTRfdIJ",
        "colab_type": "code",
        "colab": {
          "base_uri": "https://localhost:8080/",
          "height": 188
        },
        "outputId": "a3e45634-634b-47ce-8591-fcb15a11d180"
      },
      "source": [
        "# #7.Mapping Valid To  - Contains only 89 values- so omitted\n",
        "\n",
        "# #Dropna\n",
        "dff4 = dff['Mapping Valid To'].dropna()\n",
        "\n",
        "validTo = {'Count':len(dff4.values), 'Values':dff4.values, 'type':'MappingValidTo'}\n",
        "validTo"
      ],
      "execution_count": 21,
      "outputs": [
        {
          "output_type": "execute_result",
          "data": {
            "text/plain": [
              "{'Count': 89,\n",
              " 'Values': array(['¦', '¦', '¦', '¦', '¦', '¦', '¦', '¦', '¦', '¦', '¦', '¦', '¦',\n",
              "        '¦', '¦', '¦', '¦', '¦', '¦', '¦', '¦', '¦', '¦', '¦', '¦', '¦',\n",
              "        '¦', '¦', '¦', '¦', '¦', '¦', '¦', '¦', '¦', '¦', '¦', '¦', '¦',\n",
              "        '¦', '¦', '¦', '¦', '¦', '¦', '¦', '¦', '¦', '¦', '¦', '¦', '¦',\n",
              "        '¦', '¦', '¦', '¦', '¦', '¦', '¦', '¦', '¦', '¦', '¦', '¦', '¦',\n",
              "        '¦', '¦', '¦', '¦', '¦', '¦', '¦', '¦', '¦', '¦', '¦', '¦', '¦',\n",
              "        '¦', '¦', '¦', '¦', '¦', '¦', '¦', '¦', '¦', '¦', '¦'],\n",
              "       dtype=object),\n",
              " 'type': 'MappingValidTo'}"
            ]
          },
          "metadata": {
            "tags": []
          },
          "execution_count": 21
        }
      ]
    },
    {
      "cell_type": "code",
      "metadata": {
        "id": "KzBmjcaxh95o",
        "colab_type": "code",
        "colab": {
          "base_uri": "https://localhost:8080/",
          "height": 137
        },
        "outputId": "16a85784-58c9-43ab-c8d6-a6df1816ec58"
      },
      "source": [
        "#7. Category Classification Category Code System Name\n",
        "\n",
        "#Counting non-empty values\n",
        "onlyValues = len(dff['Category Classification Category Code System Name'].dropna())\n",
        "\n",
        "#Replacing nan values with empty string ''\n",
        "dff1 = dff['Category Classification Category Code System Name'].replace(np.nan, '', regex=True) \n",
        "\n",
        "row6 = {'UniqueId':np.random.randint(491859, 550000),'ColumnName':dff.columns[7], 'type':'categoryClassificationCodeSystemName', 'Count':len(dff1.values), 'Values':dff1.values,'NonEmptyValuesCount':onlyValues }\n",
        "row6"
      ],
      "execution_count": 22,
      "outputs": [
        {
          "output_type": "execute_result",
          "data": {
            "text/plain": [
              "{'ColumnName': 'Category Classification Category Code System Name',\n",
              " 'Count': 36739,\n",
              " 'NonEmptyValuesCount': 36739,\n",
              " 'UniqueId': 542338,\n",
              " 'Values': array(['Type¦Type', 'Type¦Type', 'Type¦Type', ..., 'Type¦Type',\n",
              "        'Type¦Type', 'Type¦Type'], dtype=object),\n",
              " 'type': 'categoryClassificationCodeSystemName'}"
            ]
          },
          "metadata": {
            "tags": []
          },
          "execution_count": 22
        }
      ]
    },
    {
      "cell_type": "code",
      "metadata": {
        "id": "lrtqmx9Dim7a",
        "colab_type": "code",
        "colab": {
          "base_uri": "https://localhost:8080/",
          "height": 171
        },
        "outputId": "f208e4d0-950a-4b78-817a-c603b06361f9"
      },
      "source": [
        "#8. Category Classification Category Code System Name\n",
        "\n",
        "#Counting non-empty values\n",
        "onlyValues = len(dff['Category Classification Category  Code'].dropna())\n",
        "\n",
        "#Replacing nan values with empty string ''\n",
        "dff1 = dff['Category Classification Category  Code'].replace(np.nan, '', regex=True) \n",
        "\n",
        "# row7 = {'Count':len(dff6.values), 'Values':dff6.values, 'type':'CategoryClassificationCode'}\n",
        "row7 = {'UniqueId':np.random.randint(491859, 550000),'ColumnName':dff.columns[8], 'type':'categoryClassificationCode', 'Count':len(dff1.values), 'Values':dff1.values ,'NonEmptyValuesCount':onlyValues }\n",
        "row7"
      ],
      "execution_count": 23,
      "outputs": [
        {
          "output_type": "execute_result",
          "data": {
            "text/plain": [
              "{'ColumnName': 'Category Classification Category  Code',\n",
              " 'Count': 36739,\n",
              " 'NonEmptyValuesCount': 36739,\n",
              " 'UniqueId': 523956,\n",
              " 'Values': array(['200000000088¦200000000084', '200000000088¦200000000084',\n",
              "        '200000000088¦200000000084', ..., '200000000080¦200000000081',\n",
              "        '200000000080¦200000000081', '200000000080¦200000000081'],\n",
              "       dtype=object),\n",
              " 'type': 'categoryClassificationCode'}"
            ]
          },
          "metadata": {
            "tags": []
          },
          "execution_count": 23
        }
      ]
    },
    {
      "cell_type": "code",
      "metadata": {
        "id": "FkYhBVKmj8dm",
        "colab_type": "code",
        "colab": {
          "base_uri": "https://localhost:8080/",
          "height": 206
        },
        "outputId": "4f303a6e-8d06-4276-d3a7-3b8227d800c6"
      },
      "source": [
        "#9. Category Classification Category  Display Name\n",
        "dff1 = dff['Category Classification Category  Display Name'].values\n",
        "\n",
        "#Counting non-empty values\n",
        "onlyValues = len(dff['Category Classification Category  Display Name'].dropna())\n",
        "\n",
        "#Replacing nan values with empty string ''\n",
        "dff1 = dff['Category Classification Category  Display Name'].replace(np.nan, '', regex=True) \n",
        "\n",
        "row8 = {'UniqueId':np.random.randint(491859, 550000),'ColumnName':dff.columns[9], 'type':'categoryClassificationName', 'Count':len(dff1.values), 'Values':dff1.values, 'NonEmptyValuesCount':onlyValues }\n",
        "row8"
      ],
      "execution_count": 24,
      "outputs": [
        {
          "output_type": "execute_result",
          "data": {
            "text/plain": [
              "{'ColumnName': 'Category Classification Category  Display Name',\n",
              " 'Count': 36739,\n",
              " 'NonEmptyValuesCount': 36739,\n",
              " 'UniqueId': 491930,\n",
              " 'Values': array(['EEA National Competent authority¦Regulatory Authority',\n",
              "        'EEA National Competent authority¦Regulatory Authority',\n",
              "        'EEA National Competent authority¦Regulatory Authority', ...,\n",
              "        'Industry¦Pharmaceutical company',\n",
              "        'Industry¦Pharmaceutical company',\n",
              "        'Industry¦Pharmaceutical company'], dtype=object),\n",
              " 'type': 'categoryClassificationName'}"
            ]
          },
          "metadata": {
            "tags": []
          },
          "execution_count": 24
        }
      ]
    },
    {
      "cell_type": "code",
      "metadata": {
        "id": "TsmRF_CUlNfv",
        "colab_type": "code",
        "colab": {
          "base_uri": "https://localhost:8080/",
          "height": 137
        },
        "outputId": "c73b7ce4-f8c3-4311-e911-4a317df5c118"
      },
      "source": [
        "# 11  Status 36739 non-null  object\n",
        "\n",
        "#Counting non-empty values\n",
        "onlyValues = len(dff['Status'].dropna())\n",
        "\n",
        "#Replacing nan values with empty string ''\n",
        "dff1 = dff['Status'].replace(np.nan, '', regex=True) \n",
        "\n",
        "row9 = {'UniqueId':np.random.randint(491859, 550000),'ColumnName':dff.columns[10], 'type':'status', 'Count':len(dff1.values), 'Values':dff1.values, 'NonEmptyValuesCount':onlyValues }\n",
        "row9"
      ],
      "execution_count": 25,
      "outputs": [
        {
          "output_type": "execute_result",
          "data": {
            "text/plain": [
              "{'ColumnName': 'Status',\n",
              " 'Count': 36739,\n",
              " 'NonEmptyValuesCount': 36739,\n",
              " 'UniqueId': 528801,\n",
              " 'Values': array(['ACTIVE', 'ACTIVE', 'ACTIVE', ..., 'ACTIVE', 'ACTIVE', 'ACTIVE'],\n",
              "       dtype=object),\n",
              " 'type': 'status'}"
            ]
          },
          "metadata": {
            "tags": []
          },
          "execution_count": 25
        }
      ]
    },
    {
      "cell_type": "code",
      "metadata": {
        "id": "JYPdJQDfmBOs",
        "colab_type": "code",
        "colab": {
          "base_uri": "https://localhost:8080/",
          "height": 188
        },
        "outputId": "4f52466d-5c2b-408f-c65a-6fee07f28ace"
      },
      "source": [
        "# 12 Name\n",
        "dff1 = dff['Name'].values\n",
        "dff1 = dff['Name'].replace(np.nan, '', regex=True) # All data frame\n",
        "\n",
        "#Counting non-empty values\n",
        "onlyValues = len(dff['Name'].dropna())\n",
        "\n",
        "#Replacing nan values with empty string ''\n",
        "dff1 = dff['Name'].replace(np.nan, '', regex=True) \n",
        "\n",
        "row10 = {'UniqueId':np.random.randint(491859, 550000),'ColumnName':dff.columns[11], 'type':'organisation', 'Count':len(dff1.values), 'Values':dff1.values, 'NonEmptyValuesCount':onlyValues }\n",
        "row10"
      ],
      "execution_count": 26,
      "outputs": [
        {
          "output_type": "execute_result",
          "data": {
            "text/plain": [
              "{'ColumnName': 'Name',\n",
              " 'Count': 36739,\n",
              " 'NonEmptyValuesCount': 36739,\n",
              " 'UniqueId': 545280,\n",
              " 'Values': array(['Austrian Agency for Health and Food Safety Limited',\n",
              "        'Austrian Agency for Health and Food Safety Limited',\n",
              "        'Austrian Agency for Health and Food Safety Limited', ...,\n",
              "        'Emmet Feerick Pharmacy Limited', 'Grieshaber Logistics Group AG',\n",
              "        'Philipps University Marburg'], dtype=object),\n",
              " 'type': 'organisation'}"
            ]
          },
          "metadata": {
            "tags": []
          },
          "execution_count": 26
        }
      ]
    },
    {
      "cell_type": "code",
      "metadata": {
        "id": "sNSj_xAqmnJb",
        "colab_type": "code",
        "colab": {
          "base_uri": "https://localhost:8080/",
          "height": 120
        },
        "outputId": "4a68dd1b-f7f8-40e0-fd4a-250159b83e43"
      },
      "source": [
        "#  13  Acronym 1123 non-null   object\n",
        "\n",
        "#Counting non-empty values\n",
        "onlyValues = len(dff['Acronym'].dropna())\n",
        "\n",
        "#Replacing nan values with empty string ''\n",
        "dff1 = dff['Acronym'].replace(np.nan, '', regex=True) \n",
        "\n",
        "row11 = {'UniqueId':np.random.randint(491859, 550000),'ColumnName':dff.columns[12], 'type':'acronym', 'Count':len(dff1.values), 'Values':dff1.values,  'NonEmptyValuesCount':onlyValues }\n",
        "row11"
      ],
      "execution_count": 27,
      "outputs": [
        {
          "output_type": "execute_result",
          "data": {
            "text/plain": [
              "{'ColumnName': 'Acronym',\n",
              " 'Count': 36739,\n",
              " 'NonEmptyValuesCount': 1123,\n",
              " 'UniqueId': 537608,\n",
              " 'Values': array(['AGES', 'AGES', 'AGES', ..., '', '', ''], dtype=object),\n",
              " 'type': 'acronym'}"
            ]
          },
          "metadata": {
            "tags": []
          },
          "execution_count": 27
        }
      ]
    },
    {
      "cell_type": "code",
      "metadata": {
        "id": "EtOxNXVyldlt",
        "colab_type": "code",
        "colab": {
          "base_uri": "https://localhost:8080/",
          "height": 191
        },
        "outputId": "e6dcba95-edbf-4a13-fb10-623b36f4060f"
      },
      "source": [
        "#13  Alternative Name  3260 non-null   object\n",
        "#AlternativeName - Not included \n",
        "\n",
        "#Counting non-empty values\n",
        "onlyValues = len(dff['Alternative Name '].dropna())\n",
        "\n",
        "#Replacing nan values with empty string ''\n",
        "dff1 = dff['Alternative Name '].replace(np.nan, '', regex=True) \n",
        "\n",
        "row12 = {'UniqueId':np.random.randint(491859, 550000),'ColumnName':dff.columns[13], 'type':'alternativeName', 'Count':len(dff1.values), 'Values':dff1.values,  'NonEmptyValuesCount':onlyValues  }\n",
        "row12\n"
      ],
      "execution_count": 28,
      "outputs": [
        {
          "output_type": "execute_result",
          "data": {
            "text/plain": [
              "{'ColumnName': 'Alternative Name ',\n",
              " 'Count': 36739,\n",
              " 'NonEmptyValuesCount': 3260,\n",
              " 'UniqueId': 496305,\n",
              " 'Values': array(['AGES - Österreichische Agentur für Gesundheit und Ernährungssicherheit GmbH¦Österreichische Agentur für Gesundheit und Ernährungssicherheit GmbH',\n",
              "        'AGES - Österreichische Agentur für Gesundheit und Ernährungssicherheit GmbH¦Österreichische Agentur für Gesundheit und Ernährungssicherheit GmbH',\n",
              "        'AGES - Österreichische Agentur für Gesundheit und Ernährungssicherheit GmbH¦Österreichische Agentur für Gesundheit und Ernährungssicherheit GmbH',\n",
              "        ..., '', '', ''], dtype=object),\n",
              " 'type': 'alternativeName'}"
            ]
          },
          "metadata": {
            "tags": []
          },
          "execution_count": 28
        }
      ]
    },
    {
      "cell_type": "code",
      "metadata": {
        "id": "mia2_jyspGj5",
        "colab_type": "code",
        "colab": {
          "base_uri": "https://localhost:8080/",
          "height": 120
        },
        "outputId": "8c1cc93b-b3f1-4a3e-fb1a-2d7fe6928f60"
      },
      "source": [
        "#  14  Alternative Name Language 3076 non-null   object\n",
        "\n",
        "#Counting non-empty values\n",
        "onlyValues = len(dff['Alternative Name Language'].dropna())\n",
        "\n",
        "#Replacing nan values with empty string ''\n",
        "dff1 = dff['Alternative Name Language'].replace(np.nan, '', regex=True) \n",
        "\n",
        "row13 = {'UniqueId':np.random.randint(491859, 550000),'ColumnName':dff.columns[14], 'type':'languageCode', 'Count':len(dff1.values), 'Values':dff1.values, 'NonEmptyValuesCount':onlyValues }\n",
        "row13"
      ],
      "execution_count": 29,
      "outputs": [
        {
          "output_type": "execute_result",
          "data": {
            "text/plain": [
              "{'ColumnName': 'Alternative Name Language',\n",
              " 'Count': 36739,\n",
              " 'NonEmptyValuesCount': 3076,\n",
              " 'UniqueId': 534815,\n",
              " 'Values': array(['DE¦DE', 'DE¦DE', 'DE¦DE', ..., '', '', ''], dtype=object),\n",
              " 'type': 'languageCode'}"
            ]
          },
          "metadata": {
            "tags": []
          },
          "execution_count": 29
        }
      ]
    },
    {
      "cell_type": "code",
      "metadata": {
        "id": "j2AlusmnpUIw",
        "colab_type": "code",
        "colab": {
          "base_uri": "https://localhost:8080/",
          "height": 171
        },
        "outputId": "74e65bae-4a62-4cb2-81f8-90ce3a585177"
      },
      "source": [
        "#  15  Version Timestamp 36738 non-null  object\n",
        "#Counting non-empty values\n",
        "onlyValues = len(dff['Version Timestamp'].dropna())\n",
        "\n",
        "#Replacing nan values with empty string ''\n",
        "dff1 = dff['Version Timestamp'].replace(np.nan, '', regex=True) \n",
        "\n",
        "row14 = {'UniqueId':np.random.randint(491859, 550000),'ColumnName':dff.columns[15], 'type':'versionTimestamp', 'Count':len(dff1.values), 'Values':dff1.values, 'NonEmptyValuesCount':onlyValues }\n",
        "row14"
      ],
      "execution_count": 30,
      "outputs": [
        {
          "output_type": "execute_result",
          "data": {
            "text/plain": [
              "{'ColumnName': 'Version Timestamp',\n",
              " 'Count': 36739,\n",
              " 'NonEmptyValuesCount': 36738,\n",
              " 'UniqueId': 531444,\n",
              " 'Values': array(['2020-01-15T11:19:10.195+01:00', '2020-01-15T11:19:10.195+01:00',\n",
              "        '2020-01-15T11:19:10.195+01:00', ...,\n",
              "        '2020-07-15T16:52:08.548+02:00', '2020-07-15T16:56:12.37+02:00',\n",
              "        '2020-07-15T16:58:47.875+02:00'], dtype=object),\n",
              " 'type': 'versionTimestamp'}"
            ]
          },
          "metadata": {
            "tags": []
          },
          "execution_count": 30
        }
      ]
    },
    {
      "cell_type": "code",
      "metadata": {
        "id": "SXjuHz7KrGdA",
        "colab_type": "code",
        "colab": {
          "base_uri": "https://localhost:8080/",
          "height": 137
        },
        "outputId": "fa8d1507-0752-4235-8cda-49daeaa7c327"
      },
      "source": [
        "#  16  Location ID 36738 non-null  object\n",
        "dff1 = dff['Location ID'].values\n",
        "dff1 = dff['Location ID'].replace(np.nan, '', regex=True) # All data frame\n",
        "\n",
        "#Counting non-empty values\n",
        "onlyValues = len(dff['Location ID'].dropna())\n",
        "\n",
        "#Replacing nan values with empty string ''\n",
        "dff1 = dff['Location ID'].replace(np.nan, '', regex=True) \n",
        "\n",
        "row15 = {'UniqueId':np.random.randint(491859, 550000),'ColumnName':dff.columns[16], 'type':'locationID', 'Count':len(dff1.values), 'Values':dff1.values, 'NonEmptyValuesCount':onlyValues }\n",
        "row15"
      ],
      "execution_count": 31,
      "outputs": [
        {
          "output_type": "execute_result",
          "data": {
            "text/plain": [
              "{'ColumnName': 'Location ID',\n",
              " 'Count': 36739,\n",
              " 'NonEmptyValuesCount': 36738,\n",
              " 'UniqueId': 531629,\n",
              " 'Values': array(['LOC-100000000', 'LOC-100000001', 'LOC-100000002', ...,\n",
              "        'LOC-100039799', 'LOC-100039800', 'LOC-100039801'], dtype=object),\n",
              " 'type': 'locationID'}"
            ]
          },
          "metadata": {
            "tags": []
          },
          "execution_count": 31
        }
      ]
    },
    {
      "cell_type": "code",
      "metadata": {
        "id": "qfzcpXOXrlqA",
        "colab_type": "code",
        "colab": {
          "base_uri": "https://localhost:8080/",
          "height": 223
        },
        "outputId": "83273fc2-17f7-4516-b6e1-4abdf4609c18"
      },
      "source": [
        "#  17  Location Link Href  non-null  object\n",
        "\n",
        "#Counting non-empty values\n",
        "onlyValues = len(dff['Location Link Href'].dropna())\n",
        "\n",
        "#Replacing nan values with empty string ''\n",
        "dff1 = dff['Location Link Href'].replace(np.nan, '', regex=True) \n",
        "\n",
        "row16 = {'UniqueId':np.random.randint(491859, 550000),'ColumnName':dff.columns[17], 'type':'locationHrefLink', 'Count':len(dff1.values), 'Values':dff1.values, 'NonEmptyValuesCount':onlyValues }\n",
        "row16\n"
      ],
      "execution_count": 32,
      "outputs": [
        {
          "output_type": "execute_result",
          "data": {
            "text/plain": [
              "{'ColumnName': 'Location Link Href',\n",
              " 'Count': 36739,\n",
              " 'NonEmptyValuesCount': 36739,\n",
              " 'UniqueId': 514955,\n",
              " 'Values': array(['https://spor.ema.europa.eu/v1/locations/LOC-100000000',\n",
              "        'https://spor.ema.europa.eu/v1/locations/LOC-100000001',\n",
              "        'https://spor.ema.europa.eu/v1/locations/LOC-100000002', ...,\n",
              "        'https://spor.ema.europa.eu/v1/locations/LOC-100039799',\n",
              "        'https://spor.ema.europa.eu/v1/locations/LOC-100039800',\n",
              "        'https://spor.ema.europa.eu/v1/locations/LOC-100039801'],\n",
              "       dtype=object),\n",
              " 'type': 'locationHrefLink'}"
            ]
          },
          "metadata": {
            "tags": []
          },
          "execution_count": 32
        }
      ]
    },
    {
      "cell_type": "code",
      "metadata": {
        "id": "3ey5cCsA_MTQ",
        "colab_type": "code",
        "colab": {
          "base_uri": "https://localhost:8080/",
          "height": 120
        },
        "outputId": "1322dd53-f377-4d0c-d555-de8b4edb4f9e"
      },
      "source": [
        "#18 Current Version\n",
        "#Counting non-empty values\n",
        "onlyValues = len(dff['Current Version'].dropna())\n",
        "\n",
        "#Replacing nan values with empty string ''\n",
        "dff1 = dff['Current Version'].replace(np.nan, '', regex=True) \n",
        "\n",
        "row17 = {'UniqueId':np.random.randint(491859, 550000),'ColumnName':dff.columns[18], 'type':'currentVersion', 'Count':len(dff1.values), 'Values':dff1.values, 'NonEmptyValuesCount':onlyValues }\n",
        "row17"
      ],
      "execution_count": 33,
      "outputs": [
        {
          "output_type": "execute_result",
          "data": {
            "text/plain": [
              "{'ColumnName': 'Current Version',\n",
              " 'Count': 36739,\n",
              " 'NonEmptyValuesCount': 36739,\n",
              " 'UniqueId': 520167,\n",
              " 'Values': array(['Y', 'Y', 'Y', ..., 'Y', 'Y', 'Y'], dtype=object),\n",
              " 'type': 'currentVersion'}"
            ]
          },
          "metadata": {
            "tags": []
          },
          "execution_count": 33
        }
      ]
    },
    {
      "cell_type": "code",
      "metadata": {
        "id": "q8OEGN0o_fCo",
        "colab_type": "code",
        "colab": {
          "base_uri": "https://localhost:8080/",
          "height": 137
        },
        "outputId": "2e5c7bfd-2792-4049-aa0d-bcd337e1a5f5"
      },
      "source": [
        "#  19  Mapping Code System.1 27847 non-null  object\n",
        "\n",
        "#Counting non-empty values\n",
        "onlyValues = len(dff['Mapping Code System.1'].dropna())\n",
        "\n",
        "#Replacing nan values with empty string ''\n",
        "dff1 = dff['Mapping Code System.1'].replace(np.nan, '', regex=True) \n",
        "\n",
        "row18 = {'UniqueId':np.random.randint(491859, 550000),'ColumnName':dff.columns[19], 'type':'mappingCodeSystem', 'Count':len(dff1.values), 'Values':dff1.values, 'NonEmptyValuesCount':onlyValues }\n",
        "row18"
      ],
      "execution_count": 34,
      "outputs": [
        {
          "output_type": "execute_result",
          "data": {
            "text/plain": [
              "{'ColumnName': 'Mapping Code System.1',\n",
              " 'Count': 36739,\n",
              " 'NonEmptyValuesCount': 27847,\n",
              " 'UniqueId': 514641,\n",
              " 'Values': array(['100000000000', '100000167429¦100000167429', '100000000000', ...,\n",
              "        '100000000000', '', ''], dtype=object),\n",
              " 'type': 'mappingCodeSystem'}"
            ]
          },
          "metadata": {
            "tags": []
          },
          "execution_count": 34
        }
      ]
    },
    {
      "cell_type": "code",
      "metadata": {
        "id": "1j3RP9tPBkv1",
        "colab_type": "code",
        "colab": {
          "base_uri": "https://localhost:8080/",
          "height": 171
        },
        "outputId": "8bc56f33-24c9-49a8-e3ec-c2d4d975ffca"
      },
      "source": [
        "#  20  Mapping Code System Name.1   27847 non-null  object\n",
        "\n",
        "#Counting non-empty values\n",
        "onlyValues = len(dff['Mapping Code System Name.1'].dropna())\n",
        "\n",
        "#Replacing nan values with empty string ''\n",
        "dff1 = dff['Mapping Code System Name.1'].replace(np.nan, '', regex=True) \n",
        "\n",
        "row19 = {'UniqueId':np.random.randint(491859, 550000),'ColumnName':dff.columns[20], 'type':'mappingCodeSystemName', 'Count':len(dff1.values), 'Values':dff1.values, 'NonEmptyValuesCount':onlyValues  }\n",
        "row19\n"
      ],
      "execution_count": 35,
      "outputs": [
        {
          "output_type": "execute_result",
          "data": {
            "text/plain": [
              "{'ColumnName': 'Mapping Code System Name.1',\n",
              " 'Count': 36739,\n",
              " 'NonEmptyValuesCount': 27847,\n",
              " 'UniqueId': 527296,\n",
              " 'Values': array(['European Inspections Database',\n",
              "        'European Inspections Database¦European Inspections Database',\n",
              "        'European Inspections Database', ...,\n",
              "        'European Inspections Database', '', ''], dtype=object),\n",
              " 'type': 'mappingCodeSystemName'}"
            ]
          },
          "metadata": {
            "tags": []
          },
          "execution_count": 35
        }
      ]
    },
    {
      "cell_type": "code",
      "metadata": {
        "id": "Gdg0rAQUBwKX",
        "colab_type": "code",
        "colab": {
          "base_uri": "https://localhost:8080/",
          "height": 137
        },
        "outputId": "a038660c-9c95-410e-ca11-279ee0bba5b8"
      },
      "source": [
        "#  21  Mapping Code.1 27846 non-null  object\n",
        "\n",
        "#Counting non-empty values\n",
        "onlyValues = len(dff['Mapping Code.1'].dropna())\n",
        "\n",
        "\n",
        "#Replacing nan values with empty string ''\n",
        "dff1 = dff['Mapping Code.1'].replace(np.nan, '', regex=True) \n",
        "\n",
        "row20 = {'UniqueId':np.random.randint(491859, 550000),'ColumnName':dff.columns[21], 'type':'mappingCode', 'Count':len(dff1.values), 'Values':dff1.values, 'NonEmptyValuesCount':onlyValues }\n",
        "row20"
      ],
      "execution_count": 36,
      "outputs": [
        {
          "output_type": "execute_result",
          "data": {
            "text/plain": [
              "{'ColumnName': 'Mapping Code.1',\n",
              " 'Count': 36739,\n",
              " 'NonEmptyValuesCount': 27846,\n",
              " 'UniqueId': 538473,\n",
              " 'Values': array(['22802', '11773¦19301', '22249', ..., '14287', '', ''],\n",
              "       dtype=object),\n",
              " 'type': 'mappingCode'}"
            ]
          },
          "metadata": {
            "tags": []
          },
          "execution_count": 36
        }
      ]
    },
    {
      "cell_type": "code",
      "metadata": {
        "id": "QRt1yb3uB58v",
        "colab_type": "code",
        "colab": {
          "base_uri": "https://localhost:8080/",
          "height": 137
        },
        "outputId": "91b67a5e-1372-44f7-fd7c-778087d39ab7"
      },
      "source": [
        "#  22  Status.1 36739 non-null  object\n",
        "#Counting non-empty values\n",
        "onlyValues = len(dff['Status.1'].dropna())\n",
        "\n",
        "#Replacing nan values with empty string ''\n",
        "dff1 = dff['Status.1'].replace(np.nan, '', regex=True) \n",
        "row21 = {'UniqueId':np.random.randint(491859, 550000),'ColumnName':dff.columns[22], 'type':'status', 'Count':len(dff1.values), 'Values':dff1.values, 'NonEmptyValuesCount':onlyValues }\n",
        "row21"
      ],
      "execution_count": 38,
      "outputs": [
        {
          "output_type": "execute_result",
          "data": {
            "text/plain": [
              "{'ColumnName': 'Status.1',\n",
              " 'Count': 36739,\n",
              " 'NonEmptyValuesCount': 36739,\n",
              " 'UniqueId': 544451,\n",
              " 'Values': array(['ACTIVE', 'ACTIVE', 'ACTIVE', ..., 'ACTIVE', 'ACTIVE', 'ACTIVE'],\n",
              "       dtype=object),\n",
              " 'type': 'status'}"
            ]
          },
          "metadata": {
            "tags": []
          },
          "execution_count": 38
        }
      ]
    },
    {
      "cell_type": "code",
      "metadata": {
        "id": "QD9ZX9hpCDAA",
        "colab_type": "code",
        "colab": {
          "base_uri": "https://localhost:8080/",
          "height": 120
        },
        "outputId": "7f5c5ce0-1a6e-4014-81e4-2a2eb5af9604"
      },
      "source": [
        "#  23  Address PO Box 264 non-null    object\n",
        "dff16 = dff['Address PO Box'].values\n",
        "onlyValues = len(dff['Address PO Box'].dropna())\n",
        "\n",
        "dff1 = dff['Address PO Box'].replace(np.nan, '', regex=True) \n",
        "row22 = {'UniqueId':np.random.randint(491859, 550000),'ColumnName':dff.columns[23], 'type':'PostBox', 'Count':len(dff1.values), 'Values':dff1.values, 'NonEmptyValuesCount':onlyValues }\n",
        "row22\n"
      ],
      "execution_count": 39,
      "outputs": [
        {
          "output_type": "execute_result",
          "data": {
            "text/plain": [
              "{'ColumnName': 'Address PO Box',\n",
              " 'Count': 36739,\n",
              " 'NonEmptyValuesCount': 264,\n",
              " 'UniqueId': 503546,\n",
              " 'Values': array(['', '', '', ..., '', '', ''], dtype=object),\n",
              " 'type': 'PostBox'}"
            ]
          },
          "metadata": {
            "tags": []
          },
          "execution_count": 39
        }
      ]
    },
    {
      "cell_type": "code",
      "metadata": {
        "id": "7V_LalDLCdEh",
        "colab_type": "code",
        "colab": {
          "base_uri": "https://localhost:8080/",
          "height": 120
        },
        "outputId": "5858e643-7065-4ed2-fc53-d39f321de6bd"
      },
      "source": [
        "#  24  Address Postal Code 35953 non-null  object\n",
        "dff1 = dff['Address Postal Code'].values\n",
        "onlyValues = len(dff['Address Postal Code'].dropna())\n",
        "\n",
        "dff1 = dff['Address Postal Code'].replace(np.nan, '', regex=True) \n",
        "row23 = {'UniqueId':np.random.randint(491859, 550000),'ColumnName':dff.columns[24], 'type':'PostCode', 'Count':len(dff1.values), 'Values':dff1.values, 'NonEmptyValuesCount':onlyValues }\n",
        "row23"
      ],
      "execution_count": 40,
      "outputs": [
        {
          "output_type": "execute_result",
          "data": {
            "text/plain": [
              "{'ColumnName': 'Address Postal Code',\n",
              " 'Count': 36739,\n",
              " 'NonEmptyValuesCount': 35953,\n",
              " 'UniqueId': 541879,\n",
              " 'Values': array(['1220', '8010', '2340', ..., '', '79618', '35037'], dtype=object),\n",
              " 'type': 'PostCode'}"
            ]
          },
          "metadata": {
            "tags": []
          },
          "execution_count": 40
        }
      ]
    },
    {
      "cell_type": "code",
      "metadata": {
        "id": "f8biIynnCuDS",
        "colab_type": "code",
        "colab": {
          "base_uri": "https://localhost:8080/",
          "height": 120
        },
        "outputId": "3176f90c-632d-4351-f840-0b7f6f0d798e"
      },
      "source": [
        "#  25  Address Country Code 36738 non-null  object\n",
        "dff1 = dff['Address Country Code'].values\n",
        "\n",
        "onlyValues = len(dff['Address Country Code'].dropna())\n",
        "\n",
        "dff1 = dff['Address Country Code'].replace(np.nan, '', regex=True) \n",
        "row24 = {'UniqueId':np.random.randint(491859, 550000),'ColumnName':dff.columns[25], 'type':'CountryCode', 'Count':len(dff1.values), 'Values':dff1.values, 'NonEmptyValuesCount':onlyValues }\n",
        "row24"
      ],
      "execution_count": 41,
      "outputs": [
        {
          "output_type": "execute_result",
          "data": {
            "text/plain": [
              "{'ColumnName': 'Address Country Code',\n",
              " 'Count': 36739,\n",
              " 'NonEmptyValuesCount': 36738,\n",
              " 'UniqueId': 495333,\n",
              " 'Values': array(['AT', 'AT', 'AT', ..., 'IE', 'DE', 'DE'], dtype=object),\n",
              " 'type': 'CountryCode'}"
            ]
          },
          "metadata": {
            "tags": []
          },
          "execution_count": 41
        }
      ]
    },
    {
      "cell_type": "code",
      "metadata": {
        "id": "gKhRy7QiC6z_",
        "colab_type": "code",
        "colab": {
          "base_uri": "https://localhost:8080/",
          "height": 137
        },
        "outputId": "cf3dfcf2-d8d7-450c-d809-9637223e0168"
      },
      "source": [
        "#  26  Address Country Display Name 36739 non-null  object\n",
        "dff1 = dff['Address Country Display Name'].values\n",
        "\n",
        "onlyValues = len(dff['Address Country Display Name'].dropna())\n",
        "\n",
        "dff1 = dff['Address Country Display Name'].replace(np.nan, '', regex=True) \n",
        "row25 = {'UniqueId':np.random.randint(491859, 550000),'ColumnName':dff.columns[26], 'type':'country', 'Count':len(dff1.values), 'Values':dff1.values, 'NonEmptyValuesCount':onlyValues }\n",
        "row25"
      ],
      "execution_count": 43,
      "outputs": [
        {
          "output_type": "execute_result",
          "data": {
            "text/plain": [
              "{'ColumnName': 'Address Country Display Name',\n",
              " 'Count': 36739,\n",
              " 'NonEmptyValuesCount': 36739,\n",
              " 'UniqueId': 493659,\n",
              " 'Values': array(['Austria', 'Austria', 'Austria', ..., 'Ireland', 'Germany',\n",
              "        'Germany'], dtype=object),\n",
              " 'type': 'country'}"
            ]
          },
          "metadata": {
            "tags": []
          },
          "execution_count": 43
        }
      ]
    },
    {
      "cell_type": "code",
      "metadata": {
        "id": "g9zHIJBKDHKJ",
        "colab_type": "code",
        "colab": {
          "base_uri": "https://localhost:8080/",
          "height": 154
        },
        "outputId": "aefa79f0-a962-4d1f-c39b-47b6cf619a84"
      },
      "source": [
        "#  27  Address GPS Location 27625 non-null  object\n",
        "dff1 = dff['Address GPS Location'].values\n",
        "onlyValues = len(dff['Address GPS Location'].dropna())\n",
        "\n",
        "dff1 = dff['Address GPS Location'].replace(np.nan, '', regex=True) \n",
        "row26 = {'UniqueId':np.random.randint(491859, 550000),'ColumnName':dff.columns[27], 'type':'GPSLocation', 'Count':len(dff1), 'Values':dff1.values, 'NonEmptyValuesCount':onlyValues }\n",
        "row26"
      ],
      "execution_count": 44,
      "outputs": [
        {
          "output_type": "execute_result",
          "data": {
            "text/plain": [
              "{'ColumnName': 'Address GPS Location',\n",
              " 'Count': 36739,\n",
              " 'NonEmptyValuesCount': 27625,\n",
              " 'UniqueId': 527567,\n",
              " 'Values': array(['48.25147, 16.48305', '47.075744, 15.450655',\n",
              "        '48.076881, 16.303955', ..., '', '47.554257, 7.777767',\n",
              "        '50.814537, 8.771080'], dtype=object),\n",
              " 'type': 'GPSLocation'}"
            ]
          },
          "metadata": {
            "tags": []
          },
          "execution_count": 44
        }
      ]
    },
    {
      "cell_type": "code",
      "metadata": {
        "id": "8PHw5FxHDTw9",
        "colab_type": "code",
        "colab": {
          "base_uri": "https://localhost:8080/",
          "height": 137
        },
        "outputId": "ca3ccf31-7f24-4a83-eea8-d73ea2bceaeb"
      },
      "source": [
        "#  28  Address Language\n",
        "\n",
        "# dff1 = dff['Address Language'].values\n",
        "onlyValues = len(dff['Address Language'].dropna())\n",
        "\n",
        "dff1 = dff['Address Language'].replace(np.nan, '', regex=True) \n",
        "row27 = {'UniqueId':np.random.randint(491859, 550000),'ColumnName':dff.columns[28], 'type':'languageCode', 'Count':len(dff1), 'Values':dff1.values, 'NonEmptyValuesCount':onlyValues }\n",
        "row27\n"
      ],
      "execution_count": 45,
      "outputs": [
        {
          "output_type": "execute_result",
          "data": {
            "text/plain": [
              "{'ColumnName': 'Address Language',\n",
              " 'Count': 36739,\n",
              " 'NonEmptyValuesCount': 36739,\n",
              " 'UniqueId': 493424,\n",
              " 'Values': array(['EN¦DE', 'EN¦DE', 'EN¦DE', ..., 'EN', 'EN¦DE', 'EN¦DE'],\n",
              "       dtype=object),\n",
              " 'type': 'languageCode'}"
            ]
          },
          "metadata": {
            "tags": []
          },
          "execution_count": 45
        }
      ]
    },
    {
      "cell_type": "code",
      "metadata": {
        "id": "LXkkS8MWRA3F",
        "colab_type": "code",
        "colab": {
          "base_uri": "https://localhost:8080/",
          "height": 188
        },
        "outputId": "23a1e501-558e-44ab-a574-b3ef0c99cc40"
      },
      "source": [
        "# 29  Address Line 1 36738 non-null  object\n",
        "\n",
        "onlyValues = len(dff['Address Line 1'].dropna())\n",
        "\n",
        "dff1 = dff['Address Line 1'].replace(np.nan, '', regex=True) \n",
        "row28 = {'UniqueId':np.random.randint(491859, 550000),'ColumnName':dff.columns[29], 'type':'AddressLine1', 'Count':len(dff1), 'Values':dff1.values, 'NonEmptyValuesCount':onlyValues }\n",
        "row28"
      ],
      "execution_count": 46,
      "outputs": [
        {
          "output_type": "execute_result",
          "data": {
            "text/plain": [
              "{'ColumnName': 'Address Line 1',\n",
              " 'Count': 36739,\n",
              " 'NonEmptyValuesCount': 36738,\n",
              " 'UniqueId': 529738,\n",
              " 'Values': array(['Spargelfeldstrase 191¦Spargelfeldstraße 191',\n",
              "        'Beethovenstrasse 6-8¦Beethovenstraße 6-8',\n",
              "        'Robert Koch-Gasse 17¦Robert Koch-Gasse 17', ..., 'Leixlip Centre',\n",
              "        'Warmbacher Strasse 80¦Warmbacher Straße 80',\n",
              "        'Deutschhausstrasse 12¦Deutschhausstraße 12'], dtype=object),\n",
              " 'type': 'AddressLine1'}"
            ]
          },
          "metadata": {
            "tags": []
          },
          "execution_count": 46
        }
      ]
    },
    {
      "cell_type": "code",
      "metadata": {
        "id": "yH8cvPxsRSkc",
        "colab_type": "code",
        "colab": {
          "base_uri": "https://localhost:8080/",
          "height": 137
        },
        "outputId": "d9012466-b8be-4b0a-c7a4-fdf4e6a4c17b"
      },
      "source": [
        "#  30  Address Line 2 28485 non-null  object\n",
        "onlyValues = len(dff['Address Line 2'].dropna())\n",
        "\n",
        "dff1 = dff['Address Line 2'].replace(np.nan, '', regex=True) \n",
        "row29 = {'UniqueId':np.random.randint(491859, 550000),'ColumnName':dff.columns[30], 'type':'AddressLine2', 'Count':len(dff1), 'Values':dff1.values, 'NonEmptyValuesCount':onlyValues }\n",
        "row29"
      ],
      "execution_count": 47,
      "outputs": [
        {
          "output_type": "execute_result",
          "data": {
            "text/plain": [
              "{'ColumnName': 'Address Line 2',\n",
              " 'Count': 36739,\n",
              " 'NonEmptyValuesCount': 28485,\n",
              " 'UniqueId': 527954,\n",
              " 'Values': array(['donaustadt¦Donaustadt', '¦', '¦', ..., 'Leixlip',\n",
              "        'Warmbach¦Warmbach', '¦'], dtype=object),\n",
              " 'type': 'AddressLine2'}"
            ]
          },
          "metadata": {
            "tags": []
          },
          "execution_count": 47
        }
      ]
    },
    {
      "cell_type": "code",
      "metadata": {
        "id": "duv4gPJQIeA0",
        "colab_type": "code",
        "colab": {
          "base_uri": "https://localhost:8080/",
          "height": 225
        },
        "outputId": "03417d33-a0eb-42d8-c1e0-8998eb2a7803"
      },
      "source": [
        "#  31  Address Line 3 23557 non-null  object\n",
        "print(len(dff['Address Line 3'].values))\n",
        "dff1 = dff['Address Line 3'].replace('¦', np.nan)\n",
        "dff1 = dff1.replace('¦¦', np.nan)\n",
        "dff1 = dff1.replace('¦¦¦', np.nan)\n",
        "dff1 = dff1.replace('¦¦¦¦', np.nan)\n",
        "dff1 = dff1.replace('¦¦¦¦¦', np.nan)\n",
        "dff1 = dff1.replace('¦¦¦¦¦¦', np.nan)\n",
        "dff1 = dff1.replace('¦¦¦¦¦¦¦', np.nan)\n",
        "dff1 = dff1.replace('¦¦¦¦¦¦¦¦', np.nan)\n",
        "dff1 = dff1.replace('¦¦¦¦¦¦¦¦¦', np.nan)\n",
        "dff1 = dff1.replace('¦¦¦¦¦¦¦¦¦¦¦', np.nan)\n",
        "print(len(dff1))\n",
        "onlyValues = len(dff1.dropna())\n",
        "dff16  = [i for i in dff1.dropna() if i] \n",
        "print(onlyValues)\n",
        "print('dff16',dff16)\n",
        "dff1 = dff1.replace(np.nan, '', regex=True) \n",
        "print(len(dff1))\n",
        "\n",
        "row30 = {'UniqueId':np.random.randint(491859, 550000),'ColumnName':dff.columns[31], 'type':'AddressLine3', 'Count':len(dff1), 'Values':dff1.values, 'NonEmptyValuesCount':onlyValues }\n",
        "row30"
      ],
      "execution_count": 48,
      "outputs": [
        {
          "output_type": "stream",
          "text": [
            "36739\n",
            "36739\n",
            "3537\n",
            "dff16 ['Earlsfort Terrace', 'Parc de la Ville', '¦Ružinov', 'Poligono Las Mercedes¦Polígono Las Mercedes', 'Uppsala Domkyrkofors.¦Uppsala Domkyrkoförs.', 'Javene¦Javene', 'Javene¦Javene', 'Kovno', 'Nea Erythrea¦', 'Blvd. Asen Yordanov 10¦Бул. Aсен Йорданов 10', 'Etajele 1,16,17', 'Parque Empresarial Cristalia', '¦Loures', 'Mount Vernon Hospital', 'Pluckley', 'Northbridge Road', 'Milton Road', 'Cowley Road', 'Crossways Business Park', 'Studio 6', 'Perafita', 'Novartis Campus', 'Llandysul', 'Honeypot Lane', 'Chalfont St Peter', 'Canary Wharf', '20 Primrose Street', 'Ricany-Radosovice', 'Nusle¦', 'Beam Reach', 'Ford', 'Broad Oak Road', 'Horton Road', 'Medak District', 'Phase III, IDA¦Ida', '¦Maria Magdalena', '¦Bp 101', '¦Savski Marof¦', '¦Bp 30077', '9 raktar¦', \"5-6 Place de l'Iris¦\", 'Bp. 24', 'Sandyford Industrial Estate', 'Finglas', '¦Landstraße', 'Dublin Road', 'Mulhuddart', 'CEDEX 14', 'Jogeshwari West¦Jogeshwari West¦Jogeshwari West¦¦Swami Vivekanand Road¦Jogeshwari West¦S V Road', 'CS 80001¦', 'Manglobaladddal', 'CS 90001¦CS 90001', 'Bluebell', 'Dubi U Kladna', 'Sector 1', 'Sandyford Industrial Estate', 'Sections B1 & B2¦', '2 Vanwall Road', 'Cookham Dean', 'Wedgnock Industrial Estate', 'Melmerby Green Road', 'Black Croft Road', 'Kyje', 'County Oak Way', 'Lenton', 'Cedarwood', 'Cedarwood', 'Modbury', '38 Commerce Way', 'Bachupally Village¦', 'London Road', 'Urmston', 'Harolds Close', '¦Agias Elenis 6', 'Milton Road', 'Pump Lane', '7 Regents Drive', 'Walton-On-The-Hill', 'Lidget Green', 'Moulsecoomb Way', 'P.O. Box 233', 'Robert Robinson Avenue', 'Box 24026', 'Birzebbugia¦', 'Motosu-gun', 'Kanegasaki-cho¦', 'Bollaram', 'Worli¦¦Worli¦¦Worli¦Worli¦¦¦¦', 'Miraflores¦Miraflores', 'Parque Empresarial De San Fernando¦Parque Empresarial De San Fernando', 'Calle Via De Los Poblados 3¦', \"L'Hospitalet De Llobregat\", 'Calle A', 'Bang Phli Yai', 'Greetham', 'Wynyard', 'Sefton Business Park', 'First Avenue, Centrum', 'Walsgrave Triangle', 'Port De Gennevilliers', 'Floor B, Flat B15¦', 'Muddhart', 'Rathfarnham', 'Ballsbridge', '27 Fenian Street¦', 'The Earlsfort Centre', 'Donaustadt¦Donaustadt', '235 Hunts Pond Road', '143 High Street', 'Favoriten¦', 'Gillingham Business Park', 'Meidling¦Meidling', 'East Kilbride', 'Homefield Road', 'Wooburn Green', 'Wycombe Lane', 'Mill Lane', 'Somersham', 'Kingsley Street', 'Blindley Heath', '¦2 Rue Henri Sainte Claire Deville', '286 Euston Road', '33 Kingsway', 'Turnham Green', 'Vanwall Road', 'Arthingworth', 'The Parkway', 'Rackheath Industrial Estate', 'Oxford Business Park South', '1 Robert Robinson Avenue', 'Discovery Park', 'Keighley Road', 'Daresbury', 'North End Road', 'North End Road', 'Martland Park', 'Bassendale Road', 'Great Marlings', 'Urmston', 'West End Road', 'Visakapatanam Special Economic Zone (VSEZ)', 'Pattana 3 Road¦', 'Dublin 11', 'Parcela 11', '¦Mutilva', '¦Parets del Vallès', '¦Parque Norte', 'Parque Norte¦Parque Norte', '¦Edificio 2 2ª Izquierda', 'Maliano-Camargo', 'Sector 1', 'Beilun¦¦¦', 'Kawauchi-cho¦', 'Itano-gun¦', 'London Gatwick Airport', 'Kamikawa Machi', 'Hal Far¦', 'Milton Road', 'Upper Cliffe Road', 'East Kilbride', 'Honeypot Lane', '43 Castle Street', 'Haverton Hill Road', 'Ancells Road', 'First Avenue', 'Moll De Barcelona S/N¦Moll De Barcelona S/N', '¦Montrichard', 'Cs 28028¦Cs 28028', 'Stodulky¦Stodulky', '¦Höchst', '¦Parque Empresarial San Fernando', 'Brigittenau¦¦', 'Roundswell Business Park', 'Las Quemadas¦Las Quemadas¦', 'Overton', 'Mill Field Road', 'Avonmouth', 'Rougham', 'Weston Road', '1 Solent Way', 'Brockworth', 'Surrey Research Park', '11 Millington Road¦', 'Stokenchurch', 'Stotfold', 'Honley', 'Speke Road', 'Park Royal Road', 'Swiss Cottage', '21 Pavilion Way', 'Vanwall Road', 'Theale', 'Burnham', 'Somercotes', 'Oxford Road', 'Heslington', 'P.O. Box 34116', 'Poligono Industrial Conpisa¦', 'Brigittenau¦Brigittenau', '¦¦Donaustadt', 'Meidling¦Meidling', 'MiniParq 3, Soto de la Moraleja¦', '¦Courbevoie', 'Arthingworth', 'Citywest', 'Ballsbridge', 'Ballsbridge', 'Guadalcacin', 'Sandyford Industrial Estate', 'Mercer Street Lower', 'Northwood Office Park', 'Citywest Business Campus', 'Parc Sophia Antipolis', 'HC-02 Box 19250', 'District Dhar', 'Pilerne', 'Mitsui', 'Saiji', 'Dhar', 'Verna¦Verna', '¦Cs 79527¦Cs 79527 St Ouen L Aumone', 'Bp 04', 'Palazzo Borromini¦Palazzo Borromini', '¦Bp 75229', 'Parc Tertiaire Du Bois Dieu¦', 'LID de Carros le Broc ZI¦Bp 47 Le Broc', 'Poduyane', 'Vitosha Region¦Pайон Витоша', 'Mitrena¦Mitrena', 'Manchester Science Park', 'Trafford Park', 'Stretton', '¦Sector 1', 'Rudeni', 'Courtwick Lane', 'Huntercombe Lane South', 'Parkway Drive', 'Lancaster Road', 'Bailey Lane', 'Brackmills Industrial Estate', 'Chapeltown', 'Derby Road', 'Manchester Science Park', '1 Solent Way', '¦Währing', 'Tyne Dock', 'Middleton', 'Mitchelston Industrial Estate', '¦Satellite', 'Wrexham Industrial Estate', 'Padra', 'South Normanton', 'Elberfeld West¦Elberfeld West', 'The Bridgeway Centre', 'Parkway', '2 Vanwall Road', 'Wiesdorf¦Wiesdorf', 'Wiesdorf¦Wiesdorf', 'Hailsham Drive', 'Birtley', 'East Street', 'Pithampur Industrial Area', 'Zaunswinkel¦¦Zaunswinkel', 'District Raigad¦District Raigad', 'Maxwell Way', 'Taluka Daund¦', 'Sarkhej', 'Cowpen Lane Industrial Estate', 'Chartmoor Road', 'South Normanton', '510 Bristol Business Park', 'Great Abington', 'Caunt Road', 'Brookhill Way', 'Preston Brook', 'Bhattarahalli¦Bhattarahalli', '¦¦Wavrechain Sous Denain', '¦Kaysersberg', 'Irlam', 'Schlosschemnitz¦', '¦Miraflores', ' Eтаж 6\"', '¦¦¦Square Marie Curie 5', 'Sector 5', '¦Rudolfsheim-Fünfhaus', 'Etaj 6, zona 2', 'District 2', 'South Street¦', 'Sector 2', 'Marynarska Business Park¦Marynarska Business Park', 'Sector 1', 'Poligono Arroyo De La Vega¦', 'Les Ulis¦Les Ulis', 'Puteaux¦', 'Gross Buchholz¦¦¦', '¦¦Polígono Industrial Agrupacion Casablanca', '¦Puteaux', 'Oxford Business Park South', '23 Park Royal Road', 'Nalgonda District', 'Taluka Mulshi', 'Averham', 'Southern Gate', 'Mill Lane', 'Chester Business Park', 'The Glanty', 'Stockley Park', 'Sandyford Industrial Estate', 'Old Delhi Gurgaon Road¦', 'Crabtree Road', 'Surrey Research Park', 'E. Bellusa 6752¦', 'Citywest', '¦Nove Mesto¦¦', 'Hurley', 'Blenheim Office Park', 'Courbevoie¦Courbevoie', '273-287 Regent Street', 'Delegacion Coyoacan¦', 'Citywest Road', 'National Technology Park', 'P.O. Box 6050¦P.o. Box 6050', 'Spanga-Kista¦Spånga-Kista', '¦Spånga-Kista', 'Helsingborgs Maria¦Helsingborgs Maria', 'Chancery Lane', 'Riverside Way', 'Harefield', 'Stocks Bridge Way', '23 Park Royal Road', '4 Bluecoats Avenue', 'Framewood Road', 'Kleovoulou Papakyriakou 7', 'Unterlangkampfen¦Unterlangkampfen', 'Park Royal', 'Silverlink Business Park', 'Quinta da Fonte¦Quinta da Fonte', 'Batiment A¦¦', 'The Bridgeway Centre', '¦Cs 10520¦', 'Ballsbridge', 'Ballsbridge', 'Finglas', 'West Drayton', '¦Flemingsberg¦Flemingsberg', 'Castletroy', 'Middleton', 'Poligono Arroyo De La Vega¦Poligono Arroyo De La Vega', 'Talke Pits', 'Bennettsbridge', '¦Büren', 'New Greenham Park', 'Apartment 3', 'Newbridge', 'Floor 7¦Eтaж 7', 'Cores End Road', 'Great Abington', 'Floor 12', 'Building A¦Cграда А', 'Hill Farm Avenue', 'Stockley Park East', 'Spencers Wood', 'Shrewsbury Business Park', 'Sector 5¦Sector 5', 'Great Abington', 'Cs 10001 Courbevoie¦Cs 10001 Courbevoie', 'Box 2¦Da Vincilaan 2', 'Thorp Arch Estate', 'Gosmore', '¦Landstraße', 'Chilton', 'Taplow', 'Shire Park', 'Telford Gate', 'Tangmere', 'Warpsgrove Lane', 'Gortrush Industrial Estate', 'Bp 92¦Bp 92', 'Roxborough Way', 'Shipbourne Road', '¦¦Landstraße', 'Milton Road', 'Arkwright Road', '¦Döbling¦', 'Silkstone', 'Caesarea Industrial Park', 'Riverside Industrial Estate', '310 Old Brompton Road', 'Southill', 'Kawauchi-cho¦¦', 'P.O. Box 42096¦P.O. Box 42096', 'Repton Road', 'Domkyrkofoers. I Goteborg¦', 'Southwood Business Park', 'Keckwick Lane', 'Caversfield', '6 St. Johns Court', 'Cherry Orchard Lane', 'Perivale', 'Station Road', 'Red Lion Road', 'Milton Bridge', 'Wooburn Green', 'Chivers Way', 'Hemel Hempstead Industrial Estate', 'Summit Road', 'Chivers Way', 'Sheet Street', '1 Brooklands road', 'Over Road', '¦Tsa', 'Cambridge Road', 'Fetcham', '5th', 'Brownfields', 'Fukushima-Ku¦', 'Chapeltown', 'Knowlhill', '100 Clements Road', 'Tytherington Business Park', 'Knowlhill', 'Eversley', 'Haddenham', 'Llandevaud', '1-3 Iron Bridge Road', 'Mosquito Way', 'Whittle Way', 'Devon', 'Delegación Xochimilco¦¦', 'Robert Robinson Avenue', 'Riverside Way', 'Canary Wharf', 'Finchampstead', 'Park Road', 'Watchmoor Park', 'Benton Lane', 'Roundswell Business Park', 'West End', 'Lovett Road', 'Dodworth', 'Buckingham Industrial Estate', 'Chester Business Park', 'Ground Floor', 'Hurley', 'Whalley', 'Farm Road', 'Woodside Park', 'Riverside Industrial Estate', 'Fatih Bulvan No. 26¦¦', '4 Marchfield Drive', 'Station Road', 'Square 4', 'Cabra Figa¦Cabra Figa', 'Stafford Road', 'Palmerston Drive', 'Ivy Arch Road', 'Sector 2', 'Sector 3', 'Church Road', 'Trefecca Road', 'Whitehouse Business Park', 'Repton Road', '29 Wellington Street', 'Milton Road', 'Elsworth', 'A06/07 14f', '¦Polígono Valportillo', '¦Polígono Industrial Sud', '108-110 Finchley Road', 'East Kilbride', 'Orbital Park', 'Orbital Park', 'Kingsnorth', 'Hardicker Street', 'Park Lane', 'Neptune Close', 'Tividale', 'Block 3 Northwood Court', 'Global House', 'Sandyford', 'Woodmead', 'Head Office, Hengrave House', 'Wrexham Industrial Estate', 'Woodmead¦', '18 Bruntcliffe Way', 'Hallen', 'Mantiquira¦Mantiquira', 'Pineapple Lane', 'Yatton', 'Albert Road', 'Worlington', 'Frimley', 'Chivers Way', 'Watling Street', 'Brigantine Place', 'Cox Lane', '¦Centre Empresarial De La Plana', '¦Polígono Carretera Carrion', 'Chester Business Park', 'Portadown', 'Vitoria-Gasteiz¦', 'South Nelson Industrial Estate', 'Lowfield Heath', 'Courbevoie¦', '¦Landstraße', '¦Rudolfsheim-Fünfhaus', '¦Döbling', 'Factory B', 'Leacon Road', '¦Rudolfsheim-Fünfhaus', 'Wombwell', 'Brannam Crescent', 'Miles Gray Road', 'Kingsland Business Park', 'Dargan Crescent', 'Birmingham Business Park', 'Goostrey', 'Hindmans Way', 'Diseworth', 'Woodside Park', 'Belmont Industrial Estate', 'Western Road', 'Pool', 'Riverside Way', 'Stotfold Road', 'Chuo-ku¦中央区', 'Shizuoka', 'Wantz Road', 'Peterley Road', 'Imperial College London', '1 Solent Way', 'Worbay Business Park', 'Team Valley Trading Estate', 'Kingsbury Road', 'Whitehouse Business Park', '298 Regents Park Road', '5 Montague Close', '18 College Street', 'Cambuslang', 'Plympton', '324/326 Regent Street', '41-59 Windsor Avenue', '1 Springtown Road', 'Centre', 'Walton Summit, Bamber Bridge', 'Hancock Drive', 'Tytherington Business Park', 'Pool', 'Cookham Dean', 'Middleton', 'High Street', 'Stockley Park', 'Stockley Park', 'Harlington Road', 'Barker Business Park', '120 Stepps Road', 'Wellington Way', 'Hindley Green', 'Perivale', 'Old Portsmouth Road', 'Old Portsmouth Road', 'Southern Way', 'Wye Valley Business Park', 'Yatton', 'Gallows Hill', 'Winnersh', 'Four Ashes', 'Laporte Way', 'Wilton', 'Southend Road', 'First Avenue', 'Navestock Crescent', 'Godmanchester', 'Chirk', '¦I I M¦I I M', 'Wexham', 'Dryden Road', 'Enderby', 'Winchester Road', 'Totton', 'Pease Pottage', 'Manor Park', 'Howard Road', 'Eastman Way', 'The Castle Business Park', 'Watling Street', 'Kandivli West', '47 Hepburn Road', 'Qutubullapur Mandal¦', '¦Maloměřice', 'Radclive Road', 'College Close', '97-107 Uxbridge Road', '¦¦¦Pisárky', 'Marsh Lane', 'Astmoor Industrial Estate', 'Carrickmines', 'Caversfield', 'Citywest Road', '¦Polígono Industrial Centrovia', 'Milton Road', 'Tzar Boris III Blvd', 'Northern Cross', '¦Rudolfsheim-Fünfhaus', 'Bp 30051¦Bp 30051', 'Cs 60067¦Cs 60067', 'And Innovation Park', 'Interchange Park', 'Orchard Business Centre', 'Westhoughton', '11-15 Peterborough Road', '7-12 Noel Street', 'Barbu Vacarescu Street', 'Pineapple Lane', 'Hatters Lane', 'Kents Hill', 'Brooklands Road', '42 Water Street West', 'Meidling¦Meidling', 'West 26 Industrial Estate', '¦¦Ruzinov', 'West Hill', '7-12 Noel Street', 'Brunel Road', '¦¦Petrzalka', '¦¦Ružinov', '625 Moo 4¦Thai Ban', 'County Oak Way', 'Gordon Road', 'Fetcham', 'Trolliloes Lane', 'Northbridge Road', 'Eelmoor Road', 'Sued¦Süd', 'Albury', 'West 26 Industrial Estate', 'Riverside Way', 'Stow On The Wold', 'Crossley Road', '17 Hanover Square', 'Alto Do Estanqueiro¦Alto Do Estanqueiro', 'Allington', 'Batiment Est¦', 'Measham', '2nd Floor', 'Kents Hill', 'Silkstone', 'Bolney', 'Cs 90505¦Cs 90505', 'Business Park', 'Takeley', 'Lauder Lane', '¦Lower Parel¦¦', 'Shenley Wood', 'Black Croft Road', 'Rosellen¦Rosellen', '14 Oakhurst Drive', 'Avenida Portugal¦', 'Citywest', 'Krc', 'Enterprise Park East', '8 Rose Avenue', 'Dunnington', 'Schwanthalerhoehe-Laim¦', 'Station Road', 'Roedelheim¦', 'Garrycastle', 'Baldoyle Industrial Estate', 'Merrion Road', 'West Gate Business Center¦', 'Vestec U Prahy¦', '4th Floor', 'Merrion Road', 'Innere Stadt¦¦Innere Stadt', '75 Commercial Road', 'Rue Breydel 4¦Rue Breydel 4', 'Inchera', 'Chivers Way', 'Illkirch Graffenstaden¦Cs 80166 Illkirch Graffenstaden', 'Suite 105', 'Portadown', 'Avro Way', 'Great Maze Pond', '133-155 Waterloo Road', '42-46 Booth Drive', 'Kentford', 'Robert Robinson Avenue', 'Milton Road', 'Womenswold', 'Old Road', 'Robert Robinson Avenue', 'Carreteravalldemossakm7.4', 'Bumpers Way', 'Incheoncity', 'Lunds Allhelgonafors.¦', 'Bandra Kurla Complex Road¦', '¦¦Cs 52118', 'Torres Diagonal Litoral', '¦¦Brühl', '¦Brühl', 'Campus de la UAB', '¦Kröllwitz¦', 'Biot¦Biot', '¦¦¦Cs 47667', 'Les Ulis¦Les Ulis', '¦Cs 13562', '146 Rue Leo Saignat¦', '¦Bouffere', '¦Bp 60034', '¦Bp 22132', '¦¦Bp 20023¦', '9 Quai Moncousu', 'Belliard 232¦Belliard 232', '1 Burlington Road', 'Downsview Road', '¦Rudolfsheim-Fünfhaus', 'Blanchardstown', 'Pearse Street', 'Clonskeagh', '¦Landstraße¦', 'Belliard 232¦Belliard 232', 'Belliard 232¦Belliard 232', 'Belliard 232¦Belliard 232', \"Avenue D'Auderghem 45¦\", 'Belliard 232¦Belliard 232', \"Avenue D'Auderghem 45¦\", '¦Landstraße', 'Belliard 232¦Belliard 232', 'Belliard 232¦Belliard 232', 'Belliard 232¦Belliard 232', 'Belliard 232¦Belliard 232', '18 Old Broad Street', 'Belliard 232¦Belliard 232', '46-48 East Smithfield', 'Chipperfield', 'Belvue Road', 'Headington', 'Hatston Industrial Estate', '146 Brownlow Hill', 'Belliard 232¦Belliard 232', 'Belliard 232¦Belliard 232', 'Pampisford', 'Winnersh', 'Baslow', 'Llanishen', 'Commerce Park¦Brunel Road', 'Belliard 232¦Belliard 232', '60 Chain House Lane', 'Belliard 232¦Belliard 232', 'Belliard 232¦Belliard 232', '1 Canada Square', 'Puma Way', 'Morningside Pl', 'Camp Road', 'London Gatwick Airport', 'Little Chesterford', 'Prince Consort Road', 'Waltham Road', 'Mead Road', 'Innovation Way', 'Lincoln Mews', 'Eccles', 'Bircholt Road', 'Fetcham', 'Barton Lane', 'Whitestake', '(suite B)', 'Tisbury', 'Chivers Way', 'Falmer', 'Salbrook Road', '¦Landstraße', 'Spencer Dock', 'Cowley', 'Cowley', '¦-Markt¦', '85 King William Street', 'Manston Park', '97-107 Uxbridge Road', 'Sedgefield', 'Bourne Business Park¦Bourne Business Park', 'The Metro Centre', 'Altstadt-Lehel¦', 'Central Parkway', 'Babraham', 'Newbold', 'Chilworth', 'Winnersh', 'Wellington Way', 'Discovery Park', 'Colney Lane', 'Cowley', 'Theale', 'Standeford', 'Industrial Centre', 'Admirals Way', 'Quayside', 'Swansea Enterprise Park', 'Goteborgs Annedal¦', 'Everard Close', 'Alderley Park', 'Yarnton', \"5-10 St. Paul's Churchyard\", 'Blackwater', 'South Road', 'South Marston Industrial Estate', 'Holland Drive', 'Kirkwood Road', 'Blanche Lane', 'Bourne Business Park', \"Avenue D'Auderghem 45¦\", 'Pearse Street', 'Ranelagh', 'Otro Napoles¦Otro Nápoles', 'Damastown', 'Ballsbridge', '4th Floor', 'Helsingborgs Maria¦', 'University Road', 'Harcourt Street', 'Ballsbridge', 'Waterloo Road', 'Stockholms Domkyrkofors.¦', 'Health Products and Food Branch', '3rd Floor', 'Lunds Allhelgonafors.¦Lunds Allhelgonaförs.', 'Bellaterra', 'Stockholms Domkyrkofors.¦', '¦Parc Científic de Barcelona', 'Lunds Allhelgonafors.¦', 'Lunds Allhelgonafors.¦Lunds Allhelgonaförs.', 'Blackwater', '2 Vanwall Road', 'Swanwick', 'Wilbury Way', 'Cowley Road', 'Chivers Way', 'Bushey Heath', 'Building 26', 'Fieldhouse Lane', 'Surrey Research Park', 'Anthonys Way', 'Worton Grange', 'Crewe Road', 'Station Way', 'Bromley-by-Bow', '1 Aldwych', 'Wilbury Way', 'Everton Road', 'Great Milton', 'Taplow', 'Stare Mesto¦', 'Stare Mesto¦', 'Winnersh', 'Walkern Road', 'Claygate', 'Selborne', 'Pitstone Green Business Park', 'Pitstone Green Business Park', 'International Finance Centre', 'Electra Way', '4 Farmoor Court', 'Chalgrove', 'Baird Lane', 'Silvaco Technology Centre', 'Station Road', 'Winkfield', 'Surrey Research Park', 'Victoria Street', '69 Leadenhall Street', \"Bo'ness Road\", 'Huggate', 'Comberton', 'Pickmere', 'Pipers Lane', 'West Kirby', 'Montpellier Drive', 'Denham', 'Institute Of Life Sciences 1', 'Chilton Polden', 'Milton Road', 'Ellisfield', 'Wonersh', 'Swaston', 'Eccles', 'Begbroke Hill', 'Bollington', '99-101 Regent Street', 'Beeston Business Park', 'Fishponds Road', 'Highclere', '10 Temple Back', '1600 Scott Street', 'Frederick Place', \"Chandler's Ford\", 'Bletchley', 'Histon', 'Bumpers Farm', 'Les Ulis¦Les Ulis', 'Old Brickyard Road', '1 Wireless Road', 'Blanchardstown', 'Lane 67¦', 'Nangang Dist.¦', 'Nangang District', 'Po Box 77150', 'Chaoyang District¦', 'Bp 50624¦Bp 50624', 'Donaustadt¦Donaustadt', '¦Döbling', 'Lemesou 5¦Lemesou 5', 'Fairview', 'Stockholms Domkyrkofors.¦', 'Fosie¦Fosie', 'Wilbury Way', 'Earlsfort Terrace', 'Strawinskylaan 3127¦', 'Aldermaston', 'Business Park', 'Fleet Road', '47-48 Berners Street', 'Stocks Bridge Way', 'St. Mary’S Campus', 'Marlins Meadow', 'Measham', 'Ballymount Road Upper', 'Oxford Road', '5 Jackson Close', 'ul. 445, 32-744', '¦Spånga-Kista', 'Rangareddydistrict', 'Sanath Nagar¦Sanath Nagar', 'Uppsala Domkyrkofors.¦', 'Life Sciences Suites', '¦Landstraße', '18-20 Andrew Street', '¦Landstraße', 'Xizhi Dist.¦', 'Jinnaram Mandal', 'Surendranagar', 'Opposite Sangam Theatre', '¦Leopoldshafen', 'Unit F 8eo13', 'Banbury Road', 'Poligono Monte Abadesa', 'Takeley', 'Brigittenau¦Brigittenau', '¦¦Cs 30077', '¦¦Courbevoie', '¦Hötting', 'Alderley Park', 'Blackwater', 'Muelle de Barcelona', 'West Nanjing Road', 'Lake Drive', 'Cs 69301¦Cs 69301', 'Citywest Business Campus', 'Naas Road', 'Parque Empresarial Cristalia¦Parque Empresarial Cristalia', 'Leopardstown', 'Phibsborough', 'Northwood Park', 'Stare Mesto¦', 'Hinjawadi, Phase I', 'Xizhi District', 'Earlsfort Terace', '132 Menachem Begin Road¦', 'Rabin Science Park', 'Building B, 10th Floor', 'Marol Naka', 'Santacruz East', 'Whitefield Ashram Road', '¦Old Delhi Road', 'Road No. 16¦', 'Hitec City', 'Deeside Industrial Park', '1 Friary', 'Great Abington', 'Cowley Road', 'Ramsgate Road', 'Deeside Industrial Park', '3-9 Albert Street', 'Cowley', 'Flax Bourton', 'Wooburn Green', 'Stokenchurch', 'G 02 Exhibition Road', 'Dedmere Road', 'Bannerughatta Main Road¦Bannerughatta Main Road', 'London Road', 'Kotla Marg¦Kotla Marg', 'Swan Gwann Industrial Estate', 'Warmingham', 'Stirling University Innovation Park', 'Heathrow Boulevard¦¦', 'Altavista¦', 'Bessemer Drive', 'Bumpers Way', 'Wendens Ambo', 'Isolo', 'Chester Business Park', 'Long Lane', 'Quayside Ousefurn', 'Burnham', 'Irving Way', 'Nakamura-ku¦', 'Fresta¦Fresta', '21 John Street', 'Lunds Allhelgonafors.¦', 'Flemingsberg¦Flemingsberg', 'Cowley Road', 'Madingley', 'Polhampton', 'Copse Drive', 'Marlow Road', 'Avro Way', 'Jongno-Gu', 'Chapeltown', 'Stirling University Innovation Park', 'Brooke', 'Bumpers Farm', 'Belton Road West', 'Bourn', 'Long Meadow', 'The Forum', 'Oxford Business Park South', 'Wooburn Green', 'Elstree', '273-287 Regent Street', 'Gross Buchholz¦', 'Elstree', '183 Electric Road', 'Lamia National Road¦', '1 Brooklands Road', 'Olds Approach', 'Pluckley', 'Culpeper Close', 'Culpeper Close', 'Bristol House', 'Irlam', 'Magna Business Park', 'Nangang Dist.¦', 'Great Maze Pond', 'Poligono Industrial Malpica', 'Vitoria-Gasteiz', '¦Enskede-Årsta', 'Domkyrkofoers. I Goteborg¦', 'Cs 166¦Cs 166', 'Oldham Broadway Business Park', 'Am Klopferspitz 19¦Am Klopferspitz 19', 'Dahlwitz-Hoppegarten¦Dahlwitz-Hoppegarten', 'Pidingerau¦Pidingerau', 'Lindenberger Weg 80¦Lindenberger Weg 80', 'Moorgate Road', 'Business Park', '2 Omega Drive', 'The Grove', 'Great Abington', 'Bells Hill', 'Horam', 'Worsley', 'Dinnington', 'Eaton Road', 'Oxford Road', 'Adams Business Centre', 'Stambourne', 'Du Cane Road', 'Chivers Way', 'Cleeve', 'High Street', 'Hawksworth', 'Pensnett Trading Estate', 'Marston Moor Business Park', 'Lancaster Road', 'Holmbridge', 'Wooburn Green', 'Riccarton', '500 South Oak Way', 'Manchester Science Park', 'Gilwilly Industrial Estate', 'Low Road', 'Axcess 10 Business Park', 'Forest Business Park', 'Chester Business Park', 'No. 2 Science Park West Avenue', 'Llandygai', 'Commondale Way', 'Appley Lane North', 'Farmwell Lane', 'Preston Brook', 'Thornbury', 'Glossop Road', 'Little Stanney', '3-4 Upper Pembroke Street', 'Mills Road', 'Albury', 'Saltley', 'Chemin De Vrilly¦Chemin De Vrilly', 'Oxford Road', 'Ripley', 'Great Warley', 'Longbridge', 'South Kirkby', 'Kingsbury Road', 'Western Industrial Estate', 'Wombwell Lane', 'Stockley Park', 'Rycote Lane', 'Finepoint Way', 'Wilton Road', 'Business Park', 'Great Abington', '211 Portobello', '¦Courbevoie', 'University Of Warwick Science Park', 'Paonta Sahib', 'Wels¦', 'City North Business Campus', 'Belfield', 'Jinnaram Mandal', 'Ballsbridge', 'North Strand', 'Ladyswell Road', 'Connaught Place¦Connaught Place', 'Ganpatrao Kadam Marg¦Ganpatrao Kadam Marg', 'Corrig Road', 'Nakkapalli Mandal', 'Dublin Road Business Park', 'Madkaim', 'Ganapat Rao Kadam Road', 'Sant Nagar-East Of Kailash', 'Verna Salcette', 'Kancheepuram District', 'Western Express Highway¦Western Express Highway', 'Sahibzada', 'Whitwick Business Park', 'WTC Schiphol Airport', 'Lunds Allhelgonafors.¦', 'Poligono Can Sant Joan¦Polígono Can Sant Joan', 'Boars Hill', 'Wootton', 'Harcourt Road', 'Brigittenau¦Brigittenau', 'Foley Street', 'Snow Hill Queensway', 'Magna Business Park', 'Kamaraerdo¦Kamaraerdő', 'Leavesden', 'Jardia¦Jardia', 'Theale', 'Cs 50070¦', 'Sandyford Road', 'Industrial Area¦Industrial Area', 'Ahmedabad District', '¦Shaktinagar', 'Medak District¦Medak District', 'Begampet¦Begampet', 'Donaustadt¦Donaustadt', 'Station Approach', 'Shuitu', 'Bommasandra Post¦Bommasandra Post', 'Lower Hatch Street', 'Banjara Hills', 'Tal Dindori¦', 'Kancheepuram District¦Kancheepuram District', 'West Area of Tianjin Economic-Technological Development Area¦', '¦Moosach', 'Harcourt Street', 'Mulund West¦Mulund West', 'Yadadri Bhuvanagiri Dist', 'Nanshan District¦', 'Nanshan District', 'Dublin Airport', 'Tambon Phraeksa', 'Mohali District', 'Tambon Phraeksa', 'J.P. Nagar', 'Orange Point Building', 'Orange Point Building', 'Medak District¦Medak District', 'Orange Point Building', 'Ameerpet', 'Mysore District¦', 'Sanath Nagar¦', 'Jubilee Hills¦Jubilee Hills', 'Film City', 'Joban Nishigo-machi¦', 'Mysore¦Mysore', 'Bhind', 'Medak District¦Medak District', 'Ballabgarh¦Ballabgarh', 'Linhai Zone', 'Roha', 'Luzhu District¦', 'My Home Hub', 'Mysore District', 'I.F.S.C.', 'G.I.D.C.¦G.I.D.C.', 'Nakkapalli Mandal', 'Qutbullapur Mandal¦Qutbullapur Mandal', 'Kazipally Jinnaram Mandal¦', 'Jinnaram Mandal', 'Cranborne Road', 'Sandyford', 'Foxhole Road', 'Hornet Way', 'Greenfinch Way', 'Foxhole Road', 'Garrycastle', 'Hilton', 'Parc De La Fringale¦Parc De La Fringale', 'Hendon', 'Westhoughton', 'West Of Scotland Science Park', 'Moyraverty West Road', 'Blackley', 'Greenfinch Way', 'Blagrove', 'Stephenson Road', 'Estuary Commerce Park', 'Tom Bill Way', 'Colonial Way', 'Floor 5', 'Epagny Metz Tessy¦Epagny Metz Tessy', 'Belvue Road', 'Tom Bill Way', 'Tintagel Way', 'Clondalkin', 'Triq L-Esportaturi¦Triq L-Esportaturi', 'Magna Business Park', 'District, Guangzhou', 'Distribution Centre', 'Quthbullapur Mandal', 'Bhagwanpur¦Bhagwanpur', 'Sophia Antipolis¦', 'Valsad District¦Valsad District', 'Berristow Lane', 'Road No. 71¦Road No. 71', 'Stephenstown Link Road', 'Zennor Road', '5-7 Tobermore Road', 'Meridian Plaza', 'Bharuch District¦Bharuch District¦Bharuch District', 'Ferry Lane', '970 Allee De Belgique¦Wancourt¦970 Allee De Belgique', 'Alcorisa', 'Northwest Business Park', 'Lostock', 'Lostock', 'Northwest Business Park', 'Dakota Park', 'Horseshoe Hill Street', 'Qasam Industrijali Hal Far¦', 'Fuyang¦Fuyang', 'Haslemere Trading Estate', 'Tallanstown', 'Kazipally¦Kazipally', 'Tom Bill Way', 'Calle Montevideo 5¦Calle Montevideo 5', 'Centurion Park', 'Sandall Stones Road', 'Manor Way', 'Wilbury Way', 'The Base B', 'Aldridge', '2 Parklands Way', 'Manor Way', 'Throsk', 'Stephenson Close', 'Sandyford Industrial Estate', 'Dundrum Road', 'Ķekavas Pagasts', 'Clayton Le Moors', 'Hailsham Drive', '8 Wang Hoi Road¦18/f', 'Xinbei District', 'Kirk Sandall Industrial Estate', '1, Windmill Lane', 'Ap. 43¦Ap. 43', 'Katherine Street', 'Low Prudhoe Industrial Estate', 'Devonshire Road', 'Irving Way', 'Industrial Estate', 'Low Prudhoe', 'Trim Road', 'Devonshire Road', 'Courtwick Lane', 'Dreilini', 'Worthing', 'Repton Road', 'Lostock', 'Teda West District', 'Jeedimetla', 'Field House', 'Medak District¦Medak District', 'Mount Street Lower', 'Farmwell Lane', 'Harcourt Road', 'Wythenshawe', 'Basheerbah Palace Colony¦', 'Sir Temi Zammit Buildings', '7th Floor', 'Ambares Et Lagrave¦', 'Business Park', 'Shannon Industrial Estate', '5th Floor', 'Tempelhof¦Tempelhof', 'Riccarton', 'Ida Pashamylaram¦Ida', 'Seal Sands', 'Medak District', 'Athinon Str. 17', 'Shanhua Dist.¦', 'Medak District', 'Isnapur Village', 'Little Island', 'Science Park Of The University Of Salamanca', 'Periyakalapet', 'Palace Road', 'Bommasandra-Jigani Link Road', 'Neuhof¦Neuhof', 'Central Park', 'Ramsgate Road', 'Winnersh', 'Lozenets Administrative District¦', '4th Phase', 'IDA Jeedimetla¦IDA Jeedimetla', 'New Mallow Road', 'Off Saki Vihar Road', 'Barrow Street', 'Blanchardstown', 'Chiba-shi', 'Giheung-gu, Yongin, Gyeonggi', 'Blanchardstown', 'Kriva Reka', 'Salbrook Road', 'New Mallow Road', 'Sujeong-gu', 'Northwood Business Park', 'The Sweepstakes', 'Balcombe Road', 'Farnborough', 'Santa Perpetua De Mogoda', 'Cherrywood Business Park', 'Sheriff Street Upper', 'Sheriff Street Upper', 'Sheriff Street Upper', 'Rong Muang Rd Ramairoad¦รองเมือง', 'Spencer Dock', '2ª Planta Edif. Maternal', 'Poligono Valportillo¦Polígono Valportillo', 'Svyazi Str.', 'Whitworth Road', 'Sloane Square', 'Edificio Centauro', 'Ballycoolen Road', 'Sofouli 16¦Sofouli 16', 'Parque Empresarial San Fernando', 'Sherburn In Elmet', 'Garrison Avenue', \"le Causse Espace d'Entreprise¦le Causse Espace d'Entreprise\", 'Ranelagh', 'Altstadt-Lehel¦Altstadt-Lehel', 'Tallaght', 'The Docks', 'Linho¦Linhó', 'Clonsilla', 'Wiedner Guertel 13¦Wiedner Gürtel 13', 'Hebron Road', '2nd Floor', 'The Park', 'Poundbury', 'Poligono Industrial Can Salavatella-Torre Mateu¦Polígono Industrial Can Salavatella-Torre Mateu', 'Sandyford', 'Ermidas do Sado', 'Rhyl Road', 'Bamber Bridge', 'Floor 1', 'Riverside Way', 'Stockholms Domkyrkofors.¦', 'Mitrena¦', 'I.f.s.c.', 'Bishopstrow', 'Whitehills Business Park', 'Surrey Quays Road', '¦Döbling', 'Barnwood', 'Trobajo Cer.¦Trobajo Cer.', '2nd Floor', 'PALAZZO CANOVA¦', 'Kauno R. Sav.¦Kauno R. Sav.', 'Cs 67131¦Cs 67131', 'Springfield Drive', 'Scotland', 'Nanan District', 'Wheatley Hall Road', 'District 6', 'Dennehill', 'Research Road', 'Hillgrove Business Park', 'Gross Machnow¦', 'Industrial Estate Sanathnagar', 'Pithampur', 'Duqiao Town', 'Cs 27166¦Cs 27166', 'Science Park', 'Sheriff Hutton', 'Tehsil Nalagarh', 'Cheshire Avenue', '105 High Street', 'Kazipally Industrial Area', 'Changyi', 'District Thane¦District Thane', 'Serilingampally', 'Shimogyo-ku', 'Bodakdev', 'Narsapur Road', 'Sanali Info Park A Block', 'Ranga Reddy', 'Wik¦', 'Abbey Park', 'G.I.D.C. Lind Phase', 'Phase I', 'Zebetin¦Žebětín', 'Patancheru Mandal', 'Naldhari, Near Ankleshwar', 'Cergy¦Cergy¦', 'Starborough Road', 'Santacruz East¦Santacruz East', 'Bonthapally Village¦', 'Neckarau¦', 'Batiment C', 'Ranasthalam Mandal', 'Oldmahabalipuram road', 'Nungambakkam¦Nungambakkam', 'Whiteknights', '¦Polígono Industrial Malpica', 'Jusohonmachi 2-chome¦', 'Grossburgwedel¦', 'Medak', '3 Berristow Lane', 'Sinnar', 'Kloosterstraat¦', 'Gangnam Gu', 'Goods Receipt Gate 31', 'Pidingerau¦Pidingerau', 'Lower Langford', 'Fieldhouse Lane', 'Grenzach¦', 'Sundarnagar', 'St. Georgen¦St. Georgen', 'Damastown Walk', 'Turkapally Village', '¦Brühl', 'Wadloor Road¦', '7 Cygnus Business Centre', 'S:T Mikael¦', 'Osgathorpe', 'Bilk¦Bilk', 'Binhaixian¦', '¦Bp 10079', 'Alathur', 'Crompton Road', 'Industriegebiet¦Industriegebiet', 'Orbital Park', 'Portadown', 'Herestraat¦', 'Bredbury Park Way', 'Alconbury', 'Gross Buchholz¦', 'Rowland Hill Street', 'Knowsley Industrial Park', 'Hobson', 'Chung Ting Building', 'JN Pharma City', 'Salisbury Road', 'Zone', 'Sco Kyunggi Do', 'Parwada', 'Yamaguchi', 'Aichi Perfecture', 'GIDC', 'Icknield Way', 'Parawada', 'Orchid Lane', '1248-8 Chongwang-Dong', 'Ballsbridge', 'International Business Park', 'Sanathnagar Industrial Estate', 'B D Sawant Marg¦B D Sawant Marg', '172 Water Tower Drive', 'Cs 84183¦Cs 84183¦Cs 84183', 'Shangraoxian¦', 'Poosapatirega Mandal', 'Sarkhej Gandhi Nagar Highway¦Sarkhej Gandhi Nagar Highway', 'Kremsmunster¦', 'Wittenau¦', 'Ida¦Ida', 'Indore Kumar Khadi¦Indore Kumar Khadi', 'G.I.D.C.', 'Jawaharlal Nehru Pharma City¦Parawada', 'Maki', 'Karodi Village¦', 'Tenth Avenue', 'Jawaharlal Nehru Pharmacity', 'Industrial Estate', 'Iwata-Shi Plant', 'P O Box 40064¦P O Box 40064', 'Industrial Zone', 'Clayton Le Moors', 'Santacruz West', 'Carr', 'Kathivakkam¦Kathivakkam', 'Industrial Development Area¦', 'Balanagar', 'Ystradgynlais', 'Kohir Mandal¦', '¦Lokmanya Nagar¦Lokmanya Nagar¦Lokmanya Nagar', 'Periyakalapet', 'kukatpally¦Kukatpaly', 'Deeside Industrial Park', 'Windmill Hill Business Park', 'Hitech City Road', 'Jeongwang-Dong', 'Off. W.E. Highway', 'Kellakottaiyur', 'Alconbury', 'Matoda¦Matoda', 'Village Dhobikuva', 'Digwal Village', 'Anrich Industrial Estate', 'Weizmann Science Park', 'Woodside Park', 'Magna Business Park', 'Research Triangle Park', 'Roorkee Sub-District¦', 'Ganpatrao Kadam Marg', 'Parque Cientifico Y Tecnologico Cartuja 93¦Parque Científico Y Tecnológico Cartuja 93', 'Sv Co-Operative Industrial Estate', 'Kawasaki-Ku', 'Heide Sued¦', 'Road No 4¦Road No 4', 'Kauno R. Sav.¦', 'Trade Zone¦', 'Chhatarpur', 'Dalton', 'MIDC Industrial Area', 'Alexander Road', '¦Bp 10079', 'Business Park', 'Hillgrove Business Park', 'Bush Loan', 'Parawada', 'Porters Road', 'Medak', 'Bommasandra Industrial Area', 'Stevenage', 'Brynmenyn', '19-23 Paramount Road', '10 Rue Bouche Thomas¦Cs 50723', 'Jawaharlal Nehru Pharma City', 'Unit 3', 'Pashamylaram', 'Sarkhej Bavla Highway', 'Lunds Allhelgonafors', 'Cidc Naroda', 'Porters Road', 'Lostock', 'Empire Close', 'Ghatlodia¦Ghatlodia', 'Seagoe Industrial Area', 'Bridgend Industrial Estate', 'Village Matoda', 'Deeside Industrial Park', 'Edison entrance Floor 4', 'Sarkhej Bavla Highway¦Sarkhej¦Sarkhej', 'Wye Valley Business Park', 'Tenth Avenue', 'Industrial Park', 'Yamaguchi', 'Jinnaram', 'Sutton Road', 'Shardlow', 'Ida Jeedimetla', 'Briercliffe', 'Passage West Street', 'Jadcherla Mandal', 'C', 'Yinan Industrial Zone', 'Manor Lane', 'Parkway Drive', 'Balanagar', 'Central Park Mallusk', 'Economic Development Zone', 'Economic Development Zone', '¦BP 25¦', 'Thane Belapur Road', 'Village Kishanpura', 'LBS Marg', 'Fuyang¦', 'Square Marie Curie 50¦Square Marie Curie 50', 'Zhangdian District', 'Street No. 1 Sagar Society', 'Green Industrial Park', 'Green Industrial Park', 'Roosveld 2¦Roosveld 2', 'Broughton Road', 'Blackley', '125 Moor Road', 'Tividale', 'Bourn', 'Sanyo Onada', 'Fangqiao Town', 'Parawada Mandal¦', 'Apparel Park Road', 'Regents Drive', 'Portadown', 'Bellringer Road', 'Pyewipe', '3 Main Avenue', 'Milton Road', 'Tiergarten¦Tiergarten', 'Borpatla', 'Bharuch¦Bharuch', 'Salcette¦Verna Ind Estate Road', 'Drayton', 'Acre Road', 'Kamimakaracho', 'Tadi Village Parawada¦', 'District vadodara', 'Campus Road', 'Puerto Rico', '20-22 Great Titchfield Street', 'Zone Industrielle No 2¦Bp 118', 'Vashi', 'Vidlin', 'Trefecca Road', 'Sanpada', 'Business Park', 'Utrechtseweg 48¦Utrechtseweg 48', '¦Bp 50109 St Germain Nuelles', 'Portadown', '¦Chintal Basti', 'Gross Buchholz¦', 'Veera Desai Road¦', 'Clondalkin', 'Ibaraki', 'Atchutapuram', 'Davy Road', 'Roha¦', 'S.V. Cooperative Industrial Estate', 'Takasago Shi', 'Villaquiilambre', 'Kawasaki-Shi', 'Cs 30111¦Cs 30111', 'Yueyang¦', 'Andheri East¦Andheri East', 'C S I R Road', 'Begampet¦Begampet', 'Kirk Sandall', '116 Rue De La Valsiere', 'Robert Robinson Avenue', 'Northwood Crescent', '10 Center Dr', 'Village-Digha Naka¦', 'Moraiya¦Moraiya', '¦Döbling', 'Kohir Mandal', 'Off C G Road¦', 'POB 888', 'Selaquil¦Selaquil', '¦Goregaon West¦Goregaon West¦Goregaon West¦Goregaon West', 'Glasnevin', 'Dudley', 'Measham', 'Magna Park', 'Nelamangala Taluk¦', 'Jiaojiang district', 'Pashamylaram', 'Shardlow', '2 Stirling Road', 'Villa Blanca Industrial Park', '28 Common Road', 'Taluka Bavla', 'Magna Park', 'Heide Sued¦', 'Regents Drive', 'Canal Walk', 'Linhai Zone', 'Prologis Park', '10 Rue Godefroy¦10 Rue Godefroy', 'Sinnar', 'Toluca', 'Manchester Science Park', 'San Isidro Industrial Park', 'Poligono Industrial Compisa¦Polígono Industrial Compisa', 'University', 'Jiulongpo District¦', 'Riccarton', 'Fukui', 'Kudikadu', 'Jinnaram Mandal¦', 'Cardiff Business Park', 'Bommasandra-Jigani Link Road¦Bommasandra-Jigani Link Road', 'Anand Nagar¦Additional Midc', 'Trafford Park', 'Cedex', 'Kyunggi-Do', 'Tal Padra', 'Midc Hinjwadi', 'Kazipally Industrial Area', 'Stirling University Innovation Park', 'Belfast', 'Humboldt/gremberg¦Humboldt/gremberg', '11 Rue Du Morvan¦11 Rue Du Morvan', 'Parawada', 'Dindigal', 'Tour 2', 'Turkapally Village', 'Pashamylaram Phase 2', 'Postfach', 'Dedmere Road', 'Kandi Mandal', 'Verna Industrial Estate', 'Pharma Zone', 'Verna Industrial Estate', 'Rathmines', 'Zhangdian', 'Kuanyin Hsiang', 'Baldoyle Industrial Estate', 'Serifontaine', 'Colvale', 'Haimen¦', 'Bommasandra Jigani Link Road', 'Hangzhou gulf', 'Tierras Nuevas', 'Kandivali West¦Kandivali West', 'Kanagawa', 'Newhall', 'Da’an District', 'Dundigal Gandimaisamma', 'Jadcherla Mandal', 'Plumsteadville', 'Jiaojiang District', 'Jadcherla', '6th Sector', '67 White Lion Road', 'Dabhel', 'Pudong¦', 'Deosugur', 'Old Portsmouth Road', 'Cork', 'Trade Zone¦', '20 Avenue De L Etoile Du Sud¦20 Avenue De L Etoile Du Sud', 'Riccarton', 'Station Road', 'Kopar Khairane', 'Yangmei Dist.¦', 'Padra Taluk', 'Oxford Road', 'Kawauchi Cho', 'Gaddapotharam Village', 'Sand Hutton', 'Chippada Village¦', 'Patancheru Mandal', 'Jeedimetla', 'Lewins Mead', 'Zentrum Suedost', 'Danwon', 'Takasaki', 'Gurajapalem Village', 'Charlottenburg¦Charlottenburg', 'Sez N Narasapuram Village', 'Ranasthalam Mandal', 'P.o. Lalru', 'Highway 221 North', 'Sarkhej Gandhi Nagar Highway', 'Astra allen', '¦Anekal Taluk', 'Portadown', '¦Landstraße', 'Harristown', \"Avenue d'Auderghem 45\", 'Jn Pharma City¦Rh Colony Road No 2', 'Moorhall Road', 'Wuzhong¦', '5 Basel Street', 'Co Galway', 'Jinnaram Mandal¦¦', 'Portadown', 'Breagh Drive', '600 N US HWY 45', 'First Floor', 'Englefield Green', 'Lower York Street', 'Swan Lane', 'Dodworth Business Park', 'Firth Street', 'Field Close', 'Castan¦', 'Twyford', 'Twyford', 'Gravelly Industrial Park', 'Alstedde¦Alstedde', 'Sion East¦Sion East', 'Carnbane Business Park', 'Barnsley', 'Coronation Street', 'Post Kalaria', 'Sandycroft', 'Derriford', 'Derriford', 'Derriford', 'Deeside Industrial Park', 'Palghar¦Thane', 'Cranborne Road', 'Chung Ting', 'Towergate Industrial Park', 'Fyfield Road', 'London Heathrow Airport', 'Puttenham', 'Palghar', 'Kingsport', 'Tarapur', 'Pamtembhi', 'Valsad¦Valsad', 'Palghar', 'Balsall Heath', '22 Carlton Road', 'Beddington Farm Road', 'Anthonys Way', 'Altriesa¦Altriesa', 'M4 Interchange Park', 'Bold', 'Harristown Lane', 'Draperstown', 'Upper Dunmurry Lane', 'Surrey Research Park', 'Salbrook Road', 'Parcelas 3 4 Y 5¦Parcelas 3 4 Y 5', 'Bessingby Industrial Estate', 'RR District', 'Hatters Lane', 'Vantage Point Business Village', 'Haydock', 'Manchester Science Park', 'Church Lane', 'Stockley Park', 'Stone Street', 'Alder Close', 'Bridge Of Don', 'Alder Close', 'Mansfield Road', 'Walford Bridge', 'Hillgrove Business Park', 'Pinnacles East', 'Old Church Road', 'Shield Road', '49-53 Roebuck Road', 'The Wallows Industrial Estate', '21 Wadsworth Road', 'Mulund West¦Mulund West', 'Sanderson Way', 'Pol. Ind. El Tiro', '116 Rue De La Valsiere¦Cs 24288', 'Col.San Franscisco', 'Harleyford', 'York House', 'Farmbrough Close', 'Reepham', 'Wembley Commercial Centre', 'Bessemer Drive', 'Simonds Road', 'Portland Industrial Estate', 'Essendine', 'Azura Close', 'Highlands Road', '9 Lydden Road', 'District Centre Broadlands', '10 Adrienne Avenue', '90 York Way', 'Cikarang', 'Oakbank Park Way', 'Walford Bridge', 'Ray Street', '99 Cobbold Road', 'Jennens Road', 'Schooner Court', 'Violet Street', 'Hanson Close', 'Bashurst Hill', 'Moyraverty', 'Wadsworth Road', 'Anchor Brook Industrial Park', 'Milton Road', 'Fulwood', 'Talke Pits', 'Heather Park Drive', 'Knowsley', 'Turner Street', 'Thongsbridge', 'Furzton', 'Manor Lane', 'Belmont Industrial Estate', 'Plot No. 5 Kesar Solitaire', 'Greatbridge Road', 'Greatbridge Road', '7 Parvis Louis Neel¦', 'Owen Square', 'Blanchardstown', 'Manor Park', 'Brember Road', 'Nandesari¦Nandesari', 'White City Place', 'Millmarsh Lane', 'Monument Way West', 'Aston', 'King Street', 'Coxleigh Barton', 'Brannam Crescent', 'Salter Street', 'Moor Park Industrial Centre', 'Wheelhouse Road', 'Bonehurst Road', 'Derby Street', 'Harefield', 'Cross Hands', 'Tehsil Derabassi', '343 Millbrook Road West', 'Warnford', 'Speke Hall Road', 'Glossop Road', '25885 Hrsz. 4.2. C. D Epulet', '369 Burnt Oak Broadway', 'Shivampet Mandal', 'Baldoyle', 'Windsor Road', 'New Mallow Road', 'Magna Business Park', 'Airport Industrial Estate', 'Sir Phirozshah Mehta Rd', 'Brunswick Industrial Estate', 'Newtownmountkennedy', 'Opposite Swastik Oil Mill', 'Long Melford', 'Shenick Road', 'Airfield Industrial Estate', 'Weston Hall Road', 'Springfield Road', 'Victoria Road', 'Baldoyle', 'Newcastle Road', 'Averham', 'Sharston Industrial Area', 'Binley Industrial Estate Binley', 'Princes Drive Industrial Estate', 'Walford', 'Strand Road', 'Centurion Close', 'Greets Green Road', 'Bilston Road', 'Crabtree Manorway South', 'Kabilpore', 'B.D. Sawant Marg Chakala', 'Bromyard Road', '160 London Road', 'Tonbridge Road', 'Broadmead Road', 'Hampton Hill', 'Alperton Lane', 'Stretton Road', 'Meridian House', 'Kincraig Court', 'East Kilbride', 'Fieldhouse Lane', 'Wynyard', 'Leacon Road', 'Lower York Street', 'Stroudley Road', 'Wearfield', 'Aspen House', '1 Harrow Road', 'Harvard Industrial Estate', 'Barnacre', 'Maryculter', 'Greets Green Road', '166 Fareham Road', '166 Fareham Road', 'Preston Farm Industrial Estate', 'Granby Industrial Estate', 'Lower Castle Street', 'And B Mckay Way', 'Emersons Green', 'Henry Boot Way', 'Weston Hall Road', 'Lower Castle Street', 'Emersons Green', '8 Calleva Park', 'Poligono Industrial Can Rubiols', 'Tra Est', 'Lostock', 'Level 6', 'Citywest Business Campus', 'Penfold Works', 'Plough Lane', 'Rathcoole', 'Aiskew', 'Apsley Way', 'Coventry Walsgrave Triangle', 'Mill Road', 'Whitestake', 'Hamilton', '406 Ardra Road', 'Geron Way', 'Monsall Road', 'Jinnaram Mandal', 'Grange Road', 'Farnworth', 'The Guineas Shopping Centre', 'Banner Lane', 'Marsh Barton Trading Estate', '38 Watford Way', 'Team Valley Trading Estate', 'Heysham Road', 'Monument Way West', 'East Kilbride', 'Naas Enterprise Park', 'Enterprise Close', '175 Broughton Lane', 'Yew Street', 'Lodge Farm Industrial Estate', 'Shrewsbury Avenue', 'Squires Gate Lane', 'Thornliebank', 'Central Avenue', 'Lostock', 'Blanchardstown', 'Talgarth', 'Trefecca Road', 'Katherine Street', 'Katherine Street', 'Taman Perindustrian Puchong Utama¦Taman Perindustrian Puchong Utama', 'Staveley', 'Felthambrook Way', 'Business Centre', 'Dunlop Street', 'Drongan', 'Centrum One Hundred', 'Athlone', 'East Kilbride', 'Fowler Avenue', '18-22 Church Street', 'Ayodhaya Nagar¦Ayodhaya Nagar', 'Almondsbury', '41 Brownfields', 'Dukestown', 'Preston Farm Industrial Estate', 'Uniao Das Freguesias De Alges', 'Prince William Avenue', 'Bamber Bridge', '582 Honeypot Lane', 'Vesty Business Park', 'Lostock', 'Martlesham Heath', 'Hampton-In-Arden', '11 Albion Street', 'Triq Iz-Zernieq¦', 'Henry Boot Way', 'Anand Nagar', 'Fengtaixian¦', 'Zentrum-Suedost¦Zentrum-Südost', 'Erfurt-Altstadt¦Erfurt-Altstadt', 'Connewitz¦Connewitz', 'Tafarnaubach', 'Hedgerley', 'Loughmore Avenue', 'Near Bannikuppe Village Kanakapura Taluk', 'North Dublin Airport Swords', 'Jinnaram', 'Parawada (Mandal)', 'Spilsby Road', 'Fowler Avenue', 'Eelmoor Road', 'Martinfield Business Centre', 'Executive Park', 'The Metro Centre', '55 Peel Road', 'Victoria Road', 'Marol Naka Chimat Pada¦', 'Raigad¦Raigad', 'Hadleigh', 'Doddanna Industrial Estate, Near Peenya', 'Shearway Road', \"St Mary's\", 'Fiveways Industrial Estate', 'Lunds Domkyrkofors.¦', 'Fairmile', '21 Lockfield Avenue', 'Lower Wortley', 'Errol', 'Willenhall Trading Estate', 'Wendover Road', '2 William Nadin Way', 'Holmbridge', 'Pardi¦', 'Nariman Point¦Nariman Point', 'Chhani¦Chhani', 'The High Cross Centre', 'Stoney Middleton', 'Balcombe Road', 'Coldstream Road', 'Alexandra Road', '557 Harrow Road', 'Cox Lane', 'Nh 45 Tambaran', 'Sragh Road', 'Shared Services', 'Avro Way', 'Shenzhou¦', 'Sagaon', 'Luanchengxian¦', 'Bodakdev', 'Cotgrave', 'Nechells', 'Nechells', 'Nechells', 'Guangzhou Development District', 'Changjiang District', 'Riccarton', 'Ruddington', '1-2 Sparrow Way', 'Lakesview International Business Park', 'Schooner Court', 'Anyang Hi-Tech Industry Development Zone', 'Armstrong Road', 'Harmondsworth', 'Khalapur¦Khalapur', 'Industrial Estate', '272 Field End Road', 'Port Of Marsaxlokk', 'Guiseley', 'Hangzhou', 'Waldridge Way', 'Meadow View', 'Stephenson Close', 'Binhai', 'Princes Street', 'Newmarket Drive', 'Tarvin', '6 Great Stanhope Street', 'Nechells Place', 'Draperstown', 'Manor Way', 'Ground Floor', 'Centennial Avenue', 'Manor Way', 'Wilsdruffer Vorstadt/seevorstadt-West¦Wilsdruffer Vorstadt/seevorstadt-West', 'Prologis Park', 'Church Crookham', 'Purley Way', 'Medway City Estate', 'Castle Street', '¦Cs 83642', 'Rosslyn Crescent', 'Meidling¦Meidling', 'Bordesley Green Road', 'Colonial Way', 'Dwight Road', 'Parc Caer Seion', 'Westwells Road', 'Neptune Road', 'Business Park', 'Keele', 'Easton Business Centre', '5 Poplar Walk', 'Staithgate Lane', 'Shore Wood Road', '324/326 Regent Street', 'Albert Drive', '36 East Street', '19 Heron Road', 'Valleyside', 'Eelmoor Road', 'Dwight Road', 'Chelston Business Park', '10th Floor', 'Sandford Lane', 'Tickhill Road', 'Dinnington', 'Mass Spectrometry & Proteomics Core Facility Division of Immunology', 'Office 601', 'Sixth Avenue', 'Bucksburn', 'Mainstream Industrial Park', 'Riverside Industrial Estate', 'Castor', 'River Road', 'Northwood Crescent', 'Chittening Industrial Estate', 'Essendine', 'Whitby Avenue', 'Appleton', 'Midc Rabale¦', 'Technology Drive', 'Perivale', '2 Beauparc Business Park', 'Lodge Road', 'Centennial Avenue', 'Carlton In Lindrick', 'Belfield Road', 'Rivergreen Industrial Estate', 'Bioquarter', 'Westbury-On-Trym', 'Bodelwyddan', '1 Albert Close', 'Jigani', 'Bommasandra Industrial Area', 'Chinthal', 'Paravada', 'Sanpada', 'Kincraig Court', 'Cs 18018¦Cs 18018', 'Springfield Road', 'Spondon', '45 New Market Lane', 'Iron Bridge Close', 'Kandla Special Economic Zone', 'Filton', 'Kingstone', 'Hailsham Drive', 'Withnell', '¦Ramersdorf-Perlach¦¦', 'Lollfuss¦', 'Derby Road', 'Section-7', 'Vila Maior¦Vila Maior', '12 Heron View', 'Babelsberg Sud¦', 'Helene-Lange-Str. 12¦', 'Bridgend Industrial Estate', 'Rosebank', 'Bold', 'Lake Business Centre', 'Frustuna¦Frustuna', 'Ridgeway', 'Stockholms Domkyrkofors.¦Stockholms Domkyrkofors.', 'Shield Road', '80 Scrubs Lane', 'Steeton', 'Portadown', 'Ballybin Road', 'Skegby', 'Irlam', 'Bad Peterstal¦', 'Radway Road', '2009 Orchard Avenue', 'Garrison Lane', 'Tintagel Way', 'Speke Road', 'Four Ashes', 'Cowley Road', 'Ellingham Way', 'Vanguard Industrial Estate', 'Lisboa', 'Medak District', 'Delta Way', 'Dyce', 'London Heathrow Airport', '138 Westfield Drive', 'Garrick Industrial Centre', 'Goodwin Road', 'Borsigwalde¦', 'Sahl Hamza', 'Wallis Avenue', 'Challenge Close', '2 Stirling Road', 'Essington', '6310B-14', 'Armunia', 'No. 12 And 16 Chuangye Rd', 'Newcastle Enterprises Centre Lynnwood', 'Zona Franca', 'Shieldhill', 'Ramsgate Road', 'Nangor Road', 'Prenzlauer Chaussee 8¦Prenzlauer Chaussee 8', 'Spur Road', 'Florence Way', 'Colnbrook By Pass', '127 Chemin De La Poudrerie¦127 Chemin De La Poudrerie', 'Gokul Nagar¦', 'Baikampady', 'Ruddington', 'Berigai Post', '2 Harcourt Road', '23/14 Skelton Industrial Estate', 'Yate', 'Colne Way', 'Gaocheng¦', 'Aiguo Road', 'Llangattock', 'Copt Hewick', 'Park West Business Park', 'Sargento Mor¦Sargento Mor', 'Aerodrome Business Park', 'Ockley', 'Sheep Green', 'Pengzhou¦彭州市', 'Nelson Way', 'Lobeda¦Lobeda', '7 Milnthorpe Road', 'Centennial Park', '111 Ross Walk', '239 Ampthill Road', '9 Clydesmill Grove', 'Dublin Road', 'South Harrow', 'Village Ukarla¦Village Ukarla', 'Knaves Beech Way', 'Suite 24', 'Grosvenor Road', 'Upton-Upon-Severn', 'Cardinal Park', 'Zakumui˛A', 'East Parade', 'Harrison Street', 'Dublin 12', 'Cradley Road', 'Quedgeley', 'Office Of Public Health', '¦단원구', 'Challenge Way', 'Farfield Park', 'Space Business Park', 'Grosvenor Way', 'Rawdon', 'Xuhui Dist.', '41-59 Windsor Avenue', 'Northwood', 'Berkeley Square', '252-260 Broad Street', 'Tamar Street', 'Stefani Viotias', 'Irving Way', 'No 8a Nh', 'Edinburgh Road', 'International Bioteck Park¦International Bioteck Park', 'Paengseong-Eup', 'Guilsborough', 'Merring Way', 'Sheaf Gardens', 'Paycocke Road', 'Runwell Chase', 'Votuparim¦', 'Sangareddy District', 'Cox Lane', '399 Uxbridge Road', 'Kestrel Way', 'Javelin Way', 'Tytherington Business Park', 'Chester West Employment Park', 'Mynydd Isa', 'Balcombe Road', 'Oadby', 'Little Eaton', '¦Landstraße', 'Vitoria-Gasteiz¦Vitoria-Gasteiz', 'Olds Approach', 'Bletchley', 'Crossways Business Park', 'Anchor Brook Industrial Park', 'Ballycoolin', 'Poligono Industrial Los Olivares¦Polígono Industrial Los Olivares', 'Poligono Industrial Los Palmones¦Polígono Industrial Los Palmones', 'Poligono Campollano¦Poligono Campollano', 'Shamshabad Mandal¦', 'Buckshaw Village', '85 New Cavendish Street', 'Tintagel Way', 'Blacknest Road', 'Oddicroft Lane', 'Vitoria Gasteiz¦Vitoria Gasteiz', 'Vitoria Gasteiz¦Vitoria Gasteiz', 'Pentre', 'Brisbane Road', 'Etloe Road', 'Harrietsham', 'Vassall Road', 'Sharston Industrial Area', 'Mandi District', 'Bridge Road', 'Westham', 'Four Acre Lane', 'Felcourt', 'Bilekahalli¦', 'Anekal Taluk', 'Bommasandra-Jigani Link Road¦Bommasandra-Jigani Link Road', 'High Street', 'Tudor Road', 'Great Blakenham', 'Main Street', 'Taloja¦Taloja', '49-81 Oxford Street', 'Greenbox', 'Industrial Area 4th Phase¦', 'Braintree Road', 'Whitebridge Lane', 'Staffordshire', 'Wedgwood Court', 'South Road', 'Finchley Road', 'Windmill Road West', 'Bettys Lane', 'Oriana Way', 'Trafford Park', 'Bretby', 'Dyce', 'The Mercury Centre', 'Park Farm Industrial Estate', 'Odiham', 'Coopers End Road', 'Farrier Road', 'Wick Airport', 'Acre Road', 'Bond Close', 'Turbhe¦Vashi', 'West Business Park', 'Yongnian County', 'Economic Technology Development Zone', 'First Avenue', 'Wuxue', 'Greenfield', 'Fengxin Industrial Park', 'Kenneth Way', 'Ryefield Way', 'Horsley Woodhouse', 'Hams Hall Distribution Park', 'Cardiff Bay Business Centre', 'Fordham', 'Granta Park', 'Graiseley Row', '324 Bensham Lane', 'Keele', 'Stanney Mill Road', 'Station Road', 'Alston Works', 'Stirling University Innovation Park', 'Hundon', 'Brunswick Business Park', 'Sree Arcade¦', 'Buckshaw Village', 'Brighton-Le-Sands', 'Colnbrook', 'The Sweepstakes', 'The Rookery', 'Changshou', 'Alcala de Henares', 'Euroway Industrial Estate', 'Nelamangala', 'Harpsden', 'Sanathnagar', 'Perry Vale', 'Arena Business Park', 'High Kelling', 'Thorverton Road', 'Ellingham Way', '2-3 Commerce Way', 'Demuth Way', 'St. Athan', 'Inniskeen Dundalk', 'Nakakoma-gun District', 'Jialing Industrial Park', 'Lawrence Road', 'Helsingborgs Maria¦', 'Swords', 'Long Lane Industrial Estate', 'C/M Apdo 150', 'Sandycroft', 'Odyssey Business Park', 'Industrial Estate', 'Hyman House', 'Dormagen-Nord¦', 'Durban Road', 'Redbourn', 'Kroepeliner Tor Vorstadt¦Am Vögenteich 13', 'Getinge Ravinge¦Getinge Rävinge', 'Innovation Park', '¦Höchst', 'Bridge Park Road', 'Pharma Zone', 'Poligono Vallecas¦Polígono Vallecas', 'An Phu Ward', 'Huainingxian¦', 'Natts Lane', 'Binhai Economic Development Zone', 'Parcela 88', 'First Industrial Zone', 'Shield Road', 'Shield Road', '¦Kröpeliner Tor Vorstadt', 'Binhaixian¦', 'Changshaxian¦', 'Changshu¦', 'Sachin¦Sachin', 'Poligono Industrial Port De Barcelona¦Polígono Industrial Port De Barcelona', 'Premier Park Road', 'Bells Hill Green', 'Padra Taluka', 'Goostrey', 'Cs 18036¦Cs 18036', '¦Coutures¦', 'Tarapur', 'Stockley Park', 'Frimley', 'Manchester Science Park', 'Logispark - Edifício B Sector I', 'Bluebridge Industrial Estate', 'Triq l Industrija', 'Kopenick¦', 'Shatang Town¦', 'Cs 42042 Wancourt¦Cs 42042 Wancourt', 'Kexby', 'Kungsbacka Hanhals¦Kungsbacka Hanhals', 'No. 12', 'Blaenavon', 'Claycliffe Business Park', 'Ellingham Way', 'Kirkby-In-Ashfield', 'Little Easton', 'Howden West', '46 Grafton Street', 'Grove Road', 'Magna Business Park', 'Great Abington', 'The Mercury Centre', 'Eelmoor Road', 'Crymlyn Burrows', 'Gorseinon', 'Lower Castle Street', 'Bromborough', '29 Holmethorpe Avenue', '76 Furze Road', 'Gross-Erkenschwick¦', 'Highway Point', 'Ringsend', 'Ballywaltrim Business Park', 'Industrial Estate', 'Keele', 'Mitte¦Melle Mitte', 'Stetten¦', 'Langley Mill', 'Hammond Close', 'The Metro Centre', 'Kellythorpe', 'Clondalkin Industrial Estate', 'Worthington Way', 'Kildare', 'Economic Development Zone¦', 'Huayuan Industry Park¦', 'Western Industrial Estate', 'Veasey Close', 'Boscombe Road', 'Blaenavon', 'Victory Way', 'Wumingxian¦', 'Tattenhall', 'Bradley Stoke', 'Horizon Logistics Park', '¦Landstraße', 'Harlington Road', 'Dongcheng Film¦', 'Wombwell', 'Oadby', 'Bond Close', '¦Pötschach', 'Glasnevin', 'Free Zone', 'Britannia Way', 'Greatbridge Road', 'Express Group Building Velbro House Qormi Road', 'Greenhalgh', 'Swanwick', 'Greenogue Business Park', 'Grand Hyatt Vakola', 'Raigad District', 'Additional Midc¦Additional Midc', 'Ashmead Road', 'Malad East¦Malad East', 'Zone Dactivite Air Space¦Zone Dactivite Air Space', 'Magna Drive', 'Magna Business Park', 'Verna¦Verna', 'District Raigad¦District Raigad', 'Rabale¦Rabale', 'Durham Road', 'No. 4 Road¦No. 4 Road', '¦Spånga-Kista', '¦Kröllwitz', 'Tylers Avenue', 'Beverley Way', 'Keele', 'Sherburn In Elmet', 'Cowley', 'Zentrum Suedost¦Zentrum Südost', 'Bush Loan', 'Oxleasow Road', 'Regents Drive', 'S A Brelvi Road¦S A Brelvi Road', '¦Rögen', 'Bad Suderode¦¦', 'Sanand¦Sanand', 'Magna Park', 'Latham Road', 'Fehrbelliner Strasse 38¦Fehrbelliner Straße 38', 'Barfield Close', 'Lyons Way', 'Sherrington Way', 'RIICO Industrial Area', 'Bandar Sultan Suleiman¦Bandar Sultan Suleiman', 'Discovery Park', 'Anqiu¦', 'Discovery Park', 'Wooburn Green', 'Buckingham Industrial Estate', 'Kimbolton', '1 Woodside', 'Stockholms Domkyrkofors.¦Stockholms Domkyrkoförs.', 'Tech Development Zone¦', 'Midc Industrial Area', 'Poligono Industrial Sudoest¦Polígono Industrial Sudoest', 'Goteborgs Annedal¦Göteborgs Annedal', 'Athlone', 'Indore', 'Poligono Industrial Can Palet¦Polígono Industrial Can Palet', 'Dist Rajkot', 'Neuwerk¦Neuwerk', 'Nalagarh District Solan', 'Gurtnafleur Business Park', 'Jiangbei', 'Plateau Moulon', 'Crigglestone', 'Phoenix Avenue', 'Llanmartin', 'Cabra Figa¦Cabra Figa', 'Victoria Street', 'Manor Way', 'Carlton', 'Pocklington', 'Clatterbridge Road', 'Colville Road', 'Bell Lane', 'Regents Drive', 'Weedon Road Industrial Estate', 'Renwick Road', 'Orient Way', 'Boreham', \"Triq Is Salib Ta' L Imriehel¦Triq Is Salib Ta' L Imriehel\", 'Ynysmaerdy', 'The Rookery', 'Barrow Street', 'Industrial Development Zone', 'Pudong¦Pudong', 'Heungdeck-gu', 'Red Scar Industrial Estate', 'Barrow Street', 'Jiujiang City', 'Beichen¦', '¦Währing', 'Kazipally Industrial Area', 'Sangareddy District', 'Hechuan District', 'Area Portuaria De Las Palmas¦Area Portuaria De Las Palmas', 'Duleek', 'Parc Menter', 'Wansford', 'Bahrenfeld¦Bahrenfeld', 'Stoney Middleton', 'Whittle Le Woods', 'Pennygillam Way', 'Vellinge-Manstorp¦Vellinge-Månstorp', 'Hasland', 'Jintang', 'Pujiang County', 'Shobnall Road', 'Ost¦Ost', 'Uhlandstrasse 7¦Uhlandstraße 7', 'Landwasser¦Landwasser', 'Eichertstr. 3¦', 'Venette¦Venette', 'Midc¦M I D C', 'Yeadon', 'Poligono Industrial Moli De Les Planes¦Polígono Industrial Moli De Les Planes', 'Birchanger', 'Survey¦Survey', 'Merlin Way', 'Jinchang¦', 'Cs 51005¦Cs 51005', 'Building 10', 'Western Business Park', 'Engelbrekt¦Engelbrekt', 'Jiangyin¦', 'Ida', 'Mulund West¦Mulund West', 'Chemical Zone Kurkumbh', 'Casal do Bagulho', 'Inukami Gun', 'Caddesi No. 50-A', 'Ruppurr¦', 'Ost¦', 'Spanga-Kista¦Spånga-Kista', 'Riverside Way', 'Medak District', 'Nantou City¦', '9 Bld 3rd Samotyochnyi Per', 'Al Kharj Road Exit 11', 'Clonard Great', 'Honeypot Lane', '6 Bristo Square', 'Cahir', 'Ballinlough', 'Gidc Ankleshwar¦Gidc Ankleshwar', 'Athlone Road', 'Welford', 'Boisar', 'Taluka Savli¦State Highway 150¦State Highway 150', 'Priory Drive', 'New Mills', 'Dyce', 'Surrey Research Park', 'Co Dublin', '10 River Road', 'Lunds Allhelgonafors.¦Lunds Allhelgonafors', 'Western Estate', 'Rigside', 'Wedgnock Industrial Estate', 'Business Park', 'Binhai Economic Development Area', 'Taloja', 'Houston Park', 'Strathclyde Business Park', 'D Tower 11th floor', 'Milton Bridge', 'Landstrasse¦Landstraße', 'Westport Mayo', 'High Holborn Road', 'Bellbrook Industrial Estate', 'Venusberg¦Venusberg', 'Clifton', 'Poligono Industrial La Estrella', 'High Carr Business Park', '20 Sandown Road', 'Crossways Business Park', '1 Brunel Drive', 'Sargento Mor¦Sargento Mor', 'Lunds Domkyrkofors.¦Lunds Domkyrkofors.', 'Mathisen Way', 'Woolpit', 'Harvestehude¦Harvestehude', 'Fetscherstrasse 74¦Fetscherstraße 74', 'Derby Road Industrial Estate', 'Johannstadt-Nord¦Johannstadt-Nord', 'Johannstadt-Nord¦Johannstadt-Nord', 'Ballsbridge', 'Katherine Street', 'Diseworth', 'Business Centre', '216 Sydenham Road', 'Biebrich¦Biebrich', 'B/h Village Santej Taluka¦B/h Village Santej Taluka', 'Shipdham', 'Botesdale', 'Greenhaigh', 'Durham Way South', 'Ta Qali Lo Attard', 'Hinjwadi¦Hinjwadi', 'Hinjwadi', 'Km 452', 'Bretton', 'Madkaim¦Madkaim', 'Sefton Business Park', 'Sefton Business Park', 'Hawthorne Road', '31 Edgington Way', '¦Bommasandra-Jigani Link Road', 'Sefton Business Park', 'Sir Temi Zammit Buildings', 'Norden¦Norden', 'Ludwigsvorstadt-Isarvorstadt¦Ludwigsvorstadt-Isarvorstadt', 'Great Abington', 'Newtown Road', 'The Forbury', '12a Wilderhaugh', 'Station Approach', 'No 4 Ash Industrial Estate', 'Waterbeach', 'Little Chesterford', '80 Wood Lane', 'Lostock', 'Chester Road', 'Oxford Road', 'Irungattukottai¦Irungattukottai', 'Srah Road', 'Po Box 2240', 'St. Davids Industrial Estate', 'Raffeen', 'Cs 73223¦Cs 73223', 'Kopingsbygden¦Köpingsbygden', 'Sandford Road', 'Ballsbridge Park', 'Dublin Airport', 'Rathfarnham', 'Western Business Park', 'Baldoyle Industrial Estate', 'Dundrum', 'Smithfield', 'Tallanstown', 'Ballycoolen', 'District Solan¦District Solan', 'Changning¦Changning', 'Enderby', 'Floor 38', '4 Gatwick Road', 'Yadavanahalli', 'Jebel Ali¦Jebel Ali', 'IDA', 'Hay-On-Wye', 'Atlantic Business Centre', 'Debschwitz¦Debschwitz', 'S:t Matteus¦S:t Matteus', 'Linkopings St Lars¦', '¦Göggingen', 'Lewins Mead', 'Dunraven Business Park', 'Quarry Lane', 'Tilney All Saints', 'Magna Drive And Citywest Road', 'Geraldine Road', 'Edificio 6 Fracao Cu', 'Porthtowan', 'Miskolctapolca¦Miskolctapolca', 'Worthing Road', 'Victory Way', 'Seer Green', 'White Lion Road', 'Kingmoor Park North', 'Ermington Road', 'Protea Way', 'Fenton Industrial Estate', 'Fenton Industrial Estate', 'Fenton Industrial Estate', 'Sandy Lane', 'Station Road', 'Great Denham', 'Baglan Industrial Park', 'Baglan Industrial Park', 'Claverings Industrial Estate', 'Calmount Avenue', 'Manchester Science Park', 'Manchester Science Park', 'Galiza¦Galiza', 'Frogmore', 'Nechells Place', 'Westham', 'Oaks Drive', 'Whiteleaf Road', 'Sandleheath Industrial Estate', 'Henwood', 'Colonial Business Park', 'Harvey Drive', 'Horizon Logistics Park', 'Oaklands Park', 'London Colney By Pass', 'Nechells', 'Gilchrist Road', 'Jardia¦Jardia', '114 Harrogate Road', 'Chester Gates', 'Neustadt Nord¦Neustadt Nord', '239 Torrington Avenue', 'Capstan Court', 'Station Hill', 'Urmston', 'Small Heath', 'Leckwith', 'Manor Park', 'Jesenice U Prahy¦Jesenice U Prahy', '1 Mosshill Industrial Estate', 'Northgate Street', 'Parkway Drive', 'Grants Drive', 'Leachcroft', 'Colchester Business Park', 'Barton Manor', 'Huishan¦', 'Jinnaram¦Jinnaram', 'Wheelhouse Road', 'Palghar District Thane', 'Luanchengxian¦', 'Airport Business Park', 'Valleyside', 'Parkway Drive', 'Nutgrove Avenue Rathfarnham', 'Chemistry APIs Base', 'Weston Hall Road', 'Taluka Khed', 'Kanchipuram District', 'Nagawara Outer Ring Road', 'Tal. Panvel', 'Shameerpet', 'Bharuch District', 'B. Pochampally Mandal', 'Nalgonda District', 'Banjara Hills', 'Epip Area', 'Raigad District', 'Boisur¦Boisur', 'Hanjiang¦', 'Hazleton Interchange', 'Crumlin', 'Colnbrook', 'Magna Drive', 'Alathur Kancheepuram District', 'Rugby Road', 'Ince Lane', 'Bourne End Lane', 'Raigad', 'Ghatkopar East', 'Lostock', 'Blackrock', 'Zentrum-Suedost¦Zentrum-Südost', 'Barmbek-Sued¦Barmbek-Süd', 'Golm¦Golm', 'Grand Harbour', 'Miles Gray Road', 'Northfleet', 'Ellisbridge¦Ellisbridge', '200 Yorkshire Street', 'Lostock', 'Maxwell Way', 'Minster On Sea', 'Turbhe', 'Zari Causeway Road', 'Silverdale Road', 'Team Valley Trading Estate', 'Kecheng¦', 'District Rajkot', '¦Hüls', 'Fairacres Industrial Estate', 'Glaisdale Parkway', 'Village Metoda', 'Dunes Way', 'District Srikakulam', 'Pimhole Road', 'Street 1 Tarnaka Secunderbad', 'Alfred Street', 'Sagarli Gaon¦Sagarli Gaon', 'Holbeck', 'Lenthall Road', 'Wooburn Green', '426 Long Drive', 'Matoda Sanand', '¦Döbling', 'Lt Marg', 'Rathfriland Road', 'Whiteleaf Road', 'Chitra¦Chitra', 'Sector 54¦Sector 54', 'Chapeltown', 'Bronllwyn', '¦Döbling', 'Vidya Vihar¦Vidya Vihar', 'District Aurangabad', 'District Vadodara', 'Wanchai', 'District Pune', 'District Vadodara', 'Dabhel', '5 Ferguson Drive', 'Midc¦Midc', 'Yelahanka Satellite Town', 'Bhandup West', 'Cowpen Lane Industrial Estate', 'Ainsdale', 'Tudor Estate', 'Ghansoli¦Ghansoli', '10/l11 Andoversford Industrial Estate', 'Ingleton', 'MIDC', 'Ruddington', 'Nadrisha Sukhia Street', 'Polepally', '25 Grafton Way', 'Heath Road', 'Eccleston', 'Solent Industrial Estate', 'Masjid Bandar', 'Lyons Way', 'Choungshou', 'Business Park', '¦¦Elisabeth-Schumacher-Str. 54/531', 'Futian District', 'Street No. 329', 'Kingsway', '2 Droxford Road', 'Qihexian¦', 'Makarpura Road', 'I I M¦I I M', 'Taloja¦Taloja', 'Whiteleaf Road', 'Apex Court', '¦Döbling¦', 'Bad Koesen¦', 'Masjid Bunder', 'Haidan District', 'Near Paper Box', '7 Tudor Road', 'Pudong¦', 'Britz¦¦', 'Ringwood Road', 'Industrial Area¦Industrial Area', 'Coxwell Avenue', 'Station Road', 'Andheri East', 'Pankow¦¦', 'Gross Buchholz¦¦', 'Altstadt-Sud¦¦', 'Citywest Business Campus', 'Futian¦福田', 'Tilehurst', 'Cavan Road', '¦¦¦¦Strümpellstr. 40/108¦¦', 'Huangshing¦', 'Dencora Way', 'Loxley Road', 'New Addington', 'Chain Lane', 'Kunshan¦昆山市', 'Dunnington', 'Xihu¦西湖', 'Rauschwalde¦', 'Sud-West-Innenstadt¦¦', 'Uckendorf¦¦', 'Taramani', 'Lodge Causeway Trading Estate', 'Allington', 'Mitchelston Drive', 'Tech Development Zone', 'Fengxian District¦奉贤区', 'Shitang', 'Xihu¦西湖', 'Yeongdeungpo-Gu Ace Hitech City', 'Qinghe¦清河', 'Bungahan', 'Jiangyin¦江阴市', 'Featherstone', '¦¦Döbling', 'Nankai¦Nankai', 'Xiasha', '¦¦Landstraße', 'Tsuen Wan New Territories', 'Economic Development Zone', '¦¦Rudolfsheim-Fünfhaus', 'Nankai¦Nankai', 'District Nawanshahr', 'Hubei', 'Headington', 'New Inn', 'Nankai¦南开区', 'Jurong', 'Portadown', 'Changjiang', 'Nantong', 'Changning¦', 'Fuyang¦富阳', 'Miyunxian¦密云县', 'Chaoyang', 'Nancunhaidian', 'Hangzhou¦杭州', 'Alkapuri', 'Mindspace Mala Wes', '¦Avenue Hippocrate 15¦', 'Cabra Figa¦Cabra Figa', 'Mullsjo-Sandhem¦Mullsjö-Sandhem', 'Linkopings S:t Lars¦', '¦COURBEVOIE', '¦Chemille Melay¦', 'Cs 60055 Courbevoie¦Courbevoie¦Cs 60055 Courbevoie', 'Zhonglou¦钟楼区', 'District 7', 'Bangalore Road', 'Nariman Point', 'Kukatapally¦Kukatapally', 'Jintan', 'Charkop', 'Andheri East¦Andheri East', 'Taloja¦Taloja', '¦Notre Dame De Gravenchon¦', 'Pudong¦', 'Goregaon West', 'Hexian¦和县', '¦Büdingen', '¦Bp 1427 2¦Bp 1427', 'Bp 70103¦Bp 70103¦Bp 70103', 'Sectio-Op (Hau¦', 'Venette¦¦Venette', 'Maitry Marg', 'Yubei¦渝北区', 'Regents Drive', 'Jintan¦¦', 'Roman Road', 'Chaoyang District', 'Luanchengxian¦栾城县', 'Research Avenue North', 'Zhangjiang Hi Tech Park', 'Huangshigang¦', 'Plaenterwald¦Plänterwald', 'Haicang District¦', 'Charlottenburg¦Charlottenburg', 'Sudstadt¦', 'Hellersdorf¦Hellersdorf', 'Acre Road', 'Boucher Crescent', 'Fangzi¦', 'Futian District', 'New Area', 'Poligono Industrial De Villaverde¦Polígono Industrial De Villaverde', 'Central Business District', 'Poligono Industrial Can Palet¦Polígono Industrial Can Palet', 'Poligono Industrial La Torre Del Rector¦Polígono Industrial La Torre Del Rector', 'Poligono Industrial Plataforma Logistica Zaragoza¦Polígono Industrial Plataforma Logistica Zaragoza', 'South Esplanade East', 'Cranford Lane', 'Elstead', 'St. Georg¦¦St. Georg¦', 'Xinbei District¦', '¦Hospitalstr. 19¦', 'Leopoldshafen¦Leopoldshafen', 'Paradise Road', 'Altlindenau¦Altlindenau', 'Ben Nevis Industrial Estate', 'Chartwell Road', 'Greencroft Industrial Park', 'Sundhausen¦¦', 'Handsworth', 'South Harrow', 'Plean', 'Felthorpe', 'Sherwood Road', 'St James Road', '582 Honeypot Lane', 'Knockmore Industrial Estate', 'Kemsley', '¦¦Ceuti', '125 Moor Road', 'Carretera Guadalajara-Nogales Km. 13,5', 'Hedon Road', 'Farfield Park', 'Larkfield', 'Magna Business Park', 'Shardlow', 'Westhoughton', 'S.r. Kandigai Road', 'Foster Road', 'Second Way', 'Tarapur', 'Fulbourn', 'Higher Heath', 'Anderton', '100 Third Avenue Centrum', 'Altona Road', 'Nercwys', '4-5 Burton Hall Road', 'Lawrence Road', 'Swords', 'Kingsbury Road', 'Team Valley Trading Estate', '40 East Street', 'Lester Way', '230 Brixton Hill', 'Cabra Figa¦Cabra Figa', 'Mosley Road', 'Prologis Park', 'Meadowfield Avenue', 'Worli¦Worli', 'Harworth', 'Bellshill Industrial Estate', 'Estover', 'Rugby Road', 'Northallerton Business Park', 'Estrada Consiglieri Pedroso 80¦Estrada Consiglieri Pedroso 80', 'Lamson Road', 'A 8 Walter Leigh Way', 'North Road', 'High Street', 'Desborough', 'Brackmills Industrial Estate', 'Oldham Broadway Business Park', 'Wortham', 'North Ormesby', '115 Harford Street', 'Stockholms Domkyrkofors.¦', 'Johannstadt-Nord¦Johannstadt-Nord', 'Northwest Business Park', 'Finglas East', 'Stoneclough Road', 'Hale Village', 'Bombay Street', 'Overseal', 'Galveston Grove', 'Albion Road', 'Baldoyle Industrial Estate', 'Finglas', 'Leixlip', '22 Carlton Road', 'Dodworth', 'Bawtry Road', 'Citywest Business Campus', 'Vitoria-Gasteiz¦Vitoria-Gasteiz', 'Ruzinov', 'Kingswood', 'New Tupton', 'Dodworth', 'Bawtry Road', '22 Carlton Road', '22 Carlton Road', 'Zone¦', '¦Groß Borstel', 'Konska¦Konská', 'Dyce', 'Smiths Way', 'Park Road', 'Brunel Way', '15 Blackstaff Road', 'Mallard Way', 'Team Valley Trading Estate', 'Rotherwick', 'Premier Way', 'Trumpers Way', 'Business Campus', '5-7 Tobermore Road', 'D. Ep.Em. 3.D02.¦', 'Ravensbury Lane', '1 Longstone Road', 'Swanton Abbott', 'Ince', 'Choats Road', 'Huishan¦', 'Canton Lane Coleshill', '¦Parnasree Pally', 'Broughton Astley', 'Garelochhead', 'Triq Ix Xorrox¦Triq Ix-Xorrox', '¦Kröllwitz', 'Falmer', 'Citywest Road', 'Neath Hill', 'Bumpers Way', 'Pacific Road', 'Captains Hill', 'New Wortley', 'Vitoria Gasteiz¦Vitoria Gasteiz', 'Godmanchester', 'Beddington Farm Road', 'Ballyboughal', 'Magna Drive', 'Fonthill Road', 'West¦West', 'Kakad House B Wing', 'Liverpool Road', 'Poligono Industrial Parc Cientific De Barcelona¦Polígono Industrial Parc Cientific De Barcelona', 'Midland Street', 'Stone Cross', 'East Preston', 'Milfoil Drive', 'Barratt Way', '60 Cox Lane', 'Cox Lane', 'Sefton Business Park', 'Barbada', 'Spring Lane North', 'Medak', 'Johannstadt-Sud¦', 'Ropetackle', 'Ard Gaoithe Business Park', 'Library Road', 'Emersons Green', 'Emersons Green', 'Oxford Business Park South', 'Ince Lane', 'Arlington Business Park', 'Units 1,2,3 University Hall Industrial Park', 'Foxford', 'Clayton', 'Garforth', 'Nelson Street', 'Clayton', 'Boundary Way', 'Bold', '42-46 Booth Drive', 'Bonehurst Road', 'Santry Demesne', 'Lyndon Road', '1 Limborough Road', 'Yeadon', 'Ramsdell', '8-14 Church Road', 'Cabra Figa¦Cabra Figa', 'Marsh Barton Trading Estate', 'Cornwall Road', 'Westbury-On-Trym', 'Millers Avenue', 'Great North Road', 'Warrington Road', 'Primrose Hill', 'Featherstone', 'Whitebirk Industrial Estate', 'Works Road', 'Altens Industrial Estate', 'Ballycoolin Road', 'Colney Street', 'Pinetrees Road', 'Mark Way', 'Coleshill', 'Plympton', 'Gilwilly Industrial Estate', 'Gwaelod-Y-Garth', 'Heming Road', 'Coes Road', 'Clongill', 'Nostell', 'Ashton In Makerfield', 'Charles Street', 'Colnbrook', '87a Paines Lane', 'Melmerby Green Road', 'Fehrbelliner Strasse 38¦Fehrbelliner Straße 38¦Fehrbelliner Str. 38', 'Lutzowstr. 11¦Lützowstr. 11¦Lützowstr. 11', 'Thurlow Street', 'Middlemore Lane West', 'Ronsons Way', 'Old Bath Road', 'Fort¦Fort', 'Chagford', 'Tye Road', 'Gibbstown', 'Lee Mill Industrial Estate', '120 Bath Road', '31 Triq Il Fortizza', 'Smeckley Wood Close', 'Chain Bar Road', 'Caswell Road', 'Bedminster', 'Nantgarw', 'Lenton Lane Industrial Estate', 'Sterte Road', 'St. Annes Park', 'Ely Road', 'Victoria Road', 'Chester Gates', 'Whitehorse Lane', 'Lake View Drive', 'Edgbaston', 'Ballymun', 'Waterford', 'Rutenfeld¦Rutenfeld', 'Rutenfeld¦Rutenfeld', '¦Rautenstr. 8¦', 'Cabra Figa¦Cabra Figa', 'Westbrook', 'Manvers', 'Birmingham Science Park Aston', 'Park Farm Industrial Estate', 'Mainsforth Terrace', '2 Michelin Road', 'Thorp Arch Estate', 'Campsie Real Industrial Estate', 'Kearsley', 'Cliffe Woods', 'Fishponds', 'Modricka 205¦Modřická 205', 'Cosham', 'Dyce', 'Emersons Green', 'Penn', 'Blackridge', '1 Vinces Road', 'Industrial Estate', 'Headington', 'Fokionos Street 12', '3 Brunel Drive', 'Ermine Business Park', 'Wessex Business Park', 'Business Park', 'Kingsnorth Industrial Estate', 'Sintra', 'Trust Headquarters', 'Lobeda¦¦Lobeda', '8 Lorne Close', 'Leyland Business Park', '103 Wigmore Street', 'Loxley Road', 'Ainsdale', 'Douglas', 'Oak Road', 'Shipton Gorge', 'Baglan Industrial Park', 'Cs 28028¦Cs 28028', 'Wonastow Road Industrial Estate (west)', 'Derriford Road', 'Gresley Business Park', 'Springhill Parkway', 'Sherburn In Elmet', 'Cs 61848¦Cs 61848', 'Chartmoor Road', '954 Antrim Road', 'Clonshaugh', 'Market Square', 'Harcourt Road', 'Ballynagard Road', '155 East Main Street', 'Leeway Court', 'Poligono Industrial Ugaldegur¦Polígono Industrial Ugaldegur', 'Tittensor', 'Liphook Way', 'Segensworth Road', 'Laker Road', 'Stapylton Street', 'Marsh Barton', 'Birtley', 'Chester Road', '¦Großerkmannsdorf', 'Questor', 'Wednesbury Trading Estate', 'Castle Donington', 'Whittle Parkway', 'West Thurrock', 'New Hythe Lane', '27 Harvester Way', '14 Rockware Avenue', 'Region Vitosha', 'West Thurrock', 'Wednesbury Trading Estate', 'Bamber Bridge', 'Hillington Park', 'Atlas Road', 'Business Park', 'Station Hill', 'Fetscherstrasse 74¦Fetscherstraße 74', 'Ropetackle', 'Three Legged Cross', 'Longford', 'Knaves Beech Way', 'Atherton', 'Goostrey', 'Broughty Ferry', 'Post Kulgaon,Thane', 'Chembur¦Chembur', 'Off Govandi Station Road, Govandi¦Off Govandi Station Road, Govandi', 'Brookfield Drive', 'Wonastow Road Industrial Estate (west)', 'Manor Way', 'Quarry Hill Road', 'Haslemere Trading Estate', '100 Lees Road', 'City North Business Campus', 'Neills Road', 'Whiteleaf Road', 'City North Business Campus', 'Neander', 'Harrison Street', 'Enterprise Centre', '¦Hanuman Nagar¦', 'Mahon Industrial Park', 'Central Business Park', 'Newmarket Drive', 'Central Business District', 'Kungsangen Vastra Ryd¦Kungsängen Västra Ryd', 'Copthorne', 'Fifth Avenue', 'Hamble', 'Minto Avenue', 'Fetscherplatz 4¦Fetscherplatz 4', 'St. Annes Park', 'Somercotes', 'Larch Lea', 'Topham Drive', 'Poligono Industrial La Estacion¦Polígono Industrial La Estacion', 'Victoria Street', 'Barrow Street', 'Bretton', 'Hobson', 'Fairview', 'Cs 28028¦Cs 28028', 'West Quay Road', 'London Heathrow Airport', 'Manchester Airport', 'Manor Park', 'South Marston', 'Santry', 'Castleton', 'Alcoitao¦Alcoitão', 'Keys Road', 'Central Business District', 'Manor Farm Road', 'Oliver Business Park', 'Ballsbridge', 'Old Church Road', 'Heapham Road Industrial Estate', 'Windmill Avenue', 'Les Ulis¦Les Ulis', 'Accounting Freedom House', 'High Street', 'Sherwood Road', 'Victory Way', 'Pill', 'Frenchay', 'Valleyside', 'Poligono Vallecas¦Polígono Vallecas', 'Clondalkin', 'Astmoor Industrial Estate', 'Citywest Business Campus', 'Lester Way', 'Cheoin Gu', 'Grove Road', 'Innenstadt¦Innenstadt', 'Central Business District', 'Nursling', 'Fettenvorstadt¦Fettenvorstadt', 'Handschuhsheim¦Handschuhsheim', '¦Höchst', 'Stuehlinger¦Stuehlinger', 'Tallaght', 'Griffeen Road', 'Technical Development Zone', 'Knowsley Industrial Park', '3 Robert Robinson Avenue']\n",
            "36739\n"
          ],
          "name": "stdout"
        },
        {
          "output_type": "execute_result",
          "data": {
            "text/plain": [
              "{'ColumnName': 'Address Line 3',\n",
              " 'Count': 36739,\n",
              " 'NonEmptyValuesCount': 3537,\n",
              " 'UniqueId': 511780,\n",
              " 'Values': array(['', '', '', ..., '', '', ''], dtype=object),\n",
              " 'type': 'AddressLine3'}"
            ]
          },
          "metadata": {
            "tags": []
          },
          "execution_count": 48
        }
      ]
    },
    {
      "cell_type": "code",
      "metadata": {
        "id": "tI6Q6V_2UHMa",
        "colab_type": "code",
        "colab": {
          "base_uri": "https://localhost:8080/",
          "height": 208
        },
        "outputId": "b19efefe-8e20-4df1-ec37-9cad67cb2f97"
      },
      "source": [
        "#  32  Address Line 4 \n",
        "print(len(dff['Address Line 4'].values))\n",
        "dff1 = dff['Address Line 4'].replace('¦', np.nan)\n",
        "dff1 = dff1.replace('¦¦', np.nan)\n",
        "dff1 = dff1.replace('¦¦¦', np.nan)\n",
        "dff1 = dff1.replace('¦¦¦¦', np.nan)\n",
        "dff1 = dff1.replace('¦¦¦¦¦', np.nan)\n",
        "dff1 = dff1.replace('¦¦¦¦¦¦', np.nan)\n",
        "dff1 = dff1.replace('¦¦¦¦¦¦¦', np.nan)\n",
        "dff1 = dff1.replace('¦¦¦¦¦¦¦¦', np.nan)\n",
        "dff1 = dff1.replace('¦¦¦¦¦¦¦¦¦', np.nan)\n",
        "dff1 = dff1.replace('¦¦¦¦¦¦¦¦¦¦¦', np.nan)\n",
        "\n",
        "print(len(dff1))\n",
        "onlyValues = len(dff1.dropna())\n",
        "dff16  = [i for i in dff1.dropna() if i] \n",
        "print(onlyValues)\n",
        "print('dff16',dff16)\n",
        "\n",
        "dff1 = dff1.replace(np.nan, '', regex=True) \n",
        "row31 = {'UniqueId':np.random.randint(491859, 550000),'ColumnName':dff.columns[32], 'type':'AddressLine4', 'Count':len(dff1), 'Values':dff1.values, 'NonEmptyValuesCount':onlyValues }\n",
        "row31"
      ],
      "execution_count": 50,
      "outputs": [
        {
          "output_type": "stream",
          "text": [
            "36739\n",
            "36739\n",
            "721\n",
            "dff16 ['1er etage', 'I,E&S/Library', 'Laboratory', 'Sector 2', 'Linthwaite', 'Tower Hamlets', 'Metheringham', 'Business Park', 'Jeedimetla¦', '¦¦¦¦Jogeshwari West¦¦Jogeshwari West', 'Medak District', 'Sector 1', 'East Wing¦', 'Melmerby', 'Sector 1', 'Bang Phli', 'Chalfont St. Peter', 'Wooburn Green', 'Stotfold', '¦Cs 50052', 'Wexham', 'Phraeksa¦', 'Dodworth', '¦Montrichard', 'Whiteley', 'Northwood', 'Fukusakicho', 'Salcette¦', '¦¦St Ouen L Aumone', 'BP 47¦Le Broc', 'Wick', 'Taplow', 'Cressex Business Park', 'Whistleberry Industrial Park', 'Manchester Airport', 'Whiteley', 'Bridge Road', 'Deeside Industrial Park', 'Titchfield', 'District Pune¦', 'Sector 5', 'Puteaux¦', '¦Puteaux', 'Terminus Road', 'Stotfold', 'Long Hanborough', 'Courbevoie¦', 'Wexham', 'Volt Avenue', 'Bridge Road', 'Apartment 70', 'Floor 12¦Eтаж 12', 'Courbevoie¦Courbevoie', 'Hopkinson Way', 'Chalgrove', 'Riverside Way', 'Measham', 'Daresbury', 'Swansea Enterprise Park', 'Old Dalby', 'Histon', 'Histon', 'Milton Road', 'Willingham', 'Melbourn', 'Hagonoy', 'Vanwall Road', 'Caddsdown Industrial Park', 'Riverside Way', 'Old Dalby', 'Shortwood Business Park', 'Lowfield Heath', 'Talgarth', 'Measham', 'Sand Hutton', 'North Wall', 'Medway City Estate', 'Northwood Avenue', 'Morley', 'Salwayash', 'St. Philips', 'Histon', 'Courbevoie¦', 'Roundswell Business Park', 'Elstree', '¦大阪市', 'Horspath Industrial Estate', 'Du Cane Road', 'Whiteley', 'Innovation Close', 'Laporte Way', 'Choke Lane', 'Melmerby Green Road', 'Peasmarsh', 'Peasmarsh', 'Brecon Road', 'Bruntcliffe Avenue', 'Botley', 'Wilnecote', 'Ranga Reddy District¦', 'Gawcott', 'Citywest Business Campus', 'Science Park', 'St. Barnabas Close', 'Salwayash', 'West End', 'Totton', 'Praksa¦', 'Trolliloes', 'Heaton Chapel', 'Floor 4', 'Nether Poppleton', 'Ballsbridge', 'Histon', '¦Illkirch Graffenstaden', 'Brooklands Business Park', 'Park Farm Industrial Estate', 'Headington', 'Bumpers Farm', 'Bandra East¦', 'Bellaterra', 'Ballsbridge', '¦Theale', 'Whitestake', 'Upper Heyford', 'Kensington', 'Belvue Road', 'White Waltham', 'Yarnton', 'Ramsgate Road', '149 Tottenham Court Road', 'Histon', 'Occam Road', 'Salfords', 'Park Lane', 'Dwight Road', 'Colney', 'Southern Road', 'South Mimms', 'Histon', 'Medway City Estate', 'Imperial Way', 'Leavesden', 'Quarry Road', '25 Old Broad Street', 'Farmoor', 'Singleton Park', 'London Road', 'Yarnton', 'No. 80 Linsen N. Rd.¦', 'Hartley Wintney', 'Paddington', 'Lapczyca', 'Shoe Lane', 'Medak District', 'Andheri East', 'Caversfield', 'Citywest Business Campus', 'Northwood', 'Bell Entrance', 'J P Nagar¦J P Nagar', 'Pampisford', '280 Bath Road¦¦', 'Bumpers Farm', 'Isolo', 'Walker Road', 'Overton', 'Brooklands Business Park', 'Minerva Business Park', 'Medway City Estate', 'Medway City Estate', 'Northbridge Road', 'Chadderton', 'Martinsried¦Martinsried', 'Buch¦Buch', 'Knowsley Industrial Park', 'Sawston', 'Irlam', 'Stoke Poges', 'West Derby', 'Cranes Farm Road', 'Histon', 'Shafton', 'Tockwith', 'Paycocke Road', 'Cressex Business Park', 'Fenstanton', 'Bentley Road South', 'Bardon Hill', 'Euroway Industrial Estate', 'Appley Bridge', 'South Normanton', '17 High Street', 'Erdington', 'Lon-Y-Llyn', 'Milton Common', 'Humberston', 'Medak District', 'Mulhuddart', 'Lower Parel¦Lower Parel', 'Visakhapatnam District', 'Carrowgobbadagh', 'Lower Parel', 'Goregaon East¦Goregaon East', 'Ajit Singh Nagar', 'Stenson Road', 'Sandyford', '23850¦', 'Bonthapally Village¦Bonthapally Village', 'Madhapur', 'Valsad District¦Valsad District', 'Visakhapatnam District', 'Ranga Reddy District¦Ranga Reddy District', 'Sangareddy District¦', 'Medak District', 'Moyraverty', 'Speke Road', 'Sector 3', 'Aldridge', 'Throsk', 'Ranga Reddy District', 'Roorkee District¦Roorkee District', 'South Normanton', 'Jubilee Hills¦Jubilee Hills', 'Draperstown', 'Ameerpet', 'Ballycoolin', 'Sutton Road', 'Medak District¦Medak District', 'Kirk Sandall Industrial Estate', 'Holytown', 'Dundrum', '250 Milkwood Road', 'Wick', 'Measham', 'Station Approach', 'South Normanton', 'Basheer Bagh¦', 'Patancheru Mandal', 'Pashamylaram', 'Vasanth Nagar', 'Tafarnaubach', 'Bridgend Industrial Estate', 'Jigani Link Road', 'Andheri (East)', 'Salfords', 'Santry', 'Loughlinstown Co.', 'Rong Muang¦', 'Park Lane', 'Strelna', 'County Oak Way', 'Planta 1', 'Blanchardstown', 'Park Hall', 'Favoriten¦Favoriten', '103 South Church Street', 'Sector 1', 'Womenswold', 'Nazeing Road', 'Heatley Road', 'District Solan', 'Lostock Gralam', 'Chintal', 'Bachupally', 'Stareton', 'Opp. K V Airochem', 'VSEZ', 'Sangareddy District', 'Marsh Green', 'Gummadidala¦', 'Sozhanganallur', 'Yodogawa-ku¦', 'South Normanton', 'Shameerpet Mandal', 'Chicksugur Cross¦', 'Dalmeyer Road', 'Bredbury', 'Nehru Road', 'Kyonggi-Do', 'Speke', 'Andheri East¦Andheri East', 'The Ridges', 'Thaltej Road¦Thaltej Road', 'Vapi', 'Paravada Mandal¦', 'Deeside Industrial Park', 'Thanam Village', 'Juhu Road', 'Jeedimetla¦', 'Medak district¦', 'Whitehill Way', 'Kondapur', 'Goregaon East', 'Taluka Sanand¦Taluka Sanand', 'Vadodara', 'Bollaram', 'Opp to Manjeera Grameena Bank', 'Banjara Hills¦Banjara Hills', 'Manglapuri', 'Mahad', 'Electra Way', 'Nazeing Road', 'Coolmine Industrial Estate', 'Parawada Mandal', 'Matoda Village', 'Coolmine Industrial Estate', 'Empire Industrial Park', 'Taluka Sanand', 'Rabin Science Park', 'Sanand Taluka¦¦', 'Brecon Road', 'Deeside Industrial Park', 'Hatnoora', 'Polepally Village', 'Stirling Road', 'Holmes Chapel', 'Kingsway Business Park', 'Airoli', 'Solan District', 'Vikhroli West', 'Banjara Hills', 'Hunslet', 'Low Prudhoe Industrial Estate', 'Trentham', 'Treforest Industrial Estate', 'Blagrove', 'Medak District', 'Talgarth', 'Parc Ty Glas', '¦St Germain Nuelles', 'Park West', 'Bachupally', 'Tharamani', 'Northwood', 'Opp. Thane-Belapur Road¦', 'Sarkhej¦', 'Phase - III', 'South Marston Industrial Estate', 'Huthwaite', 'Village Kerala', 'Low Prudhoe Industrial Estate', 'Heath Park', 'Llanishen', 'Industrial Area 4th Phase¦Industrial Area 4th Phase', '¦Bp 80001', '5th Floor', 'Shameerpet Mandal', 'Patancheru', 'Phase – II, Sector – III Pithampur', 'Medchal Malkajgiri', 'Peasmarsh', 'Vadodara', 'Old Chalford', 'Sangareddy District', 'Medak District', 'Erweiterungsbau Und Biocity', 'Rambilli Mandal', 'Nakkapally Mandal', 'Srikakulam District', '¦Peenya', 'Swords', 'Thanam Village¦', 'Harefield', 'Medak District¦¦', 'Portadown', 'Cork', 'Dodworth', 'Bloxwich', 'Colebrook Way', 'Weyhill', 'Palghar', 'Medway City Estate', 'Swords', 'Dunmurry', 'Salfords', 'Langley', 'Chilcompton', 'Stanford', 'Veridion Park', 'Veridion Park', 'Nazeing Road', 'Lovet Road', 'Hainault Business Park', 'Fens Pool Avenue', 'Perivale', 'Cuautlalpan', 'Henley Road', 'East Lane', 'Hitchin Road', 'Three Legged Cross', 'Shirley', 'Gentle Way', 'Mid Calder', 'Dorset', 'Crossways Business Park', 'Middleton', 'Itchingfield', 'Perivale', 'Aldridge', 'Holmes Chapel', 'Sector 19', '195 Wood Lane', 'Denton', '4 Shirwell Road', 'Roundswell Business Park', 'Tolpits Lane', 'Brereton', 'Salfords', 'Medak District', 'Citywest Road', 'Fort', 'Brunswick Village', 'Stoke Prior', 'Moreton', 'Coventry Road', 'Gillingham Business Park', 'Andheri East', 'Old Road', 'Stewartby', 'Great Glen', 'Macclesfield Road', 'Sunderland Enterprise Park', 'Washingley Road', 'Kimbolton', 'Lynch Lane', 'Stoke Prior', 'Aldermaston', '500 Midacre', 'Bisazza Street', 'Imperial Way', 'Bramshill', 'Main Street', 'Knock', 'Medak District', 'Wadsworth Road', 'Talgarth', '14-38 Nursery Street', 'Sandycroft', 'Vesty Road', 'Ambernath East', 'Raheen Business Park', 'Harold Hill', 'Martinfield', 'Hatfield Road', 'Dwight Road', 'Wealdstone', 'Andheri East¦', 'Roha¦', 'Westwells Road', '500 Midacre', 'Rackheath', 'Fountayne Road', 'Tullamore', 'Cherry Orchard Industrial Estate', 'Bowerhill', 'Lakesview International Business Park, Hersden', 'Hersden', 'Crossways Business Park', 'Pattingham', 'Imperial Way', 'Elstree', 'Hawthorn', 'Dwight Road', 'Felix Road', '31 Hurst Street', 'Kennington', 'Maltby', 'Centrum One Hundred', 'Mainstream Way', 'Riverside Way', 'Northwood', 'Chittening', 'Beeston', 'Rathdrinagh', 'Staplehurst', 'Elstree', '5 Little France Drive', 'Whitefield', 'Mirpur', 'Airport Road West', 'Nauener Vorstadt¦', 'Tariff Road', 'Shirley', 'Citywest Business Campus', 'Aldridge', 'Henwood', 'Irving Way', 'El-haram', 'South Marston Industrial Estate', 'Gidc Estate', 'Lynnwood Terrace', 'Skelton-In-Cleveland', 'Luohu', 'Ockley', 'Nelson Park West', 'Yealand Conyers', 'Centennial Avenue', 'Clydesmill Industrial Estate', 'Loudwater', 'Centennial Park', 'Cardinal Way', 'The Minories', 'Manvers', 'Abbey Road', 'Infotech Park¦Infotech Park', 'Runwell', 'Mambapur Village', 'Vellore District', 'Aldridge', 'Rangareddy District¦', 'Aldridge', 'Blacknest', 'Clock Face', 'Bannerghatta Road¦', '¦Industrial Area 4th Phase', 'Wickham Market', 'Blanchardstown', 'Weston Hall Road', 'Wedgwood Way', 'Norton Canes', 'Nursling', 'London Stansted Airport', 'Felinfach', 'Jiangxi Province', 'Wilstead', 'Silsden', 'Coleshill', 'Forgeside Close', 'Great Abington', 'Little Stanney', 'Alston Road', 'Erragadda¦', 'Holyrood Close', 'Lancing Business Park', 'Long Lane', 'West End Road', 'Snibston Drive', 'Ellesmere Crescent', '¦Kröpeliner Tor Vorstadt', '3 Edge Lane', 'Thurmaston', 'Thuan An', 'Stoke Poges', 'Pinhal Dos Santos Fernandes', 'Wancourt¦Wancourt', 'Claycliffe Road', 'Sawston', 'Sandyford Industrial Estate', 'Attleborough Fields Ind Estate', 'Glasgow Royal Infirmary', 'Dwight Road', 'Attleborough Fields Ind Estate', 'Crossways Business Park', 'Yunpu Industrial Zone¦', 'Santacruz East', 'Keynsham', 'Magna Business Park', 'Birtley', 'Qutubullapur¦Qutubullapur', 'Low Prudhoe Industrial Estate', 'Dunmow Road', 'Dhatav Raigad', 'Featherstone', 'Low Prudhoe Industrial Estate', 'Longridge Road', 'Cross Hands', 'Pennygillam Industrial Estate', 'Stadtgebiet¦', 'Handschuhsheim¦', 'Kachigam¦', 'Quarry Hill Industrial Estate', 'Jeedimetla', 'Langstone', 'Dwight Road', 'Zongshan', 'Panvel', 'Stretton', 'Colnbrook', 'Johannstadt-Nord¦Johannstadt-Nord', 'Paunsdorf¦', '344-348 High Road', 'Shah Alloys¦Shah Alloys', 'Kirkham', 'Police Line¦Police Line', '¦Industrial Area 4th Phase', 'San Gwann Industrial Estate', 'Konig-Otto-Bad¦', 'Flex Meadow', 'Stretford', 'Pengam', '153 10', 'Sandford Close', 'Hyderabad', 'Citywest Road', 'Crossways Business Park', 'Pixmore Avenue', 'Langley', 'Ballymount', 'Old Brickyard Road', 'Colonial Way', 'Chestfield', 'London Colney', 'Irlam', 'Dunkirk', 'Crossways Business Park', 'Thurston', 'Greenogue Business Park', 'Stockbridge Village', 'Brereton', 'Linhai Zone', 'Stoke Prior', 'Yadadri Bhongir District', 'Veliminedu Village', 'Lakesmere Road', 'Magna Business Park', 'Elton', 'Dedworth Road', 'Ford', 'Pentyrch', 'Abbey Road', 'Gloucester Road', 'Ingleton', 'Turbhe', 'Jadcherla', 'Shamblehurst Lane South', 'North Duffield', 'Swanmore', 'Bassendale Road', 'Broadheath', 'Wolverhampton Science Park', 'Business Park', 'Wellesbourne', 'Mitchelston Industrial Estate', 'Courbevoie¦¦Courbevoie', 'Kandivali West', 'Low Prudhoe Industrial Estate', 'Lancing Business Park', 'Moira Road', 'Hunslet', 'Manvers', 'Obulapuram', 'Sevington', 'Waterside Court', 'Sandyford Industrial Estate', 'Curdworth', 'Trafford Park', 'Thurston Road', 'Queluz De Baixo¦Queluz De Baixo', 'Moss Industrial Estate', 'Finglas', 'Tattenhall', 'Chadderton', 'Radcliffe', 'Greengates', 'Stoke Prior', 'Strathclyde Business Park', 'Draperstown', 'Bumpers Farm', 'Magna Business Park', 'Clondalkin', 'Clayton-Le-Woods', 'Elton', 'Whittle Way', 'Sarsfield Road', 'Clayton', 'Atherton', 'Clayton', 'Park Farm Industrial Estate', 'Salfords', 'Stechford', 'Brynmenyn', 'Lower Caldecote', 'Manor Park', 'Blanchardstown', 'Melmerby', 'Gohlis-Sud¦¦', 'Aldridge', 'Sandridge', 'Colnbrook', 'Fradley', 'Harlington', 'Brackmills Industrial Estate', 'Waterbeach', 'Dunkirk', 'Annesley', 'Old Church Road', 'Wessex Way', 'Fulmar Way', 'Wooten Road', '250 Euston Road', 'Centurion Way', 'Wellesbourne', 'Derriford', 'William Nadin Way', 'Baillieston', 'Templepatrick', 'Leeway Industrial Estate', 'Twenty Twenty Industrial Estate', 'Castle Vale', 'Larkfield', 'Dwight Road', 'Thurston', 'Johannstadt-Nord¦Johannstadt-Nord', 'Loudwater', 'Sutton Road', 'Bold', 'Queens Meadow Business Park', 'Swansea Vale', 'Llay', 'Altens Industrial Estate', 'Striesen-Sued¦Striesen-Süd', 'Aintree Racecourse Retail & Bus Pk', 'Manchester Airport', 'Nixs Hill Industrial Estate', 'Oliver Road', 'Woolpit', 'Victoria Road', 'Cowley', 'Crossways Business Park', 'Sawston']\n"
          ],
          "name": "stdout"
        },
        {
          "output_type": "execute_result",
          "data": {
            "text/plain": [
              "{'ColumnName': 'Address Line 4',\n",
              " 'Count': 36739,\n",
              " 'NonEmptyValuesCount': 721,\n",
              " 'UniqueId': 530514,\n",
              " 'Values': array(['', '', '', ..., '', '', ''], dtype=object),\n",
              " 'type': 'AddressLine4'}"
            ]
          },
          "metadata": {
            "tags": []
          },
          "execution_count": 50
        }
      ]
    },
    {
      "cell_type": "code",
      "metadata": {
        "id": "jW_O9o-JUi8Q",
        "colab_type": "code",
        "colab": {
          "base_uri": "https://localhost:8080/",
          "height": 137
        },
        "outputId": "8da9b30a-ece1-465f-efae-4d8c926f61bf"
      },
      "source": [
        "#  33  Address City 36565 non-null  object\n",
        "\n",
        "onlyValues = len(dff['Address City'].dropna())\n",
        "dff1 = dff['Address City'].replace(np.nan, '', regex=True) \n",
        "cityValues = []\n",
        "#Splitting cell values\n",
        "#First value is English character word so we are just including English name.\n",
        "#Ignoring Non-English character words for this project.\n",
        "for i in range(len(dff1)):\n",
        "  cellvalue =  str(dff1.values[i])\n",
        "  arr = cellvalue.split('¦')\n",
        "  cityValues.append(arr[0])\n",
        "# print(cityValues)\n",
        "cities = np.array(cityValues).astype(object)\n",
        "row32 = {'UniqueId':np.random.randint(491859, 550000),'ColumnName':dff.columns[33], 'type':'City', 'Count':len(cityValues), 'Values':cities, 'NonEmptyValuesCount':onlyValues }\n",
        "row32"
      ],
      "execution_count": 51,
      "outputs": [
        {
          "output_type": "execute_result",
          "data": {
            "text/plain": [
              "{'ColumnName': 'Address City',\n",
              " 'Count': 36739,\n",
              " 'NonEmptyValuesCount': 36565,\n",
              " 'UniqueId': 500449,\n",
              " 'Values': array(['Vienna', 'Graz', 'Moedling', ..., '', 'Rheinfelden (baden)',\n",
              "        'Marburg'], dtype=object),\n",
              " 'type': 'City'}"
            ]
          },
          "metadata": {
            "tags": []
          },
          "execution_count": 51
        }
      ]
    },
    {
      "cell_type": "code",
      "metadata": {
        "id": "EUz0p9IrU-YC",
        "colab_type": "code",
        "colab": {
          "base_uri": "https://localhost:8080/",
          "height": 137
        },
        "outputId": "cdd33f38-bc40-40f5-c3e2-ca743962dcbf"
      },
      "source": [
        "#  34  Address State 22962 non-null  object\n",
        "onlyValues = len(dff['Address State'].dropna())\n",
        "dff1 = dff['Address State'].replace(np.nan, '', regex=True) \n",
        "stateValues = []\n",
        "#Splitting cell values\n",
        "for i in range(len(dff1)):\n",
        "  cellvalue =  str(dff1.values[i])\n",
        "  arr = cellvalue.split('¦')\n",
        "  #First value is English character word so we are just including English names\n",
        "  #Ignoring Non-English names for this project.\n",
        "  stateValues.append(arr[0])\n",
        "states = np.array(stateValues).astype(object)\n",
        "row33 = {'UniqueId':np.random.randint(491859, 550000),'ColumnName':dff.columns[34], 'type':'State', 'Count':len(stateValues), 'Values':states, 'NonEmptyValuesCount':onlyValues }\n",
        "row33"
      ],
      "execution_count": 52,
      "outputs": [
        {
          "output_type": "execute_result",
          "data": {
            "text/plain": [
              "{'ColumnName': 'Address State',\n",
              " 'Count': 36739,\n",
              " 'NonEmptyValuesCount': 22962,\n",
              " 'UniqueId': 532389,\n",
              " 'Values': array(['', '', 'Niederoesterreich', ..., '', 'Baden-Wuerttemberg',\n",
              "        'Hassia'], dtype=object),\n",
              " 'type': 'State'}"
            ]
          },
          "metadata": {
            "tags": []
          },
          "execution_count": 52
        }
      ]
    },
    {
      "cell_type": "code",
      "metadata": {
        "id": "D4P6LY-fVbbD",
        "colab_type": "code",
        "colab": {
          "base_uri": "https://localhost:8080/",
          "height": 120
        },
        "outputId": "ea25e17b-de88-47c7-83b9-d6fce68ed55f"
      },
      "source": [
        "#  35  Address Region 20778 non-null  object\n",
        "onlyValues = len(dff['Address Region'].dropna())\n",
        "dff1 = dff['Address Region'].replace(np.nan, '', regex=True) \n",
        "RegionValues = []\n",
        "#Splitting cell values\n",
        "for i in range(len(dff1)):\n",
        "  cellvalue =  str(dff1.values[i])\n",
        "  arr = cellvalue.split('¦')\n",
        "  #First value is English character word so we are just including English names\n",
        "  #Ignoring Non-English names for this project.\n",
        "  RegionValues.append(arr[0])\n",
        "regions = np.array(RegionValues).astype(object)\n",
        "row34 = {'UniqueId':np.random.randint(491859, 550000),'ColumnName':dff.columns[35], 'type':'Region', 'Count':len(RegionValues), 'Values':regions, 'NonEmptyValuesCount':onlyValues }\n",
        "row34"
      ],
      "execution_count": 53,
      "outputs": [
        {
          "output_type": "execute_result",
          "data": {
            "text/plain": [
              "{'ColumnName': 'Address Region',\n",
              " 'Count': 36739,\n",
              " 'NonEmptyValuesCount': 20778,\n",
              " 'UniqueId': 494153,\n",
              " 'Values': array(['', '', '', ..., '', '', ''], dtype=object),\n",
              " 'type': 'Region'}"
            ]
          },
          "metadata": {
            "tags": []
          },
          "execution_count": 53
        }
      ]
    },
    {
      "cell_type": "code",
      "metadata": {
        "id": "BK6NAhr9_U96",
        "colab_type": "code",
        "colab": {
          "base_uri": "https://localhost:8080/",
          "height": 120
        },
        "outputId": "9c8ed6c7-c831-4298-ebf6-8cdf99981cd2"
      },
      "source": [
        "#  36  Address County 27196 non-null  object\n",
        "onlyValues = len(dff['Address County'].dropna())\n",
        "dff1 = dff['Address County'].replace(np.nan, '', regex=True) \n",
        "CountyValues = []\n",
        "#Splitting cell values\n",
        "for i in range(len(dff1)):\n",
        "  cellvalue =  str(dff1.values[i])\n",
        "  arr = cellvalue.split('¦')\n",
        "  #First value is English word so we are just including English names\n",
        "  #Ignoring Non-English names for this project.\n",
        "  CountyValues.append(arr[0])\n",
        "County = np.array(CountyValues).astype(object)\n",
        "row35 = {'UniqueId':np.random.randint(491859, 550000),'ColumnName':dff.columns[36], 'type':'County', 'Count':len(CountyValues), 'Values':County, 'NonEmptyValuesCount':onlyValues }\n",
        "row35"
      ],
      "execution_count": 54,
      "outputs": [
        {
          "output_type": "execute_result",
          "data": {
            "text/plain": [
              "{'ColumnName': 'Address County',\n",
              " 'Count': 36739,\n",
              " 'NonEmptyValuesCount': 27196,\n",
              " 'UniqueId': 513190,\n",
              " 'Values': array(['', '', '', ..., 'Co. Kildare', '', ''], dtype=object),\n",
              " 'type': 'County'}"
            ]
          },
          "metadata": {
            "tags": []
          },
          "execution_count": 54
        }
      ]
    },
    {
      "cell_type": "code",
      "metadata": {
        "id": "C4U06yMdAKMB",
        "colab_type": "code",
        "colab": {}
      },
      "source": [
        "print(CountyValues)\n"
      ],
      "execution_count": null,
      "outputs": []
    },
    {
      "cell_type": "code",
      "metadata": {
        "id": "sh4nLrJ7ad3b",
        "colab_type": "code",
        "colab": {
          "base_uri": "https://localhost:8080/",
          "height": 120
        },
        "outputId": "19b1ad09-8796-4a75-e6c7-761c6d2598ed"
      },
      "source": [
        "#  37  Communication Details Email Address  625 non-null    object\n",
        "\n",
        "onlyValues = len(dff['Communication Details Email Address'].dropna())\n",
        "dff1 = dff['Communication Details Email Address'].replace(np.nan, '', regex=True) \n",
        "row36 = {'UniqueId':np.random.randint(491859, 550000),'ColumnName':dff.columns[37], 'type':'Email', 'Count':len(dff1.values), 'Values':dff1.values, 'NonEmptyValuesCount':onlyValues }\n",
        "row36"
      ],
      "execution_count": 55,
      "outputs": [
        {
          "output_type": "execute_result",
          "data": {
            "text/plain": [
              "{'ColumnName': 'Communication Details Email Address',\n",
              " 'Count': 36739,\n",
              " 'NonEmptyValuesCount': 625,\n",
              " 'UniqueId': 526936,\n",
              " 'Values': array(['', '', '', ..., '', '', ''], dtype=object),\n",
              " 'type': 'Email'}"
            ]
          },
          "metadata": {
            "tags": []
          },
          "execution_count": 55
        }
      ]
    },
    {
      "cell_type": "code",
      "metadata": {
        "id": "GGhbvgrJatMv",
        "colab_type": "code",
        "colab": {
          "base_uri": "https://localhost:8080/",
          "height": 120
        },
        "outputId": "e3e88b12-4727-4932-a2cf-334da16f0ceb"
      },
      "source": [
        "#  38  Communication Details Phone Number Country Prefix  543 non-null    object\n",
        "onlyValues = len(dff['Communication Details Phone Number Country Prefix'].dropna())\n",
        "dff1 = dff['Communication Details Phone Number Country Prefix'].replace(np.nan, '', regex=True) \n",
        "row37 = {'UniqueId':np.random.randint(491859, 550000),'ColumnName':dff.columns[38], 'type':'PhoneNumberCountryPrefix', 'Count':len(dff1.values), 'Values':dff1.values, 'NonEmptyValuesCount':onlyValues }\n",
        "row37"
      ],
      "execution_count": 56,
      "outputs": [
        {
          "output_type": "execute_result",
          "data": {
            "text/plain": [
              "{'ColumnName': 'Communication Details Phone Number Country Prefix',\n",
              " 'Count': 36739,\n",
              " 'NonEmptyValuesCount': 543,\n",
              " 'UniqueId': 503639,\n",
              " 'Values': array(['', '', '', ..., '', '', ''], dtype=object),\n",
              " 'type': 'PhoneNumberCountryPrefix'}"
            ]
          },
          "metadata": {
            "tags": []
          },
          "execution_count": 56
        }
      ]
    },
    {
      "cell_type": "code",
      "metadata": {
        "id": "TxmJ_-YYbCtK",
        "colab_type": "code",
        "colab": {
          "base_uri": "https://localhost:8080/",
          "height": 120
        },
        "outputId": "34100b7a-a5bb-4a16-ce14-aae26047d897"
      },
      "source": [
        "#  39  Communication Details Phone Number 543 non-null    object\n",
        "onlyValues = len(dff['Communication Details Phone Number'].dropna())\n",
        "dff1 = dff['Communication Details Phone Number'].replace(np.nan, '', regex=True) \n",
        "row38 = {'UniqueId':np.random.randint(491859, 550000),'ColumnName':dff.columns[39], 'type':'PhoneNumber', 'Count':len(dff1.values), 'Values':dff1.values, 'NonEmptyValuesCount':onlyValues }\n",
        "row38"
      ],
      "execution_count": 57,
      "outputs": [
        {
          "output_type": "execute_result",
          "data": {
            "text/plain": [
              "{'ColumnName': 'Communication Details Phone Number',\n",
              " 'Count': 36739,\n",
              " 'NonEmptyValuesCount': 543,\n",
              " 'UniqueId': 504329,\n",
              " 'Values': array(['', '', '', ..., '', '', ''], dtype=object),\n",
              " 'type': 'PhoneNumber'}"
            ]
          },
          "metadata": {
            "tags": []
          },
          "execution_count": 57
        }
      ]
    },
    {
      "cell_type": "code",
      "metadata": {
        "id": "trjiMJD8bSdx",
        "colab_type": "code",
        "colab": {
          "base_uri": "https://localhost:8080/",
          "height": 120
        },
        "outputId": "2261e104-a6ca-4dc4-def1-f9f6407196ec"
      },
      "source": [
        "#  40  Communication Details Phone Number Extension       116 non-null    object\n",
        "onlyValues = len(dff['Communication Details Phone Number Extension'].dropna())\n",
        "dff1 = dff['Communication Details Phone Number Extension'].replace(np.nan, '', regex=True) \n",
        "row39 = {'UniqueId':np.random.randint(491859, 550000),'ColumnName':dff.columns[40], 'type':'PhoneNumberExtension', 'Count':len(dff1.values), 'Values':dff1.values, 'NonEmptyValuesCount':onlyValues }\n",
        "row39"
      ],
      "execution_count": 58,
      "outputs": [
        {
          "output_type": "execute_result",
          "data": {
            "text/plain": [
              "{'ColumnName': 'Communication Details Phone Number Extension',\n",
              " 'Count': 36739,\n",
              " 'NonEmptyValuesCount': 116,\n",
              " 'UniqueId': 539779,\n",
              " 'Values': array(['', '', '', ..., '', '', ''], dtype=object),\n",
              " 'type': 'PhoneNumberExtension'}"
            ]
          },
          "metadata": {
            "tags": []
          },
          "execution_count": 58
        }
      ]
    },
    {
      "cell_type": "code",
      "metadata": {
        "id": "Ik-SB4dUOe6Q",
        "colab_type": "code",
        "colab": {
          "base_uri": "https://localhost:8080/",
          "height": 171
        },
        "outputId": "9f2be587-92a0-43bd-860d-8245bcfb585d"
      },
      "source": [
        "#  41 Version Timestamp\n",
        "\n",
        "onlyValues = len(dff['Version Timestamp.1'].dropna())\n",
        "dff1 = dff['Version Timestamp.1'].replace(np.nan, '', regex=True) \n",
        "row40 = {'UniqueId':np.random.randint(491859, 550000),'ColumnName':dff.columns[41], 'type':'versionTimestamp', 'Count':len(dff1.values), 'Values':dff1.values, 'NonEmptyValuesCount':onlyValues }\n",
        "row40"
      ],
      "execution_count": 59,
      "outputs": [
        {
          "output_type": "execute_result",
          "data": {
            "text/plain": [
              "{'ColumnName': 'Version Timestamp.1',\n",
              " 'Count': 36739,\n",
              " 'NonEmptyValuesCount': 36737,\n",
              " 'UniqueId': 520018,\n",
              " 'Values': array(['2019-08-28T17:37:51.37+02:00', '2020-01-15T11:18:11.096+01:00',\n",
              "        '2020-01-15T11:19:10.592+01:00', ...,\n",
              "        '2020-07-15T16:52:08.748+02:00', '2020-07-15T16:56:12.547+02:00',\n",
              "        '2020-07-15T16:58:48.039+02:00'], dtype=object),\n",
              " 'type': 'versionTimestamp'}"
            ]
          },
          "metadata": {
            "tags": []
          },
          "execution_count": 59
        }
      ]
    },
    {
      "cell_type": "code",
      "metadata": {
        "id": "peIJ2C6wImYk",
        "colab_type": "code",
        "colab": {
          "base_uri": "https://localhost:8080/",
          "height": 123
        },
        "outputId": "37ff311e-f88b-4d44-a79c-8c4321922292"
      },
      "source": [
        "#Append all the rows\n",
        "data=[]\n",
        "\n",
        "# %timeit [print(eval('row'+str(i))) for i in range(2)]\n",
        "[data.append(globals()[\"row\"+str(i)]) for i in range(41)]\n",
        "print(len(data))\n",
        "print(data[40])"
      ],
      "execution_count": 60,
      "outputs": [
        {
          "output_type": "stream",
          "text": [
            "41\n",
            "{'UniqueId': 520018, 'ColumnName': 'Version Timestamp.1', 'type': 'versionTimestamp', 'Count': 36739, 'Values': array(['2019-08-28T17:37:51.37+02:00', '2020-01-15T11:18:11.096+01:00',\n",
            "       '2020-01-15T11:19:10.592+01:00', ...,\n",
            "       '2020-07-15T16:52:08.748+02:00', '2020-07-15T16:56:12.547+02:00',\n",
            "       '2020-07-15T16:58:48.039+02:00'], dtype=object), 'NonEmptyValuesCount': 36737}\n"
          ],
          "name": "stdout"
        }
      ]
    },
    {
      "cell_type": "code",
      "metadata": {
        "id": "Sefa8oBRPPUA",
        "colab_type": "code",
        "colab": {
          "base_uri": "https://localhost:8080/",
          "height": 1000
        },
        "outputId": "82f6dd70-6f31-4094-96be-7ebcb6c29c1a"
      },
      "source": [
        "newdf = pd.DataFrame(data, columns = ['UniqueId', 'ColumnName','type', 'Count', 'Values', 'NonEmptyValuesCount']) \n",
        "  \n",
        "# print dataframe. \n",
        "newdf"
      ],
      "execution_count": 61,
      "outputs": [
        {
          "output_type": "execute_result",
          "data": {
            "text/html": [
              "<div>\n",
              "<style scoped>\n",
              "    .dataframe tbody tr th:only-of-type {\n",
              "        vertical-align: middle;\n",
              "    }\n",
              "\n",
              "    .dataframe tbody tr th {\n",
              "        vertical-align: top;\n",
              "    }\n",
              "\n",
              "    .dataframe thead th {\n",
              "        text-align: right;\n",
              "    }\n",
              "</style>\n",
              "<table border=\"1\" class=\"dataframe\">\n",
              "  <thead>\n",
              "    <tr style=\"text-align: right;\">\n",
              "      <th></th>\n",
              "      <th>UniqueId</th>\n",
              "      <th>ColumnName</th>\n",
              "      <th>type</th>\n",
              "      <th>Count</th>\n",
              "      <th>Values</th>\n",
              "      <th>NonEmptyValuesCount</th>\n",
              "    </tr>\n",
              "  </thead>\n",
              "  <tbody>\n",
              "    <tr>\n",
              "      <th>0</th>\n",
              "      <td>512489</td>\n",
              "      <td>Organisation ID</td>\n",
              "      <td>organisationID</td>\n",
              "      <td>36739</td>\n",
              "      <td>[ORG-100003912, ORG-100003912, ORG-100003912, ...</td>\n",
              "      <td>36739</td>\n",
              "    </tr>\n",
              "    <tr>\n",
              "      <th>1</th>\n",
              "      <td>502591</td>\n",
              "      <td>Identifier Code</td>\n",
              "      <td>identifierCode</td>\n",
              "      <td>36739</td>\n",
              "      <td>[ORG-100012803¦ORG-100003912, ORG-100012803¦OR...</td>\n",
              "      <td>36739</td>\n",
              "    </tr>\n",
              "    <tr>\n",
              "      <th>2</th>\n",
              "      <td>544461</td>\n",
              "      <td>Mapping Code System</td>\n",
              "      <td>mappingCodeSystem</td>\n",
              "      <td>36739</td>\n",
              "      <td>[200000005700, 200000005700, 200000005700, 200...</td>\n",
              "      <td>2419</td>\n",
              "    </tr>\n",
              "    <tr>\n",
              "      <th>3</th>\n",
              "      <td>524068</td>\n",
              "      <td>Mapping Code System Name</td>\n",
              "      <td>mappingCodeSystemName</td>\n",
              "      <td>36739</td>\n",
              "      <td>[EudraVigilance Veterinary Dynamics, EudraVigi...</td>\n",
              "      <td>2419</td>\n",
              "    </tr>\n",
              "    <tr>\n",
              "      <th>4</th>\n",
              "      <td>512820</td>\n",
              "      <td>Mapping Code</td>\n",
              "      <td>mappingCode</td>\n",
              "      <td>36739</td>\n",
              "      <td>[, , , , , , , , , , , DANYPEVET, , FINAMV, FI...</td>\n",
              "      <td>2339</td>\n",
              "    </tr>\n",
              "    <tr>\n",
              "      <th>5</th>\n",
              "      <td>514643</td>\n",
              "      <td>Mapping Valid From</td>\n",
              "      <td>mappingValidFrom</td>\n",
              "      <td>36739</td>\n",
              "      <td>[, , , , , , , , , , , , , , , , , , , , , , ,...</td>\n",
              "      <td>1940</td>\n",
              "    </tr>\n",
              "    <tr>\n",
              "      <th>6</th>\n",
              "      <td>542338</td>\n",
              "      <td>Category Classification Category Code System Name</td>\n",
              "      <td>categoryClassificationCodeSystemName</td>\n",
              "      <td>36739</td>\n",
              "      <td>[Type¦Type, Type¦Type, Type¦Type, Type¦Type, T...</td>\n",
              "      <td>36739</td>\n",
              "    </tr>\n",
              "    <tr>\n",
              "      <th>7</th>\n",
              "      <td>523956</td>\n",
              "      <td>Category Classification Category  Code</td>\n",
              "      <td>categoryClassificationCode</td>\n",
              "      <td>36739</td>\n",
              "      <td>[200000000088¦200000000084, 200000000088¦20000...</td>\n",
              "      <td>36739</td>\n",
              "    </tr>\n",
              "    <tr>\n",
              "      <th>8</th>\n",
              "      <td>491930</td>\n",
              "      <td>Category Classification Category  Display Name</td>\n",
              "      <td>categoryClassificationName</td>\n",
              "      <td>36739</td>\n",
              "      <td>[EEA National Competent authority¦Regulatory A...</td>\n",
              "      <td>36739</td>\n",
              "    </tr>\n",
              "    <tr>\n",
              "      <th>9</th>\n",
              "      <td>528801</td>\n",
              "      <td>Status</td>\n",
              "      <td>status</td>\n",
              "      <td>36739</td>\n",
              "      <td>[ACTIVE, ACTIVE, ACTIVE, ACTIVE, ACTIVE, ACTIV...</td>\n",
              "      <td>36739</td>\n",
              "    </tr>\n",
              "    <tr>\n",
              "      <th>10</th>\n",
              "      <td>545280</td>\n",
              "      <td>Name</td>\n",
              "      <td>organisation</td>\n",
              "      <td>36739</td>\n",
              "      <td>[Austrian Agency for Health and Food Safety Li...</td>\n",
              "      <td>36739</td>\n",
              "    </tr>\n",
              "    <tr>\n",
              "      <th>11</th>\n",
              "      <td>537608</td>\n",
              "      <td>Acronym</td>\n",
              "      <td>acronym</td>\n",
              "      <td>36739</td>\n",
              "      <td>[AGES, AGES, AGES, AGES, AGES, AGES, FAMHP, BD...</td>\n",
              "      <td>1123</td>\n",
              "    </tr>\n",
              "    <tr>\n",
              "      <th>12</th>\n",
              "      <td>496305</td>\n",
              "      <td>Alternative Name</td>\n",
              "      <td>alternativeName</td>\n",
              "      <td>36739</td>\n",
              "      <td>[AGES - Österreichische Agentur für Gesundheit...</td>\n",
              "      <td>3260</td>\n",
              "    </tr>\n",
              "    <tr>\n",
              "      <th>13</th>\n",
              "      <td>534815</td>\n",
              "      <td>Alternative Name Language</td>\n",
              "      <td>languageCode</td>\n",
              "      <td>36739</td>\n",
              "      <td>[DE¦DE, DE¦DE, DE¦DE, DE¦DE, DE¦DE, DE¦DE, FR¦...</td>\n",
              "      <td>3076</td>\n",
              "    </tr>\n",
              "    <tr>\n",
              "      <th>14</th>\n",
              "      <td>531444</td>\n",
              "      <td>Version Timestamp</td>\n",
              "      <td>versionTimestamp</td>\n",
              "      <td>36739</td>\n",
              "      <td>[2020-01-15T11:19:10.195+01:00, 2020-01-15T11:...</td>\n",
              "      <td>36738</td>\n",
              "    </tr>\n",
              "    <tr>\n",
              "      <th>15</th>\n",
              "      <td>531629</td>\n",
              "      <td>Location ID</td>\n",
              "      <td>locationID</td>\n",
              "      <td>36739</td>\n",
              "      <td>[LOC-100000000, LOC-100000001, LOC-100000002, ...</td>\n",
              "      <td>36738</td>\n",
              "    </tr>\n",
              "    <tr>\n",
              "      <th>16</th>\n",
              "      <td>514955</td>\n",
              "      <td>Location Link Href</td>\n",
              "      <td>locationHrefLink</td>\n",
              "      <td>36739</td>\n",
              "      <td>[https://spor.ema.europa.eu/v1/locations/LOC-1...</td>\n",
              "      <td>36739</td>\n",
              "    </tr>\n",
              "    <tr>\n",
              "      <th>17</th>\n",
              "      <td>520167</td>\n",
              "      <td>Current Version</td>\n",
              "      <td>currentVersion</td>\n",
              "      <td>36739</td>\n",
              "      <td>[Y, Y, Y, Y, Y, Y, Y, Y, Y, Y, Y, Y, Y, Y, Y, ...</td>\n",
              "      <td>36739</td>\n",
              "    </tr>\n",
              "    <tr>\n",
              "      <th>18</th>\n",
              "      <td>514641</td>\n",
              "      <td>Mapping Code System.1</td>\n",
              "      <td>mappingCodeSystem</td>\n",
              "      <td>36739</td>\n",
              "      <td>[100000000000, 100000167429¦100000167429, 1000...</td>\n",
              "      <td>27847</td>\n",
              "    </tr>\n",
              "    <tr>\n",
              "      <th>19</th>\n",
              "      <td>527296</td>\n",
              "      <td>Mapping Code System Name.1</td>\n",
              "      <td>mappingCodeSystemName</td>\n",
              "      <td>36739</td>\n",
              "      <td>[European Inspections Database, European Inspe...</td>\n",
              "      <td>27847</td>\n",
              "    </tr>\n",
              "    <tr>\n",
              "      <th>20</th>\n",
              "      <td>538473</td>\n",
              "      <td>Mapping Code.1</td>\n",
              "      <td>mappingCode</td>\n",
              "      <td>36739</td>\n",
              "      <td>[22802, 11773¦19301, 22249, , HD_BASGAGES, , ,...</td>\n",
              "      <td>27846</td>\n",
              "    </tr>\n",
              "    <tr>\n",
              "      <th>21</th>\n",
              "      <td>544451</td>\n",
              "      <td>Status.1</td>\n",
              "      <td>status</td>\n",
              "      <td>36739</td>\n",
              "      <td>[ACTIVE, ACTIVE, ACTIVE, ACTIVE, ACTIVE, ACTIV...</td>\n",
              "      <td>36739</td>\n",
              "    </tr>\n",
              "    <tr>\n",
              "      <th>22</th>\n",
              "      <td>503546</td>\n",
              "      <td>Address PO Box</td>\n",
              "      <td>PostBox</td>\n",
              "      <td>36739</td>\n",
              "      <td>[, , , , , , , , , , , , , , , , , CS 60007, ,...</td>\n",
              "      <td>264</td>\n",
              "    </tr>\n",
              "    <tr>\n",
              "      <th>23</th>\n",
              "      <td>541879</td>\n",
              "      <td>Address Postal Code</td>\n",
              "      <td>PostCode</td>\n",
              "      <td>36739</td>\n",
              "      <td>[1220, 8010, 2340, 1160, 1200, 8010, 1060, 130...</td>\n",
              "      <td>35953</td>\n",
              "    </tr>\n",
              "    <tr>\n",
              "      <th>24</th>\n",
              "      <td>495333</td>\n",
              "      <td>Address Country Code</td>\n",
              "      <td>CountryCode</td>\n",
              "      <td>36739</td>\n",
              "      <td>[AT, AT, AT, AT, AT, AT, BE, BG, HR, CY, CZ, D...</td>\n",
              "      <td>36738</td>\n",
              "    </tr>\n",
              "    <tr>\n",
              "      <th>25</th>\n",
              "      <td>493659</td>\n",
              "      <td>Address Country Display Name</td>\n",
              "      <td>country</td>\n",
              "      <td>36739</td>\n",
              "      <td>[Austria, Austria, Austria, Austria, Austria, ...</td>\n",
              "      <td>36739</td>\n",
              "    </tr>\n",
              "    <tr>\n",
              "      <th>26</th>\n",
              "      <td>527567</td>\n",
              "      <td>Address GPS Location</td>\n",
              "      <td>GPSLocation</td>\n",
              "      <td>36739</td>\n",
              "      <td>[48.25147, 16.48305, 47.075744, 15.450655, 48....</td>\n",
              "      <td>27625</td>\n",
              "    </tr>\n",
              "    <tr>\n",
              "      <th>27</th>\n",
              "      <td>493424</td>\n",
              "      <td>Address Language</td>\n",
              "      <td>languageCode</td>\n",
              "      <td>36739</td>\n",
              "      <td>[EN¦DE, EN¦DE, EN¦DE, EN¦DE, EN¦DE, EN¦DE, EN¦...</td>\n",
              "      <td>36739</td>\n",
              "    </tr>\n",
              "    <tr>\n",
              "      <th>28</th>\n",
              "      <td>529738</td>\n",
              "      <td>Address Line 1</td>\n",
              "      <td>AddressLine1</td>\n",
              "      <td>36739</td>\n",
              "      <td>[Spargelfeldstrase 191¦Spargelfeldstraße 191, ...</td>\n",
              "      <td>36738</td>\n",
              "    </tr>\n",
              "    <tr>\n",
              "      <th>29</th>\n",
              "      <td>527954</td>\n",
              "      <td>Address Line 2</td>\n",
              "      <td>AddressLine2</td>\n",
              "      <td>36739</td>\n",
              "      <td>[donaustadt¦Donaustadt, ¦, ¦, ottakring¦Ottakr...</td>\n",
              "      <td>28485</td>\n",
              "    </tr>\n",
              "    <tr>\n",
              "      <th>30</th>\n",
              "      <td>511780</td>\n",
              "      <td>Address Line 3</td>\n",
              "      <td>AddressLine3</td>\n",
              "      <td>36739</td>\n",
              "      <td>[, , , , , , , , , , , , , , , , , , , , , , ,...</td>\n",
              "      <td>3537</td>\n",
              "    </tr>\n",
              "    <tr>\n",
              "      <th>31</th>\n",
              "      <td>530514</td>\n",
              "      <td>Address Line 4</td>\n",
              "      <td>AddressLine4</td>\n",
              "      <td>36739</td>\n",
              "      <td>[, , , , , , , , , , , , , , , , , , , , , , ,...</td>\n",
              "      <td>721</td>\n",
              "    </tr>\n",
              "    <tr>\n",
              "      <th>32</th>\n",
              "      <td>500449</td>\n",
              "      <td>Address City</td>\n",
              "      <td>City</td>\n",
              "      <td>36739</td>\n",
              "      <td>[Vienna, Graz, Moedling, Vienna, Vienna, Graz,...</td>\n",
              "      <td>36565</td>\n",
              "    </tr>\n",
              "    <tr>\n",
              "      <th>33</th>\n",
              "      <td>532389</td>\n",
              "      <td>Address State</td>\n",
              "      <td>State</td>\n",
              "      <td>36739</td>\n",
              "      <td>[, , Niederoesterreich, , , , , , , , , , , Po...</td>\n",
              "      <td>22962</td>\n",
              "    </tr>\n",
              "    <tr>\n",
              "      <th>34</th>\n",
              "      <td>494153</td>\n",
              "      <td>Address Region</td>\n",
              "      <td>Region</td>\n",
              "      <td>36739</td>\n",
              "      <td>[, , , , , , , , , , , , , , , , , , , , , , ,...</td>\n",
              "      <td>20778</td>\n",
              "    </tr>\n",
              "    <tr>\n",
              "      <th>35</th>\n",
              "      <td>513190</td>\n",
              "      <td>Address County</td>\n",
              "      <td>County</td>\n",
              "      <td>36739</td>\n",
              "      <td>[, , , , , , , , Grad Zagreb, , , Hovedstaden,...</td>\n",
              "      <td>27196</td>\n",
              "    </tr>\n",
              "    <tr>\n",
              "      <th>36</th>\n",
              "      <td>526936</td>\n",
              "      <td>Communication Details Email Address</td>\n",
              "      <td>Email</td>\n",
              "      <td>36739</td>\n",
              "      <td>[, , , , , , , , , , , , , , , , , , , , , , ,...</td>\n",
              "      <td>625</td>\n",
              "    </tr>\n",
              "    <tr>\n",
              "      <th>37</th>\n",
              "      <td>503639</td>\n",
              "      <td>Communication Details Phone Number Country Prefix</td>\n",
              "      <td>PhoneNumberCountryPrefix</td>\n",
              "      <td>36739</td>\n",
              "      <td>[, , , , , , , , , , , , , , , , , , , , , , ,...</td>\n",
              "      <td>543</td>\n",
              "    </tr>\n",
              "    <tr>\n",
              "      <th>38</th>\n",
              "      <td>504329</td>\n",
              "      <td>Communication Details Phone Number</td>\n",
              "      <td>PhoneNumber</td>\n",
              "      <td>36739</td>\n",
              "      <td>[, , , , , , , , , , , , , , , , , , , , , , ,...</td>\n",
              "      <td>543</td>\n",
              "    </tr>\n",
              "    <tr>\n",
              "      <th>39</th>\n",
              "      <td>539779</td>\n",
              "      <td>Communication Details Phone Number Extension</td>\n",
              "      <td>PhoneNumberExtension</td>\n",
              "      <td>36739</td>\n",
              "      <td>[, , , , , , , , , , , , , , , , , , , , , , ,...</td>\n",
              "      <td>116</td>\n",
              "    </tr>\n",
              "    <tr>\n",
              "      <th>40</th>\n",
              "      <td>520018</td>\n",
              "      <td>Version Timestamp.1</td>\n",
              "      <td>versionTimestamp</td>\n",
              "      <td>36739</td>\n",
              "      <td>[2019-08-28T17:37:51.37+02:00, 2020-01-15T11:1...</td>\n",
              "      <td>36737</td>\n",
              "    </tr>\n",
              "  </tbody>\n",
              "</table>\n",
              "</div>"
            ],
            "text/plain": [
              "    UniqueId  ... NonEmptyValuesCount\n",
              "0     512489  ...               36739\n",
              "1     502591  ...               36739\n",
              "2     544461  ...                2419\n",
              "3     524068  ...                2419\n",
              "4     512820  ...                2339\n",
              "5     514643  ...                1940\n",
              "6     542338  ...               36739\n",
              "7     523956  ...               36739\n",
              "8     491930  ...               36739\n",
              "9     528801  ...               36739\n",
              "10    545280  ...               36739\n",
              "11    537608  ...                1123\n",
              "12    496305  ...                3260\n",
              "13    534815  ...                3076\n",
              "14    531444  ...               36738\n",
              "15    531629  ...               36738\n",
              "16    514955  ...               36739\n",
              "17    520167  ...               36739\n",
              "18    514641  ...               27847\n",
              "19    527296  ...               27847\n",
              "20    538473  ...               27846\n",
              "21    544451  ...               36739\n",
              "22    503546  ...                 264\n",
              "23    541879  ...               35953\n",
              "24    495333  ...               36738\n",
              "25    493659  ...               36739\n",
              "26    527567  ...               27625\n",
              "27    493424  ...               36739\n",
              "28    529738  ...               36738\n",
              "29    527954  ...               28485\n",
              "30    511780  ...                3537\n",
              "31    530514  ...                 721\n",
              "32    500449  ...               36565\n",
              "33    532389  ...               22962\n",
              "34    494153  ...               20778\n",
              "35    513190  ...               27196\n",
              "36    526936  ...                 625\n",
              "37    503639  ...                 543\n",
              "38    504329  ...                 543\n",
              "39    539779  ...                 116\n",
              "40    520018  ...               36737\n",
              "\n",
              "[41 rows x 6 columns]"
            ]
          },
          "metadata": {
            "tags": []
          },
          "execution_count": 61
        }
      ]
    },
    {
      "cell_type": "code",
      "metadata": {
        "id": "3mIbwmcTS7ij",
        "colab_type": "code",
        "colab": {}
      },
      "source": [
        "# newdf.to_csv('CleanedLocationData_1.csv',index=False)\n",
        "# df.to_csv(index=False)\n",
        "# 'name,mask,weapon\\nRaphael,red,sai\\nDonatello,purple,bo staff\\n'"
      ],
      "execution_count": 100,
      "outputs": []
    },
    {
      "cell_type": "code",
      "metadata": {
        "id": "QzZ6xIVtVELt",
        "colab_type": "code",
        "colab": {}
      },
      "source": [
        "newdf.to_parquet('CleanedLocationData_1.gzip',compression='gzip')\n"
      ],
      "execution_count": 62,
      "outputs": []
    },
    {
      "cell_type": "code",
      "metadata": {
        "id": "oIGhZoWpVl-Z",
        "colab_type": "code",
        "colab": {}
      },
      "source": [
        "newdf.to_parquet('drive/My Drive/CleanedLocationData_1.gzip',compression='gzip')\n"
      ],
      "execution_count": 63,
      "outputs": []
    },
    {
      "cell_type": "code",
      "metadata": {
        "id": "Vozi3O0mVK5Y",
        "colab_type": "code",
        "colab": {}
      },
      "source": [
        "read = pd.read_parquet('CleanedLocationData_1.gzip')"
      ],
      "execution_count": 64,
      "outputs": []
    },
    {
      "cell_type": "code",
      "metadata": {
        "id": "ZTG63MsgVYwU",
        "colab_type": "code",
        "colab": {}
      },
      "source": [
        "import pandas as pd\n",
        "read = pd.read_parquet('drive/My Drive/CleanedLocationData_1.gzip')"
      ],
      "execution_count": 65,
      "outputs": []
    },
    {
      "cell_type": "code",
      "metadata": {
        "id": "fuJiMKpCrOZS",
        "colab_type": "code",
        "colab": {
          "base_uri": "https://localhost:8080/",
          "height": 1000
        },
        "outputId": "da3a5230-370e-48d2-cc07-5502dc311d6c"
      },
      "source": [
        "read"
      ],
      "execution_count": 66,
      "outputs": [
        {
          "output_type": "execute_result",
          "data": {
            "text/html": [
              "<div>\n",
              "<style scoped>\n",
              "    .dataframe tbody tr th:only-of-type {\n",
              "        vertical-align: middle;\n",
              "    }\n",
              "\n",
              "    .dataframe tbody tr th {\n",
              "        vertical-align: top;\n",
              "    }\n",
              "\n",
              "    .dataframe thead th {\n",
              "        text-align: right;\n",
              "    }\n",
              "</style>\n",
              "<table border=\"1\" class=\"dataframe\">\n",
              "  <thead>\n",
              "    <tr style=\"text-align: right;\">\n",
              "      <th></th>\n",
              "      <th>UniqueId</th>\n",
              "      <th>ColumnName</th>\n",
              "      <th>type</th>\n",
              "      <th>Count</th>\n",
              "      <th>Values</th>\n",
              "      <th>NonEmptyValuesCount</th>\n",
              "    </tr>\n",
              "  </thead>\n",
              "  <tbody>\n",
              "    <tr>\n",
              "      <th>0</th>\n",
              "      <td>512489</td>\n",
              "      <td>Organisation ID</td>\n",
              "      <td>organisationID</td>\n",
              "      <td>36739</td>\n",
              "      <td>[ORG-100003912, ORG-100003912, ORG-100003912, ...</td>\n",
              "      <td>36739</td>\n",
              "    </tr>\n",
              "    <tr>\n",
              "      <th>1</th>\n",
              "      <td>502591</td>\n",
              "      <td>Identifier Code</td>\n",
              "      <td>identifierCode</td>\n",
              "      <td>36739</td>\n",
              "      <td>[ORG-100012803¦ORG-100003912, ORG-100012803¦OR...</td>\n",
              "      <td>36739</td>\n",
              "    </tr>\n",
              "    <tr>\n",
              "      <th>2</th>\n",
              "      <td>544461</td>\n",
              "      <td>Mapping Code System</td>\n",
              "      <td>mappingCodeSystem</td>\n",
              "      <td>36739</td>\n",
              "      <td>[200000005700, 200000005700, 200000005700, 200...</td>\n",
              "      <td>2419</td>\n",
              "    </tr>\n",
              "    <tr>\n",
              "      <th>3</th>\n",
              "      <td>524068</td>\n",
              "      <td>Mapping Code System Name</td>\n",
              "      <td>mappingCodeSystemName</td>\n",
              "      <td>36739</td>\n",
              "      <td>[EudraVigilance Veterinary Dynamics, EudraVigi...</td>\n",
              "      <td>2419</td>\n",
              "    </tr>\n",
              "    <tr>\n",
              "      <th>4</th>\n",
              "      <td>512820</td>\n",
              "      <td>Mapping Code</td>\n",
              "      <td>mappingCode</td>\n",
              "      <td>36739</td>\n",
              "      <td>[, , , , , , , , , , , DANYPEVET, , FINAMV, FI...</td>\n",
              "      <td>2339</td>\n",
              "    </tr>\n",
              "    <tr>\n",
              "      <th>5</th>\n",
              "      <td>514643</td>\n",
              "      <td>Mapping Valid From</td>\n",
              "      <td>mappingValidFrom</td>\n",
              "      <td>36739</td>\n",
              "      <td>[, , , , , , , , , , , , , , , , , , , , , , ,...</td>\n",
              "      <td>1940</td>\n",
              "    </tr>\n",
              "    <tr>\n",
              "      <th>6</th>\n",
              "      <td>542338</td>\n",
              "      <td>Category Classification Category Code System Name</td>\n",
              "      <td>categoryClassificationCodeSystemName</td>\n",
              "      <td>36739</td>\n",
              "      <td>[Type¦Type, Type¦Type, Type¦Type, Type¦Type, T...</td>\n",
              "      <td>36739</td>\n",
              "    </tr>\n",
              "    <tr>\n",
              "      <th>7</th>\n",
              "      <td>523956</td>\n",
              "      <td>Category Classification Category  Code</td>\n",
              "      <td>categoryClassificationCode</td>\n",
              "      <td>36739</td>\n",
              "      <td>[200000000088¦200000000084, 200000000088¦20000...</td>\n",
              "      <td>36739</td>\n",
              "    </tr>\n",
              "    <tr>\n",
              "      <th>8</th>\n",
              "      <td>491930</td>\n",
              "      <td>Category Classification Category  Display Name</td>\n",
              "      <td>categoryClassificationName</td>\n",
              "      <td>36739</td>\n",
              "      <td>[EEA National Competent authority¦Regulatory A...</td>\n",
              "      <td>36739</td>\n",
              "    </tr>\n",
              "    <tr>\n",
              "      <th>9</th>\n",
              "      <td>528801</td>\n",
              "      <td>Status</td>\n",
              "      <td>status</td>\n",
              "      <td>36739</td>\n",
              "      <td>[ACTIVE, ACTIVE, ACTIVE, ACTIVE, ACTIVE, ACTIV...</td>\n",
              "      <td>36739</td>\n",
              "    </tr>\n",
              "    <tr>\n",
              "      <th>10</th>\n",
              "      <td>545280</td>\n",
              "      <td>Name</td>\n",
              "      <td>organisation</td>\n",
              "      <td>36739</td>\n",
              "      <td>[Austrian Agency for Health and Food Safety Li...</td>\n",
              "      <td>36739</td>\n",
              "    </tr>\n",
              "    <tr>\n",
              "      <th>11</th>\n",
              "      <td>537608</td>\n",
              "      <td>Acronym</td>\n",
              "      <td>acronym</td>\n",
              "      <td>36739</td>\n",
              "      <td>[AGES, AGES, AGES, AGES, AGES, AGES, FAMHP, BD...</td>\n",
              "      <td>1123</td>\n",
              "    </tr>\n",
              "    <tr>\n",
              "      <th>12</th>\n",
              "      <td>496305</td>\n",
              "      <td>Alternative Name</td>\n",
              "      <td>alternativeName</td>\n",
              "      <td>36739</td>\n",
              "      <td>[AGES - Österreichische Agentur für Gesundheit...</td>\n",
              "      <td>3260</td>\n",
              "    </tr>\n",
              "    <tr>\n",
              "      <th>13</th>\n",
              "      <td>534815</td>\n",
              "      <td>Alternative Name Language</td>\n",
              "      <td>languageCode</td>\n",
              "      <td>36739</td>\n",
              "      <td>[DE¦DE, DE¦DE, DE¦DE, DE¦DE, DE¦DE, DE¦DE, FR¦...</td>\n",
              "      <td>3076</td>\n",
              "    </tr>\n",
              "    <tr>\n",
              "      <th>14</th>\n",
              "      <td>531444</td>\n",
              "      <td>Version Timestamp</td>\n",
              "      <td>versionTimestamp</td>\n",
              "      <td>36739</td>\n",
              "      <td>[2020-01-15T11:19:10.195+01:00, 2020-01-15T11:...</td>\n",
              "      <td>36738</td>\n",
              "    </tr>\n",
              "    <tr>\n",
              "      <th>15</th>\n",
              "      <td>531629</td>\n",
              "      <td>Location ID</td>\n",
              "      <td>locationID</td>\n",
              "      <td>36739</td>\n",
              "      <td>[LOC-100000000, LOC-100000001, LOC-100000002, ...</td>\n",
              "      <td>36738</td>\n",
              "    </tr>\n",
              "    <tr>\n",
              "      <th>16</th>\n",
              "      <td>514955</td>\n",
              "      <td>Location Link Href</td>\n",
              "      <td>locationHrefLink</td>\n",
              "      <td>36739</td>\n",
              "      <td>[https://spor.ema.europa.eu/v1/locations/LOC-1...</td>\n",
              "      <td>36739</td>\n",
              "    </tr>\n",
              "    <tr>\n",
              "      <th>17</th>\n",
              "      <td>520167</td>\n",
              "      <td>Current Version</td>\n",
              "      <td>currentVersion</td>\n",
              "      <td>36739</td>\n",
              "      <td>[Y, Y, Y, Y, Y, Y, Y, Y, Y, Y, Y, Y, Y, Y, Y, ...</td>\n",
              "      <td>36739</td>\n",
              "    </tr>\n",
              "    <tr>\n",
              "      <th>18</th>\n",
              "      <td>514641</td>\n",
              "      <td>Mapping Code System.1</td>\n",
              "      <td>mappingCodeSystem</td>\n",
              "      <td>36739</td>\n",
              "      <td>[100000000000, 100000167429¦100000167429, 1000...</td>\n",
              "      <td>27847</td>\n",
              "    </tr>\n",
              "    <tr>\n",
              "      <th>19</th>\n",
              "      <td>527296</td>\n",
              "      <td>Mapping Code System Name.1</td>\n",
              "      <td>mappingCodeSystemName</td>\n",
              "      <td>36739</td>\n",
              "      <td>[European Inspections Database, European Inspe...</td>\n",
              "      <td>27847</td>\n",
              "    </tr>\n",
              "    <tr>\n",
              "      <th>20</th>\n",
              "      <td>538473</td>\n",
              "      <td>Mapping Code.1</td>\n",
              "      <td>mappingCode</td>\n",
              "      <td>36739</td>\n",
              "      <td>[22802, 11773¦19301, 22249, , HD_BASGAGES, , ,...</td>\n",
              "      <td>27846</td>\n",
              "    </tr>\n",
              "    <tr>\n",
              "      <th>21</th>\n",
              "      <td>544451</td>\n",
              "      <td>Status.1</td>\n",
              "      <td>status</td>\n",
              "      <td>36739</td>\n",
              "      <td>[ACTIVE, ACTIVE, ACTIVE, ACTIVE, ACTIVE, ACTIV...</td>\n",
              "      <td>36739</td>\n",
              "    </tr>\n",
              "    <tr>\n",
              "      <th>22</th>\n",
              "      <td>503546</td>\n",
              "      <td>Address PO Box</td>\n",
              "      <td>PostBox</td>\n",
              "      <td>36739</td>\n",
              "      <td>[, , , , , , , , , , , , , , , , , CS 60007, ,...</td>\n",
              "      <td>264</td>\n",
              "    </tr>\n",
              "    <tr>\n",
              "      <th>23</th>\n",
              "      <td>541879</td>\n",
              "      <td>Address Postal Code</td>\n",
              "      <td>PostCode</td>\n",
              "      <td>36739</td>\n",
              "      <td>[1220, 8010, 2340, 1160, 1200, 8010, 1060, 130...</td>\n",
              "      <td>35953</td>\n",
              "    </tr>\n",
              "    <tr>\n",
              "      <th>24</th>\n",
              "      <td>495333</td>\n",
              "      <td>Address Country Code</td>\n",
              "      <td>CountryCode</td>\n",
              "      <td>36739</td>\n",
              "      <td>[AT, AT, AT, AT, AT, AT, BE, BG, HR, CY, CZ, D...</td>\n",
              "      <td>36738</td>\n",
              "    </tr>\n",
              "    <tr>\n",
              "      <th>25</th>\n",
              "      <td>493659</td>\n",
              "      <td>Address Country Display Name</td>\n",
              "      <td>country</td>\n",
              "      <td>36739</td>\n",
              "      <td>[Austria, Austria, Austria, Austria, Austria, ...</td>\n",
              "      <td>36739</td>\n",
              "    </tr>\n",
              "    <tr>\n",
              "      <th>26</th>\n",
              "      <td>527567</td>\n",
              "      <td>Address GPS Location</td>\n",
              "      <td>GPSLocation</td>\n",
              "      <td>36739</td>\n",
              "      <td>[48.25147, 16.48305, 47.075744, 15.450655, 48....</td>\n",
              "      <td>27625</td>\n",
              "    </tr>\n",
              "    <tr>\n",
              "      <th>27</th>\n",
              "      <td>493424</td>\n",
              "      <td>Address Language</td>\n",
              "      <td>languageCode</td>\n",
              "      <td>36739</td>\n",
              "      <td>[EN¦DE, EN¦DE, EN¦DE, EN¦DE, EN¦DE, EN¦DE, EN¦...</td>\n",
              "      <td>36739</td>\n",
              "    </tr>\n",
              "    <tr>\n",
              "      <th>28</th>\n",
              "      <td>529738</td>\n",
              "      <td>Address Line 1</td>\n",
              "      <td>AddressLine1</td>\n",
              "      <td>36739</td>\n",
              "      <td>[Spargelfeldstrase 191¦Spargelfeldstraße 191, ...</td>\n",
              "      <td>36738</td>\n",
              "    </tr>\n",
              "    <tr>\n",
              "      <th>29</th>\n",
              "      <td>527954</td>\n",
              "      <td>Address Line 2</td>\n",
              "      <td>AddressLine2</td>\n",
              "      <td>36739</td>\n",
              "      <td>[donaustadt¦Donaustadt, ¦, ¦, ottakring¦Ottakr...</td>\n",
              "      <td>28485</td>\n",
              "    </tr>\n",
              "    <tr>\n",
              "      <th>30</th>\n",
              "      <td>511780</td>\n",
              "      <td>Address Line 3</td>\n",
              "      <td>AddressLine3</td>\n",
              "      <td>36739</td>\n",
              "      <td>[, , , , , , , , , , , , , , , , , , , , , , ,...</td>\n",
              "      <td>3537</td>\n",
              "    </tr>\n",
              "    <tr>\n",
              "      <th>31</th>\n",
              "      <td>530514</td>\n",
              "      <td>Address Line 4</td>\n",
              "      <td>AddressLine4</td>\n",
              "      <td>36739</td>\n",
              "      <td>[, , , , , , , , , , , , , , , , , , , , , , ,...</td>\n",
              "      <td>721</td>\n",
              "    </tr>\n",
              "    <tr>\n",
              "      <th>32</th>\n",
              "      <td>500449</td>\n",
              "      <td>Address City</td>\n",
              "      <td>City</td>\n",
              "      <td>36739</td>\n",
              "      <td>[Vienna, Graz, Moedling, Vienna, Vienna, Graz,...</td>\n",
              "      <td>36565</td>\n",
              "    </tr>\n",
              "    <tr>\n",
              "      <th>33</th>\n",
              "      <td>532389</td>\n",
              "      <td>Address State</td>\n",
              "      <td>State</td>\n",
              "      <td>36739</td>\n",
              "      <td>[, , Niederoesterreich, , , , , , , , , , , Po...</td>\n",
              "      <td>22962</td>\n",
              "    </tr>\n",
              "    <tr>\n",
              "      <th>34</th>\n",
              "      <td>494153</td>\n",
              "      <td>Address Region</td>\n",
              "      <td>Region</td>\n",
              "      <td>36739</td>\n",
              "      <td>[, , , , , , , , , , , , , , , , , , , , , , ,...</td>\n",
              "      <td>20778</td>\n",
              "    </tr>\n",
              "    <tr>\n",
              "      <th>35</th>\n",
              "      <td>513190</td>\n",
              "      <td>Address County</td>\n",
              "      <td>County</td>\n",
              "      <td>36739</td>\n",
              "      <td>[, , , , , , , , Grad Zagreb, , , Hovedstaden,...</td>\n",
              "      <td>27196</td>\n",
              "    </tr>\n",
              "    <tr>\n",
              "      <th>36</th>\n",
              "      <td>526936</td>\n",
              "      <td>Communication Details Email Address</td>\n",
              "      <td>Email</td>\n",
              "      <td>36739</td>\n",
              "      <td>[, , , , , , , , , , , , , , , , , , , , , , ,...</td>\n",
              "      <td>625</td>\n",
              "    </tr>\n",
              "    <tr>\n",
              "      <th>37</th>\n",
              "      <td>503639</td>\n",
              "      <td>Communication Details Phone Number Country Prefix</td>\n",
              "      <td>PhoneNumberCountryPrefix</td>\n",
              "      <td>36739</td>\n",
              "      <td>[, , , , , , , , , , , , , , , , , , , , , , ,...</td>\n",
              "      <td>543</td>\n",
              "    </tr>\n",
              "    <tr>\n",
              "      <th>38</th>\n",
              "      <td>504329</td>\n",
              "      <td>Communication Details Phone Number</td>\n",
              "      <td>PhoneNumber</td>\n",
              "      <td>36739</td>\n",
              "      <td>[, , , , , , , , , , , , , , , , , , , , , , ,...</td>\n",
              "      <td>543</td>\n",
              "    </tr>\n",
              "    <tr>\n",
              "      <th>39</th>\n",
              "      <td>539779</td>\n",
              "      <td>Communication Details Phone Number Extension</td>\n",
              "      <td>PhoneNumberExtension</td>\n",
              "      <td>36739</td>\n",
              "      <td>[, , , , , , , , , , , , , , , , , , , , , , ,...</td>\n",
              "      <td>116</td>\n",
              "    </tr>\n",
              "    <tr>\n",
              "      <th>40</th>\n",
              "      <td>520018</td>\n",
              "      <td>Version Timestamp.1</td>\n",
              "      <td>versionTimestamp</td>\n",
              "      <td>36739</td>\n",
              "      <td>[2019-08-28T17:37:51.37+02:00, 2020-01-15T11:1...</td>\n",
              "      <td>36737</td>\n",
              "    </tr>\n",
              "  </tbody>\n",
              "</table>\n",
              "</div>"
            ],
            "text/plain": [
              "    UniqueId  ... NonEmptyValuesCount\n",
              "0     512489  ...               36739\n",
              "1     502591  ...               36739\n",
              "2     544461  ...                2419\n",
              "3     524068  ...                2419\n",
              "4     512820  ...                2339\n",
              "5     514643  ...                1940\n",
              "6     542338  ...               36739\n",
              "7     523956  ...               36739\n",
              "8     491930  ...               36739\n",
              "9     528801  ...               36739\n",
              "10    545280  ...               36739\n",
              "11    537608  ...                1123\n",
              "12    496305  ...                3260\n",
              "13    534815  ...                3076\n",
              "14    531444  ...               36738\n",
              "15    531629  ...               36738\n",
              "16    514955  ...               36739\n",
              "17    520167  ...               36739\n",
              "18    514641  ...               27847\n",
              "19    527296  ...               27847\n",
              "20    538473  ...               27846\n",
              "21    544451  ...               36739\n",
              "22    503546  ...                 264\n",
              "23    541879  ...               35953\n",
              "24    495333  ...               36738\n",
              "25    493659  ...               36739\n",
              "26    527567  ...               27625\n",
              "27    493424  ...               36739\n",
              "28    529738  ...               36738\n",
              "29    527954  ...               28485\n",
              "30    511780  ...                3537\n",
              "31    530514  ...                 721\n",
              "32    500449  ...               36565\n",
              "33    532389  ...               22962\n",
              "34    494153  ...               20778\n",
              "35    513190  ...               27196\n",
              "36    526936  ...                 625\n",
              "37    503639  ...                 543\n",
              "38    504329  ...                 543\n",
              "39    539779  ...                 116\n",
              "40    520018  ...               36737\n",
              "\n",
              "[41 rows x 6 columns]"
            ]
          },
          "metadata": {
            "tags": []
          },
          "execution_count": 66
        }
      ]
    },
    {
      "cell_type": "markdown",
      "metadata": {
        "id": "_KwtnxQ6HLGY",
        "colab_type": "text"
      },
      "source": [
        "In the above 40 columns, some columns are not going to be included in the training as it contains less dataset and more non-english characters\n",
        "The below columns will be removed.\n",
        "1. PostBox - only 264\n",
        "2. AddressLine1 - Non-English characters\n",
        "3. AddressLine2 - Non-English characters\n",
        "4. AddressLine3 - Non-English characters\n",
        "5. AddressLine4 - Non-English characters\n",
        "6. Email - 625 values\n",
        "7. PhoneNumberCountryPrefix - 543 values\n",
        "8. PhoneNumber - 543 values\n",
        "9. PhoneNumberExtension - 116 values\n",
        "10. Alternative Name - 3260\n",
        "11. Mapping valid from - 1940 values\n",
        "12. Acronym - 1123 values"
      ]
    }
  ]
}